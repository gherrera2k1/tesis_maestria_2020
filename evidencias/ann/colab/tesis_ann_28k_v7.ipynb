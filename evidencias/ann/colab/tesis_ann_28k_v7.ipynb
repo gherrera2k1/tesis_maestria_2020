{
  "nbformat": 4,
  "nbformat_minor": 0,
  "metadata": {
    "kernelspec": {
      "name": "python3",
      "display_name": "Python 3",
      "language": "python"
    },
    "language_info": {
      "name": "python",
      "version": "3.7.6",
      "mimetype": "text/x-python",
      "codemirror_mode": {
        "name": "ipython",
        "version": 3
      },
      "pygments_lexer": "ipython3",
      "nbconvert_exporter": "python",
      "file_extension": ".py"
    },
    "colab": {
      "name": "tesis_ann_28k_v7.ipynb",
      "provenance": [],
      "collapsed_sections": []
    }
  },
  "cells": [
    {
      "cell_type": "code",
      "metadata": {
        "id": "MDfYqJINe7se"
      },
      "source": [
        "# Gerardo Herrera... ann: (1 capa oculta con 15 neuronas, activation = 'relu', epoch=100) con 28k instacias de normal y recovering y 24 sensores"
      ],
      "execution_count": 1,
      "outputs": []
    },
    {
      "cell_type": "code",
      "metadata": {
        "id": "flAR5WzRgb6Z",
        "outputId": "babae121-e4fe-434a-8e50-f58835068484",
        "colab": {
          "base_uri": "https://localhost:8080/",
          "height": 34
        }
      },
      "source": [
        "from google.colab import drive\n",
        "drive.mount('/content/drive')"
      ],
      "execution_count": 2,
      "outputs": [
        {
          "output_type": "stream",
          "text": [
            "Drive already mounted at /content/drive; to attempt to forcibly remount, call drive.mount(\"/content/drive\", force_remount=True).\n"
          ],
          "name": "stdout"
        }
      ]
    },
    {
      "cell_type": "code",
      "metadata": {
        "_uuid": "8f2839f25d086af736a60e9eeb907d3b93b6e0e5",
        "_cell_guid": "b1076dfc-b9ad-4769-8c92-a6c4dae69d19",
        "trusted": true,
        "id": "QbvEt_vwe2E1"
      },
      "source": [
        "# This Python 3 environment comes with many helpful analytics libraries installed\n",
        "# It is defined by the kaggle/python Docker image: https://github.com/kaggle/docker-python\n",
        "# For example, here's several helpful packages to load\n",
        "\n",
        "import numpy as np # linear algebra\n",
        "import pandas as pd # data processing, CSV file I/O (e.g. pd.read_csv)\n",
        "\n",
        "# Input data files are available in the read-only \"../input/\" directory\n",
        "# For example, running this (by clicking run or pressing Shift+Enter) will list all files under the input directory\n",
        "\n",
        "import os\n",
        "for dirname, _, filenames in os.walk('/kaggle/input'):\n",
        "    for filename in filenames:\n",
        "        print(os.path.join(dirname, filename))\n",
        "\n",
        "# You can write up to 5GB to the current directory (/kaggle/working/) that gets preserved as output when you create a version using \"Save & Run All\" \n",
        "# You can also write temporary files to /kaggle/temp/, but they won't be saved outside of the current session"
      ],
      "execution_count": 3,
      "outputs": []
    },
    {
      "cell_type": "code",
      "metadata": {
        "trusted": true,
        "id": "C2ErB_Nve2E9"
      },
      "source": [
        "# https://medium.com/@randerson112358/build-your-own-artificial-neural-network-using-python-f37d16be06bf"
      ],
      "execution_count": 4,
      "outputs": []
    },
    {
      "cell_type": "code",
      "metadata": {
        "_uuid": "d629ff2d2480ee46fbb7e2d37f6b5fab8052498a",
        "_cell_guid": "79c7e3d0-c299-4dcb-8224-4455121ee9b0",
        "trusted": true,
        "id": "vICLxS_Ee2FB"
      },
      "source": [
        "#Load libraries\n",
        "from keras.models import Sequential\n",
        "from keras.layers import Dense\n",
        "import pandas as pd\n",
        "from sklearn.model_selection import train_test_split\n",
        "import matplotlib.pyplot as plt\n",
        "plt.style.use('fivethirtyeight')"
      ],
      "execution_count": 5,
      "outputs": []
    },
    {
      "cell_type": "code",
      "metadata": {
        "trusted": true,
        "id": "QOZUG-lEe2FF"
      },
      "source": [
        "import time"
      ],
      "execution_count": 6,
      "outputs": []
    },
    {
      "cell_type": "code",
      "metadata": {
        "trusted": true,
        "id": "NwhsRBIge2FK"
      },
      "source": [
        "#sensor77 = pd.read_csv('../input/vombas/sensor_procesado.csv')\n",
        "#sensor77 = pd.read_csv('../input/10ks25/s25balanced10k.csv')\n",
        "#sensor77 = pd.read_csv('../input/28k-s24-balan-vombas/sensor2-ordenado_status_sin_broken_balanced_28k.csv')\n",
        "\n",
        "sensor77 = pd.read_csv('/content/drive/My Drive/datasets/sensor2-ordenado_status_sin_broken_balanced_28k.csv')\n",
        "\n"
      ],
      "execution_count": 7,
      "outputs": []
    },
    {
      "cell_type": "code",
      "metadata": {
        "trusted": true,
        "id": "xmx7pyVUe2FO",
        "outputId": "6b62da50-198c-48b1-97d6-e0c5adf70513",
        "colab": {
          "base_uri": "https://localhost:8080/",
          "height": 34
        }
      },
      "source": [
        "#Show the shape (number of rows & columns)\n",
        "sensor77.shape"
      ],
      "execution_count": 8,
      "outputs": [
        {
          "output_type": "execute_result",
          "data": {
            "text/plain": [
              "(28002, 27)"
            ]
          },
          "metadata": {
            "tags": []
          },
          "execution_count": 8
        }
      ]
    },
    {
      "cell_type": "code",
      "metadata": {
        "trusted": true,
        "id": "OMOmc2Eue2FU",
        "outputId": "af80fe71-578e-4211-e58a-54dd0f2799ab",
        "colab": {
          "base_uri": "https://localhost:8080/",
          "height": 493
        }
      },
      "source": [
        "#Show the number of missing (NAN, NaN, na) data for each column\n",
        "sensor77.isnull().sum()"
      ],
      "execution_count": 9,
      "outputs": [
        {
          "output_type": "execute_result",
          "data": {
            "text/plain": [
              "Unnamed: 0            0\n",
              "timestamp             0\n",
              "sensor_00             0\n",
              "sensor_01            30\n",
              "sensor_02             0\n",
              "sensor_03             0\n",
              "sensor_04             0\n",
              "sensor_11             0\n",
              "sensor_14             0\n",
              "sensor_16             0\n",
              "sensor_17             0\n",
              "sensor_18             0\n",
              "sensor_19             0\n",
              "sensor_20             0\n",
              "sensor_21             0\n",
              "sensor_22             0\n",
              "sensor_23             0\n",
              "sensor_25             0\n",
              "sensor_26             0\n",
              "sensor_27             0\n",
              "sensor_28             0\n",
              "sensor_30             0\n",
              "sensor_31             0\n",
              "sensor_44             3\n",
              "sensor_50         14004\n",
              "sensor_51          2996\n",
              "machine_status        0\n",
              "dtype: int64"
            ]
          },
          "metadata": {
            "tags": []
          },
          "execution_count": 9
        }
      ]
    },
    {
      "cell_type": "code",
      "metadata": {
        "trusted": true,
        "id": "IUpls8jne2Fa"
      },
      "source": [
        "cleanup_nums = {\"machine_status\":     {\"NORMAL\": 0, \"RECOVERING\": 1,\"BROKEN\": 2}}"
      ],
      "execution_count": 10,
      "outputs": []
    },
    {
      "cell_type": "code",
      "metadata": {
        "trusted": true,
        "id": "ixOpx0Nge2Fd"
      },
      "source": [
        "sensor77.replace(cleanup_nums, inplace=True)"
      ],
      "execution_count": 11,
      "outputs": []
    },
    {
      "cell_type": "code",
      "metadata": {
        "trusted": true,
        "id": "ZXgNBUlge2Fh"
      },
      "source": [
        "sensor77.fillna(sensor77.mean(), inplace=True)"
      ],
      "execution_count": 12,
      "outputs": []
    },
    {
      "cell_type": "code",
      "metadata": {
        "trusted": true,
        "id": "WNuwjJ24e2Fk",
        "outputId": "98452c38-5e7b-468d-fe0d-2812b3cc7d97",
        "colab": {
          "base_uri": "https://localhost:8080/",
          "height": 493
        }
      },
      "source": [
        "#Show the number of missing (NAN, NaN, na) data for each column\n",
        "sensor77.isnull().sum()"
      ],
      "execution_count": 13,
      "outputs": [
        {
          "output_type": "execute_result",
          "data": {
            "text/plain": [
              "Unnamed: 0        0\n",
              "timestamp         0\n",
              "sensor_00         0\n",
              "sensor_01         0\n",
              "sensor_02         0\n",
              "sensor_03         0\n",
              "sensor_04         0\n",
              "sensor_11         0\n",
              "sensor_14         0\n",
              "sensor_16         0\n",
              "sensor_17         0\n",
              "sensor_18         0\n",
              "sensor_19         0\n",
              "sensor_20         0\n",
              "sensor_21         0\n",
              "sensor_22         0\n",
              "sensor_23         0\n",
              "sensor_25         0\n",
              "sensor_26         0\n",
              "sensor_27         0\n",
              "sensor_28         0\n",
              "sensor_30         0\n",
              "sensor_31         0\n",
              "sensor_44         0\n",
              "sensor_50         0\n",
              "sensor_51         0\n",
              "machine_status    0\n",
              "dtype: int64"
            ]
          },
          "metadata": {
            "tags": []
          },
          "execution_count": 13
        }
      ]
    },
    {
      "cell_type": "code",
      "metadata": {
        "trusted": true,
        "id": "PnwBp3MBe2Fp"
      },
      "source": [
        "#sensor77.drop('sensor_15', axis=1, inplace=True)\n",
        "sensor77.drop('timestamp', axis=1, inplace=True)"
      ],
      "execution_count": 14,
      "outputs": []
    },
    {
      "cell_type": "code",
      "metadata": {
        "trusted": true,
        "id": "BmQqawwHe2Ft"
      },
      "source": [
        "#sensor77.drop('100000', axis=1, inplace=True)"
      ],
      "execution_count": 15,
      "outputs": []
    },
    {
      "cell_type": "code",
      "metadata": {
        "trusted": true,
        "id": "5J9Ac_Yxe2Fw"
      },
      "source": [
        "sensor77.drop('Unnamed: 0', axis=1, inplace=True)"
      ],
      "execution_count": 16,
      "outputs": []
    },
    {
      "cell_type": "code",
      "metadata": {
        "trusted": true,
        "id": "dSBy0m8be2F0",
        "outputId": "95d0bc69-991a-4c6d-f420-15b95bc10b44",
        "colab": {
          "base_uri": "https://localhost:8080/",
          "height": 459
        }
      },
      "source": [
        "sensor77.isnull().sum()"
      ],
      "execution_count": 17,
      "outputs": [
        {
          "output_type": "execute_result",
          "data": {
            "text/plain": [
              "sensor_00         0\n",
              "sensor_01         0\n",
              "sensor_02         0\n",
              "sensor_03         0\n",
              "sensor_04         0\n",
              "sensor_11         0\n",
              "sensor_14         0\n",
              "sensor_16         0\n",
              "sensor_17         0\n",
              "sensor_18         0\n",
              "sensor_19         0\n",
              "sensor_20         0\n",
              "sensor_21         0\n",
              "sensor_22         0\n",
              "sensor_23         0\n",
              "sensor_25         0\n",
              "sensor_26         0\n",
              "sensor_27         0\n",
              "sensor_28         0\n",
              "sensor_30         0\n",
              "sensor_31         0\n",
              "sensor_44         0\n",
              "sensor_50         0\n",
              "sensor_51         0\n",
              "machine_status    0\n",
              "dtype: int64"
            ]
          },
          "metadata": {
            "tags": []
          },
          "execution_count": 17
        }
      ]
    },
    {
      "cell_type": "code",
      "metadata": {
        "trusted": true,
        "id": "JfS7aOSne2F3",
        "outputId": "d4a928f4-913a-4243-fd50-4f3e44d6bd1e",
        "colab": {
          "base_uri": "https://localhost:8080/",
          "height": 238
        }
      },
      "source": [
        "#Convert the data into an array\n",
        "dataset = sensor77.values\n",
        "dataset"
      ],
      "execution_count": 18,
      "outputs": [
        {
          "output_type": "execute_result",
          "data": {
            "text/plain": [
              "array([[2.46539400e+00, 4.70920100e+01, 5.32118000e+01, ...,\n",
              "        4.81174107e+02, 1.77951400e+02, 0.00000000e+00],\n",
              "       [2.46539400e+00, 4.70920100e+01, 5.32118000e+01, ...,\n",
              "        4.81174107e+02, 1.78530100e+02, 0.00000000e+00],\n",
              "       [2.44473400e+00, 4.73524300e+01, 5.32118000e+01, ...,\n",
              "        4.81174107e+02, 1.77662000e+05, 0.00000000e+00],\n",
              "       ...,\n",
              "       [2.40538200e+00, 4.95659714e+01, 5.38194400e+01, ...,\n",
              "        3.21180573e+01, 3.15393524e+01, 1.00000000e+00],\n",
              "       [2.40046300e+00, 4.95659700e+01, 5.37760400e+01, ...,\n",
              "        3.21180573e+01, 3.15393500e+01, 1.00000000e+00],\n",
              "       [2.40144700e+00, 4.95225700e+01, 5.37760391e+01, ...,\n",
              "        3.21180573e+01, 3.18287000e+01, 1.00000000e+00]])"
            ]
          },
          "metadata": {
            "tags": []
          },
          "execution_count": 18
        }
      ]
    },
    {
      "cell_type": "code",
      "metadata": {
        "trusted": true,
        "id": "CB9AfYzQe2F7",
        "outputId": "158f3b8c-a210-4eb2-b36d-000cc16007d4",
        "colab": {
          "base_uri": "https://localhost:8080/",
          "height": 34
        }
      },
      "source": [
        "sensor77.shape"
      ],
      "execution_count": 19,
      "outputs": [
        {
          "output_type": "execute_result",
          "data": {
            "text/plain": [
              "(28002, 25)"
            ]
          },
          "metadata": {
            "tags": []
          },
          "execution_count": 19
        }
      ]
    },
    {
      "cell_type": "code",
      "metadata": {
        "trusted": true,
        "id": "BjEAHzqPe2F-"
      },
      "source": [
        "# Get all of the rows from the first eight columns of the dataset\n",
        "#X = dataset[:,0:51] \n",
        "X = dataset[:,0:24]\n",
        "# Get all of the rows from the last column\n",
        "#y = dataset[:,51] \n",
        "y = dataset[:,24] "
      ],
      "execution_count": 20,
      "outputs": []
    },
    {
      "cell_type": "code",
      "metadata": {
        "trusted": true,
        "id": "5lXEAGC_e2GD",
        "outputId": "589b5c1f-6f9f-45dd-eab4-bff36c46d3ff",
        "colab": {
          "base_uri": "https://localhost:8080/",
          "height": 34
        }
      },
      "source": [
        "print(y)"
      ],
      "execution_count": 21,
      "outputs": [
        {
          "output_type": "stream",
          "text": [
            "[0. 0. 0. ... 1. 1. 1.]\n"
          ],
          "name": "stdout"
        }
      ]
    },
    {
      "cell_type": "code",
      "metadata": {
        "trusted": true,
        "id": "SnO661cDe2GH",
        "outputId": "eb56cb7d-1873-4513-eb68-a5d5a33f6a70",
        "colab": {
          "base_uri": "https://localhost:8080/",
          "height": 238
        }
      },
      "source": [
        "print(X)"
      ],
      "execution_count": 22,
      "outputs": [
        {
          "output_type": "stream",
          "text": [
            "[[2.46539400e+00 4.70920100e+01 5.32118000e+01 ... 4.36921300e+01\n",
            "  4.81174107e+02 1.77951400e+02]\n",
            " [2.46539400e+00 4.70920100e+01 5.32118000e+01 ... 4.45601800e+01\n",
            "  4.81174107e+02 1.78530100e+02]\n",
            " [2.44473400e+00 4.73524300e+01 5.32118000e+01 ... 4.60069400e+01\n",
            "  4.81174107e+02 1.77662000e+05]\n",
            " ...\n",
            " [2.40538200e+00 4.95659714e+01 5.38194400e+01 ... 3.15393524e+01\n",
            "  3.21180573e+01 3.15393524e+01]\n",
            " [2.40046300e+00 4.95659700e+01 5.37760400e+01 ... 3.15393524e+01\n",
            "  3.21180573e+01 3.15393500e+01]\n",
            " [2.40144700e+00 4.95225700e+01 5.37760391e+01 ... 3.15393524e+01\n",
            "  3.21180573e+01 3.18287000e+01]]\n"
          ],
          "name": "stdout"
        }
      ]
    },
    {
      "cell_type": "code",
      "metadata": {
        "trusted": true,
        "id": "zBWJdraze2GM",
        "outputId": "d4d0d574-0c6a-40ad-8099-cfe7d45ab7c1",
        "colab": {
          "base_uri": "https://localhost:8080/",
          "height": 238
        }
      },
      "source": [
        "from sklearn import preprocessing\n",
        "min_max_scaler = preprocessing.MinMaxScaler()\n",
        "X_scale = min_max_scaler.fit_transform(X)\n",
        "X_scale"
      ],
      "execution_count": 23,
      "outputs": [
        {
          "output_type": "execute_result",
          "data": {
            "text/plain": [
              "array([[1.16018541e-03, 1.51254935e-04, 2.97595181e-04, ...,\n",
              "        7.32072243e-05, 1.01425222e-03, 3.84471811e-04],\n",
              "       [1.16018541e-03, 1.51254935e-04, 2.97595181e-04, ...,\n",
              "        7.67494867e-05, 1.01425222e-03, 3.85953388e-04],\n",
              "       [1.15046306e-03, 1.56160565e-04, 2.97595181e-04, ...,\n",
              "        8.26532983e-05, 1.01425222e-03, 4.54775949e-01],\n",
              "       ...,\n",
              "       [1.13194447e-03, 1.97857886e-04, 3.09041171e-04, ...,\n",
              "        2.36152335e-05, 1.03499268e-05, 9.63031373e-06],\n",
              "       [1.12962965e-03, 1.97857860e-04, 3.08223654e-04, ...,\n",
              "        2.36152335e-05, 1.03499268e-05, 9.63030754e-06],\n",
              "       [1.13009271e-03, 1.97040318e-04, 3.08223638e-04, ...,\n",
              "        2.36152335e-05, 1.03499268e-05, 1.03710962e-05]])"
            ]
          },
          "metadata": {
            "tags": []
          },
          "execution_count": 23
        }
      ]
    },
    {
      "cell_type": "code",
      "metadata": {
        "trusted": true,
        "id": "fRRkm9X-e2GP"
      },
      "source": [
        "X_train, X_test, y_train, y_test = train_test_split(X_scale, y, test_size=0.2, random_state = 4)"
      ],
      "execution_count": 24,
      "outputs": []
    },
    {
      "cell_type": "code",
      "metadata": {
        "trusted": true,
        "id": "1RRJ9l5Oe2GS"
      },
      "source": [
        "model = Sequential([\n",
        "    Dense(24, activation='relu', input_shape=( 24 ,)),\n",
        "    #Dense(12, activation='relu', input_shape=( 51 ,)),\n",
        "    Dense(15, activation='relu'),\n",
        "    Dense(15, activation='relu'),\n",
        "    Dense(15, activation='relu'),\n",
        "    Dense(1, activation='sigmoid')\n",
        "])"
      ],
      "execution_count": 25,
      "outputs": []
    },
    {
      "cell_type": "code",
      "metadata": {
        "trusted": true,
        "id": "3G0Dxv_oe2GV"
      },
      "source": [
        "#model.compile(optimizer='sgd',\n",
        "#              loss='binary_crossentropy',\n",
        "#              metrics=['accuracy'])\n",
        "\n",
        "model.compile(optimizer='sgd',\n",
        "              loss='binary_crossentropy',\n",
        "              metrics=['accuracy'])"
      ],
      "execution_count": 26,
      "outputs": []
    },
    {
      "cell_type": "code",
      "metadata": {
        "trusted": true,
        "id": "TXrh1auie2Ga",
        "outputId": "cd9d74ad-aaae-4c46-a0ed-9dca9fa0eb67",
        "colab": {
          "base_uri": "https://localhost:8080/",
          "height": 3434
        }
      },
      "source": [
        "start = time.time()\n",
        "hist = model.fit(X_train, y_train,\n",
        "          batch_size=10, epochs=100, validation_split=0.2)\n",
        "stop = time.time()\n",
        "print(f\"Training time: {stop - start}s\")\n",
        "# prints: Training time: 0.20307230949401855s\n",
        "\n",
        "# https://machinelearningmastery.com/evaluate-performance-deep-learning-models-keras/\n"
      ],
      "execution_count": 27,
      "outputs": [
        {
          "output_type": "stream",
          "text": [
            "Epoch 1/100\n",
            "1792/1792 [==============================] - 2s 1ms/step - loss: 0.5978 - accuracy: 0.7161 - val_loss: 0.3822 - val_accuracy: 0.8418\n",
            "Epoch 2/100\n",
            "1792/1792 [==============================] - 2s 1ms/step - loss: 0.3462 - accuracy: 0.8629 - val_loss: 0.3426 - val_accuracy: 0.8641\n",
            "Epoch 3/100\n",
            "1792/1792 [==============================] - 2s 1ms/step - loss: 0.3146 - accuracy: 0.8796 - val_loss: 0.3168 - val_accuracy: 0.8862\n",
            "Epoch 4/100\n",
            "1792/1792 [==============================] - 2s 1ms/step - loss: 0.2941 - accuracy: 0.8946 - val_loss: 0.3043 - val_accuracy: 0.8889\n",
            "Epoch 5/100\n",
            "1792/1792 [==============================] - 2s 1ms/step - loss: 0.2875 - accuracy: 0.8969 - val_loss: 0.3001 - val_accuracy: 0.8902\n",
            "Epoch 6/100\n",
            "1792/1792 [==============================] - 2s 1ms/step - loss: 0.2853 - accuracy: 0.8974 - val_loss: 0.3023 - val_accuracy: 0.8900\n",
            "Epoch 7/100\n",
            "1792/1792 [==============================] - 2s 1ms/step - loss: 0.2842 - accuracy: 0.8975 - val_loss: 0.2992 - val_accuracy: 0.8893\n",
            "Epoch 8/100\n",
            "1792/1792 [==============================] - 2s 1ms/step - loss: 0.2828 - accuracy: 0.8976 - val_loss: 0.2963 - val_accuracy: 0.8900\n",
            "Epoch 9/100\n",
            "1792/1792 [==============================] - 2s 1ms/step - loss: 0.2816 - accuracy: 0.8976 - val_loss: 0.2949 - val_accuracy: 0.8900\n",
            "Epoch 10/100\n",
            "1792/1792 [==============================] - 3s 1ms/step - loss: 0.2800 - accuracy: 0.8977 - val_loss: 0.2939 - val_accuracy: 0.8900\n",
            "Epoch 11/100\n",
            "1792/1792 [==============================] - 3s 1ms/step - loss: 0.2788 - accuracy: 0.8975 - val_loss: 0.2916 - val_accuracy: 0.8900\n",
            "Epoch 12/100\n",
            "1792/1792 [==============================] - 3s 2ms/step - loss: 0.2772 - accuracy: 0.8978 - val_loss: 0.2897 - val_accuracy: 0.8900\n",
            "Epoch 13/100\n",
            "1792/1792 [==============================] - 2s 1ms/step - loss: 0.2758 - accuracy: 0.8977 - val_loss: 0.2887 - val_accuracy: 0.8900\n",
            "Epoch 14/100\n",
            "1792/1792 [==============================] - 2s 1ms/step - loss: 0.2747 - accuracy: 0.8977 - val_loss: 0.2879 - val_accuracy: 0.8900\n",
            "Epoch 15/100\n",
            "1792/1792 [==============================] - 2s 1ms/step - loss: 0.2735 - accuracy: 0.8977 - val_loss: 0.2863 - val_accuracy: 0.8898\n",
            "Epoch 16/100\n",
            "1792/1792 [==============================] - 2s 1ms/step - loss: 0.2722 - accuracy: 0.8977 - val_loss: 0.2878 - val_accuracy: 0.8895\n",
            "Epoch 17/100\n",
            "1792/1792 [==============================] - 2s 1ms/step - loss: 0.2712 - accuracy: 0.8975 - val_loss: 0.2863 - val_accuracy: 0.8898\n",
            "Epoch 18/100\n",
            "1792/1792 [==============================] - 2s 1ms/step - loss: 0.2707 - accuracy: 0.8977 - val_loss: 0.2850 - val_accuracy: 0.8898\n",
            "Epoch 19/100\n",
            "1792/1792 [==============================] - 2s 1ms/step - loss: 0.2697 - accuracy: 0.8977 - val_loss: 0.2819 - val_accuracy: 0.8909\n",
            "Epoch 20/100\n",
            "1792/1792 [==============================] - 2s 1ms/step - loss: 0.2690 - accuracy: 0.8977 - val_loss: 0.2830 - val_accuracy: 0.8900\n",
            "Epoch 21/100\n",
            "1792/1792 [==============================] - 2s 1ms/step - loss: 0.2678 - accuracy: 0.8978 - val_loss: 0.2793 - val_accuracy: 0.8902\n",
            "Epoch 22/100\n",
            "1792/1792 [==============================] - 2s 1ms/step - loss: 0.2674 - accuracy: 0.8978 - val_loss: 0.2794 - val_accuracy: 0.8900\n",
            "Epoch 23/100\n",
            "1792/1792 [==============================] - 3s 1ms/step - loss: 0.2663 - accuracy: 0.8978 - val_loss: 0.2764 - val_accuracy: 0.8904\n",
            "Epoch 24/100\n",
            "1792/1792 [==============================] - 3s 1ms/step - loss: 0.2653 - accuracy: 0.8978 - val_loss: 0.2752 - val_accuracy: 0.8915\n",
            "Epoch 25/100\n",
            "1792/1792 [==============================] - 2s 1ms/step - loss: 0.2644 - accuracy: 0.8980 - val_loss: 0.2753 - val_accuracy: 0.8902\n",
            "Epoch 26/100\n",
            "1792/1792 [==============================] - 2s 1ms/step - loss: 0.2637 - accuracy: 0.8980 - val_loss: 0.2736 - val_accuracy: 0.8915\n",
            "Epoch 27/100\n",
            "1792/1792 [==============================] - 2s 1ms/step - loss: 0.2620 - accuracy: 0.8983 - val_loss: 0.2738 - val_accuracy: 0.8909\n",
            "Epoch 28/100\n",
            "1792/1792 [==============================] - 2s 1ms/step - loss: 0.2621 - accuracy: 0.8981 - val_loss: 0.2724 - val_accuracy: 0.8915\n",
            "Epoch 29/100\n",
            "1792/1792 [==============================] - 3s 1ms/step - loss: 0.2612 - accuracy: 0.8982 - val_loss: 0.2739 - val_accuracy: 0.8911\n",
            "Epoch 30/100\n",
            "1792/1792 [==============================] - 3s 2ms/step - loss: 0.2609 - accuracy: 0.8982 - val_loss: 0.2714 - val_accuracy: 0.8920\n",
            "Epoch 31/100\n",
            "1792/1792 [==============================] - 2s 1ms/step - loss: 0.2601 - accuracy: 0.8985 - val_loss: 0.2752 - val_accuracy: 0.8913\n",
            "Epoch 32/100\n",
            "1792/1792 [==============================] - 2s 1ms/step - loss: 0.2598 - accuracy: 0.8985 - val_loss: 0.2703 - val_accuracy: 0.8915\n",
            "Epoch 33/100\n",
            "1792/1792 [==============================] - 2s 1ms/step - loss: 0.2594 - accuracy: 0.8985 - val_loss: 0.2706 - val_accuracy: 0.8913\n",
            "Epoch 34/100\n",
            "1792/1792 [==============================] - 2s 1ms/step - loss: 0.2589 - accuracy: 0.8983 - val_loss: 0.2699 - val_accuracy: 0.8913\n",
            "Epoch 35/100\n",
            "1792/1792 [==============================] - 2s 1ms/step - loss: 0.2590 - accuracy: 0.8981 - val_loss: 0.2736 - val_accuracy: 0.8911\n",
            "Epoch 36/100\n",
            "1792/1792 [==============================] - 3s 2ms/step - loss: 0.2589 - accuracy: 0.8984 - val_loss: 0.2701 - val_accuracy: 0.8915\n",
            "Epoch 37/100\n",
            "1792/1792 [==============================] - 3s 1ms/step - loss: 0.2587 - accuracy: 0.8983 - val_loss: 0.2710 - val_accuracy: 0.8913\n",
            "Epoch 38/100\n",
            "1792/1792 [==============================] - 3s 1ms/step - loss: 0.2582 - accuracy: 0.8984 - val_loss: 0.2772 - val_accuracy: 0.8909\n",
            "Epoch 39/100\n",
            "1792/1792 [==============================] - 2s 1ms/step - loss: 0.2576 - accuracy: 0.8984 - val_loss: 0.2691 - val_accuracy: 0.8918\n",
            "Epoch 40/100\n",
            "1792/1792 [==============================] - 2s 1ms/step - loss: 0.2580 - accuracy: 0.8984 - val_loss: 0.2691 - val_accuracy: 0.8915\n",
            "Epoch 41/100\n",
            "1792/1792 [==============================] - 3s 2ms/step - loss: 0.2571 - accuracy: 0.8985 - val_loss: 0.2714 - val_accuracy: 0.8913\n",
            "Epoch 42/100\n",
            "1792/1792 [==============================] - 5s 3ms/step - loss: 0.2564 - accuracy: 0.8987 - val_loss: 0.2680 - val_accuracy: 0.8915\n",
            "Epoch 43/100\n",
            "1792/1792 [==============================] - 5s 3ms/step - loss: 0.2566 - accuracy: 0.8985 - val_loss: 0.2661 - val_accuracy: 0.8920\n",
            "Epoch 44/100\n",
            "1792/1792 [==============================] - 3s 2ms/step - loss: 0.2560 - accuracy: 0.8984 - val_loss: 0.2725 - val_accuracy: 0.8922\n",
            "Epoch 45/100\n",
            "1792/1792 [==============================] - 6s 3ms/step - loss: 0.2559 - accuracy: 0.8985 - val_loss: 0.2677 - val_accuracy: 0.8924\n",
            "Epoch 46/100\n",
            "1792/1792 [==============================] - 4s 2ms/step - loss: 0.2550 - accuracy: 0.8989 - val_loss: 0.2706 - val_accuracy: 0.8911\n",
            "Epoch 47/100\n",
            "1792/1792 [==============================] - 3s 1ms/step - loss: 0.2549 - accuracy: 0.8986 - val_loss: 0.2680 - val_accuracy: 0.8920\n",
            "Epoch 48/100\n",
            "1792/1792 [==============================] - 2s 1ms/step - loss: 0.2544 - accuracy: 0.8985 - val_loss: 0.2665 - val_accuracy: 0.8918\n",
            "Epoch 49/100\n",
            "1792/1792 [==============================] - 2s 1ms/step - loss: 0.2541 - accuracy: 0.8987 - val_loss: 0.2652 - val_accuracy: 0.8920\n",
            "Epoch 50/100\n",
            "1792/1792 [==============================] - 3s 1ms/step - loss: 0.2538 - accuracy: 0.8988 - val_loss: 0.2707 - val_accuracy: 0.8915\n",
            "Epoch 51/100\n",
            "1792/1792 [==============================] - 2s 1ms/step - loss: 0.2524 - accuracy: 0.8988 - val_loss: 0.2640 - val_accuracy: 0.8924\n",
            "Epoch 52/100\n",
            "1792/1792 [==============================] - 2s 1ms/step - loss: 0.2521 - accuracy: 0.8987 - val_loss: 0.2685 - val_accuracy: 0.8918\n",
            "Epoch 53/100\n",
            "1792/1792 [==============================] - 2s 1ms/step - loss: 0.2526 - accuracy: 0.8994 - val_loss: 0.2646 - val_accuracy: 0.8918\n",
            "Epoch 54/100\n",
            "1792/1792 [==============================] - 2s 1ms/step - loss: 0.2518 - accuracy: 0.8996 - val_loss: 0.2668 - val_accuracy: 0.8958\n",
            "Epoch 55/100\n",
            "1792/1792 [==============================] - 3s 1ms/step - loss: 0.2506 - accuracy: 0.8997 - val_loss: 0.2682 - val_accuracy: 0.8918\n",
            "Epoch 56/100\n",
            "1792/1792 [==============================] - 3s 1ms/step - loss: 0.2505 - accuracy: 0.9003 - val_loss: 0.2648 - val_accuracy: 0.8965\n",
            "Epoch 57/100\n",
            "1792/1792 [==============================] - 2s 1ms/step - loss: 0.2501 - accuracy: 0.9011 - val_loss: 0.2653 - val_accuracy: 0.8960\n",
            "Epoch 58/100\n",
            "1792/1792 [==============================] - 2s 1ms/step - loss: 0.2488 - accuracy: 0.9020 - val_loss: 0.2721 - val_accuracy: 0.8922\n",
            "Epoch 59/100\n",
            "1792/1792 [==============================] - 2s 1ms/step - loss: 0.2485 - accuracy: 0.9026 - val_loss: 0.2675 - val_accuracy: 0.8918\n",
            "Epoch 60/100\n",
            "1792/1792 [==============================] - 2s 1ms/step - loss: 0.2477 - accuracy: 0.9021 - val_loss: 0.2601 - val_accuracy: 0.8953\n",
            "Epoch 61/100\n",
            "1792/1792 [==============================] - 3s 2ms/step - loss: 0.2478 - accuracy: 0.9016 - val_loss: 0.2617 - val_accuracy: 0.9007\n",
            "Epoch 62/100\n",
            "1792/1792 [==============================] - 3s 1ms/step - loss: 0.2465 - accuracy: 0.9026 - val_loss: 0.2667 - val_accuracy: 0.9040\n",
            "Epoch 63/100\n",
            "1792/1792 [==============================] - 3s 1ms/step - loss: 0.2463 - accuracy: 0.9035 - val_loss: 0.2657 - val_accuracy: 0.8942\n",
            "Epoch 64/100\n",
            "1792/1792 [==============================] - 2s 1ms/step - loss: 0.2451 - accuracy: 0.9045 - val_loss: 0.2588 - val_accuracy: 0.8967\n",
            "Epoch 65/100\n",
            "1792/1792 [==============================] - 2s 1ms/step - loss: 0.2450 - accuracy: 0.9045 - val_loss: 0.2588 - val_accuracy: 0.9014\n",
            "Epoch 66/100\n",
            "1792/1792 [==============================] - 3s 1ms/step - loss: 0.2443 - accuracy: 0.9046 - val_loss: 0.2566 - val_accuracy: 0.9020\n",
            "Epoch 67/100\n",
            "1792/1792 [==============================] - 3s 2ms/step - loss: 0.2436 - accuracy: 0.9056 - val_loss: 0.2591 - val_accuracy: 0.9000\n",
            "Epoch 68/100\n",
            "1792/1792 [==============================] - 3s 2ms/step - loss: 0.2432 - accuracy: 0.9055 - val_loss: 0.2704 - val_accuracy: 0.8962\n",
            "Epoch 69/100\n",
            "1792/1792 [==============================] - 2s 1ms/step - loss: 0.2426 - accuracy: 0.9057 - val_loss: 0.2568 - val_accuracy: 0.9038\n",
            "Epoch 70/100\n",
            "1792/1792 [==============================] - 2s 1ms/step - loss: 0.2417 - accuracy: 0.9064 - val_loss: 0.2577 - val_accuracy: 0.9054\n",
            "Epoch 71/100\n",
            "1792/1792 [==============================] - 2s 1ms/step - loss: 0.2414 - accuracy: 0.9058 - val_loss: 0.2555 - val_accuracy: 0.9029\n",
            "Epoch 72/100\n",
            "1792/1792 [==============================] - 2s 1ms/step - loss: 0.2405 - accuracy: 0.9070 - val_loss: 0.2571 - val_accuracy: 0.9040\n",
            "Epoch 73/100\n",
            "1792/1792 [==============================] - 3s 2ms/step - loss: 0.2396 - accuracy: 0.9071 - val_loss: 0.2618 - val_accuracy: 0.8969\n",
            "Epoch 74/100\n",
            "1792/1792 [==============================] - 3s 1ms/step - loss: 0.2394 - accuracy: 0.9079 - val_loss: 0.2538 - val_accuracy: 0.9025\n",
            "Epoch 75/100\n",
            "1792/1792 [==============================] - 3s 1ms/step - loss: 0.2384 - accuracy: 0.9081 - val_loss: 0.2550 - val_accuracy: 0.9007\n",
            "Epoch 76/100\n",
            "1792/1792 [==============================] - 2s 1ms/step - loss: 0.2374 - accuracy: 0.9079 - val_loss: 0.2523 - val_accuracy: 0.9038\n",
            "Epoch 77/100\n",
            "1792/1792 [==============================] - 2s 1ms/step - loss: 0.2372 - accuracy: 0.9086 - val_loss: 0.2515 - val_accuracy: 0.9014\n",
            "Epoch 78/100\n",
            "1792/1792 [==============================] - 3s 1ms/step - loss: 0.2361 - accuracy: 0.9092 - val_loss: 0.2488 - val_accuracy: 0.9038\n",
            "Epoch 79/100\n",
            "1792/1792 [==============================] - 3s 2ms/step - loss: 0.2350 - accuracy: 0.9092 - val_loss: 0.2497 - val_accuracy: 0.9036\n",
            "Epoch 80/100\n",
            "1792/1792 [==============================] - 2s 1ms/step - loss: 0.2340 - accuracy: 0.9088 - val_loss: 0.2555 - val_accuracy: 0.9065\n",
            "Epoch 81/100\n",
            "1792/1792 [==============================] - 2s 1ms/step - loss: 0.2336 - accuracy: 0.9095 - val_loss: 0.2453 - val_accuracy: 0.9045\n",
            "Epoch 82/100\n",
            "1792/1792 [==============================] - 3s 1ms/step - loss: 0.2327 - accuracy: 0.9102 - val_loss: 0.2436 - val_accuracy: 0.9049\n",
            "Epoch 83/100\n",
            "1792/1792 [==============================] - 2s 1ms/step - loss: 0.2329 - accuracy: 0.9099 - val_loss: 0.2464 - val_accuracy: 0.9052\n",
            "Epoch 84/100\n",
            "1792/1792 [==============================] - 3s 1ms/step - loss: 0.2316 - accuracy: 0.9096 - val_loss: 0.2451 - val_accuracy: 0.9040\n",
            "Epoch 85/100\n",
            "1792/1792 [==============================] - 2s 1ms/step - loss: 0.2308 - accuracy: 0.9101 - val_loss: 0.2439 - val_accuracy: 0.9083\n",
            "Epoch 86/100\n",
            "1792/1792 [==============================] - 2s 1ms/step - loss: 0.2305 - accuracy: 0.9105 - val_loss: 0.2409 - val_accuracy: 0.9058\n",
            "Epoch 87/100\n",
            "1792/1792 [==============================] - 2s 1ms/step - loss: 0.2304 - accuracy: 0.9107 - val_loss: 0.2424 - val_accuracy: 0.9056\n",
            "Epoch 88/100\n",
            "1792/1792 [==============================] - 2s 1ms/step - loss: 0.2295 - accuracy: 0.9109 - val_loss: 0.2418 - val_accuracy: 0.9047\n",
            "Epoch 89/100\n",
            "1792/1792 [==============================] - 2s 1ms/step - loss: 0.2295 - accuracy: 0.9104 - val_loss: 0.2513 - val_accuracy: 0.9009\n",
            "Epoch 90/100\n",
            "1792/1792 [==============================] - 2s 1ms/step - loss: 0.2283 - accuracy: 0.9111 - val_loss: 0.2396 - val_accuracy: 0.9052\n",
            "Epoch 91/100\n",
            "1792/1792 [==============================] - 2s 1ms/step - loss: 0.2281 - accuracy: 0.9116 - val_loss: 0.2396 - val_accuracy: 0.9049\n",
            "Epoch 92/100\n",
            "1792/1792 [==============================] - 2s 1ms/step - loss: 0.2276 - accuracy: 0.9116 - val_loss: 0.2409 - val_accuracy: 0.9038\n",
            "Epoch 93/100\n",
            "1792/1792 [==============================] - 2s 1ms/step - loss: 0.2282 - accuracy: 0.9110 - val_loss: 0.2467 - val_accuracy: 0.9034\n",
            "Epoch 94/100\n",
            "1792/1792 [==============================] - 2s 1ms/step - loss: 0.2272 - accuracy: 0.9112 - val_loss: 0.2402 - val_accuracy: 0.9045\n",
            "Epoch 95/100\n",
            "1792/1792 [==============================] - 2s 1ms/step - loss: 0.2264 - accuracy: 0.9107 - val_loss: 0.2419 - val_accuracy: 0.9034\n",
            "Epoch 96/100\n",
            "1792/1792 [==============================] - 2s 1ms/step - loss: 0.2261 - accuracy: 0.9118 - val_loss: 0.2346 - val_accuracy: 0.9063\n",
            "Epoch 97/100\n",
            "1792/1792 [==============================] - 2s 1ms/step - loss: 0.2254 - accuracy: 0.9118 - val_loss: 0.2416 - val_accuracy: 0.9043\n",
            "Epoch 98/100\n",
            "1792/1792 [==============================] - 2s 1ms/step - loss: 0.2250 - accuracy: 0.9117 - val_loss: 0.2417 - val_accuracy: 0.9052\n",
            "Epoch 99/100\n",
            "1792/1792 [==============================] - 5s 3ms/step - loss: 0.2231 - accuracy: 0.9125 - val_loss: 0.2465 - val_accuracy: 0.9052\n",
            "Epoch 100/100\n",
            "1792/1792 [==============================] - 4s 2ms/step - loss: 0.2238 - accuracy: 0.9124 - val_loss: 0.2430 - val_accuracy: 0.9031\n",
            "Training time: 261.8290750980377s\n"
          ],
          "name": "stdout"
        }
      ]
    },
    {
      "cell_type": "code",
      "metadata": {
        "trusted": true,
        "id": "roo3asUee2Ge",
        "outputId": "1f3adff9-3bf8-4a5a-b81b-9270ce235dd9",
        "colab": {
          "base_uri": "https://localhost:8080/",
          "height": 325
        }
      },
      "source": [
        "#visualize the training loss and the validation loss to see if the model is overfitting\n",
        "plt.plot(hist.history['loss'])\n",
        "plt.plot(hist.history['val_loss'])\n",
        "plt.title('Model loss')\n",
        "plt.ylabel('Loss')\n",
        "plt.xlabel('Epoch')\n",
        "plt.legend(['Train', 'Val'], loc='upper right')\n",
        "plt.show()"
      ],
      "execution_count": 28,
      "outputs": [
        {
          "output_type": "display_data",
          "data": {
            "image/png": "[encoded data removed]",
            "text/plain": [
              "<Figure size 432x288 with 1 Axes>"
            ]
          },
          "metadata": {
            "tags": []
          }
        }
      ]
    },
    {
      "cell_type": "code",
      "metadata": {
        "trusted": true,
        "id": "afManzN8e2Gi",
        "outputId": "e4356e0f-dcef-465c-9a9b-3b369cfa44d6",
        "colab": {
          "base_uri": "https://localhost:8080/",
          "height": 325
        }
      },
      "source": [
        "#visualize the training accuracy and the validation accuracy to see if the model is overfitting\n",
        "plt.plot(hist.history['accuracy'])\n",
        "plt.plot(hist.history['val_accuracy'])\n",
        "plt.title('Model accuracy')\n",
        "plt.ylabel('Accuracy')\n",
        "plt.xlabel('Epoch')\n",
        "plt.legend(['Train', 'Val'], loc='lower right')\n",
        "plt.show()"
      ],
      "execution_count": 29,
      "outputs": [
        {
          "output_type": "display_data",
          "data": {
            "image/png": "[encoded data removed]",
            "text/plain": [
              "<Figure size 432x288 with 1 Axes>"
            ]
          },
          "metadata": {
            "tags": []
          }
        }
      ]
    },
    {
      "cell_type": "code",
      "metadata": {
        "trusted": true,
        "id": "RC-N5lgRe2Gn",
        "outputId": "74f9fb2f-fb6f-4b94-844e-26685791d618",
        "colab": {
          "base_uri": "https://localhost:8080/",
          "height": 71
        }
      },
      "source": [
        "#Make a prediction & print the actual values\n",
        "prediction = model.predict(X_test)\n",
        "#prediction  = [1 if y>=0.5 else 0 for y in prediction] #Threshold\n",
        "prediction  = [1 if y>=0.75 else 0 for y in prediction] #Threshold\n",
        "print(prediction)\n",
        "print(y_test)"
      ],
      "execution_count": 30,
      "outputs": [
        {
          "output_type": "stream",
          "text": [
            "[1, 1, 0, 0, 0, 0, 0, 0, 0, 0, 0, 1, 1, 1, 0, 0, 0, 1, 1, 1, 0, 0, 1, 0, 0, 1, 0, 0, 1, 0, 0, 0, 1, 0, 1, 1, 0, 0, 1, 0, 0, 0, 1, 1, 1, 0, 1, 1, 0, 0, 1, 1, 0, 0, 1, 0, 0, 1, 1, 1, 1, 1, 0, 0, 0, 1, 1, 1, 1, 1, 1, 0, 1, 0, 1, 1, 0, 0, 1, 0, 1, 1, 1, 1, 0, 1, 0, 0, 0, 1, 0, 0, 0, 1, 0, 0, 0, 0, 0, 1, 0, 1, 0, 0, 1, 0, 1, 1, 1, 0, 1, 1, 0, 0, 0, 1, 0, 0, 0, 0, 1, 1, 0, 0, 0, 0, 1, 1, 0, 0, 0, 0, 0, 0, 1, 0, 1, 0, 1, 0, 0, 0, 0, 0, 0, 0, 1, 1, 0, 1, 0, 0, 1, 0, 1, 0, 1, 0, 1, 1, 1, 0, 0, 0, 0, 0, 1, 0, 1, 0, 0, 1, 0, 1, 1, 0, 1, 0, 0, 0, 1, 0, 0, 0, 0, 0, 0, 1, 1, 0, 1, 1, 1, 1, 0, 1, 0, 0, 0, 0, 0, 0, 1, 0, 0, 0, 1, 1, 0, 0, 1, 1, 0, 0, 0, 1, 1, 0, 0, 0, 0, 1, 0, 1, 0, 1, 0, 1, 1, 1, 0, 1, 0, 0, 1, 0, 1, 0, 1, 1, 0, 0, 1, 0, 1, 0, 0, 0, 0, 0, 0, 0, 0, 0, 0, 1, 0, 0, 1, 1, 0, 0, 0, 0, 1, 0, 0, 0, 0, 1, 0, 0, 0, 0, 0, 1, 0, 0, 0, 1, 0, 1, 1, 0, 0, 0, 1, 0, 0, 0, 1, 0, 1, 0, 1, 0, 1, 0, 0, 0, 1, 0, 0, 0, 0, 0, 0, 0, 1, 0, 0, 0, 0, 1, 0, 1, 1, 1, 1, 0, 0, 1, 0, 0, 0, 1, 1, 1, 0, 0, 0, 0, 0, 0, 0, 0, 0, 0, 1, 1, 1, 0, 0, 1, 0, 1, 0, 1, 0, 0, 1, 1, 1, 0, 1, 1, 0, 1, 1, 1, 1, 0, 0, 0, 1, 1, 0, 1, 0, 1, 0, 1, 0, 0, 1, 1, 1, 0, 0, 1, 0, 0, 1, 1, 0, 0, 0, 0, 0, 0, 1, 0, 0, 1, 1, 0, 0, 0, 0, 0, 0, 0, 0, 1, 1, 1, 1, 0, 1, 0, 0, 1, 0, 0, 0, 0, 1, 0, 0, 0, 0, 0, 1, 1, 0, 0, 0, 1, 1, 0, 0, 0, 1, 0, 1, 0, 1, 0, 0, 0, 0, 0, 0, 0, 1, 1, 0, 0, 1, 1, 1, 1, 0, 1, 1, 1, 0, 1, 1, 0, 1, 0, 0, 0, 0, 0, 0, 0, 0, 1, 0, 0, 0, 1, 1, 0, 0, 0, 0, 1, 0, 1, 0, 0, 0, 0, 1, 1, 0, 0, 0, 0, 1, 0, 0, 0, 0, 0, 1, 0, 0, 1, 1, 0, 0, 0, 0, 1, 1, 1, 0, 0, 0, 0, 1, 0, 0, 1, 0, 0, 1, 1, 1, 0, 0, 1, 1, 0, 1, 1, 0, 0, 1, 0, 0, 1, 1, 0, 0, 1, 0, 0, 1, 0, 0, 0, 1, 0, 0, 1, 0, 1, 1, 0, 1, 0, 0, 0, 0, 0, 1, 0, 0, 1, 1, 1, 0, 0, 0, 1, 1, 1, 0, 0, 1, 0, 1, 1, 0, 0, 1, 0, 0, 0, 0, 0, 1, 0, 0, 1, 1, 1, 0, 1, 0, 0, 0, 1, 0, 0, 0, 0, 0, 0, 0, 1, 0, 0, 1, 1, 1, 0, 0, 0, 1, 1, 1, 0, 1, 0, 0, 1, 1, 0, 1, 0, 1, 1, 1, 0, 0, 0, 1, 0, 1, 0, 1, 1, 0, 0, 0, 1, 0, 1, 0, 1, 0, 0, 0, 0, 1, 1, 1, 1, 0, 0, 0, 1, 1, 1, 0, 1, 0, 1, 0, 0, 0, 0, 0, 0, 0, 1, 1, 1, 1, 1, 0, 1, 1, 0, 1, 1, 1, 1, 1, 1, 0, 1, 0, 0, 0, 1, 1, 1, 1, 0, 1, 0, 1, 0, 1, 0, 0, 1, 0, 1, 1, 0, 1, 1, 1, 1, 0, 0, 0, 1, 0, 0, 1, 1, 0, 1, 0, 1, 0, 0, 1, 0, 1, 0, 0, 0, 0, 1, 1, 0, 1, 0, 0, 0, 0, 0, 1, 1, 0, 1, 0, 0, 0, 0, 0, 0, 0, 0, 1, 0, 1, 1, 1, 0, 0, 0, 0, 1, 0, 0, 1, 0, 0, 1, 0, 1, 1, 1, 1, 1, 0, 0, 1, 0, 0, 1, 0, 0, 0, 1, 0, 0, 0, 0, 1, 1, 0, 1, 0, 0, 0, 1, 0, 0, 1, 0, 0, 1, 1, 0, 1, 1, 0, 1, 1, 0, 1, 1, 1, 0, 0, 1, 0, 1, 1, 1, 0, 0, 0, 1, 0, 0, 0, 1, 1, 0, 1, 1, 0, 0, 0, 1, 0, 0, 0, 1, 0, 1, 0, 0, 0, 1, 0, 0, 0, 0, 0, 0, 0, 1, 0, 0, 1, 0, 1, 1, 0, 1, 0, 0, 0, 0, 0, 0, 0, 0, 1, 1, 0, 0, 1, 0, 1, 0, 0, 1, 0, 0, 0, 1, 1, 1, 0, 0, 0, 0, 0, 0, 0, 0, 0, 0, 0, 1, 1, 0, 0, 0, 1, 1, 0, 0, 0, 0, 1, 1, 1, 1, 1, 0, 1, 0, 0, 0, 0, 1, 0, 0, 1, 0, 1, 1, 0, 0, 0, 0, 0, 1, 0, 1, 1, 1, 0, 0, 1, 1, 0, 1, 1, 0, 0, 1, 0, 1, 1, 1, 0, 1, 0, 0, 0, 0, 1, 0, 0, 0, 0, 1, 0, 1, 0, 1, 0, 1, 1, 0, 0, 0, 0, 0, 1, 1, 0, 1, 0, 1, 0, 1, 0, 1, 1, 1, 1, 0, 1, 0, 1, 0, 1, 0, 0, 1, 0, 0, 1, 1, 0, 0, 1, 0, 0, 0, 1, 0, 1, 0, 0, 1, 1, 1, 1, 0, 1, 0, 0, 1, 1, 1, 1, 0, 0, 1, 1, 0, 1, 0, 0, 0, 0, 0, 0, 0, 0, 0, 0, 1, 1, 1, 0, 0, 0, 0, 0, 0, 0, 1, 1, 1, 0, 0, 0, 1, 0, 0, 0, 1, 0, 1, 0, 0, 1, 1, 0, 0, 0, 1, 0, 0, 0, 1, 0, 1, 0, 0, 1, 0, 1, 1, 1, 1, 0, 0, 0, 0, 0, 0, 1, 1, 0, 0, 0, 0, 0, 1, 1, 1, 0, 0, 1, 1, 0, 0, 1, 0, 0, 1, 1, 1, 0, 0, 1, 0, 1, 0, 1, 0, 0, 0, 1, 1, 0, 1, 0, 1, 0, 1, 1, 1, 0, 0, 0, 1, 0, 1, 0, 0, 0, 1, 0, 0, 1, 0, 0, 1, 0, 1, 0, 1, 1, 0, 1, 1, 0, 1, 1, 0, 0, 1, 0, 1, 0, 0, 1, 1, 0, 0, 1, 1, 0, 0, 1, 0, 0, 0, 1, 0, 0, 0, 0, 0, 0, 0, 1, 1, 0, 0, 1, 1, 0, 1, 0, 1, 0, 0, 0, 1, 0, 1, 0, 1, 0, 1, 0, 0, 0, 1, 0, 0, 0, 1, 1, 0, 0, 0, 0, 0, 1, 1, 1, 0, 0, 0, 1, 1, 1, 0, 0, 1, 0, 1, 1, 0, 0, 1, 1, 0, 0, 0, 0, 0, 0, 1, 0, 1, 0, 0, 0, 1, 1, 0, 1, 0, 1, 0, 0, 0, 0, 0, 0, 1, 0, 0, 0, 1, 1, 0, 1, 0, 1, 0, 0, 0, 0, 0, 0, 0, 1, 0, 1, 0, 1, 0, 0, 0, 0, 0, 1, 1, 0, 0, 1, 1, 0, 0, 1, 1, 1, 0, 1, 0, 0, 1, 1, 1, 0, 1, 0, 0, 1, 0, 0, 1, 0, 1, 0, 1, 1, 1, 1, 0, 0, 0, 0, 1, 0, 1, 1, 0, 0, 0, 1, 0, 0, 0, 1, 1, 1, 0, 1, 1, 1, 0, 1, 1, 0, 0, 0, 1, 1, 1, 0, 1, 0, 0, 0, 0, 1, 0, 1, 0, 0, 1, 1, 0, 0, 0, 1, 1, 0, 1, 1, 0, 0, 0, 0, 0, 0, 0, 1, 0, 1, 0, 1, 1, 1, 1, 0, 1, 1, 0, 0, 1, 1, 0, 0, 0, 0, 1, 0, 0, 1, 1, 0, 0, 0, 0, 0, 0, 1, 1, 1, 0, 1, 0, 0, 0, 0, 0, 0, 1, 0, 1, 0, 1, 1, 0, 1, 1, 1, 0, 0, 0, 1, 0, 0, 1, 1, 0, 0, 0, 0, 0, 0, 0, 1, 0, 0, 0, 0, 0, 0, 0, 1, 0, 0, 1, 1, 1, 0, 1, 0, 0, 0, 0, 0, 0, 0, 0, 1, 1, 0, 1, 0, 0, 0, 1, 0, 0, 0, 1, 1, 0, 1, 1, 1, 0, 0, 0, 0, 0, 0, 0, 0, 0, 1, 1, 0, 0, 0, 0, 1, 1, 0, 1, 0, 0, 0, 1, 0, 0, 0, 0, 0, 1, 1, 0, 0, 1, 0, 0, 0, 1, 0, 0, 0, 0, 0, 1, 0, 1, 0, 1, 0, 1, 1, 0, 1, 1, 1, 0, 0, 0, 1, 1, 1, 0, 1, 0, 1, 0, 1, 1, 0, 1, 1, 0, 0, 0, 0, 0, 1, 0, 1, 0, 0, 1, 0, 1, 0, 0, 0, 0, 0, 0, 1, 1, 0, 0, 0, 0, 0, 0, 0, 1, 1, 0, 0, 1, 1, 0, 1, 0, 0, 0, 1, 0, 0, 1, 0, 1, 1, 0, 0, 1, 0, 0, 0, 1, 1, 0, 0, 1, 0, 1, 1, 1, 1, 0, 1, 1, 0, 1, 0, 0, 0, 0, 1, 0, 0, 1, 0, 1, 1, 1, 0, 1, 0, 1, 0, 0, 1, 0, 0, 0, 0, 1, 1, 0, 0, 1, 0, 1, 0, 1, 1, 1, 0, 1, 0, 0, 1, 0, 1, 0, 1, 0, 0, 0, 0, 1, 1, 1, 0, 0, 1, 0, 0, 0, 0, 1, 0, 1, 1, 1, 0, 0, 1, 1, 1, 1, 0, 0, 0, 0, 0, 0, 1, 0, 0, 1, 0, 0, 0, 0, 0, 0, 0, 1, 1, 0, 0, 1, 0, 0, 0, 0, 0, 1, 0, 0, 0, 1, 0, 0, 0, 0, 0, 0, 1, 0, 0, 0, 1, 0, 0, 1, 0, 0, 0, 0, 1, 1, 0, 1, 1, 1, 0, 1, 1, 1, 0, 0, 0, 0, 0, 0, 1, 0, 1, 1, 1, 1, 0, 1, 1, 1, 0, 0, 1, 1, 1, 0, 0, 0, 1, 0, 1, 0, 0, 0, 0, 1, 0, 1, 1, 0, 1, 0, 0, 0, 0, 0, 0, 0, 1, 0, 0, 0, 0, 0, 0, 1, 1, 0, 0, 1, 0, 0, 0, 0, 1, 1, 1, 0, 1, 0, 1, 0, 1, 0, 1, 1, 1, 1, 0, 0, 1, 0, 0, 1, 1, 1, 0, 1, 0, 1, 0, 0, 0, 0, 0, 1, 1, 1, 0, 1, 1, 0, 0, 0, 1, 0, 1, 0, 0, 1, 0, 1, 1, 1, 1, 0, 0, 1, 1, 0, 0, 1, 0, 0, 0, 0, 1, 1, 0, 0, 0, 1, 0, 0, 1, 1, 0, 0, 1, 0, 1, 0, 0, 1, 1, 0, 0, 0, 0, 1, 0, 1, 0, 1, 1, 0, 0, 1, 0, 0, 1, 1, 0, 0, 1, 0, 0, 1, 0, 1, 0, 1, 1, 0, 0, 0, 1, 1, 0, 0, 1, 1, 0, 0, 0, 1, 1, 0, 1, 1, 1, 0, 0, 0, 1, 0, 1, 0, 1, 1, 1, 1, 0, 1, 0, 1, 0, 0, 0, 0, 1, 1, 1, 0, 1, 1, 0, 0, 1, 0, 0, 0, 0, 1, 0, 0, 0, 0, 0, 0, 1, 0, 0, 0, 0, 0, 0, 0, 0, 1, 0, 1, 0, 0, 0, 0, 1, 0, 1, 1, 0, 1, 0, 1, 1, 1, 0, 0, 0, 0, 0, 0, 0, 0, 0, 0, 1, 0, 0, 1, 0, 0, 1, 0, 1, 0, 1, 0, 0, 1, 0, 0, 1, 0, 0, 0, 0, 1, 0, 1, 0, 1, 0, 1, 1, 0, 1, 0, 0, 0, 0, 0, 0, 1, 0, 0, 0, 0, 0, 1, 1, 1, 1, 1, 1, 0, 0, 0, 0, 1, 1, 0, 0, 1, 1, 1, 0, 0, 1, 0, 1, 0, 1, 0, 1, 0, 0, 0, 1, 1, 0, 0, 0, 0, 0, 0, 0, 0, 0, 0, 0, 1, 0, 1, 0, 1, 1, 0, 1, 0, 0, 0, 1, 0, 0, 1, 1, 1, 1, 1, 0, 0, 1, 0, 1, 0, 0, 0, 0, 0, 0, 1, 1, 0, 0, 1, 0, 0, 0, 0, 0, 1, 1, 1, 0, 1, 1, 1, 1, 0, 1, 0, 1, 0, 1, 0, 0, 1, 1, 0, 1, 0, 0, 0, 1, 0, 0, 0, 0, 0, 1, 1, 0, 0, 1, 1, 0, 0, 1, 1, 1, 1, 1, 0, 0, 0, 1, 0, 0, 1, 1, 1, 0, 1, 0, 0, 0, 0, 0, 1, 0, 0, 1, 0, 0, 0, 1, 1, 0, 0, 1, 0, 0, 1, 0, 1, 1, 1, 0, 1, 1, 0, 1, 0, 0, 1, 0, 1, 1, 0, 1, 1, 0, 0, 0, 0, 0, 1, 0, 0, 0, 0, 0, 0, 1, 0, 1, 1, 0, 0, 0, 1, 0, 0, 0, 1, 0, 0, 1, 0, 1, 0, 1, 0, 0, 0, 0, 1, 1, 0, 0, 1, 0, 1, 0, 1, 0, 0, 1, 1, 0, 1, 1, 0, 1, 0, 0, 1, 1, 1, 1, 0, 1, 1, 1, 0, 0, 0, 0, 0, 0, 0, 0, 1, 0, 0, 0, 1, 0, 0, 1, 1, 1, 0, 1, 1, 0, 0, 1, 0, 0, 0, 1, 1, 1, 0, 1, 0, 0, 0, 0, 0, 0, 1, 0, 1, 0, 1, 1, 0, 0, 0, 0, 0, 1, 1, 0, 1, 0, 0, 0, 1, 0, 1, 0, 1, 0, 0, 1, 1, 0, 1, 0, 1, 0, 1, 1, 0, 0, 0, 0, 1, 0, 1, 0, 1, 0, 1, 0, 1, 0, 0, 0, 1, 1, 1, 1, 0, 0, 0, 0, 1, 1, 0, 1, 0, 1, 1, 1, 0, 1, 1, 1, 1, 0, 0, 1, 0, 1, 1, 1, 1, 1, 1, 0, 0, 1, 0, 0, 1, 0, 1, 1, 1, 0, 0, 0, 1, 1, 1, 1, 0, 0, 0, 0, 0, 1, 0, 0, 0, 0, 1, 0, 0, 1, 0, 0, 1, 1, 0, 1, 0, 0, 1, 1, 0, 0, 1, 0, 0, 0, 1, 1, 0, 1, 0, 1, 0, 1, 1, 0, 1, 1, 1, 0, 0, 1, 1, 0, 0, 0, 0, 0, 1, 1, 1, 1, 0, 1, 1, 0, 0, 1, 0, 1, 1, 0, 0, 1, 0, 0, 0, 0, 1, 0, 1, 1, 0, 0, 0, 0, 0, 0, 0, 0, 0, 1, 0, 1, 0, 0, 0, 0, 0, 0, 1, 0, 0, 0, 0, 0, 0, 0, 0, 0, 0, 1, 1, 0, 1, 1, 1, 1, 1, 1, 1, 1, 0, 1, 0, 1, 1, 0, 0, 1, 0, 0, 0, 0, 0, 1, 1, 1, 1, 0, 1, 0, 1, 0, 0, 0, 0, 0, 0, 1, 1, 0, 0, 0, 1, 0, 0, 0, 1, 0, 1, 0, 0, 1, 0, 1, 1, 1, 0, 0, 0, 1, 1, 0, 0, 0, 1, 1, 0, 0, 0, 0, 1, 0, 1, 1, 0, 0, 1, 0, 0, 0, 0, 1, 0, 1, 0, 1, 0, 0, 1, 0, 0, 0, 0, 1, 0, 0, 0, 0, 0, 1, 0, 1, 0, 1, 1, 1, 0, 1, 0, 0, 0, 1, 0, 0, 1, 0, 0, 1, 1, 1, 1, 1, 0, 0, 0, 0, 0, 0, 0, 0, 1, 0, 1, 0, 0, 1, 0, 1, 1, 1, 0, 1, 0, 1, 1, 0, 0, 1, 0, 1, 1, 0, 0, 1, 1, 0, 0, 1, 0, 0, 1, 0, 0, 1, 0, 0, 1, 1, 0, 0, 0, 0, 0, 0, 1, 0, 0, 0, 1, 1, 1, 1, 1, 0, 1, 0, 1, 1, 1, 0, 0, 0, 1, 0, 1, 0, 1, 1, 0, 0, 0, 0, 0, 0, 0, 1, 1, 1, 1, 1, 0, 0, 0, 1, 0, 1, 0, 0, 0, 0, 1, 1, 0, 0, 0, 0, 0, 0, 0, 0, 0, 0, 0, 0, 1, 0, 0, 0, 1, 0, 0, 0, 0, 1, 1, 1, 1, 0, 1, 0, 0, 0, 0, 1, 1, 0, 1, 0, 0, 0, 0, 0, 0, 0, 1, 1, 0, 1, 0, 1, 0, 1, 0, 1, 0, 0, 0, 1, 1, 1, 0, 0, 1, 0, 1, 0, 1, 0, 0, 1, 0, 1, 1, 0, 1, 1, 0, 0, 1, 0, 0, 0, 0, 0, 0, 1, 1, 0, 0, 0, 1, 1, 1, 1, 1, 0, 0, 0, 1, 1, 0, 1, 0, 0, 0, 1, 1, 0, 1, 1, 0, 0, 1, 0, 0, 1, 1, 0, 1, 0, 1, 0, 0, 1, 0, 0, 0, 0, 0, 0, 1, 0, 1, 0, 0, 1, 0, 0, 0, 0, 1, 1, 0, 0, 0, 0, 0, 0, 0, 1, 0, 1, 0, 0, 0, 0, 0, 1, 0, 0, 1, 0, 0, 0, 1, 1, 0, 1, 1, 0, 0, 1, 0, 1, 0, 0, 1, 0, 1, 0, 1, 0, 1, 1, 0, 1, 0, 0, 1, 0, 0, 0, 0, 1, 1, 1, 0, 1, 1, 0, 0, 1, 0, 1, 0, 1, 1, 0, 0, 0, 0, 0, 0, 0, 0, 0, 0, 0, 0, 0, 1, 1, 0, 1, 1, 0, 1, 0, 0, 0, 0, 0, 1, 1, 1, 0, 0, 0, 0, 0, 0, 0, 1, 0, 0, 0, 1, 1, 0, 1, 0, 0, 0, 0, 1, 1, 0, 1, 1, 1, 1, 0, 0, 1, 0, 1, 1, 0, 1, 0, 0, 1, 1, 0, 0, 0, 1, 0, 0, 0, 0, 1, 1, 1, 1, 0, 0, 1, 1, 1, 0, 1, 0, 1, 1, 1, 0, 1, 0, 1, 1, 1, 0, 1, 1, 0, 0, 0, 1, 0, 1, 1, 1, 1, 1, 1, 0, 1, 1, 0, 0, 1, 1, 0, 0, 0, 0, 1, 0, 1, 1, 0, 1, 0, 1, 0, 0, 0, 1, 1, 0, 0, 0, 0, 0, 0, 0, 0, 1, 1, 1, 0, 1, 1, 0, 0, 0, 0, 0, 1, 1, 0, 1, 0, 1, 1, 0, 1, 1, 0, 1, 0, 1, 0, 1, 0, 1, 1, 0, 1, 0, 0, 1, 0, 0, 0, 1, 1, 1, 0, 0, 0, 1, 0, 0, 0, 1, 0, 0, 0, 0, 1, 1, 0, 0, 0, 0, 0, 0, 1, 1, 0, 0, 0, 0, 0, 1, 1, 1, 0, 0, 0, 1, 0, 1, 1, 0, 0, 1, 1, 0, 0, 0, 1, 1, 0, 1, 0, 0, 0, 1, 0, 0, 1, 1, 1, 0, 1, 0, 0, 0, 1, 0, 0, 1, 1, 1, 0, 0, 0, 0, 1, 1, 0, 1, 1, 0, 1, 1, 1, 0, 0, 0, 0, 1, 0, 0, 1, 1, 1, 0, 1, 0, 0, 0, 0, 0, 0, 1, 0, 1, 0, 1, 1, 0, 1, 1, 0, 0, 1, 1, 0, 1, 0, 1, 1, 1, 1, 0, 1, 1, 1, 0, 0, 0, 1, 1, 0, 1, 0, 1, 1, 1, 0, 0, 1, 1, 0, 1, 0, 0, 0, 0, 0, 0, 1, 0, 0, 0, 1, 0, 1, 0, 1, 0, 1, 0, 1, 0, 1, 0, 1, 0, 0, 0, 0, 0, 0, 0, 0, 1, 0, 1, 0, 0, 0, 0, 1, 0, 0, 0, 0, 0, 1, 0, 0, 0, 0, 1, 0, 1, 1, 1, 1, 1, 0, 0, 0, 1, 0, 0, 0, 0, 0, 0, 0, 0, 0, 0, 1, 0, 1, 1, 0, 0, 1, 0, 0, 0, 0, 0, 0, 0, 0, 0, 1, 0, 0, 1, 1, 0, 0, 0, 0, 0, 1, 0, 1, 1, 1, 1, 1, 0, 1, 1, 1, 1, 1, 0, 0, 0, 1, 0, 0, 1, 0, 1, 0, 0, 1, 0, 1, 0, 0, 0, 0, 0, 1, 1, 0, 1, 1, 0, 1, 1, 1, 1, 0, 1, 1, 1, 0, 0, 0, 1, 1, 0, 1, 0, 0, 0, 1, 1, 1, 1, 1, 0, 1, 1, 0, 1, 0, 1, 0, 0, 0, 1, 0, 0, 0, 1, 0, 0, 1, 0, 1, 1, 0, 0, 1, 1, 0, 0, 0, 1, 0, 1, 1, 1, 1, 1, 0, 0, 1, 1, 0, 1, 0, 0, 1, 0, 0, 1, 0, 1, 1, 0, 0, 0, 0, 0, 1, 1, 0, 1, 1, 0, 1, 1, 0, 0, 1, 0, 0, 0, 1, 1, 0, 0, 0, 0, 1, 1, 1, 0, 1, 1, 0, 1, 0, 0, 1, 1, 1, 1, 1, 1, 0, 0, 0, 0, 0, 0, 0, 0, 1, 1, 1, 1, 1, 0, 0, 0, 0, 1, 0, 0, 0, 1, 0, 1, 0, 1, 1, 0, 0, 0, 1, 0, 0, 1, 0, 1, 0, 1, 1, 0, 0, 0, 1, 0, 0, 0, 0, 0, 0, 0, 1, 1, 0, 0, 0, 1, 1, 1, 1, 0, 1, 1, 1, 1, 1, 0, 0, 1, 1, 0, 0, 0, 0, 0, 0, 0, 1, 1, 0, 0, 0, 0, 1, 1, 0, 1, 0, 1, 0, 0, 1, 0, 0, 0, 0, 0, 0, 1, 0, 0, 1, 1, 1, 0, 0, 0, 0, 0, 1, 0, 0, 0, 0, 0, 1, 0, 0, 1, 0, 0, 0, 0, 0, 0, 0, 1, 0, 1, 1, 0, 0, 0, 0, 1, 0, 0, 0, 0, 0, 0, 0, 0, 0, 1, 1, 0, 0, 1, 1, 1, 0, 0, 0, 1, 1, 0, 1, 0, 0, 0, 1, 1, 1, 0, 1, 0, 0, 1, 1, 0, 1, 1, 0, 1, 0, 0, 1, 0, 1, 1, 1, 0, 0, 0, 1, 0, 0, 0, 0, 1, 1, 1, 1, 1, 1, 1, 0, 0, 0, 0, 0, 1, 0, 0, 1, 1, 1, 1, 0, 1, 0, 1, 0, 0, 1, 0, 0, 0, 0, 1, 0, 0, 1, 1, 1, 0, 1, 1, 1, 1, 1, 1, 0, 0, 0, 1, 1, 0, 0, 1, 1, 0, 1, 1, 1, 0, 1, 0, 0, 1, 1, 1, 0, 0, 0, 0, 0, 1, 1, 1, 1, 0, 1, 1, 0, 0, 1, 0, 0, 0, 0, 0, 1, 0, 0, 0, 0, 0, 0, 1, 0, 1, 0, 1, 0, 1, 0, 0, 1, 0, 1, 1, 1, 1, 0, 1, 0, 0, 0, 0, 0, 0, 0, 0, 1, 0, 0, 0, 0, 0, 1, 0, 0, 0, 1, 1, 1, 1, 1, 1, 0, 0, 1, 0, 0, 0, 1, 0, 1, 0, 0, 0, 1, 0, 0, 0, 0, 1, 1, 0, 0, 1, 0, 1, 1, 0, 1, 0, 0, 0, 1, 0, 0, 1, 0, 0, 1, 0, 0, 1, 0, 1, 0, 0, 0, 0, 1, 0, 1, 0, 1, 0, 1, 0, 1, 0, 1, 0, 0, 0, 1, 1, 0, 0, 0, 0, 1, 0, 0, 1, 1, 1, 1, 0, 1, 0, 0, 1, 1, 0, 1, 0, 0, 0, 0, 0, 0, 0, 1, 1, 1, 1, 1, 0, 1, 1, 0, 1, 0, 1, 0, 1, 0, 1, 1, 1, 1, 0, 1, 1, 1, 0, 1, 1, 1, 0, 0, 1, 1, 1, 1, 1, 1, 1, 1, 1, 0, 0, 1, 1, 0, 0, 0, 0, 1, 0, 0, 1, 1, 0, 0, 0, 0, 0, 0, 0, 0, 0, 0, 0, 0, 1, 1, 1, 1, 1, 1, 0, 0, 0, 1, 1, 0, 1, 0, 0, 0, 0, 1, 1, 0, 0, 0, 0, 0, 1, 0, 0, 0, 1, 1, 0, 1, 0, 1, 0, 0, 1, 0, 0, 0, 0, 0, 0, 0, 1, 0, 0, 0, 0, 0, 1, 0, 0, 1, 0, 1, 0, 1, 0, 0, 0, 1, 1, 0, 0, 1, 1, 1, 0, 0, 0, 0, 1, 0, 1, 0, 0, 1, 0, 1, 0, 0, 0, 0, 0, 1, 1, 1, 0, 1, 0, 1, 1, 1, 1, 0, 1, 0, 1, 0, 0, 0, 1, 1, 1, 0, 1, 1, 0, 0, 0, 1, 0, 0, 0, 0, 0, 1, 1, 1, 0, 1, 1, 0, 1, 0, 0, 0, 1, 1, 0, 1, 1, 0, 0, 1, 0, 0, 0, 1, 1, 0, 0, 1, 0, 1, 0, 0, 1, 1, 1, 1, 1, 1, 1, 0, 0, 0, 1, 0, 1, 1, 0, 0, 0, 0, 1, 0, 1, 0, 0, 1, 0, 1, 1, 1, 0, 0, 1, 0, 1, 1, 1, 1, 0, 1, 0, 0, 0, 1, 1, 1, 0, 1, 0, 1, 0, 1, 0, 1, 1, 1, 0, 1, 0, 0, 0, 0, 1, 0, 0, 1, 1, 0, 1, 0, 1, 1, 0, 0, 1, 0, 0, 1, 0, 1, 1, 1, 1, 1, 0, 0, 0, 0, 1, 1, 0, 0, 1, 0, 1, 1, 1, 0, 1, 1, 0, 0, 0, 0, 1, 0, 0, 0, 1, 1, 0, 0, 1, 0, 1, 0, 1, 0, 0, 1, 1, 1, 1, 0, 0, 0, 0, 0, 0, 0, 1, 0, 1, 0, 0, 0, 0, 0, 1, 0, 1, 1, 0, 0, 0, 1, 0, 1, 1, 0, 0, 0, 0, 0, 0, 0, 1, 0, 1, 0, 0, 0, 0, 1, 0, 1, 0, 0, 1, 1, 1, 1, 0, 0, 0, 0, 0, 1, 0, 0, 0, 0, 1, 1, 0, 0, 1, 0, 0, 0, 1, 0, 0, 1, 1, 1, 0, 0, 0, 1, 0, 0, 0, 1, 1, 1, 1, 0, 0, 1, 0, 0, 0, 0, 0, 0, 0, 0, 1, 0, 1, 0, 0, 0, 0, 1, 1, 0, 0, 0, 1, 1, 1, 1, 0, 0, 0, 0, 0, 1, 1, 0, 1, 0, 0, 0, 0, 0, 1, 0, 0, 0, 0, 1, 1, 0, 0, 1, 0, 0, 0, 0, 1, 1, 1, 0, 0, 1, 1, 1, 1, 0, 0, 0, 1, 1, 0, 0, 0, 0, 0, 1, 1, 0, 1, 1, 0, 0, 1, 1, 0, 1, 1, 0, 1, 1, 0, 1, 0, 0, 0, 0, 1, 0, 0, 0, 0, 1, 0, 0, 1, 0, 0, 1, 0, 0, 0, 0, 1, 1, 1, 0, 0, 0, 1, 1, 1, 1, 1, 0, 1, 0, 0, 0, 0, 0, 0, 0, 0, 0, 1, 0, 0, 0, 1, 0, 1, 0, 0, 1, 0, 1, 0, 1, 0, 0, 0, 0, 1, 1, 0, 0, 0, 1, 0, 0, 0, 0, 0, 0, 0, 0, 0, 1, 0, 1, 1, 1, 1, 1, 0, 0, 0, 1, 1, 0, 1, 1, 0, 0, 1, 0, 0, 1, 1, 0, 1, 0, 0, 0, 0, 0, 0, 0, 1, 0, 0, 0, 1, 0, 0, 0, 0, 0, 0, 1, 1, 0, 1, 1, 0, 0, 1, 0, 1, 0, 0, 0, 1, 0, 0, 0, 0, 0, 0, 0, 0, 0, 0, 0, 1, 1, 0, 0, 0, 1, 0, 0, 1, 0, 1, 0, 1, 1, 0, 0, 1, 1, 0, 1, 1, 0, 0, 0, 0, 0, 1, 0, 0, 0, 1, 1, 1, 1, 0, 0, 0, 1, 0, 1, 1, 1, 1, 0, 0, 0, 1, 0, 0, 1, 1, 0, 1, 1, 0, 0, 1, 1, 1, 0, 1, 0, 0, 0, 1, 0, 0, 1, 1, 1, 0, 0, 0, 0, 1, 1, 1, 0, 1, 1, 0, 0, 0, 1, 0, 0, 0, 0, 1, 0, 1, 1, 0, 0, 0, 1, 0, 1, 0, 1, 1, 0, 0, 0, 0, 0, 0, 0, 1, 0, 0, 0, 1, 0, 0, 0, 1, 0, 0, 0, 0, 1, 0, 1, 0, 0, 0, 0, 1, 0, 0, 0, 0, 0, 0, 0, 0, 1, 0, 1, 0, 0, 0, 0, 0, 0, 0, 0, 0, 0, 0, 1, 0, 0, 0, 1, 1, 1, 0, 0, 1, 0, 0, 0, 0, 0, 1, 0, 1, 0, 0, 0, 1, 0, 0, 0, 1, 0, 0, 1, 1, 1, 0, 0, 0, 0, 0, 0, 0, 1, 0, 1, 1, 0, 1, 0, 1, 0, 0, 1, 0, 0, 1, 0, 0, 1, 0, 0, 0, 0, 0, 0, 0, 1, 1, 1, 1, 0, 1, 0, 0, 0, 1, 0, 0, 0, 1, 0, 0, 1, 1, 0, 1, 1, 0, 1, 0, 1, 0, 0, 0, 1, 1, 1, 0, 0, 0, 1, 0, 1, 0, 0, 0, 0, 0, 0, 0, 1, 0, 0, 0, 0, 0, 0, 0, 1, 1, 1, 0, 0, 1, 0, 1, 0, 0, 0, 1, 1, 0, 0, 0, 0, 1, 1, 0, 0, 1, 1, 0, 1, 0, 1, 0, 1, 0, 0, 0, 1, 0, 1, 1, 0, 0, 0, 1, 0, 1, 0, 1, 1, 1, 0, 0, 0, 0, 0, 0, 1, 0, 0, 0, 0, 0, 0, 0, 0, 0, 0, 0, 0, 0, 1, 1, 1, 0, 0, 0, 0, 1, 1, 0, 1, 0, 0, 1, 1, 1, 1, 1, 0, 1, 0, 1, 0, 1, 0, 0, 1, 0, 0, 0, 1, 1, 0, 0, 1, 1, 1, 0, 0, 0, 1, 0, 1, 0, 1, 1, 1, 1, 0, 0, 1, 0, 1, 0, 0, 0, 1, 0, 0, 1, 0, 0, 0, 1, 0, 0, 0, 1, 0, 0, 1, 1, 1, 1, 0, 0, 1, 0, 0, 0, 0, 0, 0, 1, 0, 0, 1, 1, 1, 1, 1, 0, 0, 0, 0, 0, 0, 0, 1, 0, 0, 0, 1, 0, 0, 1, 0, 1, 1, 0, 1, 1, 0, 1, 1, 0, 0, 0, 0, 0, 1, 0, 0, 1, 0, 1, 1, 0, 0, 0, 0, 1, 0, 0, 1, 0, 1, 0, 0, 0, 0, 0, 0, 0, 0, 1, 1, 0, 0, 0, 0, 1, 0, 0, 1, 0, 1, 0, 0, 0, 1, 1, 0, 0, 0, 0, 1, 0, 1, 1, 0, 0, 0, 0, 0, 0, 1, 1, 1, 1, 0, 1, 0, 1, 0, 1, 1, 0, 0, 0, 1, 1, 1, 1, 1, 0, 0, 1, 0, 0, 1, 1, 1, 1, 1, 1, 1, 1, 1, 0, 0, 1, 0, 0, 1, 0, 1, 0, 0, 0, 0, 0, 1, 1, 1, 0, 0, 0, 0, 0, 0, 0, 1, 1, 1, 0, 0, 0, 0, 0, 0, 0, 0, 1, 0, 0, 1, 0, 0, 1, 0, 1, 1, 0, 1, 1, 0, 1, 0, 1, 0, 0, 0, 0, 0, 1, 1, 1, 1, 0, 0, 0, 0, 0, 0, 0, 0, 1, 1, 0, 0, 0, 0, 1, 1, 0, 0, 1, 1, 1, 0, 0, 0, 1, 1, 0, 0, 0, 1, 1, 0, 0, 1, 0, 0, 0, 0, 1, 1, 1, 1, 0, 0, 0, 0, 0, 0, 0, 0, 0, 0, 0, 0, 1, 0, 1, 0, 0, 0, 1, 0, 0, 1, 0, 0, 0, 0, 0, 0, 0, 0, 0, 0, 0, 0, 0, 1, 1, 1, 1, 0, 0, 1, 1, 0, 0, 1, 1, 1, 1, 0, 0, 0, 1, 1, 0, 0, 1, 0, 1, 0, 1, 0, 0, 0, 0, 1, 1, 0, 0, 0, 1, 0, 1, 0, 1, 0, 0, 0, 0, 0, 0, 1, 0, 1, 0, 0, 0, 0, 1, 1, 0, 1, 0, 1, 1, 1, 0, 0, 0, 1, 0, 1, 1, 0, 1, 0, 0, 0, 0, 0, 1, 1, 0, 0, 0, 0, 0, 0, 0, 1, 1, 0, 0, 0, 1, 0, 0, 1, 0, 1, 0, 0, 1, 1, 0, 0, 0, 0, 1, 0, 0, 0, 1, 1, 0, 1, 0, 1, 0, 1, 1, 0, 1, 1, 0, 0, 0, 0, 0, 0, 1, 0, 0, 0, 1, 0, 1, 0, 0, 1, 1, 1, 0, 0, 1, 0, 0, 1, 0, 0, 0, 0, 0, 0, 0, 0, 0, 0, 1, 0, 0, 0, 1, 1, 0, 1, 1, 1, 0, 1, 0, 1, 0, 1, 0, 0, 1, 0, 1, 1, 0, 0, 0, 1, 0, 0, 1, 1, 1, 1, 0, 1, 1, 0, 1, 0, 1, 1, 0, 1, 1, 1, 1, 0, 1, 1, 1, 0, 1, 1, 1, 0, 0, 0, 1, 1, 0, 1, 1, 0, 1, 0, 0, 0, 1, 0, 1, 1, 0, 0, 0, 0, 0, 0, 0, 1, 0, 0, 0, 0, 1, 0, 0, 0, 1, 0, 0, 0, 0, 0, 1, 0, 1, 0, 0, 1, 0, 0, 1, 0, 1, 1, 0, 0, 0, 1, 0, 0, 1, 1, 0, 0, 1, 1, 0, 0, 0, 0, 1, 1, 1, 0, 1, 0, 0, 0, 0, 0, 0, 0, 1, 0, 0, 1, 0, 1, 1, 0, 1, 0, 0, 1, 0, 1, 0, 0, 1, 0, 0, 0, 1, 0, 1, 1, 1, 1, 0, 0, 1, 0, 1, 0, 0, 0, 0, 1, 1, 0, 0, 0, 1, 1, 0, 0, 0, 1]\n",
            "[1. 1. 0. ... 0. 0. 1.]\n"
          ],
          "name": "stdout"
        }
      ]
    },
    {
      "cell_type": "code",
      "metadata": {
        "trusted": true,
        "id": "yhYj5y-Ue2Gr",
        "outputId": "df949db3-e901-45e1-95d1-7d6fe23d7d2a",
        "colab": {
          "base_uri": "https://localhost:8080/",
          "height": 272
        }
      },
      "source": [
        "from sklearn.metrics import classification_report,confusion_matrix, accuracy_score\n",
        "pred = model.predict(X_train)\n",
        "#pred  = [1 if y>=0.5 else 0 for y in pred] #Threshold\n",
        "pred  = [1 if y>=0.5 else 0 for y in pred] #Threshold\n",
        "print(classification_report(y_train ,pred ))\n",
        "print('Confusion Matrix: \\n',confusion_matrix(y_train,pred))\n",
        "print()\n",
        "print('Accuracy: ', accuracy_score(y_train,pred))\n",
        "print()"
      ],
      "execution_count": 31,
      "outputs": [
        {
          "output_type": "stream",
          "text": [
            "              precision    recall  f1-score   support\n",
            "\n",
            "         0.0       0.85      0.99      0.92     11211\n",
            "         1.0       0.99      0.83      0.90     11190\n",
            "\n",
            "    accuracy                           0.91     22401\n",
            "   macro avg       0.92      0.91      0.91     22401\n",
            "weighted avg       0.92      0.91      0.91     22401\n",
            "\n",
            "Confusion Matrix: \n",
            " [[11101   110]\n",
            " [ 1922  9268]]\n",
            "\n",
            "Accuracy:  0.9092897638498282\n",
            "\n"
          ],
          "name": "stdout"
        }
      ]
    },
    {
      "cell_type": "code",
      "metadata": {
        "trusted": true,
        "id": "r38ubOnze2Gu",
        "outputId": "233a20db-be9d-4845-fca4-0ed36fc0e7e4",
        "colab": {
          "base_uri": "https://localhost:8080/",
          "height": 272
        }
      },
      "source": [
        "from sklearn.metrics import classification_report,confusion_matrix, accuracy_score\n",
        "pred = model.predict(X_test)\n",
        "#pred  = [1 if y>=0.5 else 0 for y in pred] #Threshold\n",
        "pred  = [1 if y>=0.5 else 0 for y in pred] #Threshold\n",
        "print(classification_report(y_test ,pred ))\n",
        "print('Confusion Matrix: \\n',confusion_matrix(y_test,pred))\n",
        "print()\n",
        "print('Accuracy: ', accuracy_score(y_test,pred))\n",
        "print()"
      ],
      "execution_count": 32,
      "outputs": [
        {
          "output_type": "stream",
          "text": [
            "              precision    recall  f1-score   support\n",
            "\n",
            "         0.0       0.85      0.99      0.91      2790\n",
            "         1.0       0.99      0.82      0.90      2811\n",
            "\n",
            "    accuracy                           0.91      5601\n",
            "   macro avg       0.92      0.91      0.91      5601\n",
            "weighted avg       0.92      0.91      0.91      5601\n",
            "\n",
            "Confusion Matrix: \n",
            " [[2758   32]\n",
            " [ 495 2316]]\n",
            "\n",
            "Accuracy:  0.9059096589894662\n",
            "\n"
          ],
          "name": "stdout"
        }
      ]
    },
    {
      "cell_type": "code",
      "metadata": {
        "trusted": true,
        "id": "-6jQ-tMje2Gy",
        "outputId": "ae652f5f-465d-423b-b5bf-186a3ffa6203",
        "colab": {
          "base_uri": "https://localhost:8080/",
          "height": 51
        }
      },
      "source": [
        "model.evaluate(X_test, y_test)[1]"
      ],
      "execution_count": 33,
      "outputs": [
        {
          "output_type": "stream",
          "text": [
            "176/176 [==============================] - 0s 1ms/step - loss: 0.2393 - accuracy: 0.9059\n"
          ],
          "name": "stdout"
        },
        {
          "output_type": "execute_result",
          "data": {
            "text/plain": [
              "0.9059096574783325"
            ]
          },
          "metadata": {
            "tags": []
          },
          "execution_count": 33
        }
      ]
    },
    {
      "cell_type": "code",
      "metadata": {
        "trusted": true,
        "id": "jv-BmnGfe2G2"
      },
      "source": [
        "# ann cros vaidacion\n",
        "# https://medium.com/datadriveninvestor/k-fold-and-dropout-in-artificial-neural-network-ea054a89fb4e"
      ],
      "execution_count": 34,
      "outputs": []
    },
    {
      "cell_type": "code",
      "metadata": {
        "trusted": true,
        "id": "t7O_7d1ke2G4"
      },
      "source": [
        "#builing the neural net\n",
        "from keras import Sequential\n",
        "from keras.layers import Dense\n",
        "from keras.layers import Dropout\n",
        "from keras.wrappers.scikit_learn import KerasClassifier\n",
        "from sklearn.model_selection import cross_val_score"
      ],
      "execution_count": 35,
      "outputs": []
    },
    {
      "cell_type": "code",
      "metadata": {
        "trusted": true,
        "id": "iw7R6pW1e2G7"
      },
      "source": [
        "#accuracies =  cross_val_score(estimator=classifier, X= X, y=output_category,cv=10, n_jobs=-1)\n",
        "#accuracies\n",
        "\n",
        "#accuracies =  cross_val_score(estimator=model, X= X_test, y=pred,cv=5, n_jobs=-1)\n",
        "#accuracies"
      ],
      "execution_count": 36,
      "outputs": []
    },
    {
      "cell_type": "code",
      "metadata": {
        "trusted": true,
        "id": "2-cU-Tdue2G-"
      },
      "source": [
        "# https://medium.com/analytics-vidhya/artificial-neural-network-ann-with-keras-simplified-use-case-if-student-pass-the-exam-code-949ddb2a9c91"
      ],
      "execution_count": 37,
      "outputs": []
    },
    {
      "cell_type": "code",
      "metadata": {
        "trusted": true,
        "id": "Z53Rg8zRe2HB"
      },
      "source": [
        "from sklearn.model_selection import cross_validate\n",
        "from sklearn.model_selection import cross_val_score\n",
        "def kera_classifier():\n",
        "    cf = Sequential()\n",
        "    cf.add(Dense(units = 12,  activation = 'relu', input_dim = 24))\n",
        "    #cf.add(Dense(units = 12,  activation = 'relu', input_dim = 51))\n",
        "    cf.add(Dense(units = 15,  activation = 'relu'))\n",
        "    cf.add(Dense(units = 1, activation = 'sigmoid'))\n",
        "    cf.compile(optimizer = 'adam', loss = 'binary_crossentropy', metrics = ['accuracy'])\n",
        "    return cf\n",
        "start7 = time.time()\n",
        "cf = KerasClassifier(build_fn = kera_classifier, batch_size = 10, epochs = 100)\n",
        "#cf = KerasClassifier(build_fn = kera_classifier, batch_size = 57, epochs = 100)\n",
        "#acuracies = cross_val_score(estimator = cf, X = X_train, y = y_train, cv = 10, n_jobs = -1)\n",
        "#accuracies = cross_validate(cf, X = X_train, y = y_train, cv = 10, n_jobs = -1,scoring ='accuracy')\n",
        "accuracies = cross_val_score(cf, X = X_train, y = y_train, cv = 10, n_jobs = -1,scoring ='accuracy')\n",
        "#ean = accuracies.mean()\n",
        "#iance = accuracies.std()\n",
        "#\n",
        "prec = cross_val_score(cf, X = X_train, y = y_train, cv = 10, n_jobs = -1 ,scoring ='precision_macro')\n",
        "f1 = cross_val_score(cf, X = X_train, y = y_train, cv = 10, n_jobs = -1 ,scoring ='f1')\n",
        "recal = cross_val_score(cf, X = X_train, y = y_train, cv = 10, n_jobs = -1 ,scoring ='recall')\n",
        "#ean1= recal.mean()\n",
        "#ariance1= recal.std()"
      ],
      "execution_count": 38,
      "outputs": []
    },
    {
      "cell_type": "code",
      "metadata": {
        "trusted": true,
        "id": "p2UTKd_Ue2HE",
        "outputId": "fcd73151-4194-460a-ab1f-fe42e7dd1c01",
        "colab": {
          "base_uri": "https://localhost:8080/",
          "height": 476
        }
      },
      "source": [
        "#print(f\"accuracy:\")\n",
        "#print (accuracies)\n",
        "#print (mean)\n",
        "#print( variance)\n",
        "#print(f\"recall:\")\n",
        "#print (recal)\n",
        "#print (mean1)\n",
        "#print( variance1)\n",
        "\n",
        "#\n",
        "print(f\"preci:\")\n",
        "print(prec)\n",
        "print(prec.mean())\n",
        "print(prec.std())\n",
        "#print(variance['test_score'])\n",
        "#\n",
        "print(f\"recall:\")\n",
        "print(recal)\n",
        "print(recal.mean())\n",
        "print(recal.std())\n",
        "#print(variance['test_score'])\n",
        "#\n",
        "#\n",
        "print(f\"f1-score:\")\n",
        "print(f1)\n",
        "print(f1.mean())\n",
        "print(f1.std())\n",
        "#print(variance['test_score'])\n",
        "#\n",
        "#\n",
        "print(f\"accuracy:\")\n",
        "print(accuracies)\n",
        "print(\"\\n\")\n",
        "print(accuracies.mean())\n",
        "print(\"\\n\")\n",
        "print(accuracies.std())\n",
        "print(\"\\n\")\n",
        "#print(variance['test_score'])\n",
        "#\n",
        "stop7 = time.time()\n",
        "print(f\"CV Training time: {stop7 - start7}s\")\n",
        "\n",
        "# 200 epochs\n",
        "# 0.9936249911785126\n",
        "# 0.003466360910457571"
      ],
      "execution_count": 39,
      "outputs": [
        {
          "output_type": "stream",
          "text": [
            "preci:\n",
            "[0.99822482 0.99268549 0.99823188 0.99594229 0.99777379 0.99638459\n",
            " 0.99955357 0.99513669 0.99821429 0.98226518]\n",
            "0.9954412579822206\n",
            "0.004775082709674195\n",
            "recall:\n",
            "[0.96936937 0.9952919  0.99912358 0.99736842 0.99910555 0.99388112\n",
            " 1.         0.99454545 0.99197861 0.99823633]\n",
            "0.9938900328543336\n",
            "0.008545315158692135\n",
            "f1-score:\n",
            "[0.99774876 0.99575672 0.99562172 0.99912204 0.93264249 0.9964943\n",
            " 0.99776686 0.9959035  0.91954023 0.99955889]\n",
            "0.9830155507067581\n",
            "0.028641508958867273\n",
            "accuracy:\n",
            "[0.99732262 0.996875   0.98482143 0.94017857 0.984375   0.92678571\n",
            " 0.99955357 0.99776786 0.99732143 0.99776786]\n",
            "\n",
            "\n",
            "0.9822769052400077\n",
            "\n",
            "\n",
            "0.0251130576809651\n",
            "\n",
            "\n",
            "CV Training time: 8653.921155691147s\n"
          ],
          "name": "stdout"
        }
      ]
    },
    {
      "cell_type": "code",
      "metadata": {
        "trusted": true,
        "id": "mjqKL_qNe2HH"
      },
      "source": [
        "#  Dense(12, activation='relu', input_shape=( 51 ,)),\n",
        "#    Dense(15, activation='relu'),\n",
        "#    Dense(1, activation='sigmoid')"
      ],
      "execution_count": 40,
      "outputs": []
    }
  ]
}