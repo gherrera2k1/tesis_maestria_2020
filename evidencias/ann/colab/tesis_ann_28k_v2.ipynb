{
  "nbformat": 4,
  "nbformat_minor": 0,
  "metadata": {
    "kernelspec": {
      "name": "python3",
      "display_name": "Python 3",
      "language": "python"
    },
    "language_info": {
      "name": "python",
      "version": "3.7.6",
      "mimetype": "text/x-python",
      "codemirror_mode": {
        "name": "ipython",
        "version": 3
      },
      "pygments_lexer": "ipython3",
      "nbconvert_exporter": "python",
      "file_extension": ".py"
    },
    "colab": {
      "name": "tesis-ann-28k-v2.ipynb",
      "provenance": [],
      "collapsed_sections": []
    }
  },
  "cells": [
    {
      "cell_type": "code",
      "metadata": {
        "id": "MDfYqJINe7se"
      },
      "source": [
        "# Gerardo Herrera... ann: (1 capa oculta con 15 neuronas, activation = 'relu', epoch=10) con 28k instacias de normal y recovering y 24 sensores"
      ],
      "execution_count": null,
      "outputs": []
    },
    {
      "cell_type": "code",
      "metadata": {
        "id": "flAR5WzRgb6Z",
        "colab": {
          "base_uri": "https://localhost:8080/",
          "height": 34
        },
        "outputId": "c913a121-0cf6-4679-ab34-fbbf9a456bc6"
      },
      "source": [
        "from google.colab import drive\n",
        "drive.mount('/content/drive')"
      ],
      "execution_count": null,
      "outputs": [
        {
          "output_type": "stream",
          "text": [
            "Mounted at /content/drive\n"
          ],
          "name": "stdout"
        }
      ]
    },
    {
      "cell_type": "code",
      "metadata": {
        "_uuid": "8f2839f25d086af736a60e9eeb907d3b93b6e0e5",
        "_cell_guid": "b1076dfc-b9ad-4769-8c92-a6c4dae69d19",
        "trusted": true,
        "id": "QbvEt_vwe2E1"
      },
      "source": [
        "# This Python 3 environment comes with many helpful analytics libraries installed\n",
        "# It is defined by the kaggle/python Docker image: https://github.com/kaggle/docker-python\n",
        "# For example, here's several helpful packages to load\n",
        "\n",
        "import numpy as np # linear algebra\n",
        "import pandas as pd # data processing, CSV file I/O (e.g. pd.read_csv)\n",
        "\n",
        "# Input data files are available in the read-only \"../input/\" directory\n",
        "# For example, running this (by clicking run or pressing Shift+Enter) will list all files under the input directory\n",
        "\n",
        "import os\n",
        "for dirname, _, filenames in os.walk('/kaggle/input'):\n",
        "    for filename in filenames:\n",
        "        print(os.path.join(dirname, filename))\n",
        "\n",
        "# You can write up to 5GB to the current directory (/kaggle/working/) that gets preserved as output when you create a version using \"Save & Run All\" \n",
        "# You can also write temporary files to /kaggle/temp/, but they won't be saved outside of the current session"
      ],
      "execution_count": null,
      "outputs": []
    },
    {
      "cell_type": "code",
      "metadata": {
        "trusted": true,
        "id": "C2ErB_Nve2E9"
      },
      "source": [
        "# https://medium.com/@randerson112358/build-your-own-artificial-neural-network-using-python-f37d16be06bf"
      ],
      "execution_count": null,
      "outputs": []
    },
    {
      "cell_type": "code",
      "metadata": {
        "_uuid": "d629ff2d2480ee46fbb7e2d37f6b5fab8052498a",
        "_cell_guid": "79c7e3d0-c299-4dcb-8224-4455121ee9b0",
        "trusted": true,
        "id": "vICLxS_Ee2FB"
      },
      "source": [
        "#Load libraries\n",
        "from keras.models import Sequential\n",
        "from keras.layers import Dense\n",
        "import pandas as pd\n",
        "from sklearn.model_selection import train_test_split\n",
        "import matplotlib.pyplot as plt\n",
        "plt.style.use('fivethirtyeight')"
      ],
      "execution_count": null,
      "outputs": []
    },
    {
      "cell_type": "code",
      "metadata": {
        "trusted": true,
        "id": "QOZUG-lEe2FF"
      },
      "source": [
        "import time"
      ],
      "execution_count": null,
      "outputs": []
    },
    {
      "cell_type": "code",
      "metadata": {
        "trusted": true,
        "id": "NwhsRBIge2FK"
      },
      "source": [
        "#sensor77 = pd.read_csv('../input/vombas/sensor_procesado.csv')\n",
        "#sensor77 = pd.read_csv('../input/10ks25/s25balanced10k.csv')\n",
        "#sensor77 = pd.read_csv('../input/28k-s24-balan-vombas/sensor2-ordenado_status_sin_broken_balanced_28k.csv')\n",
        "\n",
        "sensor77 = pd.read_csv('/content/drive/My Drive/datasets/sensor2-ordenado_status_sin_broken_balanced_28k.csv')\n",
        "\n"
      ],
      "execution_count": null,
      "outputs": []
    },
    {
      "cell_type": "code",
      "metadata": {
        "trusted": true,
        "id": "xmx7pyVUe2FO",
        "colab": {
          "base_uri": "https://localhost:8080/",
          "height": 34
        },
        "outputId": "759a72e2-bf6c-4af6-d1bc-1017f4257b0b"
      },
      "source": [
        "#Show the shape (number of rows & columns)\n",
        "sensor77.shape"
      ],
      "execution_count": null,
      "outputs": [
        {
          "output_type": "execute_result",
          "data": {
            "text/plain": [
              "(28002, 27)"
            ]
          },
          "metadata": {
            "tags": []
          },
          "execution_count": 8
        }
      ]
    },
    {
      "cell_type": "code",
      "metadata": {
        "trusted": true,
        "id": "OMOmc2Eue2FU",
        "colab": {
          "base_uri": "https://localhost:8080/",
          "height": 514
        },
        "outputId": "3e6c7e5a-b344-40ac-c520-0e19d2c3258d"
      },
      "source": [
        "#Show the number of missing (NAN, NaN, na) data for each column\n",
        "sensor77.isnull().sum()"
      ],
      "execution_count": null,
      "outputs": [
        {
          "output_type": "execute_result",
          "data": {
            "text/plain": [
              "Unnamed: 0            0\n",
              "timestamp             0\n",
              "sensor_00             0\n",
              "sensor_01            30\n",
              "sensor_02             0\n",
              "sensor_03             0\n",
              "sensor_04             0\n",
              "sensor_11             0\n",
              "sensor_14             0\n",
              "sensor_16             0\n",
              "sensor_17             0\n",
              "sensor_18             0\n",
              "sensor_19             0\n",
              "sensor_20             0\n",
              "sensor_21             0\n",
              "sensor_22             0\n",
              "sensor_23             0\n",
              "sensor_25             0\n",
              "sensor_26             0\n",
              "sensor_27             0\n",
              "sensor_28             0\n",
              "sensor_30             0\n",
              "sensor_31             0\n",
              "sensor_44             3\n",
              "sensor_50         14004\n",
              "sensor_51          2996\n",
              "machine_status        0\n",
              "dtype: int64"
            ]
          },
          "metadata": {
            "tags": []
          },
          "execution_count": 9
        }
      ]
    },
    {
      "cell_type": "code",
      "metadata": {
        "trusted": true,
        "id": "IUpls8jne2Fa"
      },
      "source": [
        "cleanup_nums = {\"machine_status\":     {\"NORMAL\": 0, \"RECOVERING\": 1,\"BROKEN\": 2}}"
      ],
      "execution_count": null,
      "outputs": []
    },
    {
      "cell_type": "code",
      "metadata": {
        "trusted": true,
        "id": "ixOpx0Nge2Fd"
      },
      "source": [
        "sensor77.replace(cleanup_nums, inplace=True)"
      ],
      "execution_count": null,
      "outputs": []
    },
    {
      "cell_type": "code",
      "metadata": {
        "trusted": true,
        "id": "ZXgNBUlge2Fh"
      },
      "source": [
        "sensor77.fillna(sensor77.mean(), inplace=True)"
      ],
      "execution_count": null,
      "outputs": []
    },
    {
      "cell_type": "code",
      "metadata": {
        "trusted": true,
        "id": "WNuwjJ24e2Fk",
        "colab": {
          "base_uri": "https://localhost:8080/",
          "height": 514
        },
        "outputId": "7398a51f-002e-417c-f246-c0ab387ac5d0"
      },
      "source": [
        "#Show the number of missing (NAN, NaN, na) data for each column\n",
        "sensor77.isnull().sum()"
      ],
      "execution_count": null,
      "outputs": [
        {
          "output_type": "execute_result",
          "data": {
            "text/plain": [
              "Unnamed: 0        0\n",
              "timestamp         0\n",
              "sensor_00         0\n",
              "sensor_01         0\n",
              "sensor_02         0\n",
              "sensor_03         0\n",
              "sensor_04         0\n",
              "sensor_11         0\n",
              "sensor_14         0\n",
              "sensor_16         0\n",
              "sensor_17         0\n",
              "sensor_18         0\n",
              "sensor_19         0\n",
              "sensor_20         0\n",
              "sensor_21         0\n",
              "sensor_22         0\n",
              "sensor_23         0\n",
              "sensor_25         0\n",
              "sensor_26         0\n",
              "sensor_27         0\n",
              "sensor_28         0\n",
              "sensor_30         0\n",
              "sensor_31         0\n",
              "sensor_44         0\n",
              "sensor_50         0\n",
              "sensor_51         0\n",
              "machine_status    0\n",
              "dtype: int64"
            ]
          },
          "metadata": {
            "tags": []
          },
          "execution_count": 13
        }
      ]
    },
    {
      "cell_type": "code",
      "metadata": {
        "trusted": true,
        "id": "PnwBp3MBe2Fp"
      },
      "source": [
        "#sensor77.drop('sensor_15', axis=1, inplace=True)\n",
        "sensor77.drop('timestamp', axis=1, inplace=True)"
      ],
      "execution_count": null,
      "outputs": []
    },
    {
      "cell_type": "code",
      "metadata": {
        "trusted": true,
        "id": "BmQqawwHe2Ft"
      },
      "source": [
        "#sensor77.drop('100000', axis=1, inplace=True)"
      ],
      "execution_count": null,
      "outputs": []
    },
    {
      "cell_type": "code",
      "metadata": {
        "trusted": true,
        "id": "5J9Ac_Yxe2Fw"
      },
      "source": [
        "sensor77.drop('Unnamed: 0', axis=1, inplace=True)"
      ],
      "execution_count": null,
      "outputs": []
    },
    {
      "cell_type": "code",
      "metadata": {
        "trusted": true,
        "id": "dSBy0m8be2F0",
        "colab": {
          "base_uri": "https://localhost:8080/",
          "height": 478
        },
        "outputId": "ae47f542-ffaa-4e45-8b53-9cccc31aec3f"
      },
      "source": [
        "sensor77.isnull().sum()"
      ],
      "execution_count": null,
      "outputs": [
        {
          "output_type": "execute_result",
          "data": {
            "text/plain": [
              "sensor_00         0\n",
              "sensor_01         0\n",
              "sensor_02         0\n",
              "sensor_03         0\n",
              "sensor_04         0\n",
              "sensor_11         0\n",
              "sensor_14         0\n",
              "sensor_16         0\n",
              "sensor_17         0\n",
              "sensor_18         0\n",
              "sensor_19         0\n",
              "sensor_20         0\n",
              "sensor_21         0\n",
              "sensor_22         0\n",
              "sensor_23         0\n",
              "sensor_25         0\n",
              "sensor_26         0\n",
              "sensor_27         0\n",
              "sensor_28         0\n",
              "sensor_30         0\n",
              "sensor_31         0\n",
              "sensor_44         0\n",
              "sensor_50         0\n",
              "sensor_51         0\n",
              "machine_status    0\n",
              "dtype: int64"
            ]
          },
          "metadata": {
            "tags": []
          },
          "execution_count": 17
        }
      ]
    },
    {
      "cell_type": "code",
      "metadata": {
        "trusted": true,
        "id": "JfS7aOSne2F3",
        "colab": {
          "base_uri": "https://localhost:8080/",
          "height": 247
        },
        "outputId": "d2093fed-a953-4825-b847-acc3f78b509d"
      },
      "source": [
        "#Convert the data into an array\n",
        "dataset = sensor77.values\n",
        "dataset"
      ],
      "execution_count": null,
      "outputs": [
        {
          "output_type": "execute_result",
          "data": {
            "text/plain": [
              "array([[2.46539400e+00, 4.70920100e+01, 5.32118000e+01, ...,\n",
              "        4.81174107e+02, 1.77951400e+02, 0.00000000e+00],\n",
              "       [2.46539400e+00, 4.70920100e+01, 5.32118000e+01, ...,\n",
              "        4.81174107e+02, 1.78530100e+02, 0.00000000e+00],\n",
              "       [2.44473400e+00, 4.73524300e+01, 5.32118000e+01, ...,\n",
              "        4.81174107e+02, 1.77662000e+05, 0.00000000e+00],\n",
              "       ...,\n",
              "       [2.40538200e+00, 4.95659714e+01, 5.38194400e+01, ...,\n",
              "        3.21180573e+01, 3.15393524e+01, 1.00000000e+00],\n",
              "       [2.40046300e+00, 4.95659700e+01, 5.37760400e+01, ...,\n",
              "        3.21180573e+01, 3.15393500e+01, 1.00000000e+00],\n",
              "       [2.40144700e+00, 4.95225700e+01, 5.37760391e+01, ...,\n",
              "        3.21180573e+01, 3.18287000e+01, 1.00000000e+00]])"
            ]
          },
          "metadata": {
            "tags": []
          },
          "execution_count": 18
        }
      ]
    },
    {
      "cell_type": "code",
      "metadata": {
        "trusted": true,
        "id": "CB9AfYzQe2F7",
        "colab": {
          "base_uri": "https://localhost:8080/",
          "height": 34
        },
        "outputId": "fdf13617-410f-42f7-dee2-705cc6a618af"
      },
      "source": [
        "sensor77.shape"
      ],
      "execution_count": null,
      "outputs": [
        {
          "output_type": "execute_result",
          "data": {
            "text/plain": [
              "(28002, 25)"
            ]
          },
          "metadata": {
            "tags": []
          },
          "execution_count": 19
        }
      ]
    },
    {
      "cell_type": "code",
      "metadata": {
        "trusted": true,
        "id": "BjEAHzqPe2F-"
      },
      "source": [
        "# Get all of the rows from the first eight columns of the dataset\n",
        "#X = dataset[:,0:51] \n",
        "X = dataset[:,0:24]\n",
        "# Get all of the rows from the last column\n",
        "#y = dataset[:,51] \n",
        "y = dataset[:,24] "
      ],
      "execution_count": null,
      "outputs": []
    },
    {
      "cell_type": "code",
      "metadata": {
        "trusted": true,
        "id": "5lXEAGC_e2GD",
        "colab": {
          "base_uri": "https://localhost:8080/",
          "height": 34
        },
        "outputId": "7e66c213-a0b4-4b51-c671-7f21c7ef827e"
      },
      "source": [
        "print(y)"
      ],
      "execution_count": null,
      "outputs": [
        {
          "output_type": "stream",
          "text": [
            "[0. 0. 0. ... 1. 1. 1.]\n"
          ],
          "name": "stdout"
        }
      ]
    },
    {
      "cell_type": "code",
      "metadata": {
        "trusted": true,
        "id": "SnO661cDe2GH",
        "colab": {
          "base_uri": "https://localhost:8080/",
          "height": 247
        },
        "outputId": "8b0a335e-f721-483b-ad73-8f6a4c0fd585"
      },
      "source": [
        "print(X)"
      ],
      "execution_count": null,
      "outputs": [
        {
          "output_type": "stream",
          "text": [
            "[[2.46539400e+00 4.70920100e+01 5.32118000e+01 ... 4.36921300e+01\n",
            "  4.81174107e+02 1.77951400e+02]\n",
            " [2.46539400e+00 4.70920100e+01 5.32118000e+01 ... 4.45601800e+01\n",
            "  4.81174107e+02 1.78530100e+02]\n",
            " [2.44473400e+00 4.73524300e+01 5.32118000e+01 ... 4.60069400e+01\n",
            "  4.81174107e+02 1.77662000e+05]\n",
            " ...\n",
            " [2.40538200e+00 4.95659714e+01 5.38194400e+01 ... 3.15393524e+01\n",
            "  3.21180573e+01 3.15393524e+01]\n",
            " [2.40046300e+00 4.95659700e+01 5.37760400e+01 ... 3.15393524e+01\n",
            "  3.21180573e+01 3.15393500e+01]\n",
            " [2.40144700e+00 4.95225700e+01 5.37760391e+01 ... 3.15393524e+01\n",
            "  3.21180573e+01 3.18287000e+01]]\n"
          ],
          "name": "stdout"
        }
      ]
    },
    {
      "cell_type": "code",
      "metadata": {
        "trusted": true,
        "id": "zBWJdraze2GM",
        "colab": {
          "base_uri": "https://localhost:8080/",
          "height": 247
        },
        "outputId": "10025391-c87a-4e4c-a6e3-d6a01420447c"
      },
      "source": [
        "from sklearn import preprocessing\n",
        "min_max_scaler = preprocessing.MinMaxScaler()\n",
        "X_scale = min_max_scaler.fit_transform(X)\n",
        "X_scale"
      ],
      "execution_count": null,
      "outputs": [
        {
          "output_type": "execute_result",
          "data": {
            "text/plain": [
              "array([[1.16018541e-03, 1.51254935e-04, 2.97595181e-04, ...,\n",
              "        7.32072243e-05, 1.01425222e-03, 3.84471811e-04],\n",
              "       [1.16018541e-03, 1.51254935e-04, 2.97595181e-04, ...,\n",
              "        7.67494867e-05, 1.01425222e-03, 3.85953388e-04],\n",
              "       [1.15046306e-03, 1.56160565e-04, 2.97595181e-04, ...,\n",
              "        8.26532983e-05, 1.01425222e-03, 4.54775949e-01],\n",
              "       ...,\n",
              "       [1.13194447e-03, 1.97857886e-04, 3.09041171e-04, ...,\n",
              "        2.36152335e-05, 1.03499268e-05, 9.63031373e-06],\n",
              "       [1.12962965e-03, 1.97857860e-04, 3.08223654e-04, ...,\n",
              "        2.36152335e-05, 1.03499268e-05, 9.63030754e-06],\n",
              "       [1.13009271e-03, 1.97040318e-04, 3.08223638e-04, ...,\n",
              "        2.36152335e-05, 1.03499268e-05, 1.03710962e-05]])"
            ]
          },
          "metadata": {
            "tags": []
          },
          "execution_count": 23
        }
      ]
    },
    {
      "cell_type": "code",
      "metadata": {
        "trusted": true,
        "id": "fRRkm9X-e2GP"
      },
      "source": [
        "X_train, X_test, y_train, y_test = train_test_split(X_scale, y, test_size=0.2, random_state = 4)"
      ],
      "execution_count": null,
      "outputs": []
    },
    {
      "cell_type": "code",
      "metadata": {
        "trusted": true,
        "id": "1RRJ9l5Oe2GS"
      },
      "source": [
        "model = Sequential([\n",
        "    Dense(12, activation='relu', input_shape=( 24 ,)),\n",
        "    #Dense(12, activation='relu', input_shape=( 51 ,)),\n",
        "    Dense(15, activation='relu'),\n",
        "    Dense(1, activation='sigmoid')\n",
        "])"
      ],
      "execution_count": null,
      "outputs": []
    },
    {
      "cell_type": "code",
      "metadata": {
        "trusted": true,
        "id": "3G0Dxv_oe2GV"
      },
      "source": [
        "#model.compile(optimizer='sgd',\n",
        "#              loss='binary_crossentropy',\n",
        "#              metrics=['accuracy'])\n",
        "\n",
        "model.compile(optimizer='sgd',\n",
        "              loss='binary_crossentropy',\n",
        "              metrics=['accuracy'])"
      ],
      "execution_count": null,
      "outputs": []
    },
    {
      "cell_type": "code",
      "metadata": {
        "trusted": true,
        "id": "TXrh1auie2Ga",
        "colab": {
          "base_uri": "https://localhost:8080/",
          "height": 390
        },
        "outputId": "28c6950c-ca32-4300-a40d-294c34fde2c3"
      },
      "source": [
        "start = time.time()\n",
        "hist = model.fit(X_train, y_train,\n",
        "          batch_size=10, epochs=10, validation_split=0.2)\n",
        "stop = time.time()\n",
        "print(f\"Training time: {stop - start}s\")\n",
        "# prints: Training time: 0.20307230949401855s\n",
        "\n",
        "# https://machinelearningmastery.com/evaluate-performance-deep-learning-models-keras/\n"
      ],
      "execution_count": null,
      "outputs": [
        {
          "output_type": "stream",
          "text": [
            "Epoch 1/10\n",
            "1792/1792 [==============================] - 2s 1ms/step - loss: 0.5971 - accuracy: 0.7563 - val_loss: 0.4301 - val_accuracy: 0.8378\n",
            "Epoch 2/10\n",
            "1792/1792 [==============================] - 2s 1ms/step - loss: 0.3751 - accuracy: 0.8547 - val_loss: 0.3646 - val_accuracy: 0.8616\n",
            "Epoch 3/10\n",
            "1792/1792 [==============================] - 2s 1ms/step - loss: 0.3500 - accuracy: 0.8618 - val_loss: 0.3607 - val_accuracy: 0.8538\n",
            "Epoch 4/10\n",
            "1792/1792 [==============================] - 2s 1ms/step - loss: 0.3463 - accuracy: 0.8595 - val_loss: 0.3584 - val_accuracy: 0.8523\n",
            "Epoch 5/10\n",
            "1792/1792 [==============================] - 2s 1ms/step - loss: 0.3448 - accuracy: 0.8597 - val_loss: 0.3578 - val_accuracy: 0.8532\n",
            "Epoch 6/10\n",
            "1792/1792 [==============================] - 2s 1ms/step - loss: 0.3440 - accuracy: 0.8607 - val_loss: 0.3564 - val_accuracy: 0.8527\n",
            "Epoch 7/10\n",
            "1792/1792 [==============================] - 2s 1ms/step - loss: 0.3423 - accuracy: 0.8618 - val_loss: 0.3548 - val_accuracy: 0.8527\n",
            "Epoch 8/10\n",
            "1792/1792 [==============================] - 2s 1ms/step - loss: 0.3402 - accuracy: 0.8621 - val_loss: 0.3556 - val_accuracy: 0.8543\n",
            "Epoch 9/10\n",
            "1792/1792 [==============================] - 2s 1ms/step - loss: 0.3397 - accuracy: 0.8621 - val_loss: 0.3529 - val_accuracy: 0.8529\n",
            "Epoch 10/10\n",
            "1792/1792 [==============================] - 2s 1ms/step - loss: 0.3388 - accuracy: 0.8621 - val_loss: 0.3521 - val_accuracy: 0.8532\n",
            "Training time: 20.224334716796875s\n"
          ],
          "name": "stdout"
        }
      ]
    },
    {
      "cell_type": "code",
      "metadata": {
        "trusted": true,
        "id": "roo3asUee2Ge",
        "colab": {
          "base_uri": "https://localhost:8080/",
          "height": 324
        },
        "outputId": "8f80bd57-b0db-400d-f254-333e76bb6859"
      },
      "source": [
        "#visualize the training loss and the validation loss to see if the model is overfitting\n",
        "plt.plot(hist.history['loss'])\n",
        "plt.plot(hist.history['val_loss'])\n",
        "plt.title('Model loss')\n",
        "plt.ylabel('Loss')\n",
        "plt.xlabel('Epoch')\n",
        "plt.legend(['Train', 'Val'], loc='upper right')\n",
        "plt.show()"
      ],
      "execution_count": null,
      "outputs": [
        {
          "output_type": "display_data",
          "data": {
            "image/png": "[encoded data removed]",
            "text/plain": [
              "<Figure size 432x288 with 1 Axes>"
            ]
          },
          "metadata": {
            "tags": []
          }
        }
      ]
    },
    {
      "cell_type": "code",
      "metadata": {
        "trusted": true,
        "id": "afManzN8e2Gi",
        "colab": {
          "base_uri": "https://localhost:8080/",
          "height": 324
        },
        "outputId": "cb16ee08-690f-4e96-a828-7c04c6029eaf"
      },
      "source": [
        "#visualize the training accuracy and the validation accuracy to see if the model is overfitting\n",
        "plt.plot(hist.history['accuracy'])\n",
        "plt.plot(hist.history['val_accuracy'])\n",
        "plt.title('Model accuracy')\n",
        "plt.ylabel('Accuracy')\n",
        "plt.xlabel('Epoch')\n",
        "plt.legend(['Train', 'Val'], loc='lower right')\n",
        "plt.show()"
      ],
      "execution_count": null,
      "outputs": [
        {
          "output_type": "display_data",
          "data": {
            "image/png": "[encoded data removed]",
            "text/plain": [
              "<Figure size 432x288 with 1 Axes>"
            ]
          },
          "metadata": {
            "tags": []
          }
        }
      ]
    },
    {
      "cell_type": "code",
      "metadata": {
        "trusted": true,
        "id": "RC-N5lgRe2Gn",
        "colab": {
          "base_uri": "https://localhost:8080/",
          "height": 72
        },
        "outputId": "1821bafe-21e8-4434-9482-1153dd104e36"
      },
      "source": [
        "#Make a prediction & print the actual values\n",
        "prediction = model.predict(X_test)\n",
        "#prediction  = [1 if y>=0.5 else 0 for y in prediction] #Threshold\n",
        "prediction  = [1 if y>=0.75 else 0 for y in prediction] #Threshold\n",
        "print(prediction)\n",
        "print(y_test)"
      ],
      "execution_count": null,
      "outputs": [
        {
          "output_type": "stream",
          "text": [
            "[1, 1, 0, 0, 0, 0, 0, 0, 0, 0, 0, 1, 1, 1, 0, 0, 0, 1, 1, 1, 0, 0, 1, 1, 0, 0, 0, 0, 1, 0, 1, 0, 1, 0, 1, 1, 0, 0, 0, 0, 0, 0, 1, 1, 1, 0, 1, 1, 0, 0, 1, 1, 0, 0, 1, 0, 0, 1, 1, 1, 1, 1, 0, 0, 0, 1, 1, 1, 0, 1, 1, 1, 1, 0, 1, 1, 0, 0, 1, 0, 1, 1, 1, 1, 0, 1, 0, 0, 1, 1, 0, 0, 1, 1, 0, 0, 0, 0, 0, 1, 0, 1, 0, 1, 1, 0, 1, 1, 1, 0, 1, 1, 0, 0, 0, 1, 1, 0, 0, 0, 1, 1, 0, 0, 1, 0, 1, 1, 0, 0, 0, 0, 0, 0, 1, 0, 1, 0, 1, 0, 0, 0, 0, 0, 0, 0, 1, 1, 0, 1, 0, 0, 1, 0, 1, 0, 1, 0, 1, 0, 1, 0, 0, 0, 0, 0, 1, 0, 1, 1, 0, 1, 0, 1, 1, 0, 0, 1, 0, 0, 1, 0, 0, 0, 0, 0, 0, 1, 1, 0, 1, 1, 0, 1, 1, 1, 0, 0, 0, 0, 0, 0, 1, 0, 0, 0, 1, 0, 0, 0, 1, 1, 0, 0, 0, 1, 1, 1, 0, 0, 0, 1, 1, 1, 0, 1, 0, 1, 1, 1, 0, 1, 0, 0, 1, 0, 1, 0, 1, 1, 0, 0, 1, 0, 1, 0, 0, 0, 0, 0, 0, 0, 0, 0, 0, 1, 0, 0, 1, 1, 0, 0, 0, 0, 1, 0, 0, 0, 0, 1, 0, 0, 0, 0, 0, 1, 0, 0, 0, 1, 0, 1, 1, 0, 0, 0, 1, 0, 0, 0, 1, 0, 1, 0, 1, 0, 1, 0, 0, 0, 1, 0, 0, 0, 0, 0, 0, 0, 1, 0, 0, 0, 0, 1, 0, 1, 1, 1, 1, 0, 0, 1, 0, 0, 0, 1, 1, 1, 0, 0, 1, 0, 0, 0, 0, 0, 0, 0, 1, 1, 1, 0, 0, 1, 0, 1, 0, 1, 0, 0, 1, 1, 1, 1, 1, 1, 0, 1, 1, 1, 1, 0, 0, 0, 1, 1, 0, 1, 0, 1, 0, 1, 0, 0, 1, 1, 1, 0, 0, 1, 0, 1, 1, 1, 0, 0, 0, 0, 0, 0, 1, 0, 0, 1, 1, 0, 0, 0, 0, 0, 0, 0, 0, 1, 1, 1, 1, 0, 1, 0, 0, 1, 1, 0, 0, 0, 1, 0, 0, 0, 0, 0, 1, 1, 0, 0, 0, 1, 1, 0, 0, 0, 1, 0, 1, 0, 1, 0, 0, 0, 0, 0, 0, 0, 1, 1, 0, 0, 1, 1, 1, 0, 0, 1, 1, 1, 1, 1, 1, 0, 1, 0, 0, 0, 0, 0, 0, 0, 0, 1, 0, 0, 0, 1, 1, 0, 0, 0, 0, 1, 0, 1, 0, 0, 0, 0, 1, 1, 1, 0, 0, 0, 1, 1, 0, 0, 0, 0, 1, 1, 0, 1, 1, 0, 0, 0, 0, 1, 1, 1, 0, 0, 0, 0, 1, 1, 0, 1, 1, 0, 1, 1, 1, 0, 0, 1, 1, 0, 1, 1, 0, 0, 1, 0, 0, 1, 1, 0, 0, 1, 0, 0, 1, 0, 0, 0, 1, 0, 0, 1, 0, 1, 1, 0, 1, 0, 0, 0, 0, 0, 1, 0, 0, 1, 1, 1, 0, 0, 0, 1, 1, 1, 0, 0, 1, 0, 1, 1, 0, 0, 1, 0, 0, 0, 0, 0, 1, 0, 0, 1, 1, 1, 0, 1, 0, 0, 0, 1, 0, 0, 0, 0, 0, 0, 0, 1, 0, 0, 1, 1, 1, 0, 0, 0, 1, 1, 1, 0, 1, 0, 0, 1, 1, 0, 1, 0, 1, 1, 1, 0, 0, 0, 1, 0, 1, 0, 1, 1, 1, 0, 0, 1, 0, 1, 0, 1, 0, 0, 0, 0, 1, 1, 1, 1, 0, 0, 0, 1, 1, 1, 0, 1, 0, 1, 0, 0, 0, 0, 0, 0, 0, 1, 1, 1, 1, 1, 0, 1, 1, 0, 1, 1, 1, 1, 1, 1, 0, 1, 0, 0, 0, 1, 1, 1, 1, 0, 1, 0, 1, 0, 1, 0, 0, 1, 0, 1, 1, 0, 1, 1, 1, 1, 0, 0, 0, 1, 1, 0, 1, 1, 0, 1, 1, 1, 0, 0, 1, 0, 1, 0, 0, 1, 0, 1, 1, 0, 1, 0, 0, 0, 0, 0, 1, 1, 0, 1, 0, 0, 0, 0, 0, 0, 0, 0, 1, 0, 1, 1, 1, 0, 0, 0, 0, 1, 0, 0, 1, 0, 0, 1, 0, 1, 1, 1, 1, 1, 0, 0, 1, 0, 1, 1, 0, 0, 0, 1, 0, 0, 0, 0, 1, 1, 0, 1, 0, 0, 0, 1, 0, 0, 1, 0, 0, 1, 1, 0, 1, 1, 0, 1, 1, 0, 1, 1, 1, 0, 0, 0, 0, 1, 1, 1, 0, 0, 0, 1, 0, 0, 0, 1, 1, 0, 1, 1, 0, 0, 0, 1, 0, 0, 0, 1, 0, 1, 0, 0, 0, 1, 0, 0, 0, 0, 0, 1, 0, 1, 0, 0, 1, 0, 1, 1, 0, 1, 0, 0, 0, 0, 0, 0, 0, 0, 1, 1, 0, 0, 1, 0, 1, 0, 0, 1, 0, 0, 0, 0, 1, 1, 0, 0, 0, 0, 0, 0, 0, 0, 0, 0, 0, 1, 1, 0, 0, 0, 1, 1, 0, 0, 0, 0, 1, 1, 1, 1, 1, 1, 1, 0, 0, 0, 0, 1, 0, 0, 1, 0, 1, 1, 0, 0, 0, 0, 0, 1, 0, 1, 1, 1, 0, 0, 1, 1, 0, 1, 1, 0, 0, 1, 0, 1, 1, 1, 0, 1, 0, 1, 0, 0, 1, 0, 0, 0, 0, 1, 0, 1, 0, 1, 0, 1, 1, 0, 0, 0, 0, 0, 0, 0, 0, 1, 0, 1, 0, 1, 0, 1, 1, 1, 1, 0, 1, 0, 1, 0, 1, 0, 0, 1, 0, 0, 1, 1, 0, 0, 1, 0, 0, 0, 1, 0, 1, 0, 0, 1, 1, 1, 1, 0, 1, 0, 0, 1, 1, 1, 1, 0, 0, 1, 1, 0, 1, 0, 0, 0, 0, 0, 0, 0, 0, 0, 0, 1, 1, 1, 0, 0, 0, 0, 0, 0, 0, 1, 1, 1, 0, 0, 0, 1, 0, 0, 0, 1, 0, 1, 0, 0, 1, 1, 0, 0, 0, 1, 0, 0, 0, 1, 0, 1, 0, 0, 1, 0, 1, 1, 1, 1, 0, 0, 0, 0, 0, 0, 1, 1, 0, 0, 0, 0, 0, 1, 1, 1, 0, 0, 1, 1, 0, 0, 1, 0, 0, 1, 1, 1, 0, 0, 1, 0, 1, 0, 1, 0, 0, 0, 1, 1, 0, 1, 0, 1, 0, 1, 1, 1, 0, 0, 0, 1, 0, 1, 0, 0, 0, 1, 0, 0, 1, 0, 0, 1, 0, 1, 0, 1, 1, 0, 1, 1, 0, 1, 0, 0, 0, 1, 0, 1, 0, 0, 1, 1, 0, 0, 1, 1, 0, 0, 1, 0, 0, 0, 1, 0, 0, 0, 0, 0, 0, 0, 1, 1, 0, 0, 1, 1, 0, 1, 0, 1, 0, 0, 0, 1, 0, 1, 0, 1, 0, 1, 0, 0, 0, 1, 0, 0, 0, 1, 0, 0, 0, 0, 0, 0, 1, 1, 1, 0, 0, 0, 1, 1, 1, 0, 0, 1, 0, 1, 1, 0, 0, 1, 1, 0, 0, 0, 0, 0, 0, 1, 0, 1, 0, 0, 0, 1, 1, 0, 1, 1, 0, 0, 0, 0, 0, 0, 0, 0, 0, 0, 0, 1, 1, 0, 1, 0, 1, 0, 0, 0, 0, 0, 0, 0, 1, 0, 1, 0, 1, 0, 0, 0, 0, 0, 1, 1, 0, 0, 1, 1, 0, 0, 1, 1, 1, 0, 1, 0, 0, 1, 1, 1, 0, 1, 0, 1, 1, 0, 0, 1, 0, 1, 0, 0, 1, 1, 1, 0, 0, 0, 0, 1, 0, 1, 1, 0, 0, 0, 1, 0, 0, 0, 1, 1, 1, 0, 1, 1, 1, 0, 1, 1, 0, 0, 0, 1, 1, 1, 0, 1, 0, 0, 0, 0, 1, 0, 1, 0, 0, 1, 1, 0, 0, 0, 1, 1, 0, 1, 1, 0, 0, 0, 0, 0, 0, 0, 0, 0, 1, 0, 1, 1, 1, 1, 0, 1, 1, 0, 1, 1, 1, 0, 0, 1, 0, 1, 0, 0, 1, 1, 0, 0, 0, 0, 0, 0, 1, 1, 1, 0, 1, 0, 0, 0, 0, 0, 0, 1, 0, 1, 0, 1, 1, 0, 1, 1, 1, 0, 0, 0, 1, 0, 0, 0, 1, 0, 0, 0, 0, 0, 0, 0, 1, 0, 0, 0, 0, 0, 0, 0, 1, 0, 0, 1, 1, 1, 0, 1, 0, 0, 0, 0, 0, 0, 0, 0, 1, 1, 0, 1, 0, 0, 0, 1, 0, 0, 0, 1, 1, 0, 1, 1, 1, 0, 0, 0, 0, 0, 0, 0, 0, 0, 1, 1, 0, 0, 0, 0, 1, 1, 0, 1, 0, 0, 0, 0, 1, 0, 0, 0, 0, 1, 1, 0, 0, 1, 0, 0, 0, 1, 0, 0, 0, 0, 0, 1, 0, 1, 0, 1, 0, 1, 1, 0, 1, 1, 1, 0, 0, 0, 1, 1, 1, 0, 1, 0, 1, 0, 1, 1, 0, 1, 1, 0, 0, 0, 0, 0, 1, 0, 1, 0, 0, 1, 0, 1, 0, 0, 0, 0, 0, 0, 1, 1, 0, 0, 0, 0, 0, 0, 0, 1, 1, 0, 0, 1, 1, 0, 1, 0, 0, 0, 1, 0, 0, 1, 0, 1, 1, 0, 1, 1, 0, 0, 0, 1, 1, 0, 0, 1, 1, 0, 1, 1, 1, 0, 1, 1, 0, 1, 0, 0, 0, 0, 1, 0, 0, 1, 0, 1, 1, 1, 0, 1, 0, 1, 0, 0, 1, 0, 0, 0, 0, 1, 1, 0, 0, 1, 0, 1, 0, 1, 1, 1, 0, 1, 0, 1, 1, 0, 1, 0, 1, 0, 0, 0, 0, 1, 1, 1, 0, 0, 1, 0, 0, 0, 0, 1, 0, 1, 1, 1, 0, 0, 1, 1, 1, 0, 1, 0, 0, 0, 0, 0, 1, 0, 0, 1, 0, 0, 0, 0, 0, 0, 0, 1, 1, 0, 0, 1, 0, 0, 0, 0, 0, 1, 0, 0, 0, 1, 0, 0, 0, 0, 0, 0, 1, 0, 0, 0, 1, 0, 0, 1, 0, 0, 0, 0, 1, 1, 0, 1, 1, 1, 0, 1, 1, 1, 0, 0, 0, 0, 0, 0, 1, 0, 1, 1, 1, 1, 0, 1, 1, 1, 0, 0, 1, 1, 1, 0, 0, 0, 1, 0, 1, 1, 0, 0, 0, 1, 0, 1, 1, 0, 1, 0, 0, 0, 0, 0, 0, 0, 1, 0, 0, 0, 0, 0, 0, 1, 1, 0, 0, 1, 0, 0, 0, 0, 1, 1, 1, 0, 1, 0, 1, 0, 1, 0, 1, 1, 1, 1, 0, 0, 1, 0, 0, 1, 1, 1, 0, 1, 0, 1, 0, 1, 0, 0, 0, 1, 1, 1, 0, 1, 1, 0, 0, 0, 1, 0, 1, 0, 0, 1, 0, 1, 1, 1, 1, 0, 0, 1, 1, 0, 0, 1, 0, 0, 0, 0, 1, 1, 0, 0, 0, 1, 0, 0, 1, 1, 0, 0, 1, 0, 1, 0, 0, 1, 1, 0, 0, 0, 0, 1, 0, 1, 0, 0, 1, 0, 0, 1, 0, 0, 1, 1, 0, 0, 1, 0, 0, 1, 0, 1, 0, 1, 1, 0, 0, 1, 1, 1, 0, 0, 1, 1, 0, 0, 0, 1, 1, 0, 1, 1, 1, 0, 0, 0, 1, 0, 1, 0, 1, 1, 1, 1, 0, 1, 0, 1, 0, 0, 0, 0, 0, 1, 1, 0, 1, 1, 0, 0, 1, 0, 1, 1, 0, 1, 0, 0, 0, 0, 0, 0, 1, 0, 0, 0, 0, 0, 0, 0, 0, 1, 0, 1, 0, 0, 0, 0, 1, 0, 0, 1, 0, 1, 0, 1, 0, 1, 0, 0, 0, 0, 0, 0, 0, 0, 0, 0, 1, 0, 0, 1, 0, 0, 1, 0, 1, 0, 0, 0, 0, 1, 0, 0, 1, 1, 0, 0, 0, 1, 1, 1, 0, 1, 1, 1, 1, 0, 1, 0, 1, 0, 0, 1, 0, 0, 0, 0, 0, 0, 0, 1, 1, 1, 1, 1, 1, 0, 0, 0, 0, 1, 1, 1, 0, 1, 1, 1, 0, 0, 1, 0, 1, 0, 1, 0, 1, 0, 0, 0, 1, 1, 0, 0, 0, 0, 0, 0, 0, 0, 0, 0, 0, 1, 0, 1, 0, 1, 1, 0, 1, 0, 0, 0, 1, 0, 0, 1, 1, 1, 1, 1, 0, 0, 1, 0, 1, 0, 0, 0, 0, 0, 0, 1, 1, 0, 0, 1, 0, 1, 0, 0, 0, 1, 1, 1, 0, 1, 1, 1, 1, 0, 1, 0, 1, 0, 1, 0, 0, 1, 1, 0, 1, 1, 0, 0, 1, 0, 0, 0, 0, 0, 1, 1, 0, 0, 1, 1, 0, 1, 1, 1, 1, 1, 1, 0, 0, 0, 1, 0, 0, 1, 1, 1, 0, 1, 0, 0, 0, 1, 0, 1, 0, 0, 1, 0, 0, 0, 1, 1, 0, 0, 1, 0, 0, 1, 0, 1, 1, 1, 0, 1, 1, 0, 1, 0, 0, 1, 0, 1, 1, 0, 1, 1, 0, 0, 0, 0, 0, 1, 0, 0, 0, 0, 0, 0, 1, 0, 1, 1, 0, 0, 0, 1, 0, 0, 0, 1, 0, 0, 1, 0, 1, 0, 1, 0, 0, 1, 0, 1, 1, 0, 0, 1, 0, 1, 0, 1, 0, 0, 1, 1, 0, 1, 1, 1, 1, 0, 0, 1, 1, 1, 1, 0, 1, 1, 1, 0, 0, 0, 0, 0, 0, 0, 0, 1, 0, 0, 0, 1, 0, 0, 1, 1, 1, 0, 1, 1, 0, 0, 1, 0, 1, 1, 1, 1, 1, 0, 1, 1, 0, 0, 0, 0, 0, 1, 0, 1, 0, 1, 1, 0, 0, 0, 0, 0, 1, 1, 0, 1, 0, 0, 0, 1, 0, 1, 0, 1, 0, 0, 1, 1, 0, 1, 0, 1, 0, 1, 1, 0, 0, 0, 0, 1, 0, 1, 0, 1, 0, 1, 0, 1, 0, 0, 0, 1, 1, 1, 1, 0, 0, 0, 0, 1, 1, 0, 1, 1, 1, 1, 0, 0, 1, 1, 1, 1, 0, 0, 1, 0, 1, 1, 1, 1, 1, 1, 0, 0, 1, 0, 0, 1, 0, 1, 1, 1, 0, 0, 0, 1, 1, 1, 1, 0, 0, 0, 0, 0, 1, 0, 0, 0, 0, 1, 0, 0, 1, 0, 0, 1, 1, 0, 1, 0, 0, 1, 1, 0, 0, 1, 0, 0, 0, 1, 1, 0, 1, 0, 1, 0, 1, 1, 0, 1, 1, 1, 0, 0, 1, 0, 0, 0, 0, 0, 0, 1, 1, 1, 1, 0, 1, 1, 0, 0, 1, 0, 1, 1, 0, 0, 0, 0, 0, 0, 0, 1, 0, 1, 1, 0, 0, 0, 0, 0, 0, 0, 0, 0, 1, 0, 0, 0, 0, 0, 0, 0, 0, 1, 0, 0, 0, 0, 0, 0, 0, 0, 0, 0, 1, 1, 0, 1, 1, 1, 1, 1, 1, 1, 1, 0, 1, 1, 1, 1, 0, 0, 1, 0, 0, 0, 0, 0, 1, 1, 1, 1, 0, 1, 0, 1, 0, 0, 0, 0, 0, 0, 1, 1, 0, 0, 0, 1, 0, 0, 0, 1, 0, 1, 0, 0, 1, 0, 1, 1, 1, 0, 0, 0, 1, 1, 0, 0, 0, 1, 1, 0, 0, 0, 0, 1, 0, 1, 1, 0, 0, 1, 0, 0, 0, 0, 1, 0, 1, 0, 1, 0, 0, 1, 0, 0, 0, 0, 1, 0, 0, 1, 0, 0, 1, 0, 1, 0, 1, 1, 0, 0, 1, 0, 1, 0, 1, 0, 0, 1, 0, 0, 1, 1, 1, 1, 1, 0, 1, 0, 0, 0, 0, 0, 0, 1, 1, 1, 0, 0, 1, 0, 1, 1, 1, 0, 1, 0, 1, 1, 0, 0, 1, 0, 1, 1, 0, 0, 1, 1, 0, 0, 1, 0, 0, 1, 0, 0, 1, 0, 0, 1, 1, 0, 0, 0, 0, 0, 0, 1, 0, 0, 0, 1, 1, 0, 0, 1, 0, 1, 0, 1, 1, 1, 0, 0, 0, 1, 0, 1, 0, 1, 1, 0, 0, 0, 0, 0, 0, 0, 1, 1, 1, 1, 1, 0, 0, 0, 1, 0, 1, 0, 0, 0, 0, 1, 1, 0, 0, 0, 0, 0, 0, 0, 0, 0, 0, 0, 0, 1, 0, 0, 0, 1, 0, 0, 0, 0, 1, 1, 1, 1, 0, 1, 0, 0, 0, 0, 1, 1, 0, 1, 0, 0, 0, 0, 0, 0, 0, 1, 1, 0, 1, 0, 1, 0, 1, 0, 1, 0, 0, 0, 1, 0, 1, 0, 0, 1, 0, 1, 0, 1, 1, 0, 1, 0, 1, 1, 0, 1, 1, 0, 0, 1, 0, 0, 0, 1, 0, 0, 1, 1, 0, 0, 0, 1, 1, 1, 1, 1, 0, 0, 0, 1, 1, 0, 1, 0, 0, 0, 1, 1, 0, 1, 1, 0, 0, 1, 1, 0, 1, 1, 0, 1, 0, 1, 0, 1, 1, 0, 0, 0, 0, 0, 0, 1, 0, 1, 0, 0, 1, 0, 0, 1, 0, 1, 1, 0, 0, 0, 0, 0, 0, 0, 1, 1, 1, 0, 0, 0, 0, 0, 1, 0, 0, 1, 0, 0, 0, 1, 1, 0, 1, 1, 0, 0, 1, 0, 1, 0, 0, 0, 0, 1, 0, 1, 0, 1, 1, 0, 1, 0, 0, 1, 0, 0, 0, 0, 1, 1, 1, 0, 1, 1, 0, 0, 1, 0, 1, 0, 1, 1, 0, 0, 1, 0, 0, 0, 0, 1, 0, 0, 0, 0, 0, 1, 1, 0, 0, 1, 0, 0, 0, 0, 0, 0, 0, 1, 1, 1, 0, 0, 0, 0, 0, 0, 0, 1, 0, 0, 0, 1, 1, 0, 1, 0, 0, 0, 0, 1, 1, 0, 1, 1, 1, 1, 0, 0, 1, 0, 1, 1, 0, 1, 0, 0, 1, 1, 0, 0, 0, 1, 0, 0, 0, 0, 1, 1, 1, 1, 0, 0, 1, 1, 1, 0, 1, 0, 1, 1, 1, 0, 1, 1, 1, 0, 1, 0, 1, 1, 0, 0, 0, 1, 0, 1, 1, 1, 1, 1, 1, 0, 1, 1, 0, 0, 1, 1, 0, 0, 0, 0, 1, 0, 1, 1, 0, 1, 0, 0, 0, 0, 0, 1, 1, 0, 0, 0, 0, 0, 0, 0, 0, 1, 1, 1, 0, 1, 1, 0, 0, 0, 0, 0, 1, 0, 1, 1, 0, 1, 1, 0, 1, 1, 0, 1, 0, 1, 0, 1, 0, 1, 1, 1, 1, 0, 0, 1, 0, 0, 0, 1, 1, 1, 0, 0, 0, 1, 0, 0, 0, 1, 0, 0, 0, 0, 1, 1, 0, 0, 0, 0, 0, 0, 1, 1, 0, 0, 0, 0, 0, 1, 1, 1, 0, 0, 0, 1, 0, 1, 1, 0, 0, 1, 1, 0, 0, 0, 1, 1, 0, 1, 0, 0, 0, 1, 0, 0, 1, 1, 1, 0, 1, 0, 0, 0, 1, 0, 0, 1, 1, 1, 0, 0, 0, 0, 1, 1, 0, 1, 1, 0, 1, 1, 1, 0, 0, 0, 0, 1, 0, 1, 1, 1, 1, 0, 1, 0, 1, 0, 0, 0, 0, 1, 0, 1, 0, 1, 1, 1, 1, 1, 0, 0, 1, 1, 0, 1, 0, 1, 1, 1, 1, 0, 1, 1, 1, 0, 0, 0, 1, 1, 0, 1, 0, 1, 1, 1, 0, 0, 1, 1, 0, 1, 0, 0, 0, 0, 0, 0, 1, 0, 0, 0, 1, 0, 1, 0, 1, 0, 1, 0, 1, 0, 1, 0, 1, 0, 0, 1, 0, 0, 0, 0, 0, 1, 0, 1, 0, 0, 0, 0, 1, 0, 0, 0, 0, 0, 1, 0, 0, 0, 0, 1, 0, 1, 1, 1, 1, 1, 0, 0, 0, 1, 0, 0, 0, 0, 1, 0, 0, 0, 0, 0, 1, 0, 1, 1, 0, 0, 1, 0, 0, 0, 0, 0, 0, 1, 0, 0, 1, 0, 0, 1, 1, 0, 0, 1, 0, 0, 1, 0, 1, 1, 1, 1, 1, 0, 1, 1, 1, 1, 1, 0, 0, 0, 1, 0, 0, 1, 0, 1, 0, 0, 1, 0, 1, 0, 0, 0, 0, 0, 1, 0, 0, 1, 1, 0, 1, 1, 1, 1, 0, 1, 1, 1, 0, 0, 0, 1, 1, 0, 1, 0, 0, 0, 1, 0, 1, 1, 1, 0, 1, 1, 0, 1, 0, 1, 0, 0, 0, 1, 0, 0, 0, 1, 0, 0, 1, 0, 1, 1, 0, 0, 1, 1, 0, 0, 0, 1, 0, 0, 1, 1, 1, 1, 0, 0, 1, 1, 0, 1, 0, 0, 1, 0, 0, 1, 0, 1, 1, 0, 0, 0, 0, 0, 1, 1, 0, 1, 1, 1, 1, 1, 0, 0, 1, 0, 0, 0, 1, 1, 0, 0, 0, 0, 1, 1, 1, 0, 1, 1, 0, 1, 0, 0, 1, 1, 1, 1, 1, 1, 0, 0, 0, 0, 0, 0, 0, 0, 1, 1, 1, 1, 1, 0, 0, 1, 0, 1, 0, 0, 0, 1, 0, 1, 0, 1, 1, 0, 0, 0, 1, 0, 0, 1, 0, 1, 0, 1, 1, 0, 0, 0, 1, 0, 0, 0, 0, 0, 0, 0, 1, 1, 0, 0, 0, 1, 1, 1, 1, 0, 1, 1, 1, 1, 1, 0, 0, 1, 0, 0, 0, 0, 0, 0, 0, 0, 1, 1, 0, 0, 1, 0, 1, 1, 0, 1, 0, 1, 0, 0, 1, 0, 0, 0, 0, 0, 0, 0, 0, 0, 1, 1, 1, 0, 0, 1, 0, 0, 1, 0, 0, 0, 0, 0, 1, 0, 0, 1, 0, 0, 0, 0, 0, 0, 0, 1, 0, 1, 1, 0, 0, 0, 0, 1, 0, 1, 0, 0, 0, 0, 0, 0, 0, 1, 1, 0, 0, 1, 0, 1, 0, 0, 0, 1, 1, 0, 1, 0, 0, 0, 1, 1, 1, 0, 1, 0, 0, 1, 1, 0, 1, 1, 0, 1, 0, 0, 0, 0, 1, 1, 1, 0, 0, 0, 1, 0, 0, 0, 0, 1, 1, 1, 1, 1, 1, 1, 1, 0, 0, 0, 0, 1, 0, 0, 1, 1, 1, 1, 0, 1, 0, 1, 0, 0, 1, 0, 0, 0, 0, 1, 0, 0, 1, 0, 1, 0, 1, 1, 1, 1, 1, 1, 0, 0, 0, 1, 1, 0, 0, 1, 1, 0, 1, 1, 1, 0, 1, 0, 0, 1, 1, 1, 0, 0, 0, 0, 0, 1, 1, 1, 1, 0, 1, 1, 0, 0, 1, 0, 0, 0, 0, 0, 1, 0, 0, 0, 0, 1, 0, 1, 0, 1, 0, 1, 0, 1, 0, 0, 1, 0, 1, 1, 1, 1, 1, 1, 0, 0, 0, 0, 0, 0, 0, 0, 1, 0, 0, 0, 0, 0, 1, 0, 0, 0, 1, 1, 1, 1, 1, 1, 0, 0, 1, 0, 0, 0, 1, 0, 1, 0, 0, 0, 1, 0, 0, 0, 0, 1, 1, 0, 0, 1, 0, 1, 1, 0, 1, 0, 0, 1, 1, 0, 0, 1, 0, 0, 1, 0, 0, 1, 0, 1, 0, 0, 0, 0, 1, 0, 1, 0, 1, 0, 1, 0, 1, 0, 1, 1, 0, 0, 1, 1, 0, 0, 0, 0, 1, 0, 0, 1, 1, 1, 1, 0, 1, 0, 0, 1, 1, 0, 1, 0, 0, 0, 0, 0, 0, 0, 1, 1, 1, 1, 1, 0, 1, 1, 0, 1, 0, 1, 0, 1, 0, 1, 1, 1, 1, 0, 1, 1, 1, 0, 1, 1, 1, 0, 0, 1, 1, 1, 1, 1, 1, 1, 1, 1, 0, 0, 1, 1, 0, 0, 1, 0, 1, 0, 0, 1, 1, 0, 0, 0, 0, 0, 0, 0, 0, 0, 0, 0, 0, 1, 1, 1, 1, 1, 1, 1, 0, 0, 1, 1, 0, 1, 0, 0, 0, 0, 1, 1, 0, 0, 0, 0, 0, 1, 0, 0, 0, 1, 1, 0, 1, 0, 1, 0, 0, 1, 0, 0, 0, 0, 0, 1, 0, 1, 0, 0, 0, 0, 0, 1, 0, 0, 1, 0, 1, 0, 1, 0, 0, 0, 1, 1, 0, 0, 1, 1, 1, 0, 0, 0, 0, 1, 0, 1, 0, 1, 1, 0, 1, 0, 0, 0, 0, 0, 1, 1, 1, 0, 1, 0, 1, 1, 1, 1, 0, 1, 0, 1, 0, 0, 0, 1, 1, 1, 0, 1, 1, 0, 0, 0, 1, 0, 0, 0, 0, 0, 1, 1, 1, 0, 1, 1, 0, 1, 0, 0, 0, 1, 1, 0, 1, 1, 0, 0, 1, 0, 0, 0, 1, 1, 0, 0, 1, 0, 1, 0, 0, 1, 1, 1, 1, 1, 1, 1, 0, 0, 0, 1, 0, 1, 1, 0, 0, 0, 0, 1, 0, 1, 0, 0, 1, 0, 1, 1, 1, 0, 0, 1, 0, 1, 1, 1, 1, 0, 1, 0, 0, 0, 1, 1, 1, 0, 1, 0, 1, 0, 1, 0, 1, 1, 1, 0, 1, 0, 0, 0, 0, 1, 0, 0, 1, 1, 0, 1, 0, 1, 1, 0, 0, 1, 0, 0, 1, 0, 1, 1, 0, 1, 1, 0, 0, 0, 0, 1, 1, 1, 0, 1, 0, 1, 1, 1, 0, 1, 1, 0, 0, 0, 0, 1, 0, 0, 0, 1, 1, 0, 1, 1, 0, 1, 0, 1, 0, 0, 1, 1, 1, 1, 0, 0, 0, 0, 0, 0, 0, 1, 0, 1, 0, 0, 0, 0, 0, 1, 0, 1, 1, 0, 0, 0, 1, 0, 1, 1, 0, 0, 0, 0, 0, 0, 0, 1, 0, 1, 0, 0, 1, 0, 1, 0, 1, 0, 0, 1, 1, 1, 1, 0, 0, 0, 0, 1, 1, 0, 0, 0, 0, 1, 1, 0, 0, 1, 0, 1, 0, 1, 0, 0, 1, 1, 1, 0, 1, 0, 1, 1, 0, 0, 1, 1, 1, 1, 0, 0, 1, 1, 0, 0, 0, 0, 0, 1, 0, 1, 0, 1, 0, 0, 0, 0, 1, 1, 0, 0, 0, 0, 1, 1, 1, 0, 0, 0, 0, 0, 1, 1, 0, 1, 0, 0, 0, 0, 0, 1, 0, 0, 0, 0, 0, 1, 0, 0, 1, 0, 0, 0, 0, 1, 1, 1, 0, 0, 0, 1, 1, 1, 0, 0, 0, 1, 1, 0, 0, 0, 0, 0, 1, 1, 0, 1, 1, 0, 0, 1, 1, 0, 1, 1, 0, 1, 1, 0, 1, 0, 0, 0, 1, 1, 0, 0, 0, 0, 1, 0, 0, 1, 0, 0, 1, 0, 0, 0, 1, 1, 1, 1, 0, 0, 1, 1, 1, 1, 1, 1, 0, 1, 0, 0, 0, 0, 0, 0, 0, 0, 0, 1, 1, 0, 0, 1, 0, 1, 0, 0, 1, 0, 1, 0, 1, 0, 0, 0, 0, 1, 1, 0, 0, 0, 1, 0, 0, 0, 0, 0, 0, 1, 0, 0, 1, 0, 1, 1, 1, 1, 1, 0, 0, 0, 1, 1, 0, 1, 1, 1, 0, 1, 0, 0, 1, 1, 0, 1, 0, 0, 0, 1, 0, 0, 0, 0, 0, 0, 0, 1, 0, 0, 0, 0, 0, 0, 1, 1, 0, 1, 1, 0, 0, 1, 0, 0, 0, 0, 0, 1, 0, 0, 0, 0, 0, 0, 0, 0, 0, 0, 0, 1, 1, 0, 0, 0, 1, 0, 0, 1, 0, 1, 0, 1, 1, 0, 0, 1, 1, 0, 1, 1, 0, 0, 0, 0, 0, 1, 0, 0, 0, 1, 1, 1, 1, 0, 0, 0, 1, 0, 1, 1, 1, 1, 0, 0, 0, 1, 0, 0, 1, 1, 0, 1, 1, 0, 1, 1, 1, 1, 0, 1, 0, 0, 0, 1, 0, 0, 1, 1, 1, 0, 0, 0, 0, 1, 1, 1, 0, 1, 1, 0, 0, 0, 1, 0, 0, 0, 0, 1, 0, 1, 1, 0, 0, 0, 1, 0, 1, 0, 1, 1, 0, 0, 0, 0, 0, 0, 0, 1, 0, 0, 0, 1, 0, 0, 0, 1, 0, 0, 0, 0, 1, 0, 1, 0, 0, 0, 0, 1, 0, 0, 0, 0, 0, 0, 0, 0, 1, 0, 1, 0, 0, 0, 0, 0, 0, 0, 0, 0, 1, 0, 1, 0, 0, 0, 1, 1, 1, 0, 0, 1, 0, 0, 0, 0, 0, 1, 0, 1, 0, 0, 0, 1, 0, 0, 0, 1, 0, 0, 1, 1, 1, 0, 0, 0, 0, 0, 0, 0, 1, 0, 1, 1, 0, 1, 0, 1, 0, 1, 1, 0, 0, 1, 0, 0, 1, 0, 0, 0, 0, 0, 0, 0, 1, 1, 1, 1, 0, 1, 0, 0, 0, 1, 0, 1, 0, 1, 0, 0, 1, 1, 0, 1, 1, 0, 1, 0, 1, 0, 0, 0, 1, 1, 1, 0, 0, 0, 1, 0, 1, 0, 0, 0, 0, 0, 0, 0, 1, 0, 0, 1, 0, 0, 0, 0, 1, 1, 1, 0, 0, 1, 0, 1, 0, 0, 0, 1, 1, 0, 0, 0, 0, 1, 1, 0, 0, 1, 1, 0, 1, 0, 1, 0, 1, 0, 0, 0, 1, 0, 1, 1, 0, 0, 0, 1, 0, 1, 0, 1, 1, 1, 1, 0, 0, 0, 0, 0, 1, 0, 0, 0, 0, 0, 0, 0, 0, 0, 0, 0, 0, 0, 1, 1, 1, 0, 0, 1, 0, 1, 1, 0, 1, 0, 0, 1, 1, 1, 1, 1, 0, 1, 0, 1, 0, 1, 0, 0, 1, 0, 0, 0, 1, 1, 0, 0, 1, 1, 1, 0, 0, 0, 1, 0, 1, 0, 1, 1, 1, 1, 0, 0, 1, 0, 1, 0, 0, 0, 1, 0, 0, 1, 0, 0, 0, 1, 0, 0, 0, 1, 0, 0, 1, 1, 1, 1, 0, 0, 1, 1, 0, 0, 0, 0, 0, 1, 0, 0, 1, 1, 0, 1, 1, 0, 0, 0, 0, 0, 0, 0, 1, 0, 0, 0, 1, 0, 0, 1, 0, 1, 1, 0, 1, 1, 0, 1, 1, 1, 0, 0, 0, 0, 1, 0, 0, 1, 0, 1, 1, 0, 0, 0, 1, 1, 0, 0, 1, 0, 1, 0, 0, 0, 0, 0, 0, 0, 1, 1, 1, 0, 0, 0, 0, 1, 0, 0, 1, 0, 1, 0, 0, 0, 1, 1, 0, 0, 0, 0, 1, 0, 1, 1, 0, 0, 0, 0, 0, 0, 1, 1, 1, 1, 0, 1, 0, 1, 0, 1, 1, 0, 0, 0, 1, 1, 1, 1, 1, 0, 0, 1, 0, 0, 1, 0, 1, 1, 1, 1, 1, 1, 1, 0, 0, 1, 0, 0, 1, 0, 1, 0, 0, 0, 0, 0, 1, 1, 1, 0, 0, 0, 0, 0, 0, 0, 1, 1, 0, 0, 0, 0, 0, 0, 0, 0, 0, 1, 0, 0, 1, 0, 0, 1, 0, 1, 1, 0, 1, 1, 0, 1, 0, 1, 0, 0, 0, 0, 0, 1, 1, 1, 1, 0, 0, 0, 0, 0, 0, 0, 0, 1, 1, 0, 0, 1, 0, 1, 1, 0, 0, 1, 1, 1, 0, 0, 0, 1, 1, 0, 0, 0, 1, 1, 0, 0, 1, 0, 0, 0, 0, 1, 1, 1, 1, 0, 0, 0, 0, 0, 0, 0, 0, 0, 0, 0, 0, 1, 0, 1, 0, 0, 0, 1, 0, 0, 1, 0, 0, 0, 1, 0, 0, 0, 0, 0, 0, 0, 0, 0, 1, 1, 1, 1, 0, 0, 1, 1, 0, 0, 1, 1, 1, 1, 0, 0, 0, 1, 1, 0, 0, 1, 0, 1, 1, 1, 0, 0, 0, 0, 1, 1, 0, 0, 0, 1, 0, 1, 0, 1, 0, 0, 0, 0, 0, 0, 1, 0, 1, 0, 0, 0, 0, 1, 0, 0, 1, 0, 1, 1, 1, 0, 0, 0, 1, 0, 1, 1, 0, 1, 0, 0, 0, 0, 0, 1, 1, 0, 0, 0, 0, 0, 0, 0, 1, 1, 0, 0, 0, 1, 0, 0, 1, 0, 1, 0, 0, 1, 1, 0, 0, 0, 0, 1, 0, 0, 0, 1, 1, 0, 1, 0, 1, 0, 1, 1, 0, 1, 1, 0, 0, 0, 0, 0, 0, 1, 0, 0, 0, 1, 0, 1, 0, 0, 1, 1, 1, 0, 0, 1, 0, 0, 1, 0, 0, 0, 0, 0, 0, 0, 0, 0, 0, 1, 1, 0, 0, 1, 1, 0, 1, 1, 0, 0, 1, 0, 1, 0, 1, 0, 0, 1, 0, 1, 1, 0, 0, 0, 1, 0, 0, 1, 1, 1, 1, 0, 1, 1, 0, 1, 0, 1, 1, 1, 1, 1, 1, 1, 0, 1, 1, 1, 0, 1, 1, 1, 0, 1, 0, 1, 1, 0, 1, 1, 0, 1, 0, 0, 0, 1, 0, 1, 1, 0, 0, 0, 0, 0, 0, 0, 1, 0, 0, 0, 0, 1, 0, 0, 0, 1, 0, 1, 0, 0, 0, 1, 0, 1, 0, 0, 1, 0, 0, 1, 0, 1, 1, 0, 0, 1, 0, 0, 0, 1, 1, 0, 0, 1, 1, 0, 1, 0, 0, 1, 1, 1, 0, 1, 0, 0, 0, 0, 0, 0, 0, 1, 0, 0, 1, 0, 1, 1, 0, 1, 0, 0, 1, 0, 1, 0, 0, 1, 0, 0, 0, 1, 0, 1, 1, 1, 1, 0, 0, 1, 0, 1, 0, 0, 0, 0, 1, 1, 0, 0, 0, 0, 1, 0, 0, 0, 1]\n",
            "[1. 1. 0. ... 0. 0. 1.]\n"
          ],
          "name": "stdout"
        }
      ]
    },
    {
      "cell_type": "code",
      "metadata": {
        "trusted": true,
        "id": "yhYj5y-Ue2Gr",
        "colab": {
          "base_uri": "https://localhost:8080/",
          "height": 283
        },
        "outputId": "9439c725-b3fe-4985-aaf2-b62d58624734"
      },
      "source": [
        "from sklearn.metrics import classification_report,confusion_matrix, accuracy_score\n",
        "pred = model.predict(X_train)\n",
        "#pred  = [1 if y>=0.5 else 0 for y in pred] #Threshold\n",
        "pred  = [1 if y>=0.5 else 0 for y in pred] #Threshold\n",
        "print(classification_report(y_train ,pred ))\n",
        "print('Confusion Matrix: \\n',confusion_matrix(y_train,pred))\n",
        "print()\n",
        "print('Accuracy: ', accuracy_score(y_train,pred))\n",
        "print()"
      ],
      "execution_count": null,
      "outputs": [
        {
          "output_type": "stream",
          "text": [
            "              precision    recall  f1-score   support\n",
            "\n",
            "         0.0       0.82      0.92      0.87     11211\n",
            "         1.0       0.91      0.80      0.85     11190\n",
            "\n",
            "    accuracy                           0.86     22401\n",
            "   macro avg       0.87      0.86      0.86     22401\n",
            "weighted avg       0.87      0.86      0.86     22401\n",
            "\n",
            "Confusion Matrix: \n",
            " [[10341   870]\n",
            " [ 2262  8928]]\n",
            "\n",
            "Accuracy:  0.8601848131779831\n",
            "\n"
          ],
          "name": "stdout"
        }
      ]
    },
    {
      "cell_type": "code",
      "metadata": {
        "trusted": true,
        "id": "r38ubOnze2Gu",
        "colab": {
          "base_uri": "https://localhost:8080/",
          "height": 283
        },
        "outputId": "ce950a4a-5422-4da7-a2c2-62ca7af25689"
      },
      "source": [
        "from sklearn.metrics import classification_report,confusion_matrix, accuracy_score\n",
        "pred = model.predict(X_test)\n",
        "#pred  = [1 if y>=0.5 else 0 for y in pred] #Threshold\n",
        "pred  = [1 if y>=0.5 else 0 for y in pred] #Threshold\n",
        "print(classification_report(y_test ,pred ))\n",
        "print('Confusion Matrix: \\n',confusion_matrix(y_test,pred))\n",
        "print()\n",
        "print('Accuracy: ', accuracy_score(y_test,pred))\n",
        "print()"
      ],
      "execution_count": null,
      "outputs": [
        {
          "output_type": "stream",
          "text": [
            "              precision    recall  f1-score   support\n",
            "\n",
            "         0.0       0.82      0.92      0.86      2790\n",
            "         1.0       0.91      0.80      0.85      2811\n",
            "\n",
            "    accuracy                           0.86      5601\n",
            "   macro avg       0.86      0.86      0.86      5601\n",
            "weighted avg       0.86      0.86      0.86      5601\n",
            "\n",
            "Confusion Matrix: \n",
            " [[2557  233]\n",
            " [ 569 2242]]\n",
            "\n",
            "Accuracy:  0.8568112836993395\n",
            "\n"
          ],
          "name": "stdout"
        }
      ]
    },
    {
      "cell_type": "code",
      "metadata": {
        "trusted": true,
        "id": "-6jQ-tMje2Gy",
        "colab": {
          "base_uri": "https://localhost:8080/",
          "height": 52
        },
        "outputId": "23751bf2-3c3c-4fcf-cb3f-50281c2a8c22"
      },
      "source": [
        "model.evaluate(X_test, y_test)[1]"
      ],
      "execution_count": null,
      "outputs": [
        {
          "output_type": "stream",
          "text": [
            "176/176 [==============================] - 0s 904us/step - loss: 0.3450 - accuracy: 0.8568\n"
          ],
          "name": "stdout"
        },
        {
          "output_type": "execute_result",
          "data": {
            "text/plain": [
              "0.8568112850189209"
            ]
          },
          "metadata": {
            "tags": []
          },
          "execution_count": 33
        }
      ]
    },
    {
      "cell_type": "code",
      "metadata": {
        "trusted": true,
        "id": "jv-BmnGfe2G2"
      },
      "source": [
        "# ann cros vaidacion\n",
        "# https://medium.com/datadriveninvestor/k-fold-and-dropout-in-artificial-neural-network-ea054a89fb4e"
      ],
      "execution_count": null,
      "outputs": []
    },
    {
      "cell_type": "code",
      "metadata": {
        "trusted": true,
        "id": "t7O_7d1ke2G4"
      },
      "source": [
        "#builing the neural net\n",
        "from keras import Sequential\n",
        "from keras.layers import Dense\n",
        "from keras.layers import Dropout\n",
        "from keras.wrappers.scikit_learn import KerasClassifier\n",
        "from sklearn.model_selection import cross_val_score"
      ],
      "execution_count": null,
      "outputs": []
    },
    {
      "cell_type": "code",
      "metadata": {
        "trusted": true,
        "id": "iw7R6pW1e2G7"
      },
      "source": [
        "#accuracies =  cross_val_score(estimator=classifier, X= X, y=output_category,cv=10, n_jobs=-1)\n",
        "#accuracies\n",
        "\n",
        "#accuracies =  cross_val_score(estimator=model, X= X_test, y=pred,cv=5, n_jobs=-1)\n",
        "#accuracies"
      ],
      "execution_count": null,
      "outputs": []
    },
    {
      "cell_type": "code",
      "metadata": {
        "trusted": true,
        "id": "2-cU-Tdue2G-"
      },
      "source": [
        "# https://medium.com/analytics-vidhya/artificial-neural-network-ann-with-keras-simplified-use-case-if-student-pass-the-exam-code-949ddb2a9c91"
      ],
      "execution_count": null,
      "outputs": []
    },
    {
      "cell_type": "code",
      "metadata": {
        "trusted": true,
        "id": "Z53Rg8zRe2HB"
      },
      "source": [
        "from sklearn.model_selection import cross_validate\n",
        "from sklearn.model_selection import cross_val_score\n",
        "def kera_classifier():\n",
        "    cf = Sequential()\n",
        "    cf.add(Dense(units = 12,  activation = 'relu', input_dim = 24))\n",
        "    #cf.add(Dense(units = 12,  activation = 'relu', input_dim = 51))\n",
        "    cf.add(Dense(units = 15,  activation = 'relu'))\n",
        "    cf.add(Dense(units = 1, activation = 'sigmoid'))\n",
        "    cf.compile(optimizer = 'adam', loss = 'binary_crossentropy', metrics = ['accuracy'])\n",
        "    return cf\n",
        "start7 = time.time()\n",
        "cf = KerasClassifier(build_fn = kera_classifier, batch_size = 10, epochs = 10)\n",
        "#cf = KerasClassifier(build_fn = kera_classifier, batch_size = 57, epochs = 100)\n",
        "#acuracies = cross_val_score(estimator = cf, X = X_train, y = y_train, cv = 10, n_jobs = -1)\n",
        "#accuracies = cross_validate(cf, X = X_train, y = y_train, cv = 10, n_jobs = -1,scoring ='accuracy')\n",
        "accuracies = cross_val_score(cf, X = X_train, y = y_train, cv = 10, n_jobs = -1,scoring ='accuracy')\n",
        "#ean = accuracies.mean()\n",
        "#iance = accuracies.std()\n",
        "#\n",
        "prec = cross_val_score(cf, X = X_train, y = y_train, cv = 10, n_jobs = -1 ,scoring ='precision_macro')\n",
        "f1 = cross_val_score(cf, X = X_train, y = y_train, cv = 10, n_jobs = -1 ,scoring ='f1')\n",
        "recal = cross_val_score(cf, X = X_train, y = y_train, cv = 10, n_jobs = -1 ,scoring ='recall')\n",
        "#ean1= recal.mean()\n",
        "#ariance1= recal.std()"
      ],
      "execution_count": null,
      "outputs": []
    },
    {
      "cell_type": "code",
      "metadata": {
        "trusted": true,
        "id": "p2UTKd_Ue2HE",
        "colab": {
          "base_uri": "https://localhost:8080/",
          "height": 496
        },
        "outputId": "97ced13f-ba26-4817-bee9-873944cc0fa3"
      },
      "source": [
        "#print(f\"accuracy:\")\n",
        "#print (accuracies)\n",
        "#print (mean)\n",
        "#print( variance)\n",
        "#print(f\"recall:\")\n",
        "#print (recal)\n",
        "#print (mean1)\n",
        "#print( variance1)\n",
        "\n",
        "#\n",
        "print(f\"preci:\")\n",
        "print(prec)\n",
        "print(prec.mean())\n",
        "print(prec.std())\n",
        "#print(variance['test_score'])\n",
        "#\n",
        "print(f\"recall:\")\n",
        "print(recal)\n",
        "print(recal.mean())\n",
        "print(recal.std())\n",
        "#print(variance['test_score'])\n",
        "#\n",
        "#\n",
        "print(f\"f1-score:\")\n",
        "print(f1)\n",
        "print(f1.mean())\n",
        "print(f1.std())\n",
        "#print(variance['test_score'])\n",
        "#\n",
        "#\n",
        "print(f\"accuracy:\")\n",
        "print(accuracies)\n",
        "print(\"\\n\")\n",
        "print(accuracies.mean())\n",
        "print(\"\\n\")\n",
        "print(accuracies.std())\n",
        "print(\"\\n\")\n",
        "#print(variance['test_score'])\n",
        "#\n",
        "stop7 = time.time()\n",
        "print(f\"CV Training time: {stop7 - start7}s\")\n",
        "\n",
        "# 200 epochs\n",
        "# 0.9936249911785126\n",
        "# 0.003466360910457571"
      ],
      "execution_count": null,
      "outputs": [
        {
          "output_type": "stream",
          "text": [
            "preci:\n",
            "[0.91797062 0.92028573 0.9113896  0.91047531 0.91091228 0.91365018\n",
            " 0.91178275 0.91476923 0.90475673 0.9086701 ]\n",
            "0.9124662529577628\n",
            "0.004242643318785688\n",
            "recall:\n",
            "[0.80540541 0.79566855 0.80192813 0.79912281 0.79695886 0.80594406\n",
            " 0.79535299 0.79454545 0.78163993 0.79276896]\n",
            "0.7969335143011957\n",
            "0.006661388367289318\n",
            "f1-score:\n",
            "[0.89187843 0.88552013 0.88705768 0.87445887 0.88436725 0.89135683\n",
            " 0.89867841 0.88372093 0.87238285 0.88223749]\n",
            "0.8851658870026796\n",
            "0.007476804866656009\n",
            "accuracy:\n",
            "[0.90316823 0.90223214 0.89598214 0.89508929 0.9        0.91696429\n",
            " 0.89375    0.896875   0.88839286 0.89285714]\n",
            "\n",
            "\n",
            "0.898531108561229\n",
            "\n",
            "\n",
            "0.007456965145834511\n",
            "\n",
            "\n",
            "CV Training time: 709.1969230175018s\n"
          ],
          "name": "stdout"
        }
      ]
    },
    {
      "cell_type": "code",
      "metadata": {
        "trusted": true,
        "id": "mjqKL_qNe2HH"
      },
      "source": [
        "#  Dense(12, activation='relu', input_shape=( 51 ,)),\n",
        "#    Dense(15, activation='relu'),\n",
        "#    Dense(1, activation='sigmoid')"
      ],
      "execution_count": null,
      "outputs": []
    },
    {
      "cell_type": "code",
      "metadata": {
        "id": "zoiBdtmCoiiW",
        "colab": {
          "base_uri": "https://localhost:8080/",
          "height": 1000
        },
        "outputId": "536d42b1-e4c9-4ded-aaf7-a9dc1e5b5db6"
      },
      "source": [
        "from sklearn.model_selection import cross_validate\n",
        "from sklearn.model_selection import cross_val_score\n",
        "\n",
        "from sklearn.metrics import plot_confusion_matrix\n",
        "\n",
        "#hist = model.fit(X_train, y_train,\n",
        "#          batch_size=20, epochs=25, validation_split=0.2)\n",
        "\n",
        "\n",
        "def kera_classifier():\n",
        "    clf = Sequential()\n",
        "    clf.add(Dense(units = 12,  activation = 'relu', input_dim = 24))\n",
        "    #cf.add(Dense(units = 12,  activation = 'relu', input_dim = 51))\n",
        "    clf.add(Dense(units = 15,  activation = 'relu'))\n",
        "    clf.add(Dense(units = 1, activation = 'sigmoid'))\n",
        "    clf.compile(optimizer = 'adam', loss = 'binary_crossentropy', metrics = ['accuracy'])\n",
        "    return clf\n",
        "start7 = time.time()\n",
        "#cf = KerasClassifier(build_fn = kera_classifier, batch_size = 20, epochs = 25)\n",
        "clf = KerasClassifier(build_fn = kera_classifier, batch_size = 10, epochs = 10, validation_split=0.2)\n",
        "\n",
        "# neuronas = 12 + 24 + 15 + 1 = 52\n",
        "\n",
        "#accuracies = cross_val_score(cf, X = X_train, y = y_train, cv = 10, n_jobs = -1,scoring ='accuracy')\n",
        "\n",
        "#\n",
        "#prec = cross_val_score(cf, X = X_train, y = y_train, cv = 10, n_jobs = -1 ,scoring ='precision_macro')\n",
        "#f1 = cross_val_score(cf, X = X_train, y = y_train, cv = 10, n_jobs = -1 ,scoring ='f1')\n",
        "#recal = cross_val_score(cf, X = X_train, y = y_train, cv = 10, n_jobs = -1 ,scoring ='recall')\n",
        "\n",
        "#scores = cross_validate(clf, X, y, cv=10,scoring =['accuracy','f1','recall','precision'],return_train_score=False)\n",
        "scores = cross_validate(clf, X = X_train,  y = y_train, cv=10,scoring =['accuracy','f1','recall','precision'],return_train_score=False)\n",
        " \n",
        "\n",
        "#mejora gh\n",
        "# solo es soportado por clasificadores\n",
        "#plot_confusion_matrix(clf, X_test, y_test, cmap=plt.cm.Blues)  \n",
        "\n",
        "#plt.show()\n",
        "\n",
        "gh4 = scores.get(\"test_accuracy\")\n",
        "\n",
        "print(f\"accuracy:\")\n",
        "print(gh4)\n",
        "print(gh4.mean())\n",
        "\n",
        "gh3 = scores.get(\"test_precision\")\n",
        "\n",
        "print(f\"precision:\")\n",
        "print(gh3)\n",
        "print(gh3.mean())\n",
        "\n",
        "gh = scores.get(\"test_recall\")\n",
        "\n",
        "print(f\"recall:\")\n",
        "print(gh)\n",
        "print(gh.mean())\n",
        "\n",
        "gh2 = scores.get(\"test_f1\")\n",
        "\n",
        "print(f\"f1:\")\n",
        "print(gh2)\n",
        "print(gh2.mean())\n",
        "\n",
        "#CM = confusion_matrix(y_test, y_pred)\n",
        "\n",
        "CM = confusion_matrix(y_test, pred)\n",
        "\n",
        "print(f\"--------\")\n",
        "print(f\"matriz de confusion:\")\n",
        "TN = CM[0][0]\n",
        "FN = CM[1][0]\n",
        "TP = CM[1][1]\n",
        "FP = CM[0][1]\n",
        "print(f\"TN={TN}, FP={FP} \")\n",
        "print(f\"FN={FN}, TP={TP} \")\n",
        "\n",
        "print(f\"--------\")\n",
        "print(f\"matriz de confusion %:\")\n",
        "total1=(TN+TP+FN+FP)\n",
        "\n",
        "print(f\"TN={100*TN/total1}, FP={100*FP/total1} \")\n",
        "print(f\"FN={100*FN/total1}, TP={100*TP/total1} \")\n",
        "\n",
        "print(f\"--------\")\n",
        "acc1=(TN+TP)/(TN+TP+FN+FP)\n",
        "print(f\"accuracy1={acc1}\")\n",
        "\n",
        "print(f\"--------\")\n",
        "re1=(TP)/(TP+FN)\n",
        "print(f\"reca1={re1}\")\n",
        "\n",
        "print(f\"--------\")\n",
        "pre1=(TP)/(TP+FP)\n",
        "print(f\"pre1={pre1}\")\n",
        "\n",
        "print(f\"--------\")\n",
        "f1s1=(2*pre1*re1)/(pre1+re1)\n",
        "print(f\"f1score={f1s1}\")\n",
        "\n",
        "#mejora gh\n",
        "\n",
        "stop7 = time.time()\n",
        "print(f\"CV Training time: {stop7 - start7}s\")\n",
        "\n",
        "# 200 epochs\n",
        "# 0.9936249911785126\n",
        "# 0.003466360910457571"
      ],
      "execution_count": null,
      "outputs": [
        {
          "output_type": "stream",
          "text": [
            "Epoch 1/10\n",
            "1613/1613 [==============================] - 2s 1ms/step - loss: 0.3893 - accuracy: 0.8537 - val_loss: 0.3472 - val_accuracy: 0.8599\n",
            "Epoch 2/10\n",
            "1613/1613 [==============================] - 2s 1ms/step - loss: 0.3295 - accuracy: 0.8695 - val_loss: 0.3323 - val_accuracy: 0.8686\n",
            "Epoch 3/10\n",
            "1613/1613 [==============================] - 2s 1ms/step - loss: 0.3099 - accuracy: 0.8793 - val_loss: 0.3142 - val_accuracy: 0.8857\n",
            "Epoch 4/10\n",
            "1613/1613 [==============================] - 2s 1ms/step - loss: 0.2974 - accuracy: 0.8924 - val_loss: 0.3086 - val_accuracy: 0.8884\n",
            "Epoch 5/10\n",
            "1613/1613 [==============================] - 2s 1ms/step - loss: 0.2905 - accuracy: 0.8950 - val_loss: 0.3024 - val_accuracy: 0.8881\n",
            "Epoch 6/10\n",
            "1613/1613 [==============================] - 2s 1ms/step - loss: 0.2853 - accuracy: 0.8961 - val_loss: 0.2977 - val_accuracy: 0.8891\n",
            "Epoch 7/10\n",
            "1613/1613 [==============================] - 2s 1ms/step - loss: 0.2820 - accuracy: 0.8964 - val_loss: 0.2949 - val_accuracy: 0.8891\n",
            "Epoch 8/10\n",
            "1613/1613 [==============================] - 2s 1ms/step - loss: 0.2794 - accuracy: 0.8965 - val_loss: 0.2933 - val_accuracy: 0.8894\n",
            "Epoch 9/10\n",
            "1613/1613 [==============================] - 2s 1ms/step - loss: 0.2777 - accuracy: 0.8966 - val_loss: 0.2922 - val_accuracy: 0.8894\n",
            "Epoch 10/10\n",
            "1613/1613 [==============================] - 2s 1ms/step - loss: 0.2770 - accuracy: 0.8966 - val_loss: 0.2912 - val_accuracy: 0.8891\n",
            "WARNING:tensorflow:From /usr/local/lib/python3.6/dist-packages/tensorflow/python/keras/wrappers/scikit_learn.py:241: Sequential.predict_classes (from tensorflow.python.keras.engine.sequential) is deprecated and will be removed after 2021-01-01.\n",
            "Instructions for updating:\n",
            "Please use instead:* `np.argmax(model.predict(x), axis=-1)`,   if your model does multi-class classification   (e.g. if it uses a `softmax` last-layer activation).* `(model.predict(x) > 0.5).astype(\"int32\")`,   if your model does binary classification   (e.g. if it uses a `sigmoid` last-layer activation).\n",
            "Epoch 1/10\n",
            "1613/1613 [==============================] - 2s 1ms/step - loss: 0.3789 - accuracy: 0.8520 - val_loss: 0.3445 - val_accuracy: 0.8641\n",
            "Epoch 2/10\n",
            "1613/1613 [==============================] - 2s 1ms/step - loss: 0.3231 - accuracy: 0.8708 - val_loss: 0.3236 - val_accuracy: 0.8706\n",
            "Epoch 3/10\n",
            "1613/1613 [==============================] - 2s 1ms/step - loss: 0.3037 - accuracy: 0.8830 - val_loss: 0.3080 - val_accuracy: 0.8849\n",
            "Epoch 4/10\n",
            "1613/1613 [==============================] - 2s 1ms/step - loss: 0.2903 - accuracy: 0.8945 - val_loss: 0.2996 - val_accuracy: 0.8874\n",
            "Epoch 5/10\n",
            "1613/1613 [==============================] - 2s 1ms/step - loss: 0.2823 - accuracy: 0.8963 - val_loss: 0.2993 - val_accuracy: 0.8887\n",
            "Epoch 6/10\n",
            "1613/1613 [==============================] - 2s 1ms/step - loss: 0.2773 - accuracy: 0.8966 - val_loss: 0.2909 - val_accuracy: 0.8892\n",
            "Epoch 7/10\n",
            "1613/1613 [==============================] - 2s 1ms/step - loss: 0.2725 - accuracy: 0.8971 - val_loss: 0.2862 - val_accuracy: 0.8899\n",
            "Epoch 8/10\n",
            "1613/1613 [==============================] - 2s 1ms/step - loss: 0.2678 - accuracy: 0.8971 - val_loss: 0.2797 - val_accuracy: 0.8902\n",
            "Epoch 9/10\n",
            "1613/1613 [==============================] - 3s 2ms/step - loss: 0.2613 - accuracy: 0.8976 - val_loss: 0.2731 - val_accuracy: 0.8909\n",
            "Epoch 10/10\n",
            "1613/1613 [==============================] - 3s 2ms/step - loss: 0.2537 - accuracy: 0.8985 - val_loss: 0.2660 - val_accuracy: 0.8924\n",
            "Epoch 1/10\n",
            "1613/1613 [==============================] - 2s 1ms/step - loss: 0.3939 - accuracy: 0.8453 - val_loss: 0.3522 - val_accuracy: 0.8557\n",
            "Epoch 2/10\n",
            "1613/1613 [==============================] - 2s 1ms/step - loss: 0.3367 - accuracy: 0.8641 - val_loss: 0.3380 - val_accuracy: 0.8673\n",
            "Epoch 3/10\n",
            "1613/1613 [==============================] - 2s 1ms/step - loss: 0.3146 - accuracy: 0.8740 - val_loss: 0.3155 - val_accuracy: 0.8840\n",
            "Epoch 4/10\n",
            "1613/1613 [==============================] - 2s 1ms/step - loss: 0.2934 - accuracy: 0.8937 - val_loss: 0.3002 - val_accuracy: 0.8892\n",
            "Epoch 5/10\n",
            "1613/1613 [==============================] - 2s 1ms/step - loss: 0.2825 - accuracy: 0.8974 - val_loss: 0.2944 - val_accuracy: 0.8894\n",
            "Epoch 6/10\n",
            "1613/1613 [==============================] - 2s 1ms/step - loss: 0.2768 - accuracy: 0.8976 - val_loss: 0.2902 - val_accuracy: 0.8894\n",
            "Epoch 7/10\n",
            "1613/1613 [==============================] - 2s 1ms/step - loss: 0.2735 - accuracy: 0.8974 - val_loss: 0.2862 - val_accuracy: 0.8897\n",
            "Epoch 8/10\n",
            "1613/1613 [==============================] - 2s 1ms/step - loss: 0.2712 - accuracy: 0.8976 - val_loss: 0.2842 - val_accuracy: 0.8897\n",
            "Epoch 9/10\n",
            "1613/1613 [==============================] - 2s 1ms/step - loss: 0.2692 - accuracy: 0.8976 - val_loss: 0.2825 - val_accuracy: 0.8902\n",
            "Epoch 10/10\n",
            "1613/1613 [==============================] - 2s 1ms/step - loss: 0.2675 - accuracy: 0.8978 - val_loss: 0.2790 - val_accuracy: 0.8904\n",
            "Epoch 1/10\n",
            "1613/1613 [==============================] - 2s 1ms/step - loss: 0.3939 - accuracy: 0.8452 - val_loss: 0.3465 - val_accuracy: 0.8626\n",
            "Epoch 2/10\n",
            "1613/1613 [==============================] - 2s 1ms/step - loss: 0.3281 - accuracy: 0.8686 - val_loss: 0.3301 - val_accuracy: 0.8671\n",
            "Epoch 3/10\n",
            "1613/1613 [==============================] - 2s 1ms/step - loss: 0.3092 - accuracy: 0.8771 - val_loss: 0.3153 - val_accuracy: 0.8706\n",
            "Epoch 4/10\n",
            "1613/1613 [==============================] - 2s 1ms/step - loss: 0.2934 - accuracy: 0.8929 - val_loss: 0.3044 - val_accuracy: 0.8889\n",
            "Epoch 5/10\n",
            "1613/1613 [==============================] - 2s 1ms/step - loss: 0.2846 - accuracy: 0.8971 - val_loss: 0.2999 - val_accuracy: 0.8889\n",
            "Epoch 6/10\n",
            "1613/1613 [==============================] - 2s 1ms/step - loss: 0.2793 - accuracy: 0.8974 - val_loss: 0.2946 - val_accuracy: 0.8892\n",
            "Epoch 7/10\n",
            "1613/1613 [==============================] - 2s 1ms/step - loss: 0.2757 - accuracy: 0.8978 - val_loss: 0.2915 - val_accuracy: 0.8897\n",
            "Epoch 8/10\n",
            "1613/1613 [==============================] - 2s 1ms/step - loss: 0.2731 - accuracy: 0.8978 - val_loss: 0.2865 - val_accuracy: 0.8897\n",
            "Epoch 9/10\n",
            "1613/1613 [==============================] - 2s 1ms/step - loss: 0.2704 - accuracy: 0.8979 - val_loss: 0.2852 - val_accuracy: 0.8899\n",
            "Epoch 10/10\n",
            "1613/1613 [==============================] - 2s 1ms/step - loss: 0.2689 - accuracy: 0.8979 - val_loss: 0.2814 - val_accuracy: 0.8902\n",
            "Epoch 1/10\n",
            "1613/1613 [==============================] - 2s 1ms/step - loss: 0.3957 - accuracy: 0.8403 - val_loss: 0.3492 - val_accuracy: 0.8602\n",
            "Epoch 2/10\n",
            "1613/1613 [==============================] - 2s 1ms/step - loss: 0.3314 - accuracy: 0.8693 - val_loss: 0.3371 - val_accuracy: 0.8691\n",
            "Epoch 3/10\n",
            "1613/1613 [==============================] - 2s 1ms/step - loss: 0.3138 - accuracy: 0.8748 - val_loss: 0.3173 - val_accuracy: 0.8706\n",
            "Epoch 4/10\n",
            "1613/1613 [==============================] - 2s 1ms/step - loss: 0.2983 - accuracy: 0.8912 - val_loss: 0.3108 - val_accuracy: 0.8892\n",
            "Epoch 5/10\n",
            "1613/1613 [==============================] - 2s 1ms/step - loss: 0.2912 - accuracy: 0.8963 - val_loss: 0.3045 - val_accuracy: 0.8887\n",
            "Epoch 6/10\n",
            "1613/1613 [==============================] - 2s 1ms/step - loss: 0.2868 - accuracy: 0.8972 - val_loss: 0.3022 - val_accuracy: 0.8884\n",
            "Epoch 7/10\n",
            "1613/1613 [==============================] - 2s 1ms/step - loss: 0.2834 - accuracy: 0.8974 - val_loss: 0.2963 - val_accuracy: 0.8897\n",
            "Epoch 8/10\n",
            "1613/1613 [==============================] - 2s 1ms/step - loss: 0.2805 - accuracy: 0.8974 - val_loss: 0.2966 - val_accuracy: 0.8892\n",
            "Epoch 9/10\n",
            "1613/1613 [==============================] - 2s 1ms/step - loss: 0.2784 - accuracy: 0.8974 - val_loss: 0.2935 - val_accuracy: 0.8897\n",
            "Epoch 10/10\n",
            "1613/1613 [==============================] - 2s 1ms/step - loss: 0.2766 - accuracy: 0.8974 - val_loss: 0.2918 - val_accuracy: 0.8889\n",
            "Epoch 1/10\n",
            "1613/1613 [==============================] - 2s 2ms/step - loss: 0.3933 - accuracy: 0.8393 - val_loss: 0.3473 - val_accuracy: 0.8619\n",
            "Epoch 2/10\n",
            "1613/1613 [==============================] - 2s 1ms/step - loss: 0.3282 - accuracy: 0.8695 - val_loss: 0.3285 - val_accuracy: 0.8666\n",
            "Epoch 3/10\n",
            "1613/1613 [==============================] - 2s 1ms/step - loss: 0.3097 - accuracy: 0.8778 - val_loss: 0.3140 - val_accuracy: 0.8862\n",
            "Epoch 4/10\n",
            "1613/1613 [==============================] - 2s 1ms/step - loss: 0.2971 - accuracy: 0.8926 - val_loss: 0.3060 - val_accuracy: 0.8869\n",
            "Epoch 5/10\n",
            "1613/1613 [==============================] - 2s 1ms/step - loss: 0.2907 - accuracy: 0.8961 - val_loss: 0.3029 - val_accuracy: 0.8892\n",
            "Epoch 6/10\n",
            "1613/1613 [==============================] - 2s 1ms/step - loss: 0.2865 - accuracy: 0.8964 - val_loss: 0.2982 - val_accuracy: 0.8889\n",
            "Epoch 7/10\n",
            "1613/1613 [==============================] - 2s 1ms/step - loss: 0.2831 - accuracy: 0.8967 - val_loss: 0.2965 - val_accuracy: 0.8894\n",
            "Epoch 8/10\n",
            "1613/1613 [==============================] - 2s 1ms/step - loss: 0.2811 - accuracy: 0.8970 - val_loss: 0.2952 - val_accuracy: 0.8894\n",
            "Epoch 9/10\n",
            "1613/1613 [==============================] - 2s 1ms/step - loss: 0.2794 - accuracy: 0.8968 - val_loss: 0.2929 - val_accuracy: 0.8897\n",
            "Epoch 10/10\n",
            "1613/1613 [==============================] - 2s 1ms/step - loss: 0.2779 - accuracy: 0.8969 - val_loss: 0.2914 - val_accuracy: 0.8894\n",
            "Epoch 1/10\n",
            "1613/1613 [==============================] - 2s 1ms/step - loss: 0.3984 - accuracy: 0.8394 - val_loss: 0.3527 - val_accuracy: 0.8579\n",
            "Epoch 2/10\n",
            "1613/1613 [==============================] - 2s 1ms/step - loss: 0.3333 - accuracy: 0.8674 - val_loss: 0.3363 - val_accuracy: 0.8666\n",
            "Epoch 3/10\n",
            "1613/1613 [==============================] - 2s 1ms/step - loss: 0.3114 - accuracy: 0.8785 - val_loss: 0.3152 - val_accuracy: 0.8837\n",
            "Epoch 4/10\n",
            "1613/1613 [==============================] - 2s 1ms/step - loss: 0.2938 - accuracy: 0.8945 - val_loss: 0.3061 - val_accuracy: 0.8887\n",
            "Epoch 5/10\n",
            "1613/1613 [==============================] - 2s 1ms/step - loss: 0.2847 - accuracy: 0.8974 - val_loss: 0.2992 - val_accuracy: 0.8892\n",
            "Epoch 6/10\n",
            "1613/1613 [==============================] - 2s 1ms/step - loss: 0.2785 - accuracy: 0.8978 - val_loss: 0.2927 - val_accuracy: 0.8894\n",
            "Epoch 7/10\n",
            "1613/1613 [==============================] - 2s 1ms/step - loss: 0.2745 - accuracy: 0.8981 - val_loss: 0.2922 - val_accuracy: 0.8892\n",
            "Epoch 8/10\n",
            "1613/1613 [==============================] - 2s 1ms/step - loss: 0.2719 - accuracy: 0.8980 - val_loss: 0.2872 - val_accuracy: 0.8897\n",
            "Epoch 9/10\n",
            "1613/1613 [==============================] - 2s 1ms/step - loss: 0.2695 - accuracy: 0.8981 - val_loss: 0.2824 - val_accuracy: 0.8902\n",
            "Epoch 10/10\n",
            "1613/1613 [==============================] - 2s 1ms/step - loss: 0.2673 - accuracy: 0.8979 - val_loss: 0.2828 - val_accuracy: 0.8902\n",
            "Epoch 1/10\n",
            "1613/1613 [==============================] - 2s 1ms/step - loss: 0.4047 - accuracy: 0.8311 - val_loss: 0.3495 - val_accuracy: 0.8559\n",
            "Epoch 2/10\n",
            "1613/1613 [==============================] - 2s 1ms/step - loss: 0.3357 - accuracy: 0.8645 - val_loss: 0.3385 - val_accuracy: 0.8629\n",
            "Epoch 3/10\n",
            "1613/1613 [==============================] - 2s 1ms/step - loss: 0.3202 - accuracy: 0.8709 - val_loss: 0.3216 - val_accuracy: 0.8693\n",
            "Epoch 4/10\n",
            "1613/1613 [==============================] - 2s 1ms/step - loss: 0.2996 - accuracy: 0.8848 - val_loss: 0.3059 - val_accuracy: 0.8884\n",
            "Epoch 5/10\n",
            "1613/1613 [==============================] - 2s 1ms/step - loss: 0.2854 - accuracy: 0.8969 - val_loss: 0.2954 - val_accuracy: 0.8894\n",
            "Epoch 6/10\n",
            "1613/1613 [==============================] - 2s 1ms/step - loss: 0.2781 - accuracy: 0.8974 - val_loss: 0.2912 - val_accuracy: 0.8897\n",
            "Epoch 7/10\n",
            "1613/1613 [==============================] - 2s 1ms/step - loss: 0.2740 - accuracy: 0.8975 - val_loss: 0.2888 - val_accuracy: 0.8899\n",
            "Epoch 8/10\n",
            "1613/1613 [==============================] - 2s 1ms/step - loss: 0.2719 - accuracy: 0.8975 - val_loss: 0.2863 - val_accuracy: 0.8899\n",
            "Epoch 9/10\n",
            "1613/1613 [==============================] - 2s 1ms/step - loss: 0.2691 - accuracy: 0.8977 - val_loss: 0.2835 - val_accuracy: 0.8904\n",
            "Epoch 10/10\n",
            "1613/1613 [==============================] - 2s 1ms/step - loss: 0.2672 - accuracy: 0.8976 - val_loss: 0.2837 - val_accuracy: 0.8904\n",
            "Epoch 1/10\n",
            "1613/1613 [==============================] - 2s 1ms/step - loss: 0.3898 - accuracy: 0.8382 - val_loss: 0.3355 - val_accuracy: 0.8649\n",
            "Epoch 2/10\n",
            "1613/1613 [==============================] - 2s 1ms/step - loss: 0.3177 - accuracy: 0.8737 - val_loss: 0.3078 - val_accuracy: 0.8807\n",
            "Epoch 3/10\n",
            "1613/1613 [==============================] - 2s 1ms/step - loss: 0.2954 - accuracy: 0.8931 - val_loss: 0.2938 - val_accuracy: 0.8914\n",
            "Epoch 4/10\n",
            "1613/1613 [==============================] - 2s 1ms/step - loss: 0.2850 - accuracy: 0.8973 - val_loss: 0.2872 - val_accuracy: 0.8921\n",
            "Epoch 5/10\n",
            "1613/1613 [==============================] - 2s 1ms/step - loss: 0.2783 - accuracy: 0.8982 - val_loss: 0.2835 - val_accuracy: 0.8926\n",
            "Epoch 6/10\n",
            "1613/1613 [==============================] - 2s 1ms/step - loss: 0.2735 - accuracy: 0.8979 - val_loss: 0.2828 - val_accuracy: 0.8931\n",
            "Epoch 7/10\n",
            "1613/1613 [==============================] - 2s 1ms/step - loss: 0.2706 - accuracy: 0.8980 - val_loss: 0.2761 - val_accuracy: 0.8931\n",
            "Epoch 8/10\n",
            "1613/1613 [==============================] - 2s 1ms/step - loss: 0.2672 - accuracy: 0.8982 - val_loss: 0.2746 - val_accuracy: 0.8931\n",
            "Epoch 9/10\n",
            "1613/1613 [==============================] - 2s 1ms/step - loss: 0.2644 - accuracy: 0.8981 - val_loss: 0.2705 - val_accuracy: 0.8931\n",
            "Epoch 10/10\n",
            "1613/1613 [==============================] - 2s 1ms/step - loss: 0.2607 - accuracy: 0.8980 - val_loss: 0.2678 - val_accuracy: 0.8931\n",
            "Epoch 1/10\n",
            "1613/1613 [==============================] - 2s 1ms/step - loss: 0.3793 - accuracy: 0.8458 - val_loss: 0.3479 - val_accuracy: 0.8616\n",
            "Epoch 2/10\n",
            "1613/1613 [==============================] - 2s 1ms/step - loss: 0.3217 - accuracy: 0.8727 - val_loss: 0.3246 - val_accuracy: 0.8651\n",
            "Epoch 3/10\n",
            "1613/1613 [==============================] - 2s 1ms/step - loss: 0.2971 - accuracy: 0.8905 - val_loss: 0.3094 - val_accuracy: 0.8874\n",
            "Epoch 4/10\n",
            "1613/1613 [==============================] - 2s 1ms/step - loss: 0.2852 - accuracy: 0.8976 - val_loss: 0.3020 - val_accuracy: 0.8897\n",
            "Epoch 5/10\n",
            "1613/1613 [==============================] - 2s 1ms/step - loss: 0.2798 - accuracy: 0.8979 - val_loss: 0.2971 - val_accuracy: 0.8899\n",
            "Epoch 6/10\n",
            "1613/1613 [==============================] - 2s 1ms/step - loss: 0.2762 - accuracy: 0.8981 - val_loss: 0.2959 - val_accuracy: 0.8899\n",
            "Epoch 7/10\n",
            "1613/1613 [==============================] - 2s 1ms/step - loss: 0.2735 - accuracy: 0.8982 - val_loss: 0.2922 - val_accuracy: 0.8902\n",
            "Epoch 8/10\n",
            "1613/1613 [==============================] - 2s 1ms/step - loss: 0.2713 - accuracy: 0.8980 - val_loss: 0.2896 - val_accuracy: 0.8899\n",
            "Epoch 9/10\n",
            "1613/1613 [==============================] - 2s 1ms/step - loss: 0.2690 - accuracy: 0.8982 - val_loss: 0.2877 - val_accuracy: 0.8902\n",
            "Epoch 10/10\n",
            "1613/1613 [==============================] - 2s 1ms/step - loss: 0.2670 - accuracy: 0.8983 - val_loss: 0.2876 - val_accuracy: 0.8916\n",
            "accuracy:\n",
            "[0.90138331 0.903125   0.89553571 0.89464286 0.89642857 0.89955357\n",
            " 0.89375    0.896875   0.88616071 0.89419643]\n",
            "0.8961651168164722\n",
            "precision:\n",
            "[0.99443826 0.99415205 0.99133261 0.99452954 0.99331849 0.99568501\n",
            " 0.99217877 0.99657143 0.99093998 0.99448732]\n",
            "0.9937633451680693\n",
            "recall:\n",
            "[0.80540541 0.80037665 0.80192813 0.79736842 0.79785331 0.80681818\n",
            " 0.79356568 0.79272727 0.7798574  0.79541446]\n",
            "0.7971314914767158\n",
            "f1:\n",
            "[0.88999502 0.8868023  0.88662791 0.88510224 0.88492063 0.89135683\n",
            " 0.88182721 0.88303797 0.87281796 0.88388045]\n",
            "0.8846368521618757\n",
            "--------\n",
            "matriz de confusion:\n",
            "TN=2557, FP=233 \n",
            "FN=569, TP=2242 \n",
            "--------\n",
            "matriz de confusion %:\n",
            "TN=45.65256204249241, FP=4.159971433672559 \n",
            "FN=10.158900196393502, TP=40.02856632744153 \n",
            "--------\n",
            "accuracy1=0.8568112836993395\n",
            "--------\n",
            "reca1=0.7975809320526503\n",
            "--------\n",
            "pre1=0.9058585858585858\n",
            "--------\n",
            "f1score=0.8482784714339765\n",
            "CV Training time: 222.54801273345947s\n"
          ],
          "name": "stdout"
        }
      ]
    }
  ]
}