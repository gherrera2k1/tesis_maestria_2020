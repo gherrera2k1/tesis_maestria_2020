{
  "nbformat": 4,
  "nbformat_minor": 0,
  "metadata": {
    "kernelspec": {
      "name": "python3",
      "display_name": "Python 3",
      "language": "python"
    },
    "language_info": {
      "name": "python",
      "version": "3.7.6",
      "mimetype": "text/x-python",
      "codemirror_mode": {
        "name": "ipython",
        "version": 3
      },
      "pygments_lexer": "ipython3",
      "nbconvert_exporter": "python",
      "file_extension": ".py"
    },
    "colab": {
      "name": "tesis-ann-28k-v3.ipynb",
      "provenance": [],
      "collapsed_sections": []
    }
  },
  "cells": [
    {
      "cell_type": "code",
      "metadata": {
        "id": "SPDAulaVZ7_w"
      },
      "source": [
        "# Gerardo Herrera... ann: (1 capa oculta con 30 neoronas, activation = 'relu', epochs=10) con 28k instacias de normal y recovering y 24 sensores"
      ],
      "execution_count": null,
      "outputs": []
    },
    {
      "cell_type": "code",
      "metadata": {
        "id": "E29OZ6uFbHBB",
        "colab": {
          "base_uri": "https://localhost:8080/",
          "height": 34
        },
        "outputId": "54a5938a-0eb3-4655-aa8c-a33edf703ddb"
      },
      "source": [
        "from google.colab import drive\n",
        "drive.mount('/content/drive')"
      ],
      "execution_count": null,
      "outputs": [
        {
          "output_type": "stream",
          "text": [
            "Mounted at /content/drive\n"
          ],
          "name": "stdout"
        }
      ]
    },
    {
      "cell_type": "code",
      "metadata": {
        "_uuid": "8f2839f25d086af736a60e9eeb907d3b93b6e0e5",
        "_cell_guid": "b1076dfc-b9ad-4769-8c92-a6c4dae69d19",
        "trusted": true,
        "id": "odMuPUzmZ0gZ"
      },
      "source": [
        "# This Python 3 environment comes with many helpful analytics libraries installed\n",
        "# It is defined by the kaggle/python Docker image: https://github.com/kaggle/docker-python\n",
        "# For example, here's several helpful packages to load\n",
        "\n",
        "import numpy as np # linear algebra\n",
        "import pandas as pd # data processing, CSV file I/O (e.g. pd.read_csv)\n",
        "\n",
        "# Input data files are available in the read-only \"../input/\" directory\n",
        "# For example, running this (by clicking run or pressing Shift+Enter) will list all files under the input directory\n",
        "\n",
        "import os\n",
        "for dirname, _, filenames in os.walk('/kaggle/input'):\n",
        "    for filename in filenames:\n",
        "        print(os.path.join(dirname, filename))\n",
        "\n",
        "# You can write up to 5GB to the current directory (/kaggle/working/) that gets preserved as output when you create a version using \"Save & Run All\" \n",
        "# You can also write temporary files to /kaggle/temp/, but they won't be saved outside of the current session"
      ],
      "execution_count": null,
      "outputs": []
    },
    {
      "cell_type": "code",
      "metadata": {
        "trusted": true,
        "id": "s9PFteUzZ0gg"
      },
      "source": [
        "# https://medium.com/@randerson112358/build-your-own-artificial-neural-network-using-python-f37d16be06bf"
      ],
      "execution_count": null,
      "outputs": []
    },
    {
      "cell_type": "code",
      "metadata": {
        "_uuid": "d629ff2d2480ee46fbb7e2d37f6b5fab8052498a",
        "_cell_guid": "79c7e3d0-c299-4dcb-8224-4455121ee9b0",
        "trusted": true,
        "id": "u_2w7EvIZ0gk"
      },
      "source": [
        "#Load libraries\n",
        "from keras.models import Sequential\n",
        "from keras.layers import Dense\n",
        "import pandas as pd\n",
        "from sklearn.model_selection import train_test_split\n",
        "import matplotlib.pyplot as plt\n",
        "plt.style.use('fivethirtyeight')"
      ],
      "execution_count": null,
      "outputs": []
    },
    {
      "cell_type": "code",
      "metadata": {
        "trusted": true,
        "id": "YSPcoQtoZ0go"
      },
      "source": [
        "import time"
      ],
      "execution_count": null,
      "outputs": []
    },
    {
      "cell_type": "code",
      "metadata": {
        "trusted": true,
        "id": "0bhktcaPZ0gs"
      },
      "source": [
        "#sensor77 = pd.read_csv('../input/vombas/sensor_procesado.csv')\n",
        "#sensor77 = pd.read_csv('../input/10ks25/s25balanced10k.csv')\n",
        "#sensor77 = pd.read_csv('../input/28k-s24-balan-vombas/sensor2-ordenado_status_sin_broken_balanced_28k.csv')\n",
        "\n",
        "sensor77 = pd.read_csv('/content/drive/My Drive/datasets/sensor2-ordenado_status_sin_broken_balanced_28k.csv')\n"
      ],
      "execution_count": null,
      "outputs": []
    },
    {
      "cell_type": "code",
      "metadata": {
        "trusted": true,
        "id": "hdCVvI9rZ0gw",
        "colab": {
          "base_uri": "https://localhost:8080/",
          "height": 34
        },
        "outputId": "3162cf2c-78ea-4549-bc11-3d36383cbdef"
      },
      "source": [
        "#Show the shape (number of rows & columns)\n",
        "sensor77.shape"
      ],
      "execution_count": null,
      "outputs": [
        {
          "output_type": "execute_result",
          "data": {
            "text/plain": [
              "(28002, 27)"
            ]
          },
          "metadata": {
            "tags": []
          },
          "execution_count": 8
        }
      ]
    },
    {
      "cell_type": "code",
      "metadata": {
        "trusted": true,
        "id": "IIrrorQFZ0g0",
        "colab": {
          "base_uri": "https://localhost:8080/",
          "height": 514
        },
        "outputId": "15c811fa-e819-4ac7-f73f-b2662e99c633"
      },
      "source": [
        "#Show the number of missing (NAN, NaN, na) data for each column\n",
        "sensor77.isnull().sum()"
      ],
      "execution_count": null,
      "outputs": [
        {
          "output_type": "execute_result",
          "data": {
            "text/plain": [
              "Unnamed: 0            0\n",
              "timestamp             0\n",
              "sensor_00             0\n",
              "sensor_01            30\n",
              "sensor_02             0\n",
              "sensor_03             0\n",
              "sensor_04             0\n",
              "sensor_11             0\n",
              "sensor_14             0\n",
              "sensor_16             0\n",
              "sensor_17             0\n",
              "sensor_18             0\n",
              "sensor_19             0\n",
              "sensor_20             0\n",
              "sensor_21             0\n",
              "sensor_22             0\n",
              "sensor_23             0\n",
              "sensor_25             0\n",
              "sensor_26             0\n",
              "sensor_27             0\n",
              "sensor_28             0\n",
              "sensor_30             0\n",
              "sensor_31             0\n",
              "sensor_44             3\n",
              "sensor_50         14004\n",
              "sensor_51          2996\n",
              "machine_status        0\n",
              "dtype: int64"
            ]
          },
          "metadata": {
            "tags": []
          },
          "execution_count": 9
        }
      ]
    },
    {
      "cell_type": "code",
      "metadata": {
        "trusted": true,
        "id": "KUHMvlr7Z0g4"
      },
      "source": [
        "cleanup_nums = {\"machine_status\":     {\"NORMAL\": 0, \"RECOVERING\": 1,\"BROKEN\": 2}}"
      ],
      "execution_count": null,
      "outputs": []
    },
    {
      "cell_type": "code",
      "metadata": {
        "trusted": true,
        "id": "wQNiLGWRZ0g8"
      },
      "source": [
        "sensor77.replace(cleanup_nums, inplace=True)"
      ],
      "execution_count": null,
      "outputs": []
    },
    {
      "cell_type": "code",
      "metadata": {
        "trusted": true,
        "id": "26lUjzMlZ0hA"
      },
      "source": [
        "sensor77.fillna(sensor77.mean(), inplace=True)"
      ],
      "execution_count": null,
      "outputs": []
    },
    {
      "cell_type": "code",
      "metadata": {
        "trusted": true,
        "id": "Mao33GuUZ0hE",
        "colab": {
          "base_uri": "https://localhost:8080/",
          "height": 514
        },
        "outputId": "a380ae9c-68e8-4528-b9b0-997f6a6064ff"
      },
      "source": [
        "#Show the number of missing (NAN, NaN, na) data for each column\n",
        "sensor77.isnull().sum()"
      ],
      "execution_count": null,
      "outputs": [
        {
          "output_type": "execute_result",
          "data": {
            "text/plain": [
              "Unnamed: 0        0\n",
              "timestamp         0\n",
              "sensor_00         0\n",
              "sensor_01         0\n",
              "sensor_02         0\n",
              "sensor_03         0\n",
              "sensor_04         0\n",
              "sensor_11         0\n",
              "sensor_14         0\n",
              "sensor_16         0\n",
              "sensor_17         0\n",
              "sensor_18         0\n",
              "sensor_19         0\n",
              "sensor_20         0\n",
              "sensor_21         0\n",
              "sensor_22         0\n",
              "sensor_23         0\n",
              "sensor_25         0\n",
              "sensor_26         0\n",
              "sensor_27         0\n",
              "sensor_28         0\n",
              "sensor_30         0\n",
              "sensor_31         0\n",
              "sensor_44         0\n",
              "sensor_50         0\n",
              "sensor_51         0\n",
              "machine_status    0\n",
              "dtype: int64"
            ]
          },
          "metadata": {
            "tags": []
          },
          "execution_count": 13
        }
      ]
    },
    {
      "cell_type": "code",
      "metadata": {
        "trusted": true,
        "id": "aws4gofAZ0hI"
      },
      "source": [
        "#sensor77.drop('sensor_15', axis=1, inplace=True)\n",
        "sensor77.drop('timestamp', axis=1, inplace=True)"
      ],
      "execution_count": null,
      "outputs": []
    },
    {
      "cell_type": "code",
      "metadata": {
        "trusted": true,
        "id": "qQ0HENKAZ0hL"
      },
      "source": [
        "#sensor77.drop('100000', axis=1, inplace=True)"
      ],
      "execution_count": null,
      "outputs": []
    },
    {
      "cell_type": "code",
      "metadata": {
        "trusted": true,
        "id": "RXOeB96YZ0hS"
      },
      "source": [
        "sensor77.drop('Unnamed: 0', axis=1, inplace=True)"
      ],
      "execution_count": null,
      "outputs": []
    },
    {
      "cell_type": "code",
      "metadata": {
        "trusted": true,
        "id": "6l7657N1Z0hX",
        "colab": {
          "base_uri": "https://localhost:8080/",
          "height": 478
        },
        "outputId": "dd36fd9e-73a7-46c3-9009-30924b7af2a4"
      },
      "source": [
        "sensor77.isnull().sum()"
      ],
      "execution_count": null,
      "outputs": [
        {
          "output_type": "execute_result",
          "data": {
            "text/plain": [
              "sensor_00         0\n",
              "sensor_01         0\n",
              "sensor_02         0\n",
              "sensor_03         0\n",
              "sensor_04         0\n",
              "sensor_11         0\n",
              "sensor_14         0\n",
              "sensor_16         0\n",
              "sensor_17         0\n",
              "sensor_18         0\n",
              "sensor_19         0\n",
              "sensor_20         0\n",
              "sensor_21         0\n",
              "sensor_22         0\n",
              "sensor_23         0\n",
              "sensor_25         0\n",
              "sensor_26         0\n",
              "sensor_27         0\n",
              "sensor_28         0\n",
              "sensor_30         0\n",
              "sensor_31         0\n",
              "sensor_44         0\n",
              "sensor_50         0\n",
              "sensor_51         0\n",
              "machine_status    0\n",
              "dtype: int64"
            ]
          },
          "metadata": {
            "tags": []
          },
          "execution_count": 17
        }
      ]
    },
    {
      "cell_type": "code",
      "metadata": {
        "trusted": true,
        "id": "Qj0Rg-l7Z0ha",
        "colab": {
          "base_uri": "https://localhost:8080/",
          "height": 247
        },
        "outputId": "3925cfe8-7f07-4a3d-d8c7-482fc44b5a22"
      },
      "source": [
        "#Convert the data into an array\n",
        "dataset = sensor77.values\n",
        "dataset"
      ],
      "execution_count": null,
      "outputs": [
        {
          "output_type": "execute_result",
          "data": {
            "text/plain": [
              "array([[2.46539400e+00, 4.70920100e+01, 5.32118000e+01, ...,\n",
              "        4.81174107e+02, 1.77951400e+02, 0.00000000e+00],\n",
              "       [2.46539400e+00, 4.70920100e+01, 5.32118000e+01, ...,\n",
              "        4.81174107e+02, 1.78530100e+02, 0.00000000e+00],\n",
              "       [2.44473400e+00, 4.73524300e+01, 5.32118000e+01, ...,\n",
              "        4.81174107e+02, 1.77662000e+05, 0.00000000e+00],\n",
              "       ...,\n",
              "       [2.40538200e+00, 4.95659714e+01, 5.38194400e+01, ...,\n",
              "        3.21180573e+01, 3.15393524e+01, 1.00000000e+00],\n",
              "       [2.40046300e+00, 4.95659700e+01, 5.37760400e+01, ...,\n",
              "        3.21180573e+01, 3.15393500e+01, 1.00000000e+00],\n",
              "       [2.40144700e+00, 4.95225700e+01, 5.37760391e+01, ...,\n",
              "        3.21180573e+01, 3.18287000e+01, 1.00000000e+00]])"
            ]
          },
          "metadata": {
            "tags": []
          },
          "execution_count": 18
        }
      ]
    },
    {
      "cell_type": "code",
      "metadata": {
        "trusted": true,
        "id": "6WFM9CnDZ0hd",
        "colab": {
          "base_uri": "https://localhost:8080/",
          "height": 34
        },
        "outputId": "e205fd73-f0fb-4b7c-cd79-3cfad3dada23"
      },
      "source": [
        "sensor77.shape"
      ],
      "execution_count": null,
      "outputs": [
        {
          "output_type": "execute_result",
          "data": {
            "text/plain": [
              "(28002, 25)"
            ]
          },
          "metadata": {
            "tags": []
          },
          "execution_count": 19
        }
      ]
    },
    {
      "cell_type": "code",
      "metadata": {
        "trusted": true,
        "id": "Rq7hRTWZZ0hh"
      },
      "source": [
        "# Get all of the rows from the first eight columns of the dataset\n",
        "#X = dataset[:,0:51] \n",
        "X = dataset[:,0:24]\n",
        "# Get all of the rows from the last column\n",
        "#y = dataset[:,51] \n",
        "y = dataset[:,24] "
      ],
      "execution_count": null,
      "outputs": []
    },
    {
      "cell_type": "code",
      "metadata": {
        "trusted": true,
        "id": "f4RdYMd-Z0hm",
        "colab": {
          "base_uri": "https://localhost:8080/",
          "height": 34
        },
        "outputId": "7a7140a9-0eb9-4ef4-9569-da95f59fb45a"
      },
      "source": [
        "print(y)"
      ],
      "execution_count": null,
      "outputs": [
        {
          "output_type": "stream",
          "text": [
            "[0. 0. 0. ... 1. 1. 1.]\n"
          ],
          "name": "stdout"
        }
      ]
    },
    {
      "cell_type": "code",
      "metadata": {
        "trusted": true,
        "id": "ja5aCnqrZ0hp",
        "colab": {
          "base_uri": "https://localhost:8080/",
          "height": 247
        },
        "outputId": "6fc1e4f9-1d20-4d31-8d7a-13779722a2ce"
      },
      "source": [
        "print(X)"
      ],
      "execution_count": null,
      "outputs": [
        {
          "output_type": "stream",
          "text": [
            "[[2.46539400e+00 4.70920100e+01 5.32118000e+01 ... 4.36921300e+01\n",
            "  4.81174107e+02 1.77951400e+02]\n",
            " [2.46539400e+00 4.70920100e+01 5.32118000e+01 ... 4.45601800e+01\n",
            "  4.81174107e+02 1.78530100e+02]\n",
            " [2.44473400e+00 4.73524300e+01 5.32118000e+01 ... 4.60069400e+01\n",
            "  4.81174107e+02 1.77662000e+05]\n",
            " ...\n",
            " [2.40538200e+00 4.95659714e+01 5.38194400e+01 ... 3.15393524e+01\n",
            "  3.21180573e+01 3.15393524e+01]\n",
            " [2.40046300e+00 4.95659700e+01 5.37760400e+01 ... 3.15393524e+01\n",
            "  3.21180573e+01 3.15393500e+01]\n",
            " [2.40144700e+00 4.95225700e+01 5.37760391e+01 ... 3.15393524e+01\n",
            "  3.21180573e+01 3.18287000e+01]]\n"
          ],
          "name": "stdout"
        }
      ]
    },
    {
      "cell_type": "code",
      "metadata": {
        "trusted": true,
        "id": "X8waqCwsZ0ht",
        "colab": {
          "base_uri": "https://localhost:8080/",
          "height": 247
        },
        "outputId": "569416c2-239f-4f20-b5fe-20283f14a607"
      },
      "source": [
        "from sklearn import preprocessing\n",
        "min_max_scaler = preprocessing.MinMaxScaler()\n",
        "X_scale = min_max_scaler.fit_transform(X)\n",
        "X_scale"
      ],
      "execution_count": null,
      "outputs": [
        {
          "output_type": "execute_result",
          "data": {
            "text/plain": [
              "array([[1.16018541e-03, 1.51254935e-04, 2.97595181e-04, ...,\n",
              "        7.32072243e-05, 1.01425222e-03, 3.84471811e-04],\n",
              "       [1.16018541e-03, 1.51254935e-04, 2.97595181e-04, ...,\n",
              "        7.67494867e-05, 1.01425222e-03, 3.85953388e-04],\n",
              "       [1.15046306e-03, 1.56160565e-04, 2.97595181e-04, ...,\n",
              "        8.26532983e-05, 1.01425222e-03, 4.54775949e-01],\n",
              "       ...,\n",
              "       [1.13194447e-03, 1.97857886e-04, 3.09041171e-04, ...,\n",
              "        2.36152335e-05, 1.03499268e-05, 9.63031373e-06],\n",
              "       [1.12962965e-03, 1.97857860e-04, 3.08223654e-04, ...,\n",
              "        2.36152335e-05, 1.03499268e-05, 9.63030754e-06],\n",
              "       [1.13009271e-03, 1.97040318e-04, 3.08223638e-04, ...,\n",
              "        2.36152335e-05, 1.03499268e-05, 1.03710962e-05]])"
            ]
          },
          "metadata": {
            "tags": []
          },
          "execution_count": 23
        }
      ]
    },
    {
      "cell_type": "code",
      "metadata": {
        "trusted": true,
        "id": "IhkPe456Z0hw"
      },
      "source": [
        "X_train, X_test, y_train, y_test = train_test_split(X_scale, y, test_size=0.2, random_state = 4)"
      ],
      "execution_count": null,
      "outputs": []
    },
    {
      "cell_type": "code",
      "metadata": {
        "trusted": true,
        "id": "9hpgUbBRZ0h0"
      },
      "source": [
        "model = Sequential([\n",
        "    Dense(24, activation='relu', input_shape=( 24 ,)),\n",
        "    #Dense(12, activation='relu', input_shape=( 24 ,)),\n",
        "    #Dense(12, activation='relu', input_shape=( 51 ,)),\n",
        "    #Dense(15, activation='relu'),\n",
        "    Dense(30, activation='relu'),\n",
        "    Dense(1, activation='sigmoid')\n",
        "])"
      ],
      "execution_count": null,
      "outputs": []
    },
    {
      "cell_type": "code",
      "metadata": {
        "trusted": true,
        "id": "hwdP4sIFZ0h3"
      },
      "source": [
        "#model.compile(optimizer='sgd',\n",
        "#              loss='binary_crossentropy',\n",
        "#              metrics=['accuracy'])\n",
        "\n",
        "model.compile(optimizer='sgd',\n",
        "              loss='binary_crossentropy',\n",
        "              metrics=['accuracy'])"
      ],
      "execution_count": null,
      "outputs": []
    },
    {
      "cell_type": "code",
      "metadata": {
        "trusted": true,
        "id": "pG3VGfx0Z0h7",
        "colab": {
          "base_uri": "https://localhost:8080/",
          "height": 390
        },
        "outputId": "3798aae3-857b-4617-f1d4-e45df0f9c60c"
      },
      "source": [
        "start = time.time()\n",
        "hist = model.fit(X_train, y_train,\n",
        "          batch_size=10, epochs=10, validation_split=0.2)\n",
        "stop = time.time()\n",
        "print(f\"Training time: {stop - start}s\")\n",
        "# prints: Training time: 0.20307230949401855s\n",
        "\n",
        "# https://machinelearningmastery.com/evaluate-performance-deep-learning-models-keras/\n"
      ],
      "execution_count": null,
      "outputs": [
        {
          "output_type": "stream",
          "text": [
            "Epoch 1/10\n",
            "1792/1792 [==============================] - 2s 1ms/step - loss: 0.4797 - accuracy: 0.8032 - val_loss: 0.3762 - val_accuracy: 0.8404\n",
            "Epoch 2/10\n",
            "1792/1792 [==============================] - 2s 1ms/step - loss: 0.3537 - accuracy: 0.8599 - val_loss: 0.3571 - val_accuracy: 0.8570\n",
            "Epoch 3/10\n",
            "1792/1792 [==============================] - 2s 1ms/step - loss: 0.3411 - accuracy: 0.8642 - val_loss: 0.3526 - val_accuracy: 0.8570\n",
            "Epoch 4/10\n",
            "1792/1792 [==============================] - 2s 1ms/step - loss: 0.3356 - accuracy: 0.8635 - val_loss: 0.3468 - val_accuracy: 0.8541\n",
            "Epoch 5/10\n",
            "1792/1792 [==============================] - 2s 1ms/step - loss: 0.3314 - accuracy: 0.8632 - val_loss: 0.3439 - val_accuracy: 0.8554\n",
            "Epoch 6/10\n",
            "1792/1792 [==============================] - 2s 1ms/step - loss: 0.3278 - accuracy: 0.8631 - val_loss: 0.3398 - val_accuracy: 0.8536\n",
            "Epoch 7/10\n",
            "1792/1792 [==============================] - 2s 1ms/step - loss: 0.3232 - accuracy: 0.8633 - val_loss: 0.3370 - val_accuracy: 0.8581\n",
            "Epoch 8/10\n",
            "1792/1792 [==============================] - 2s 1ms/step - loss: 0.3192 - accuracy: 0.8640 - val_loss: 0.3301 - val_accuracy: 0.8558\n",
            "Epoch 9/10\n",
            "1792/1792 [==============================] - 2s 1ms/step - loss: 0.3146 - accuracy: 0.8646 - val_loss: 0.3270 - val_accuracy: 0.8601\n",
            "Epoch 10/10\n",
            "1792/1792 [==============================] - 2s 1ms/step - loss: 0.3100 - accuracy: 0.8675 - val_loss: 0.3215 - val_accuracy: 0.8677\n",
            "Training time: 20.994455575942993s\n"
          ],
          "name": "stdout"
        }
      ]
    },
    {
      "cell_type": "code",
      "metadata": {
        "trusted": true,
        "id": "U9cgm5cDZ0h_",
        "colab": {
          "base_uri": "https://localhost:8080/",
          "height": 324
        },
        "outputId": "39b1c07f-85b2-4964-cc17-80cb1d391b42"
      },
      "source": [
        "#visualize the training loss and the validation loss to see if the model is overfitting\n",
        "plt.plot(hist.history['loss'])\n",
        "plt.plot(hist.history['val_loss'])\n",
        "plt.title('Model loss')\n",
        "plt.ylabel('Loss')\n",
        "plt.xlabel('Epoch')\n",
        "plt.legend(['Train', 'Val'], loc='upper right')\n",
        "plt.show()"
      ],
      "execution_count": null,
      "outputs": [
        {
          "output_type": "display_data",
          "data": {
            "image/png": "[encoded data removed]",
            "text/plain": [
              "<Figure size 432x288 with 1 Axes>"
            ]
          },
          "metadata": {
            "tags": []
          }
        }
      ]
    },
    {
      "cell_type": "code",
      "metadata": {
        "trusted": true,
        "id": "jxW0k6ZHZ0iD",
        "colab": {
          "base_uri": "https://localhost:8080/",
          "height": 324
        },
        "outputId": "8f23b450-da02-4a74-9b1d-cf85d1c20cfe"
      },
      "source": [
        "#visualize the training accuracy and the validation accuracy to see if the model is overfitting\n",
        "plt.plot(hist.history['accuracy'])\n",
        "plt.plot(hist.history['val_accuracy'])\n",
        "plt.title('Model accuracy')\n",
        "plt.ylabel('Accuracy')\n",
        "plt.xlabel('Epoch')\n",
        "plt.legend(['Train', 'Val'], loc='lower right')\n",
        "plt.show()"
      ],
      "execution_count": null,
      "outputs": [
        {
          "output_type": "display_data",
          "data": {
            "image/png": "[encoded data removed]",
            "text/plain": [
              "<Figure size 432x288 with 1 Axes>"
            ]
          },
          "metadata": {
            "tags": []
          }
        }
      ]
    },
    {
      "cell_type": "code",
      "metadata": {
        "trusted": true,
        "id": "BN2LL92SZ0iG",
        "colab": {
          "base_uri": "https://localhost:8080/",
          "height": 72
        },
        "outputId": "202ee987-050c-4e89-edf0-8f6f2c34557f"
      },
      "source": [
        "#Make a prediction & print the actual values\n",
        "prediction = model.predict(X_test)\n",
        "#prediction  = [1 if y>=0.5 else 0 for y in prediction] #Threshold\n",
        "prediction  = [1 if y>=0.75 else 0 for y in prediction] #Threshold\n",
        "print(prediction)\n",
        "print(y_test)"
      ],
      "execution_count": null,
      "outputs": [
        {
          "output_type": "stream",
          "text": [
            "[1, 1, 0, 0, 0, 0, 0, 0, 0, 0, 0, 1, 1, 1, 0, 0, 0, 1, 1, 1, 0, 0, 1, 0, 0, 0, 0, 0, 1, 0, 0, 0, 1, 0, 1, 1, 0, 0, 0, 0, 0, 0, 1, 1, 1, 0, 1, 1, 0, 0, 1, 1, 0, 0, 1, 0, 0, 1, 1, 1, 1, 1, 0, 0, 0, 1, 1, 1, 0, 1, 1, 0, 1, 0, 1, 1, 0, 0, 1, 0, 1, 1, 1, 1, 0, 1, 0, 0, 0, 1, 0, 0, 0, 1, 0, 0, 0, 0, 0, 1, 0, 1, 0, 0, 1, 0, 1, 1, 1, 0, 1, 1, 0, 0, 0, 1, 0, 0, 0, 0, 1, 1, 0, 0, 0, 0, 1, 1, 0, 0, 0, 0, 0, 0, 1, 0, 1, 0, 1, 0, 0, 0, 0, 0, 0, 0, 1, 1, 0, 1, 0, 0, 1, 0, 1, 0, 1, 0, 1, 0, 1, 0, 0, 0, 0, 0, 1, 0, 1, 0, 0, 1, 0, 1, 1, 0, 0, 0, 0, 0, 1, 0, 0, 0, 0, 0, 0, 1, 1, 0, 1, 1, 0, 1, 0, 1, 0, 0, 0, 0, 0, 0, 1, 0, 0, 0, 1, 0, 0, 0, 1, 1, 0, 0, 0, 0, 1, 0, 0, 0, 0, 1, 0, 1, 0, 1, 0, 1, 1, 1, 0, 1, 0, 0, 1, 0, 1, 0, 1, 1, 0, 0, 1, 0, 1, 0, 0, 0, 0, 0, 0, 0, 0, 0, 0, 1, 0, 0, 1, 1, 0, 0, 0, 0, 1, 0, 0, 0, 0, 1, 0, 0, 0, 0, 0, 1, 0, 0, 0, 1, 0, 1, 1, 0, 0, 0, 1, 0, 0, 0, 1, 0, 1, 0, 1, 0, 1, 0, 0, 0, 1, 0, 0, 0, 0, 0, 0, 0, 1, 0, 0, 0, 0, 1, 0, 1, 1, 1, 1, 0, 0, 1, 0, 0, 0, 1, 1, 1, 0, 0, 0, 0, 0, 0, 0, 0, 0, 0, 1, 1, 1, 0, 0, 1, 0, 1, 0, 1, 0, 0, 1, 1, 1, 0, 1, 1, 0, 1, 1, 1, 1, 0, 0, 0, 1, 1, 0, 1, 0, 1, 0, 1, 0, 0, 1, 1, 1, 0, 0, 1, 0, 0, 1, 1, 0, 0, 0, 0, 0, 0, 1, 0, 0, 1, 1, 0, 0, 0, 0, 0, 0, 0, 0, 1, 1, 1, 1, 0, 1, 0, 0, 1, 0, 0, 0, 0, 1, 0, 0, 0, 0, 0, 1, 1, 0, 0, 0, 1, 1, 0, 0, 0, 1, 0, 1, 0, 1, 0, 0, 0, 0, 0, 0, 0, 0, 1, 0, 0, 1, 1, 1, 0, 0, 1, 1, 1, 0, 1, 1, 0, 1, 0, 0, 0, 0, 0, 0, 0, 0, 1, 0, 0, 0, 1, 1, 0, 0, 0, 0, 1, 0, 1, 0, 0, 0, 0, 1, 1, 0, 0, 0, 0, 1, 0, 0, 0, 0, 0, 1, 0, 0, 1, 1, 0, 0, 0, 0, 1, 1, 1, 0, 0, 0, 0, 1, 0, 0, 1, 0, 0, 1, 1, 1, 0, 0, 1, 1, 0, 1, 1, 0, 0, 1, 0, 0, 1, 1, 0, 0, 1, 0, 0, 1, 0, 0, 0, 1, 0, 0, 1, 0, 1, 1, 0, 1, 0, 0, 0, 0, 0, 1, 0, 0, 1, 1, 1, 0, 0, 0, 1, 1, 1, 0, 0, 1, 0, 1, 1, 0, 0, 1, 0, 0, 0, 0, 0, 1, 0, 0, 1, 1, 1, 0, 1, 0, 0, 0, 1, 0, 0, 0, 0, 0, 0, 0, 1, 0, 0, 1, 1, 1, 0, 0, 0, 1, 1, 1, 0, 1, 0, 0, 1, 1, 0, 1, 0, 1, 1, 1, 0, 0, 0, 1, 0, 1, 0, 1, 1, 0, 0, 0, 1, 0, 1, 0, 1, 0, 0, 0, 0, 1, 1, 1, 1, 0, 0, 0, 1, 1, 1, 0, 1, 0, 1, 0, 0, 0, 0, 0, 0, 0, 1, 1, 1, 1, 1, 0, 1, 1, 0, 1, 1, 1, 1, 1, 1, 0, 1, 0, 0, 0, 1, 1, 1, 1, 0, 1, 0, 1, 0, 1, 0, 0, 1, 0, 1, 1, 0, 1, 1, 1, 0, 0, 0, 0, 1, 0, 0, 1, 1, 0, 1, 0, 1, 0, 0, 1, 0, 1, 0, 0, 0, 0, 1, 1, 0, 1, 0, 0, 0, 0, 0, 0, 1, 0, 1, 0, 0, 0, 0, 0, 0, 0, 0, 1, 0, 1, 0, 1, 0, 0, 0, 0, 1, 0, 0, 1, 0, 0, 1, 0, 1, 1, 1, 1, 1, 0, 0, 1, 0, 0, 1, 0, 0, 0, 1, 0, 0, 0, 0, 1, 1, 0, 1, 0, 0, 0, 1, 0, 0, 1, 0, 0, 1, 1, 0, 1, 1, 0, 1, 1, 0, 1, 1, 1, 0, 0, 0, 0, 1, 1, 1, 0, 0, 0, 1, 0, 0, 0, 1, 1, 0, 1, 1, 0, 0, 0, 1, 0, 0, 0, 1, 0, 1, 0, 0, 0, 1, 0, 0, 0, 0, 0, 1, 0, 1, 0, 0, 1, 0, 1, 1, 0, 1, 0, 0, 0, 0, 0, 0, 0, 0, 1, 1, 0, 0, 1, 0, 1, 0, 0, 1, 0, 0, 0, 0, 1, 1, 0, 0, 0, 0, 0, 0, 0, 0, 0, 0, 0, 1, 1, 0, 0, 0, 1, 1, 0, 0, 0, 0, 1, 1, 1, 1, 1, 0, 1, 0, 0, 0, 0, 1, 0, 0, 1, 0, 1, 1, 0, 0, 0, 0, 0, 1, 0, 1, 1, 1, 0, 0, 1, 1, 0, 1, 1, 0, 0, 1, 0, 1, 1, 1, 0, 1, 0, 1, 0, 0, 1, 0, 0, 0, 0, 1, 0, 1, 0, 1, 0, 1, 1, 0, 0, 0, 0, 0, 0, 0, 0, 1, 0, 1, 0, 1, 0, 1, 1, 1, 1, 0, 1, 0, 1, 0, 1, 0, 0, 1, 0, 0, 1, 1, 0, 0, 1, 0, 0, 0, 1, 0, 1, 0, 0, 1, 1, 1, 1, 0, 1, 0, 0, 1, 1, 1, 1, 0, 0, 1, 1, 0, 1, 0, 0, 0, 0, 0, 0, 0, 0, 0, 0, 1, 1, 1, 0, 0, 0, 0, 0, 0, 0, 1, 1, 1, 0, 0, 0, 1, 0, 0, 0, 1, 0, 1, 0, 0, 1, 1, 0, 0, 0, 1, 0, 0, 0, 1, 0, 1, 0, 0, 1, 0, 1, 1, 1, 1, 0, 0, 0, 0, 0, 0, 1, 1, 0, 0, 0, 0, 0, 1, 1, 1, 0, 0, 1, 1, 0, 0, 1, 0, 0, 1, 1, 1, 0, 0, 1, 0, 1, 0, 1, 0, 0, 0, 1, 1, 0, 1, 0, 1, 0, 1, 1, 1, 0, 0, 0, 1, 0, 1, 0, 0, 0, 1, 0, 0, 1, 0, 0, 1, 0, 1, 0, 1, 1, 0, 1, 1, 0, 1, 0, 0, 0, 1, 0, 1, 0, 0, 1, 1, 0, 0, 1, 1, 0, 0, 1, 0, 0, 0, 1, 0, 0, 0, 0, 0, 0, 0, 1, 1, 0, 0, 1, 1, 0, 1, 0, 1, 0, 0, 0, 1, 0, 1, 0, 1, 0, 1, 0, 0, 0, 1, 0, 0, 0, 1, 1, 0, 0, 0, 0, 0, 1, 1, 1, 0, 0, 0, 1, 1, 1, 0, 0, 1, 0, 1, 1, 0, 0, 1, 1, 0, 0, 0, 0, 0, 0, 1, 0, 1, 0, 0, 0, 1, 1, 0, 1, 0, 0, 0, 0, 0, 0, 0, 0, 0, 0, 0, 0, 1, 1, 0, 1, 0, 1, 0, 0, 0, 0, 0, 0, 0, 1, 0, 1, 0, 1, 0, 0, 0, 0, 0, 1, 1, 0, 0, 1, 1, 0, 0, 1, 1, 1, 0, 1, 0, 0, 1, 1, 1, 0, 1, 0, 0, 1, 0, 0, 1, 0, 1, 0, 0, 1, 1, 1, 0, 0, 0, 0, 1, 0, 1, 1, 0, 0, 0, 1, 0, 0, 0, 1, 1, 1, 0, 1, 1, 1, 0, 1, 1, 0, 0, 0, 1, 1, 1, 0, 1, 0, 0, 0, 0, 1, 0, 1, 0, 0, 1, 1, 0, 0, 0, 1, 1, 0, 1, 1, 0, 0, 0, 0, 0, 0, 0, 0, 0, 1, 0, 1, 1, 1, 1, 0, 1, 1, 0, 0, 1, 1, 0, 0, 0, 0, 1, 0, 0, 1, 1, 0, 0, 0, 0, 0, 0, 1, 1, 1, 0, 1, 0, 0, 0, 0, 0, 0, 1, 0, 1, 0, 1, 1, 0, 1, 1, 1, 0, 0, 0, 1, 0, 0, 0, 1, 0, 0, 0, 0, 0, 0, 0, 1, 0, 0, 0, 0, 0, 0, 0, 1, 0, 0, 1, 1, 1, 0, 1, 0, 0, 0, 0, 0, 0, 0, 0, 1, 1, 0, 1, 0, 0, 0, 1, 0, 0, 0, 1, 1, 0, 1, 1, 1, 0, 0, 0, 0, 0, 0, 0, 0, 0, 1, 1, 0, 0, 0, 0, 1, 1, 0, 1, 0, 0, 0, 0, 0, 0, 0, 0, 0, 1, 1, 0, 0, 1, 0, 0, 0, 1, 0, 0, 0, 0, 0, 1, 0, 1, 0, 1, 0, 1, 1, 0, 1, 1, 1, 0, 0, 0, 1, 1, 1, 0, 1, 0, 1, 0, 1, 1, 0, 1, 1, 0, 0, 0, 0, 0, 1, 0, 1, 0, 0, 1, 0, 1, 0, 0, 0, 0, 0, 0, 1, 1, 0, 0, 0, 0, 0, 0, 0, 1, 1, 0, 0, 1, 1, 0, 1, 0, 0, 0, 1, 0, 0, 1, 0, 1, 1, 0, 0, 1, 0, 0, 0, 1, 1, 0, 0, 1, 0, 0, 1, 1, 1, 0, 1, 1, 0, 1, 0, 0, 0, 0, 1, 0, 0, 1, 0, 1, 1, 1, 0, 1, 0, 1, 0, 0, 1, 0, 0, 0, 0, 1, 1, 0, 0, 1, 0, 1, 0, 1, 1, 1, 0, 1, 0, 0, 1, 0, 1, 0, 1, 0, 0, 0, 0, 1, 1, 1, 0, 0, 1, 0, 0, 0, 0, 1, 0, 1, 1, 1, 0, 0, 1, 1, 1, 0, 0, 0, 0, 0, 0, 0, 1, 0, 0, 1, 0, 0, 0, 0, 0, 0, 0, 1, 1, 0, 0, 1, 0, 0, 0, 0, 0, 1, 0, 0, 0, 1, 0, 0, 0, 0, 0, 0, 1, 0, 0, 0, 1, 0, 0, 1, 0, 0, 0, 0, 1, 1, 0, 1, 1, 1, 0, 1, 1, 1, 0, 0, 0, 0, 0, 0, 1, 0, 1, 1, 1, 1, 0, 1, 1, 1, 0, 0, 1, 1, 1, 0, 0, 0, 1, 0, 1, 0, 0, 0, 0, 1, 0, 1, 1, 0, 1, 0, 0, 0, 0, 0, 0, 0, 1, 0, 0, 0, 0, 0, 0, 1, 1, 0, 0, 1, 0, 0, 0, 0, 1, 1, 1, 0, 1, 0, 1, 0, 1, 0, 1, 1, 1, 1, 0, 0, 1, 0, 0, 1, 1, 1, 0, 1, 0, 1, 0, 0, 0, 0, 0, 1, 1, 1, 0, 1, 1, 0, 0, 0, 1, 0, 1, 0, 0, 1, 0, 1, 1, 1, 1, 0, 0, 1, 1, 0, 0, 1, 0, 0, 0, 0, 1, 1, 0, 0, 0, 1, 0, 0, 1, 1, 0, 0, 1, 0, 1, 0, 0, 1, 1, 0, 0, 0, 0, 1, 0, 1, 0, 0, 1, 0, 0, 1, 0, 0, 1, 1, 0, 0, 1, 0, 0, 1, 0, 1, 0, 1, 1, 0, 0, 0, 1, 1, 0, 0, 1, 1, 0, 0, 0, 1, 1, 0, 1, 1, 1, 0, 0, 0, 1, 0, 1, 0, 1, 1, 1, 1, 0, 1, 0, 1, 0, 0, 0, 0, 0, 1, 1, 0, 1, 1, 0, 0, 1, 0, 0, 0, 0, 1, 0, 0, 0, 0, 0, 0, 1, 0, 0, 0, 0, 0, 0, 0, 0, 1, 0, 1, 0, 0, 0, 0, 1, 0, 1, 1, 0, 1, 0, 1, 0, 1, 0, 0, 0, 0, 0, 0, 0, 0, 0, 0, 1, 0, 0, 1, 0, 0, 1, 0, 1, 0, 1, 0, 0, 1, 0, 0, 1, 0, 0, 0, 0, 1, 1, 1, 0, 1, 0, 1, 1, 0, 1, 0, 0, 0, 0, 0, 0, 0, 0, 0, 0, 0, 0, 1, 1, 1, 1, 1, 1, 0, 0, 0, 0, 1, 1, 0, 0, 1, 1, 1, 0, 0, 1, 0, 1, 0, 1, 0, 1, 0, 0, 0, 1, 1, 0, 0, 0, 0, 0, 0, 0, 0, 0, 0, 0, 1, 0, 1, 0, 1, 1, 0, 1, 0, 0, 0, 1, 0, 0, 1, 1, 1, 1, 1, 0, 0, 1, 0, 1, 0, 0, 0, 0, 0, 0, 1, 1, 0, 0, 1, 0, 0, 0, 0, 0, 1, 1, 1, 0, 1, 1, 1, 1, 0, 1, 0, 1, 0, 1, 0, 0, 1, 1, 0, 1, 0, 0, 0, 1, 0, 0, 0, 0, 0, 1, 1, 0, 0, 1, 1, 0, 0, 1, 1, 1, 1, 1, 0, 0, 0, 1, 0, 0, 1, 1, 1, 0, 1, 0, 0, 0, 0, 0, 1, 0, 0, 1, 0, 0, 0, 1, 1, 0, 0, 1, 0, 0, 1, 0, 1, 1, 1, 0, 1, 1, 0, 1, 0, 0, 1, 0, 1, 1, 0, 1, 1, 0, 0, 0, 0, 0, 1, 0, 0, 0, 0, 0, 0, 1, 0, 1, 1, 0, 0, 0, 1, 0, 0, 0, 1, 0, 0, 1, 0, 1, 0, 1, 0, 0, 0, 0, 1, 1, 0, 0, 1, 0, 1, 0, 1, 0, 0, 1, 1, 0, 1, 1, 0, 1, 0, 0, 1, 1, 1, 1, 0, 1, 1, 1, 0, 0, 0, 0, 0, 0, 0, 0, 1, 0, 0, 0, 1, 0, 0, 1, 1, 1, 0, 1, 1, 0, 0, 1, 0, 0, 1, 1, 1, 1, 0, 1, 0, 0, 0, 0, 0, 0, 1, 0, 1, 0, 1, 1, 0, 0, 0, 0, 0, 1, 1, 0, 1, 0, 0, 0, 0, 0, 1, 0, 1, 0, 0, 1, 1, 0, 1, 0, 1, 0, 1, 1, 0, 0, 0, 0, 1, 0, 1, 0, 1, 0, 1, 0, 1, 0, 0, 0, 1, 1, 1, 1, 0, 0, 0, 0, 1, 1, 0, 1, 0, 1, 1, 0, 0, 1, 1, 1, 1, 0, 0, 1, 0, 1, 1, 1, 1, 1, 1, 0, 0, 1, 0, 0, 1, 0, 1, 1, 1, 0, 0, 0, 1, 1, 1, 1, 0, 0, 0, 0, 0, 1, 0, 0, 0, 0, 1, 0, 0, 1, 0, 0, 1, 1, 0, 1, 0, 0, 1, 1, 0, 0, 1, 0, 0, 0, 1, 1, 0, 1, 0, 1, 0, 1, 1, 0, 1, 1, 1, 0, 0, 1, 0, 0, 0, 0, 0, 0, 1, 1, 1, 1, 0, 1, 1, 0, 0, 1, 0, 1, 1, 0, 0, 0, 0, 0, 0, 0, 1, 0, 1, 1, 0, 0, 0, 0, 0, 0, 0, 0, 0, 1, 0, 0, 0, 0, 0, 0, 0, 0, 1, 0, 0, 0, 0, 0, 0, 0, 0, 0, 0, 1, 1, 0, 1, 1, 1, 1, 1, 1, 1, 1, 0, 1, 0, 1, 1, 0, 0, 1, 0, 0, 0, 0, 0, 1, 1, 1, 1, 0, 1, 0, 1, 0, 0, 0, 0, 0, 0, 1, 1, 0, 0, 0, 1, 0, 0, 0, 1, 0, 1, 0, 0, 1, 0, 1, 1, 1, 0, 0, 0, 1, 1, 0, 0, 0, 1, 1, 0, 0, 0, 0, 1, 0, 1, 1, 0, 0, 1, 0, 0, 0, 0, 1, 0, 1, 0, 1, 0, 0, 1, 0, 0, 0, 0, 1, 0, 0, 0, 0, 0, 1, 0, 1, 0, 1, 1, 0, 0, 1, 0, 0, 0, 1, 0, 0, 1, 0, 0, 1, 1, 1, 1, 1, 0, 0, 0, 0, 0, 0, 0, 0, 1, 0, 1, 0, 0, 1, 0, 1, 1, 1, 0, 1, 0, 1, 1, 0, 0, 1, 0, 1, 1, 0, 0, 1, 1, 0, 0, 1, 0, 0, 1, 0, 0, 1, 0, 0, 1, 1, 0, 0, 0, 0, 0, 0, 1, 0, 0, 0, 1, 1, 0, 0, 1, 0, 1, 0, 1, 1, 1, 0, 0, 0, 1, 0, 1, 0, 1, 1, 0, 0, 0, 0, 0, 0, 0, 1, 1, 1, 1, 1, 0, 0, 0, 1, 0, 1, 0, 0, 0, 0, 1, 1, 0, 0, 0, 0, 0, 0, 0, 0, 0, 0, 0, 0, 1, 0, 0, 0, 1, 0, 0, 0, 0, 1, 1, 1, 1, 0, 1, 0, 0, 0, 0, 1, 1, 0, 1, 0, 0, 0, 0, 0, 0, 0, 1, 1, 0, 1, 0, 1, 0, 1, 0, 1, 0, 0, 0, 1, 0, 1, 0, 0, 1, 0, 1, 0, 1, 0, 0, 1, 0, 1, 1, 0, 1, 1, 0, 0, 1, 0, 0, 0, 0, 0, 0, 1, 1, 0, 0, 0, 1, 1, 1, 1, 1, 0, 0, 0, 1, 1, 0, 1, 0, 0, 0, 1, 1, 0, 1, 1, 0, 0, 1, 0, 0, 1, 1, 0, 1, 0, 1, 0, 0, 1, 0, 0, 0, 0, 0, 0, 1, 0, 1, 0, 0, 1, 0, 0, 0, 0, 1, 1, 0, 0, 0, 0, 0, 0, 0, 1, 0, 1, 0, 0, 0, 0, 0, 1, 0, 0, 1, 0, 0, 0, 1, 1, 0, 1, 1, 0, 0, 1, 0, 1, 0, 0, 0, 0, 1, 0, 1, 0, 1, 1, 0, 1, 0, 0, 1, 0, 0, 0, 0, 1, 1, 1, 0, 1, 1, 0, 0, 1, 0, 1, 0, 1, 1, 0, 0, 0, 0, 0, 0, 0, 1, 0, 0, 0, 0, 0, 1, 1, 0, 0, 1, 0, 0, 0, 0, 0, 0, 0, 1, 1, 1, 0, 0, 0, 0, 0, 0, 0, 1, 0, 0, 0, 1, 1, 0, 1, 0, 0, 0, 0, 1, 1, 0, 1, 1, 1, 1, 0, 0, 1, 0, 1, 1, 0, 1, 0, 0, 1, 1, 0, 0, 0, 1, 0, 0, 0, 0, 1, 1, 1, 1, 0, 0, 1, 1, 1, 0, 1, 0, 1, 0, 1, 0, 1, 0, 1, 0, 1, 0, 1, 1, 0, 0, 0, 1, 0, 1, 1, 1, 1, 1, 1, 0, 1, 1, 0, 0, 1, 1, 0, 0, 0, 0, 1, 0, 1, 1, 0, 1, 0, 0, 0, 0, 0, 1, 1, 0, 0, 0, 0, 0, 0, 0, 0, 1, 1, 1, 0, 1, 1, 0, 0, 0, 0, 0, 1, 0, 0, 1, 0, 1, 1, 0, 1, 1, 0, 1, 0, 1, 0, 1, 0, 1, 1, 0, 1, 0, 0, 1, 0, 0, 0, 1, 1, 1, 0, 0, 0, 1, 0, 0, 0, 1, 0, 0, 0, 0, 1, 1, 0, 0, 0, 0, 0, 0, 1, 1, 0, 0, 0, 0, 0, 1, 1, 1, 0, 0, 0, 1, 0, 1, 1, 0, 0, 1, 1, 0, 0, 0, 1, 1, 0, 1, 0, 0, 0, 1, 0, 0, 1, 1, 1, 0, 1, 0, 0, 0, 1, 0, 0, 1, 1, 1, 0, 0, 0, 0, 1, 1, 0, 1, 1, 0, 1, 1, 1, 0, 0, 0, 0, 1, 0, 0, 1, 1, 1, 0, 1, 0, 0, 0, 0, 0, 0, 1, 0, 1, 0, 1, 1, 0, 1, 1, 0, 0, 1, 1, 0, 1, 0, 1, 1, 1, 1, 0, 1, 1, 1, 0, 0, 0, 1, 1, 0, 1, 0, 1, 1, 1, 0, 0, 1, 1, 0, 1, 0, 0, 0, 0, 0, 0, 1, 0, 0, 0, 1, 0, 1, 0, 1, 0, 1, 0, 1, 0, 1, 0, 1, 0, 0, 0, 0, 0, 0, 0, 0, 1, 0, 1, 0, 0, 0, 0, 1, 0, 0, 0, 0, 0, 1, 0, 0, 0, 0, 1, 0, 1, 1, 1, 1, 1, 0, 0, 0, 1, 0, 0, 0, 0, 0, 0, 0, 0, 0, 0, 1, 0, 1, 1, 0, 0, 1, 0, 0, 0, 0, 0, 0, 0, 0, 0, 1, 0, 0, 1, 1, 0, 0, 0, 0, 0, 1, 0, 1, 1, 1, 1, 1, 0, 1, 1, 1, 1, 1, 0, 0, 0, 1, 0, 0, 1, 0, 1, 0, 0, 1, 0, 1, 0, 0, 0, 0, 0, 1, 0, 0, 1, 1, 0, 1, 1, 1, 1, 0, 1, 1, 1, 0, 0, 0, 1, 1, 0, 1, 0, 0, 0, 1, 0, 1, 1, 1, 0, 1, 1, 0, 1, 0, 1, 0, 0, 0, 1, 0, 0, 0, 1, 0, 0, 1, 0, 1, 1, 0, 0, 1, 1, 0, 0, 0, 1, 0, 0, 1, 1, 1, 1, 0, 0, 1, 1, 0, 1, 0, 0, 1, 0, 0, 1, 0, 1, 1, 0, 0, 0, 0, 0, 1, 1, 0, 1, 1, 0, 1, 1, 0, 0, 1, 0, 0, 0, 1, 1, 0, 0, 0, 0, 1, 1, 1, 0, 1, 1, 0, 1, 0, 0, 1, 1, 1, 1, 1, 1, 0, 0, 0, 0, 0, 0, 0, 0, 1, 1, 1, 1, 1, 0, 0, 0, 0, 1, 0, 0, 0, 1, 0, 1, 0, 1, 1, 0, 0, 0, 1, 0, 0, 1, 0, 1, 0, 1, 1, 0, 0, 0, 1, 0, 0, 0, 0, 0, 0, 0, 1, 1, 0, 0, 0, 1, 1, 1, 0, 0, 1, 1, 1, 1, 1, 0, 0, 1, 1, 0, 0, 0, 0, 0, 0, 0, 1, 1, 0, 0, 0, 0, 1, 1, 0, 1, 0, 1, 0, 0, 1, 0, 0, 0, 0, 0, 0, 0, 0, 0, 1, 1, 1, 0, 0, 0, 0, 0, 1, 0, 0, 0, 0, 0, 1, 0, 0, 1, 0, 0, 0, 0, 0, 0, 0, 1, 0, 1, 1, 0, 0, 0, 0, 1, 0, 0, 0, 0, 0, 0, 0, 0, 0, 1, 1, 0, 0, 1, 1, 1, 0, 0, 0, 1, 1, 0, 1, 0, 0, 0, 1, 1, 1, 0, 1, 0, 0, 1, 1, 0, 1, 1, 0, 1, 0, 0, 0, 0, 1, 1, 1, 0, 0, 0, 1, 0, 0, 0, 0, 1, 1, 1, 1, 1, 1, 1, 0, 0, 0, 0, 0, 1, 0, 0, 1, 1, 1, 1, 0, 1, 0, 1, 0, 0, 1, 0, 0, 0, 0, 1, 0, 0, 1, 0, 1, 0, 1, 1, 1, 1, 1, 1, 0, 0, 0, 1, 1, 0, 0, 1, 1, 0, 1, 1, 1, 0, 1, 0, 0, 1, 1, 1, 0, 0, 0, 0, 0, 1, 1, 1, 1, 0, 1, 1, 0, 0, 1, 0, 0, 0, 0, 0, 1, 0, 0, 0, 0, 0, 0, 1, 0, 1, 0, 1, 0, 1, 0, 0, 1, 0, 1, 1, 1, 1, 0, 1, 0, 0, 0, 0, 0, 0, 0, 0, 1, 0, 0, 0, 0, 0, 1, 0, 0, 0, 1, 1, 1, 1, 1, 1, 0, 0, 1, 0, 0, 0, 1, 0, 1, 0, 0, 0, 1, 0, 0, 0, 0, 1, 1, 0, 0, 1, 0, 1, 1, 0, 1, 0, 0, 0, 1, 0, 0, 1, 0, 0, 1, 0, 0, 1, 0, 1, 0, 0, 0, 0, 1, 0, 1, 0, 1, 0, 1, 0, 1, 0, 1, 0, 0, 0, 1, 1, 0, 0, 0, 0, 1, 0, 0, 1, 1, 1, 1, 0, 1, 0, 0, 1, 1, 0, 1, 0, 0, 0, 0, 0, 0, 0, 1, 1, 1, 1, 1, 0, 1, 1, 0, 1, 0, 1, 0, 1, 0, 1, 1, 1, 1, 0, 1, 1, 1, 0, 1, 1, 1, 0, 0, 1, 1, 1, 1, 1, 1, 1, 1, 1, 0, 0, 1, 1, 0, 0, 0, 0, 1, 0, 0, 1, 1, 0, 0, 0, 0, 0, 0, 0, 0, 0, 0, 0, 0, 1, 1, 1, 1, 1, 1, 0, 0, 0, 1, 1, 0, 1, 0, 0, 0, 0, 1, 1, 0, 0, 0, 0, 0, 1, 0, 0, 0, 1, 1, 0, 1, 0, 1, 0, 0, 1, 0, 0, 0, 0, 0, 0, 0, 1, 0, 0, 0, 0, 0, 1, 0, 0, 1, 0, 1, 0, 1, 0, 0, 0, 1, 1, 0, 0, 1, 1, 1, 0, 0, 0, 0, 1, 0, 1, 0, 0, 1, 0, 1, 0, 0, 0, 0, 0, 1, 1, 1, 0, 1, 0, 1, 1, 1, 1, 0, 1, 0, 1, 0, 0, 0, 1, 1, 1, 0, 1, 1, 0, 0, 0, 1, 0, 0, 0, 0, 0, 1, 1, 1, 0, 1, 1, 0, 1, 0, 0, 0, 1, 1, 0, 1, 1, 0, 0, 1, 0, 0, 0, 1, 1, 0, 0, 1, 0, 1, 0, 0, 1, 1, 1, 1, 1, 1, 1, 0, 0, 0, 1, 0, 1, 1, 0, 0, 0, 0, 1, 0, 1, 0, 0, 1, 0, 1, 1, 1, 0, 0, 1, 0, 1, 1, 1, 1, 0, 1, 0, 0, 0, 1, 1, 1, 0, 1, 0, 1, 0, 1, 0, 1, 1, 1, 0, 1, 0, 0, 0, 0, 1, 0, 0, 1, 1, 0, 1, 0, 1, 1, 0, 0, 1, 0, 0, 1, 0, 1, 1, 0, 1, 1, 0, 0, 0, 0, 1, 1, 0, 0, 1, 0, 1, 1, 1, 0, 1, 1, 0, 0, 0, 0, 1, 0, 0, 0, 1, 1, 0, 0, 1, 0, 1, 0, 0, 0, 0, 1, 1, 1, 1, 0, 0, 0, 0, 0, 0, 0, 1, 0, 1, 0, 0, 0, 0, 0, 1, 0, 1, 1, 0, 0, 0, 1, 0, 1, 1, 0, 0, 0, 0, 0, 0, 0, 1, 0, 1, 0, 0, 0, 0, 1, 0, 1, 0, 0, 1, 1, 1, 1, 0, 0, 0, 0, 0, 1, 0, 0, 0, 0, 1, 1, 0, 0, 1, 0, 0, 0, 1, 0, 0, 1, 1, 1, 0, 0, 0, 0, 0, 0, 0, 1, 1, 1, 1, 0, 0, 1, 0, 0, 0, 0, 0, 0, 0, 0, 1, 0, 1, 0, 0, 0, 0, 1, 1, 0, 0, 0, 0, 1, 1, 1, 0, 0, 0, 0, 0, 1, 1, 0, 1, 0, 0, 0, 0, 0, 1, 0, 0, 0, 0, 0, 1, 0, 0, 1, 0, 0, 0, 0, 1, 1, 1, 0, 0, 0, 1, 1, 1, 0, 0, 0, 1, 1, 0, 0, 0, 0, 0, 1, 1, 0, 1, 1, 0, 0, 1, 1, 0, 1, 1, 0, 1, 1, 0, 1, 0, 0, 0, 0, 1, 0, 0, 0, 0, 1, 0, 0, 1, 0, 0, 1, 0, 0, 0, 0, 1, 1, 1, 0, 0, 0, 1, 1, 1, 1, 1, 0, 1, 0, 0, 0, 0, 0, 0, 0, 0, 0, 1, 0, 0, 0, 1, 0, 1, 0, 0, 1, 0, 1, 0, 0, 0, 0, 0, 0, 1, 1, 0, 0, 0, 1, 0, 0, 0, 0, 0, 0, 0, 0, 0, 1, 0, 1, 1, 1, 1, 1, 0, 0, 0, 1, 1, 0, 1, 1, 0, 0, 1, 0, 0, 1, 1, 0, 1, 0, 0, 0, 0, 0, 0, 0, 0, 0, 0, 0, 1, 0, 0, 0, 0, 0, 0, 1, 1, 0, 1, 1, 0, 0, 1, 0, 0, 0, 0, 0, 1, 0, 0, 0, 0, 0, 0, 0, 0, 0, 0, 0, 1, 1, 0, 0, 0, 1, 0, 0, 1, 0, 1, 0, 1, 1, 0, 0, 1, 1, 0, 1, 1, 0, 0, 0, 0, 0, 1, 0, 0, 0, 1, 1, 1, 1, 0, 0, 0, 1, 0, 1, 1, 1, 1, 0, 0, 0, 1, 0, 0, 1, 1, 0, 1, 1, 0, 0, 1, 1, 1, 0, 1, 0, 0, 0, 1, 0, 0, 1, 1, 1, 0, 0, 0, 0, 1, 1, 1, 0, 1, 1, 0, 0, 0, 1, 0, 0, 0, 0, 1, 0, 1, 1, 0, 0, 0, 1, 0, 1, 0, 1, 1, 0, 0, 0, 0, 0, 0, 0, 1, 0, 0, 0, 1, 0, 0, 0, 1, 0, 0, 0, 0, 1, 0, 1, 0, 0, 0, 0, 1, 0, 0, 0, 0, 0, 0, 0, 0, 1, 0, 1, 0, 0, 0, 0, 0, 0, 0, 0, 0, 1, 0, 1, 0, 0, 0, 1, 1, 1, 0, 0, 1, 0, 0, 0, 0, 0, 1, 0, 1, 0, 0, 0, 1, 0, 0, 0, 1, 0, 0, 1, 1, 1, 0, 0, 0, 0, 0, 0, 0, 1, 0, 1, 1, 0, 1, 0, 1, 0, 0, 1, 0, 0, 1, 0, 0, 1, 0, 0, 0, 0, 0, 0, 0, 1, 1, 1, 1, 0, 1, 0, 0, 0, 1, 0, 1, 0, 1, 0, 0, 1, 1, 0, 1, 1, 0, 1, 0, 1, 0, 0, 0, 1, 1, 1, 0, 0, 0, 1, 0, 1, 0, 0, 0, 0, 0, 0, 0, 1, 0, 0, 0, 0, 0, 0, 0, 1, 1, 1, 0, 0, 1, 0, 1, 0, 0, 0, 1, 1, 0, 0, 0, 0, 1, 1, 0, 0, 1, 1, 0, 1, 0, 1, 0, 1, 0, 0, 0, 1, 0, 1, 1, 0, 0, 0, 1, 0, 1, 0, 1, 1, 1, 0, 0, 0, 0, 0, 0, 1, 0, 0, 0, 0, 0, 0, 0, 0, 0, 0, 0, 0, 0, 1, 1, 1, 0, 0, 0, 0, 1, 1, 0, 1, 0, 0, 1, 1, 1, 1, 1, 0, 1, 0, 1, 0, 1, 0, 0, 1, 0, 0, 0, 1, 1, 0, 0, 1, 1, 1, 0, 0, 0, 1, 0, 1, 0, 1, 1, 1, 1, 0, 0, 1, 0, 1, 0, 0, 0, 1, 0, 0, 1, 0, 0, 0, 1, 0, 0, 0, 1, 0, 0, 1, 1, 1, 1, 0, 0, 1, 1, 0, 0, 0, 0, 0, 1, 0, 0, 1, 1, 0, 1, 1, 0, 0, 0, 0, 0, 0, 0, 1, 0, 0, 0, 1, 0, 0, 1, 0, 1, 1, 0, 1, 1, 0, 1, 1, 0, 0, 0, 0, 0, 1, 0, 0, 1, 0, 1, 1, 0, 0, 0, 0, 1, 0, 0, 1, 0, 1, 0, 0, 0, 0, 0, 0, 0, 0, 1, 1, 0, 0, 0, 0, 1, 0, 0, 1, 0, 1, 0, 0, 0, 1, 1, 0, 0, 0, 0, 1, 0, 1, 1, 0, 0, 0, 0, 0, 0, 1, 1, 1, 1, 0, 1, 0, 1, 0, 1, 1, 0, 0, 0, 1, 1, 1, 1, 1, 0, 0, 1, 0, 0, 1, 0, 1, 1, 1, 1, 1, 1, 1, 0, 0, 1, 0, 0, 1, 0, 1, 0, 0, 0, 0, 0, 1, 1, 1, 0, 0, 0, 0, 0, 0, 0, 1, 1, 0, 0, 0, 0, 0, 0, 0, 0, 0, 1, 0, 0, 1, 0, 0, 1, 0, 1, 1, 0, 1, 1, 0, 1, 0, 1, 0, 0, 0, 0, 0, 1, 1, 1, 1, 0, 0, 0, 0, 0, 0, 0, 0, 1, 1, 0, 0, 0, 0, 1, 1, 0, 0, 1, 1, 1, 0, 0, 0, 1, 1, 0, 0, 0, 1, 1, 0, 0, 1, 0, 0, 0, 0, 1, 1, 1, 1, 0, 0, 0, 0, 0, 0, 0, 0, 0, 0, 0, 0, 1, 0, 1, 0, 0, 0, 1, 0, 0, 1, 0, 0, 0, 0, 0, 0, 0, 0, 0, 0, 0, 0, 0, 1, 1, 1, 1, 0, 0, 1, 1, 0, 0, 1, 1, 1, 1, 0, 0, 0, 1, 1, 0, 0, 1, 0, 1, 0, 1, 0, 0, 0, 0, 1, 1, 0, 0, 0, 1, 0, 1, 0, 1, 0, 0, 0, 0, 0, 0, 1, 0, 1, 0, 0, 0, 0, 1, 0, 0, 1, 0, 1, 1, 1, 0, 0, 0, 0, 0, 1, 1, 0, 1, 0, 0, 0, 0, 0, 1, 1, 0, 0, 0, 0, 0, 0, 0, 1, 1, 0, 0, 0, 1, 0, 0, 1, 0, 1, 0, 0, 1, 1, 0, 0, 0, 0, 1, 0, 0, 0, 1, 1, 0, 1, 0, 1, 0, 1, 1, 0, 1, 1, 0, 0, 0, 0, 0, 0, 1, 0, 0, 0, 1, 0, 1, 0, 0, 1, 1, 1, 0, 0, 1, 0, 0, 1, 0, 0, 0, 0, 0, 0, 0, 0, 0, 0, 1, 0, 0, 0, 1, 1, 0, 1, 1, 0, 0, 1, 0, 1, 0, 1, 0, 0, 1, 0, 1, 1, 0, 0, 0, 1, 0, 0, 1, 1, 1, 1, 0, 1, 1, 0, 1, 0, 1, 1, 0, 1, 1, 1, 1, 0, 1, 1, 1, 0, 1, 1, 1, 0, 0, 0, 1, 1, 0, 1, 1, 0, 1, 0, 0, 0, 1, 0, 1, 1, 0, 0, 0, 0, 0, 0, 0, 1, 0, 0, 0, 0, 1, 0, 0, 0, 1, 0, 0, 0, 0, 0, 1, 0, 1, 0, 0, 1, 0, 0, 1, 0, 1, 1, 0, 0, 0, 0, 0, 0, 1, 1, 0, 0, 1, 1, 0, 0, 0, 0, 1, 1, 0, 0, 1, 0, 0, 0, 0, 0, 0, 0, 1, 0, 0, 1, 0, 1, 1, 0, 1, 0, 0, 1, 0, 1, 0, 0, 1, 0, 0, 0, 1, 0, 1, 1, 1, 1, 0, 0, 1, 0, 1, 0, 0, 0, 0, 1, 1, 0, 0, 0, 0, 1, 0, 0, 0, 1]\n",
            "[1. 1. 0. ... 0. 0. 1.]\n"
          ],
          "name": "stdout"
        }
      ]
    },
    {
      "cell_type": "code",
      "metadata": {
        "trusted": true,
        "id": "IqFu1c6jZ0iJ",
        "colab": {
          "base_uri": "https://localhost:8080/",
          "height": 283
        },
        "outputId": "3a6dc8a8-8319-4c00-87dc-671b1b54fb7d"
      },
      "source": [
        "from sklearn.metrics import classification_report,confusion_matrix, accuracy_score\n",
        "pred = model.predict(X_train)\n",
        "#pred  = [1 if y>=0.5 else 0 for y in pred] #Threshold\n",
        "pred  = [1 if y>=0.5 else 0 for y in pred] #Threshold\n",
        "print(classification_report(y_train ,pred ))\n",
        "print('Confusion Matrix: \\n',confusion_matrix(y_train,pred))\n",
        "print()\n",
        "print('Accuracy: ', accuracy_score(y_train,pred))\n",
        "print()"
      ],
      "execution_count": null,
      "outputs": [
        {
          "output_type": "stream",
          "text": [
            "              precision    recall  f1-score   support\n",
            "\n",
            "         0.0       0.82      0.95      0.88     11211\n",
            "         1.0       0.94      0.80      0.86     11190\n",
            "\n",
            "    accuracy                           0.87     22401\n",
            "   macro avg       0.88      0.87      0.87     22401\n",
            "weighted avg       0.88      0.87      0.87     22401\n",
            "\n",
            "Confusion Matrix: \n",
            " [[10670   541]\n",
            " [ 2268  8922]]\n",
            "\n",
            "Accuracy:  0.8746038123298067\n",
            "\n"
          ],
          "name": "stdout"
        }
      ]
    },
    {
      "cell_type": "code",
      "metadata": {
        "trusted": true,
        "id": "5g4594mLZ0iM",
        "colab": {
          "base_uri": "https://localhost:8080/",
          "height": 283
        },
        "outputId": "00ff7a55-6608-4510-9bbb-4b605c0ea2d4"
      },
      "source": [
        "from sklearn.metrics import classification_report,confusion_matrix, accuracy_score\n",
        "pred = model.predict(X_test)\n",
        "#pred  = [1 if y>=0.5 else 0 for y in pred] #Threshold\n",
        "pred  = [1 if y>=0.5 else 0 for y in pred] #Threshold\n",
        "print(classification_report(y_test ,pred ))\n",
        "print('Confusion Matrix: \\n',confusion_matrix(y_test,pred))\n",
        "print()\n",
        "print('Accuracy: ', accuracy_score(y_test,pred))\n",
        "print()"
      ],
      "execution_count": null,
      "outputs": [
        {
          "output_type": "stream",
          "text": [
            "              precision    recall  f1-score   support\n",
            "\n",
            "         0.0       0.82      0.95      0.88      2790\n",
            "         1.0       0.94      0.80      0.86      2811\n",
            "\n",
            "    accuracy                           0.87      5601\n",
            "   macro avg       0.88      0.87      0.87      5601\n",
            "weighted avg       0.88      0.87      0.87      5601\n",
            "\n",
            "Confusion Matrix: \n",
            " [[2638  152]\n",
            " [ 569 2242]]\n",
            "\n",
            "Accuracy:  0.8712729869666131\n",
            "\n"
          ],
          "name": "stdout"
        }
      ]
    },
    {
      "cell_type": "code",
      "metadata": {
        "trusted": true,
        "id": "-BcbLLLOZ0iQ",
        "colab": {
          "base_uri": "https://localhost:8080/",
          "height": 52
        },
        "outputId": "c2cb37e9-d8fb-4a2d-cc8d-148504d43bd3"
      },
      "source": [
        "model.evaluate(X_test, y_test)[1]"
      ],
      "execution_count": null,
      "outputs": [
        {
          "output_type": "stream",
          "text": [
            "176/176 [==============================] - 0s 880us/step - loss: 0.3135 - accuracy: 0.8713\n"
          ],
          "name": "stdout"
        },
        {
          "output_type": "execute_result",
          "data": {
            "text/plain": [
              "0.8712729811668396"
            ]
          },
          "metadata": {
            "tags": []
          },
          "execution_count": 33
        }
      ]
    },
    {
      "cell_type": "code",
      "metadata": {
        "trusted": true,
        "id": "KTvkintDZ0iX"
      },
      "source": [
        "# ann cros vaidacion\n",
        "# https://medium.com/datadriveninvestor/k-fold-and-dropout-in-artificial-neural-network-ea054a89fb4e"
      ],
      "execution_count": null,
      "outputs": []
    },
    {
      "cell_type": "code",
      "metadata": {
        "trusted": true,
        "id": "n0Ba5ZN9Z0iZ"
      },
      "source": [
        "#builing the neural net\n",
        "from keras import Sequential\n",
        "from keras.layers import Dense\n",
        "from keras.layers import Dropout\n",
        "from keras.wrappers.scikit_learn import KerasClassifier\n",
        "from sklearn.model_selection import cross_val_score"
      ],
      "execution_count": null,
      "outputs": []
    },
    {
      "cell_type": "code",
      "metadata": {
        "trusted": true,
        "id": "3WaVERXZZ0ic"
      },
      "source": [
        "#accuracies =  cross_val_score(estimator=classifier, X= X, y=output_category,cv=10, n_jobs=-1)\n",
        "#accuracies\n",
        "\n",
        "#accuracies =  cross_val_score(estimator=model, X= X_test, y=pred,cv=5, n_jobs=-1)\n",
        "#accuracies"
      ],
      "execution_count": null,
      "outputs": []
    },
    {
      "cell_type": "code",
      "metadata": {
        "trusted": true,
        "id": "svZWF-Y-Z0ig"
      },
      "source": [
        "# https://medium.com/analytics-vidhya/artificial-neural-network-ann-with-keras-simplified-use-case-if-student-pass-the-exam-code-949ddb2a9c91"
      ],
      "execution_count": null,
      "outputs": []
    },
    {
      "cell_type": "code",
      "metadata": {
        "trusted": true,
        "id": "L0QbZFP0Z0il"
      },
      "source": [
        "from sklearn.model_selection import cross_validate\n",
        "from sklearn.model_selection import cross_val_score\n",
        "def kera_classifier():\n",
        "    cf = Sequential()\n",
        "    #cf.add(Dense(units = 12,  activation = 'relu', input_dim = 24))\n",
        "    cf.add(Dense(units = 24,  activation = 'relu', input_dim = 24))\n",
        "    #cf.add(Dense(units = 12,  activation = 'relu', input_dim = 51))\n",
        "    #cf.add(Dense(units = 15,  activation = 'relu'))\n",
        "    cf.add(Dense(units = 30,  activation = 'relu'))\n",
        "    cf.add(Dense(units = 1, activation = 'sigmoid'))\n",
        "    cf.compile(optimizer = 'adam', loss = 'binary_crossentropy', metrics = ['accuracy'])\n",
        "    return cf\n",
        "start7 = time.time()\n",
        "cf = KerasClassifier(build_fn = kera_classifier, batch_size = 10, epochs = 10)\n",
        "#cf = KerasClassifier(build_fn = kera_classifier, batch_size = 57, epochs = 100)\n",
        "#acuracies = cross_val_score(estimator = cf, X = X_train, y = y_train, cv = 10, n_jobs = -1)\n",
        "#accuracies = cross_validate(cf, X = X_train, y = y_train, cv = 10, n_jobs = -1,scoring ='accuracy')\n",
        "accuracies = cross_val_score(cf, X = X_train, y = y_train, cv = 10, n_jobs = -1,scoring ='accuracy')\n",
        "#ean = accuracies.mean()\n",
        "#iance = accuracies.std()\n",
        "#\n",
        "prec = cross_val_score(cf, X = X_train, y = y_train, cv = 10, n_jobs = -1 ,scoring ='precision_macro')\n",
        "f1 = cross_val_score(cf, X = X_train, y = y_train, cv = 10, n_jobs = -1 ,scoring ='f1')\n",
        "recal = cross_val_score(cf, X = X_train, y = y_train, cv = 10, n_jobs = -1 ,scoring ='recall')\n",
        "#ean1= recal.mean()\n",
        "#ariance1= recal.std()"
      ],
      "execution_count": null,
      "outputs": []
    },
    {
      "cell_type": "code",
      "metadata": {
        "trusted": true,
        "id": "5ZAzyLkDZ0io",
        "colab": {
          "base_uri": "https://localhost:8080/",
          "height": 496
        },
        "outputId": "47e7578c-a3b4-44ae-bc1b-bf02dd6de505"
      },
      "source": [
        "#print(f\"accuracy:\")\n",
        "#print (accuracies)\n",
        "#print (mean)\n",
        "#print( variance)\n",
        "#print(f\"recall:\")\n",
        "#print (recal)\n",
        "#print (mean1)\n",
        "#print( variance1)\n",
        "\n",
        "#\n",
        "print(f\"preci:\")\n",
        "print(prec)\n",
        "print(prec.mean())\n",
        "print(prec.std())\n",
        "#print(variance['test_score'])\n",
        "#\n",
        "print(f\"recall:\")\n",
        "print(recal)\n",
        "print(recal.mean())\n",
        "print(recal.std())\n",
        "#print(variance['test_score'])\n",
        "#\n",
        "#\n",
        "print(f\"f1-score:\")\n",
        "print(f1)\n",
        "print(f1.mean())\n",
        "print(f1.std())\n",
        "#print(variance['test_score'])\n",
        "#\n",
        "#\n",
        "print(f\"accuracy:\")\n",
        "print(accuracies)\n",
        "print(\"\\n\")\n",
        "print(accuracies.mean())\n",
        "print(\"\\n\")\n",
        "print(accuracies.std())\n",
        "print(\"\\n\")\n",
        "#print(variance['test_score'])\n",
        "#\n",
        "stop7 = time.time()\n",
        "print(f\"CV Training time: {stop7 - start7}s\")\n",
        "\n",
        "# 200 epochs\n",
        "# 0.9936249911785126\n",
        "# 0.003466360910457571"
      ],
      "execution_count": null,
      "outputs": [
        {
          "output_type": "stream",
          "text": [
            "preci:\n",
            "[0.92841349 0.92178189 0.9286992  0.91110592 0.91184131 0.92263111\n",
            " 0.91364013 0.93077166 0.91847826 0.91086715]\n",
            "0.9198230125943067\n",
            "0.007376431933347092\n",
            "recall:\n",
            "[0.81441441 0.80037665 0.80192813 0.85       0.7960644  0.80506993\n",
            " 0.83735478 0.80272727 0.78074866 0.79541446]\n",
            "0.8084098705215178\n",
            "0.019595988440232293\n",
            "f1-score:\n",
            "[0.91731518 0.8868023  0.88845781 0.88564477 0.91207729 0.91252955\n",
            " 0.88282026 0.88303797 0.90432249 0.88321884]\n",
            "0.8956226454195741\n",
            "0.013444972678477716\n",
            "accuracy:\n",
            "[0.91967871 0.9        0.89642857 0.89821429 0.89375    0.91517857\n",
            " 0.92008929 0.89732143 0.90491071 0.89553571]\n",
            "\n",
            "\n",
            "0.9041107286288008\n",
            "\n",
            "\n",
            "0.009790124796082737\n",
            "\n",
            "\n",
            "CV Training time: 744.6539242267609s\n"
          ],
          "name": "stdout"
        }
      ]
    },
    {
      "cell_type": "code",
      "metadata": {
        "trusted": true,
        "id": "r-Di70PfZ0is"
      },
      "source": [
        "#  Dense(12, activation='relu', input_shape=( 51 ,)),\n",
        "#    Dense(15, activation='relu'),\n",
        "#    Dense(1, activation='sigmoid')"
      ],
      "execution_count": null,
      "outputs": []
    },
    {
      "cell_type": "code",
      "metadata": {
        "id": "hO7FxWVh0C6S",
        "colab": {
          "base_uri": "https://localhost:8080/",
          "height": 1000
        },
        "outputId": "aca980f3-6795-49e9-fe93-4b99f660791f"
      },
      "source": [
        "from sklearn.model_selection import cross_validate\n",
        "from sklearn.model_selection import cross_val_score\n",
        "\n",
        "from sklearn.metrics import plot_confusion_matrix\n",
        "\n",
        "#hist = model.fit(X_train, y_train,\n",
        "#          batch_size=20, epochs=25, validation_split=0.2)\n",
        "\n",
        "# neurona= 24 + 24 + 30 + 1\n",
        "\n",
        "def kera_classifier():\n",
        "    clf = Sequential()\n",
        "    clf.add(Dense(units = 24,  activation = 'relu', input_dim = 24))\n",
        "    #cf.add(Dense(units = 12,  activation = 'relu', input_dim = 51))\n",
        "    clf.add(Dense(units = 30,  activation = 'relu'))\n",
        "    clf.add(Dense(units = 1, activation = 'sigmoid'))\n",
        "    clf.compile(optimizer = 'adam', loss = 'binary_crossentropy', metrics = ['accuracy'])\n",
        "    return clf\n",
        "start7 = time.time()\n",
        "#cf = KerasClassifier(build_fn = kera_classifier, batch_size = 20, epochs = 25)\n",
        "clf = KerasClassifier(build_fn = kera_classifier, batch_size = 10, epochs = 30, validation_split=0.2)\n",
        "\n",
        "#accuracies = cross_val_score(cf, X = X_train, y = y_train, cv = 10, n_jobs = -1,scoring ='accuracy')\n",
        "\n",
        "#\n",
        "#prec = cross_val_score(cf, X = X_train, y = y_train, cv = 10, n_jobs = -1 ,scoring ='precision_macro')\n",
        "#f1 = cross_val_score(cf, X = X_train, y = y_train, cv = 10, n_jobs = -1 ,scoring ='f1')\n",
        "#recal = cross_val_score(cf, X = X_train, y = y_train, cv = 10, n_jobs = -1 ,scoring ='recall')\n",
        "\n",
        "#scores = cross_validate(clf, X, y, cv=10,scoring =['accuracy','f1','recall','precision'],return_train_score=False)\n",
        "scores = cross_validate(clf, X = X_train,  y = y_train, cv=10,scoring =['accuracy','f1','recall','precision'],return_train_score=False)\n",
        " \n",
        "\n",
        "#mejora gh\n",
        "# solo es soportado por clasificadores\n",
        "#plot_confusion_matrix(clf, X_test, y_test, cmap=plt.cm.Blues)  \n",
        "\n",
        "#plt.show()\n",
        "\n",
        "gh4 = scores.get(\"test_accuracy\")\n",
        "\n",
        "print(f\"accuracy:\")\n",
        "print(gh4)\n",
        "print(gh4.mean())\n",
        "\n",
        "gh3 = scores.get(\"test_precision\")\n",
        "\n",
        "print(f\"precision:\")\n",
        "print(gh3)\n",
        "print(gh3.mean())\n",
        "\n",
        "gh = scores.get(\"test_recall\")\n",
        "\n",
        "print(f\"recall:\")\n",
        "print(gh)\n",
        "print(gh.mean())\n",
        "\n",
        "gh2 = scores.get(\"test_f1\")\n",
        "\n",
        "print(f\"f1:\")\n",
        "print(gh2)\n",
        "print(gh2.mean())\n",
        "\n",
        "#CM = confusion_matrix(y_test, y_pred)\n",
        "\n",
        "CM = confusion_matrix(y_test, pred)\n",
        "\n",
        "print(f\"--------\")\n",
        "print(f\"matriz de confusion:\")\n",
        "TN = CM[0][0]\n",
        "FN = CM[1][0]\n",
        "TP = CM[1][1]\n",
        "FP = CM[0][1]\n",
        "print(f\"TN={TN}, FP={FP} \")\n",
        "print(f\"FN={FN}, TP={TP} \")\n",
        "\n",
        "print(f\"--------\")\n",
        "print(f\"matriz de confusion %:\")\n",
        "total1=(TN+TP+FN+FP)\n",
        "\n",
        "print(f\"TN={100*TN/total1}, FP={100*FP/total1} \")\n",
        "print(f\"FN={100*FN/total1}, TP={100*TP/total1} \")\n",
        "\n",
        "print(f\"--------\")\n",
        "acc1=(TN+TP)/(TN+TP+FN+FP)\n",
        "print(f\"accuracy1={acc1}\")\n",
        "\n",
        "print(f\"--------\")\n",
        "re1=(TP)/(TP+FN)\n",
        "print(f\"reca1={re1}\")\n",
        "\n",
        "print(f\"--------\")\n",
        "pre1=(TP)/(TP+FP)\n",
        "print(f\"pre1={pre1}\")\n",
        "\n",
        "print(f\"--------\")\n",
        "f1s1=(2*pre1*re1)/(pre1+re1)\n",
        "print(f\"f1score={f1s1}\")\n",
        "\n",
        "#mejora gh\n",
        "\n",
        "stop7 = time.time()\n",
        "print(f\"CV Training time: {stop7 - start7}s\")\n",
        "\n",
        "# 200 epochs\n",
        "# 0.9936249911785126\n",
        "# 0.003466360910457571"
      ],
      "execution_count": null,
      "outputs": [
        {
          "output_type": "stream",
          "text": [
            "Epoch 1/30\n",
            "1613/1613 [==============================] - 2s 1ms/step - loss: 0.3763 - accuracy: 0.8524 - val_loss: 0.3471 - val_accuracy: 0.8554\n",
            "Epoch 2/30\n",
            "1613/1613 [==============================] - 2s 1ms/step - loss: 0.3294 - accuracy: 0.8655 - val_loss: 0.3283 - val_accuracy: 0.8673\n",
            "Epoch 3/30\n",
            "1613/1613 [==============================] - 2s 1ms/step - loss: 0.3069 - accuracy: 0.8811 - val_loss: 0.3077 - val_accuracy: 0.8867\n",
            "Epoch 4/30\n",
            "1613/1613 [==============================] - 2s 1ms/step - loss: 0.2915 - accuracy: 0.8938 - val_loss: 0.2997 - val_accuracy: 0.8884\n",
            "Epoch 5/30\n",
            "1613/1613 [==============================] - 2s 1ms/step - loss: 0.2846 - accuracy: 0.8961 - val_loss: 0.2947 - val_accuracy: 0.8891\n",
            "Epoch 6/30\n",
            "1613/1613 [==============================] - 2s 1ms/step - loss: 0.2802 - accuracy: 0.8965 - val_loss: 0.2911 - val_accuracy: 0.8891\n",
            "Epoch 7/30\n",
            "1613/1613 [==============================] - 2s 1ms/step - loss: 0.2767 - accuracy: 0.8968 - val_loss: 0.2879 - val_accuracy: 0.8901\n",
            "Epoch 8/30\n",
            "1613/1613 [==============================] - 2s 1ms/step - loss: 0.2740 - accuracy: 0.8968 - val_loss: 0.2847 - val_accuracy: 0.8901\n",
            "Epoch 9/30\n",
            "1613/1613 [==============================] - 2s 1ms/step - loss: 0.2716 - accuracy: 0.8966 - val_loss: 0.2822 - val_accuracy: 0.8901\n",
            "Epoch 10/30\n",
            "1613/1613 [==============================] - 2s 1ms/step - loss: 0.2683 - accuracy: 0.8968 - val_loss: 0.2800 - val_accuracy: 0.8904\n",
            "Epoch 11/30\n",
            "1613/1613 [==============================] - 2s 1ms/step - loss: 0.2655 - accuracy: 0.8968 - val_loss: 0.2770 - val_accuracy: 0.8901\n",
            "Epoch 12/30\n",
            "1613/1613 [==============================] - 2s 1ms/step - loss: 0.2613 - accuracy: 0.8970 - val_loss: 0.2689 - val_accuracy: 0.8909\n",
            "Epoch 13/30\n",
            "1613/1613 [==============================] - 2s 1ms/step - loss: 0.2555 - accuracy: 0.8973 - val_loss: 0.2670 - val_accuracy: 0.8921\n",
            "Epoch 14/30\n",
            "1613/1613 [==============================] - 2s 1ms/step - loss: 0.2467 - accuracy: 0.8990 - val_loss: 0.2512 - val_accuracy: 0.9008\n",
            "Epoch 15/30\n",
            "1613/1613 [==============================] - 2s 1ms/step - loss: 0.2381 - accuracy: 0.9098 - val_loss: 0.2457 - val_accuracy: 0.9067\n",
            "Epoch 16/30\n",
            "1613/1613 [==============================] - 2s 1ms/step - loss: 0.2311 - accuracy: 0.9172 - val_loss: 0.2373 - val_accuracy: 0.9120\n",
            "Epoch 17/30\n",
            "1613/1613 [==============================] - 2s 1ms/step - loss: 0.2261 - accuracy: 0.9198 - val_loss: 0.2342 - val_accuracy: 0.9107\n",
            "Epoch 18/30\n",
            "1613/1613 [==============================] - 2s 1ms/step - loss: 0.2231 - accuracy: 0.9212 - val_loss: 0.2279 - val_accuracy: 0.9127\n",
            "Epoch 19/30\n",
            "1613/1613 [==============================] - 2s 1ms/step - loss: 0.2200 - accuracy: 0.9215 - val_loss: 0.2291 - val_accuracy: 0.9132\n",
            "Epoch 20/30\n",
            "1613/1613 [==============================] - 2s 1ms/step - loss: 0.2182 - accuracy: 0.9231 - val_loss: 0.2261 - val_accuracy: 0.9142\n",
            "Epoch 21/30\n",
            "1613/1613 [==============================] - 2s 1ms/step - loss: 0.2171 - accuracy: 0.9232 - val_loss: 0.2313 - val_accuracy: 0.9167\n",
            "Epoch 22/30\n",
            "1613/1613 [==============================] - 2s 1ms/step - loss: 0.2150 - accuracy: 0.9247 - val_loss: 0.2246 - val_accuracy: 0.9179\n",
            "Epoch 23/30\n",
            "1613/1613 [==============================] - 2s 1ms/step - loss: 0.2137 - accuracy: 0.9247 - val_loss: 0.2263 - val_accuracy: 0.9169\n",
            "Epoch 24/30\n",
            "1613/1613 [==============================] - 2s 1ms/step - loss: 0.2118 - accuracy: 0.9253 - val_loss: 0.2247 - val_accuracy: 0.9191\n",
            "Epoch 25/30\n",
            "1613/1613 [==============================] - 2s 1ms/step - loss: 0.2115 - accuracy: 0.9255 - val_loss: 0.2255 - val_accuracy: 0.9162\n",
            "Epoch 26/30\n",
            "1613/1613 [==============================] - 2s 1ms/step - loss: 0.2098 - accuracy: 0.9266 - val_loss: 0.2249 - val_accuracy: 0.9174\n",
            "Epoch 27/30\n",
            "1613/1613 [==============================] - 2s 1ms/step - loss: 0.2084 - accuracy: 0.9263 - val_loss: 0.2245 - val_accuracy: 0.9169\n",
            "Epoch 28/30\n",
            "1613/1613 [==============================] - 2s 1ms/step - loss: 0.2077 - accuracy: 0.9273 - val_loss: 0.2203 - val_accuracy: 0.9184\n",
            "Epoch 29/30\n",
            "1613/1613 [==============================] - 3s 2ms/step - loss: 0.2064 - accuracy: 0.9278 - val_loss: 0.2326 - val_accuracy: 0.9182\n",
            "Epoch 30/30\n",
            "1613/1613 [==============================] - 3s 2ms/step - loss: 0.2063 - accuracy: 0.9276 - val_loss: 0.2192 - val_accuracy: 0.9196\n",
            "WARNING:tensorflow:From /usr/local/lib/python3.6/dist-packages/tensorflow/python/keras/wrappers/scikit_learn.py:241: Sequential.predict_classes (from tensorflow.python.keras.engine.sequential) is deprecated and will be removed after 2021-01-01.\n",
            "Instructions for updating:\n",
            "Please use instead:* `np.argmax(model.predict(x), axis=-1)`,   if your model does multi-class classification   (e.g. if it uses a `softmax` last-layer activation).* `(model.predict(x) > 0.5).astype(\"int32\")`,   if your model does binary classification   (e.g. if it uses a `sigmoid` last-layer activation).\n",
            "Epoch 1/30\n",
            "1613/1613 [==============================] - 2s 1ms/step - loss: 0.3751 - accuracy: 0.8535 - val_loss: 0.3513 - val_accuracy: 0.8552\n",
            "Epoch 2/30\n",
            "1613/1613 [==============================] - 2s 1ms/step - loss: 0.3275 - accuracy: 0.8689 - val_loss: 0.3268 - val_accuracy: 0.8681\n",
            "Epoch 3/30\n",
            "1613/1613 [==============================] - 2s 1ms/step - loss: 0.3066 - accuracy: 0.8794 - val_loss: 0.3113 - val_accuracy: 0.8849\n",
            "Epoch 4/30\n",
            "1613/1613 [==============================] - 2s 1ms/step - loss: 0.2906 - accuracy: 0.8934 - val_loss: 0.2997 - val_accuracy: 0.8884\n",
            "Epoch 5/30\n",
            "1613/1613 [==============================] - 2s 1ms/step - loss: 0.2796 - accuracy: 0.8959 - val_loss: 0.2906 - val_accuracy: 0.8897\n",
            "Epoch 6/30\n",
            "1613/1613 [==============================] - 2s 1ms/step - loss: 0.2713 - accuracy: 0.8965 - val_loss: 0.2825 - val_accuracy: 0.8902\n",
            "Epoch 7/30\n",
            "1613/1613 [==============================] - 2s 1ms/step - loss: 0.2618 - accuracy: 0.8974 - val_loss: 0.2707 - val_accuracy: 0.8914\n",
            "Epoch 8/30\n",
            "1613/1613 [==============================] - 2s 1ms/step - loss: 0.2496 - accuracy: 0.8998 - val_loss: 0.2568 - val_accuracy: 0.9013\n",
            "Epoch 9/30\n",
            "1613/1613 [==============================] - 2s 1ms/step - loss: 0.2377 - accuracy: 0.9127 - val_loss: 0.2463 - val_accuracy: 0.9058\n",
            "Epoch 10/30\n",
            "1613/1613 [==============================] - 2s 1ms/step - loss: 0.2271 - accuracy: 0.9170 - val_loss: 0.2404 - val_accuracy: 0.9085\n",
            "Epoch 11/30\n",
            "1613/1613 [==============================] - 2s 1ms/step - loss: 0.2205 - accuracy: 0.9182 - val_loss: 0.2469 - val_accuracy: 0.9075\n",
            "Epoch 12/30\n",
            "1613/1613 [==============================] - 2s 1ms/step - loss: 0.2159 - accuracy: 0.9188 - val_loss: 0.2368 - val_accuracy: 0.9102\n",
            "Epoch 13/30\n",
            "1613/1613 [==============================] - 2s 1ms/step - loss: 0.2102 - accuracy: 0.9201 - val_loss: 0.2183 - val_accuracy: 0.9125\n",
            "Epoch 14/30\n",
            "1613/1613 [==============================] - 2s 1ms/step - loss: 0.2028 - accuracy: 0.9221 - val_loss: 0.2170 - val_accuracy: 0.9167\n",
            "Epoch 15/30\n",
            "1613/1613 [==============================] - 2s 1ms/step - loss: 0.1961 - accuracy: 0.9236 - val_loss: 0.2060 - val_accuracy: 0.9152\n",
            "Epoch 16/30\n",
            "1613/1613 [==============================] - 2s 1ms/step - loss: 0.1865 - accuracy: 0.9253 - val_loss: 0.2052 - val_accuracy: 0.9132\n",
            "Epoch 17/30\n",
            "1613/1613 [==============================] - 2s 1ms/step - loss: 0.1749 - accuracy: 0.9271 - val_loss: 0.1834 - val_accuracy: 0.9266\n",
            "Epoch 18/30\n",
            "1613/1613 [==============================] - 2s 1ms/step - loss: 0.1604 - accuracy: 0.9326 - val_loss: 0.1618 - val_accuracy: 0.9254\n",
            "Epoch 19/30\n",
            "1613/1613 [==============================] - 2s 1ms/step - loss: 0.1411 - accuracy: 0.9398 - val_loss: 0.1361 - val_accuracy: 0.9663\n",
            "Epoch 20/30\n",
            "1613/1613 [==============================] - 2s 1ms/step - loss: 0.1197 - accuracy: 0.9571 - val_loss: 0.1217 - val_accuracy: 0.9757\n",
            "Epoch 21/30\n",
            "1613/1613 [==============================] - 2s 1ms/step - loss: 0.0968 - accuracy: 0.9759 - val_loss: 0.0918 - val_accuracy: 0.9774\n",
            "Epoch 22/30\n",
            "1613/1613 [==============================] - 2s 1ms/step - loss: 0.0771 - accuracy: 0.9825 - val_loss: 0.0743 - val_accuracy: 0.9844\n",
            "Epoch 23/30\n",
            "1613/1613 [==============================] - 2s 1ms/step - loss: 0.0642 - accuracy: 0.9848 - val_loss: 0.0633 - val_accuracy: 0.9844\n",
            "Epoch 24/30\n",
            "1613/1613 [==============================] - 2s 1ms/step - loss: 0.0549 - accuracy: 0.9857 - val_loss: 0.0576 - val_accuracy: 0.9851\n",
            "Epoch 25/30\n",
            "1613/1613 [==============================] - 2s 1ms/step - loss: 0.0490 - accuracy: 0.9863 - val_loss: 0.0503 - val_accuracy: 0.9854\n",
            "Epoch 26/30\n",
            "1613/1613 [==============================] - 2s 1ms/step - loss: 0.0448 - accuracy: 0.9864 - val_loss: 0.0495 - val_accuracy: 0.9856\n",
            "Epoch 27/30\n",
            "1613/1613 [==============================] - 2s 1ms/step - loss: 0.0429 - accuracy: 0.9871 - val_loss: 0.0450 - val_accuracy: 0.9861\n",
            "Epoch 28/30\n",
            "1613/1613 [==============================] - 2s 1ms/step - loss: 0.0408 - accuracy: 0.9866 - val_loss: 0.0445 - val_accuracy: 0.9864\n",
            "Epoch 29/30\n",
            "1613/1613 [==============================] - 2s 1ms/step - loss: 0.0413 - accuracy: 0.9859 - val_loss: 0.0477 - val_accuracy: 0.9849\n",
            "Epoch 30/30\n",
            "1613/1613 [==============================] - 2s 1ms/step - loss: 0.0377 - accuracy: 0.9865 - val_loss: 0.0612 - val_accuracy: 0.9831\n",
            "Epoch 1/30\n",
            "1613/1613 [==============================] - 2s 1ms/step - loss: 0.3708 - accuracy: 0.8481 - val_loss: 0.3352 - val_accuracy: 0.8681\n",
            "Epoch 2/30\n",
            "1613/1613 [==============================] - 2s 1ms/step - loss: 0.3081 - accuracy: 0.8828 - val_loss: 0.3083 - val_accuracy: 0.8887\n",
            "Epoch 3/30\n",
            "1613/1613 [==============================] - 2s 1ms/step - loss: 0.2868 - accuracy: 0.8965 - val_loss: 0.2999 - val_accuracy: 0.8897\n",
            "Epoch 4/30\n",
            "1613/1613 [==============================] - 2s 1ms/step - loss: 0.2785 - accuracy: 0.8975 - val_loss: 0.2927 - val_accuracy: 0.8899\n",
            "Epoch 5/30\n",
            "1613/1613 [==============================] - 2s 1ms/step - loss: 0.2737 - accuracy: 0.8978 - val_loss: 0.2907 - val_accuracy: 0.8894\n",
            "Epoch 6/30\n",
            "1613/1613 [==============================] - 2s 1ms/step - loss: 0.2705 - accuracy: 0.8978 - val_loss: 0.2848 - val_accuracy: 0.8899\n",
            "Epoch 7/30\n",
            "1613/1613 [==============================] - 2s 1ms/step - loss: 0.2677 - accuracy: 0.8977 - val_loss: 0.2871 - val_accuracy: 0.8904\n",
            "Epoch 8/30\n",
            "1613/1613 [==============================] - 2s 1ms/step - loss: 0.2651 - accuracy: 0.8976 - val_loss: 0.2773 - val_accuracy: 0.8909\n",
            "Epoch 9/30\n",
            "1613/1613 [==============================] - 2s 1ms/step - loss: 0.2628 - accuracy: 0.8976 - val_loss: 0.2777 - val_accuracy: 0.8907\n",
            "Epoch 10/30\n",
            "1613/1613 [==============================] - 2s 1ms/step - loss: 0.2599 - accuracy: 0.8976 - val_loss: 0.2764 - val_accuracy: 0.8899\n",
            "Epoch 11/30\n",
            "1613/1613 [==============================] - 2s 1ms/step - loss: 0.2557 - accuracy: 0.8981 - val_loss: 0.2711 - val_accuracy: 0.8914\n",
            "Epoch 12/30\n",
            "1613/1613 [==============================] - 2s 1ms/step - loss: 0.2529 - accuracy: 0.8983 - val_loss: 0.2625 - val_accuracy: 0.8921\n",
            "Epoch 13/30\n",
            "1613/1613 [==============================] - 2s 1ms/step - loss: 0.2485 - accuracy: 0.8987 - val_loss: 0.2614 - val_accuracy: 0.8939\n",
            "Epoch 14/30\n",
            "1613/1613 [==============================] - 2s 1ms/step - loss: 0.2435 - accuracy: 0.8993 - val_loss: 0.2557 - val_accuracy: 0.8971\n",
            "Epoch 15/30\n",
            "1613/1613 [==============================] - 2s 1ms/step - loss: 0.2372 - accuracy: 0.9025 - val_loss: 0.2467 - val_accuracy: 0.9001\n",
            "Epoch 16/30\n",
            "1613/1613 [==============================] - 2s 1ms/step - loss: 0.2314 - accuracy: 0.9125 - val_loss: 0.2451 - val_accuracy: 0.9122\n",
            "Epoch 17/30\n",
            "1613/1613 [==============================] - 2s 1ms/step - loss: 0.2245 - accuracy: 0.9186 - val_loss: 0.2575 - val_accuracy: 0.9078\n",
            "Epoch 18/30\n",
            "1613/1613 [==============================] - 2s 1ms/step - loss: 0.2202 - accuracy: 0.9209 - val_loss: 0.2419 - val_accuracy: 0.9107\n",
            "Epoch 19/30\n",
            "1613/1613 [==============================] - 2s 1ms/step - loss: 0.2178 - accuracy: 0.9224 - val_loss: 0.2362 - val_accuracy: 0.9169\n",
            "Epoch 20/30\n",
            "1613/1613 [==============================] - 2s 1ms/step - loss: 0.2160 - accuracy: 0.9230 - val_loss: 0.2349 - val_accuracy: 0.9132\n",
            "Epoch 21/30\n",
            "1613/1613 [==============================] - 2s 1ms/step - loss: 0.2136 - accuracy: 0.9234 - val_loss: 0.2313 - val_accuracy: 0.9174\n",
            "Epoch 22/30\n",
            "1613/1613 [==============================] - 2s 1ms/step - loss: 0.2122 - accuracy: 0.9244 - val_loss: 0.2307 - val_accuracy: 0.9164\n",
            "Epoch 23/30\n",
            "1613/1613 [==============================] - 2s 1ms/step - loss: 0.2099 - accuracy: 0.9245 - val_loss: 0.2264 - val_accuracy: 0.9162\n",
            "Epoch 24/30\n",
            "1613/1613 [==============================] - 2s 1ms/step - loss: 0.2096 - accuracy: 0.9252 - val_loss: 0.2249 - val_accuracy: 0.9167\n",
            "Epoch 25/30\n",
            "1613/1613 [==============================] - 2s 1ms/step - loss: 0.2085 - accuracy: 0.9250 - val_loss: 0.2296 - val_accuracy: 0.9164\n",
            "Epoch 26/30\n",
            "1613/1613 [==============================] - 2s 1ms/step - loss: 0.2067 - accuracy: 0.9260 - val_loss: 0.2220 - val_accuracy: 0.9172\n",
            "Epoch 27/30\n",
            "1613/1613 [==============================] - 2s 2ms/step - loss: 0.2051 - accuracy: 0.9263 - val_loss: 0.2285 - val_accuracy: 0.9145\n",
            "Epoch 28/30\n",
            "1613/1613 [==============================] - 2s 2ms/step - loss: 0.2046 - accuracy: 0.9266 - val_loss: 0.2242 - val_accuracy: 0.9172\n",
            "Epoch 29/30\n",
            "1613/1613 [==============================] - 2s 2ms/step - loss: 0.2040 - accuracy: 0.9262 - val_loss: 0.2214 - val_accuracy: 0.9172\n",
            "Epoch 30/30\n",
            "1613/1613 [==============================] - 2s 1ms/step - loss: 0.2038 - accuracy: 0.9270 - val_loss: 0.2202 - val_accuracy: 0.9177\n",
            "Epoch 1/30\n",
            "1613/1613 [==============================] - 2s 1ms/step - loss: 0.3779 - accuracy: 0.8516 - val_loss: 0.3477 - val_accuracy: 0.8609\n",
            "Epoch 2/30\n",
            "1613/1613 [==============================] - 2s 1ms/step - loss: 0.3217 - accuracy: 0.8721 - val_loss: 0.3189 - val_accuracy: 0.8723\n",
            "Epoch 3/30\n",
            "1613/1613 [==============================] - 2s 1ms/step - loss: 0.2922 - accuracy: 0.8914 - val_loss: 0.2986 - val_accuracy: 0.8884\n",
            "Epoch 4/30\n",
            "1613/1613 [==============================] - 2s 1ms/step - loss: 0.2775 - accuracy: 0.8969 - val_loss: 0.2896 - val_accuracy: 0.8899\n",
            "Epoch 5/30\n",
            "1613/1613 [==============================] - 2s 1ms/step - loss: 0.2699 - accuracy: 0.8974 - val_loss: 0.2819 - val_accuracy: 0.8899\n",
            "Epoch 6/30\n",
            "1613/1613 [==============================] - 2s 1ms/step - loss: 0.2635 - accuracy: 0.8976 - val_loss: 0.2747 - val_accuracy: 0.8899\n",
            "Epoch 7/30\n",
            "1613/1613 [==============================] - 2s 1ms/step - loss: 0.2563 - accuracy: 0.8977 - val_loss: 0.2656 - val_accuracy: 0.8909\n",
            "Epoch 8/30\n",
            "1613/1613 [==============================] - 2s 1ms/step - loss: 0.2490 - accuracy: 0.8983 - val_loss: 0.2590 - val_accuracy: 0.8921\n",
            "Epoch 9/30\n",
            "1613/1613 [==============================] - 2s 1ms/step - loss: 0.2420 - accuracy: 0.9036 - val_loss: 0.2526 - val_accuracy: 0.9045\n",
            "Epoch 10/30\n",
            "1613/1613 [==============================] - 2s 1ms/step - loss: 0.2348 - accuracy: 0.9156 - val_loss: 0.2434 - val_accuracy: 0.9095\n",
            "Epoch 11/30\n",
            "1613/1613 [==============================] - 2s 1ms/step - loss: 0.2291 - accuracy: 0.9188 - val_loss: 0.2380 - val_accuracy: 0.9112\n",
            "Epoch 12/30\n",
            "1613/1613 [==============================] - 2s 1ms/step - loss: 0.2251 - accuracy: 0.9202 - val_loss: 0.2382 - val_accuracy: 0.9120\n",
            "Epoch 13/30\n",
            "1613/1613 [==============================] - 2s 1ms/step - loss: 0.2229 - accuracy: 0.9208 - val_loss: 0.2330 - val_accuracy: 0.9127\n",
            "Epoch 14/30\n",
            "1613/1613 [==============================] - 2s 1ms/step - loss: 0.2194 - accuracy: 0.9212 - val_loss: 0.2399 - val_accuracy: 0.9102\n",
            "Epoch 15/30\n",
            "1613/1613 [==============================] - 2s 1ms/step - loss: 0.2181 - accuracy: 0.9219 - val_loss: 0.2354 - val_accuracy: 0.9115\n",
            "Epoch 16/30\n",
            "1613/1613 [==============================] - 2s 1ms/step - loss: 0.2165 - accuracy: 0.9221 - val_loss: 0.2288 - val_accuracy: 0.9130\n",
            "Epoch 17/30\n",
            "1613/1613 [==============================] - 2s 1ms/step - loss: 0.2154 - accuracy: 0.9224 - val_loss: 0.2326 - val_accuracy: 0.9147\n",
            "Epoch 18/30\n",
            "1613/1613 [==============================] - 2s 1ms/step - loss: 0.2142 - accuracy: 0.9232 - val_loss: 0.2270 - val_accuracy: 0.9140\n",
            "Epoch 19/30\n",
            "1613/1613 [==============================] - 2s 1ms/step - loss: 0.2129 - accuracy: 0.9232 - val_loss: 0.2286 - val_accuracy: 0.9167\n",
            "Epoch 20/30\n",
            "1613/1613 [==============================] - 2s 1ms/step - loss: 0.2110 - accuracy: 0.9241 - val_loss: 0.2281 - val_accuracy: 0.9142\n",
            "Epoch 21/30\n",
            "1613/1613 [==============================] - 2s 1ms/step - loss: 0.2106 - accuracy: 0.9244 - val_loss: 0.2316 - val_accuracy: 0.9159\n",
            "Epoch 22/30\n",
            "1613/1613 [==============================] - 2s 1ms/step - loss: 0.2094 - accuracy: 0.9257 - val_loss: 0.2264 - val_accuracy: 0.9184\n",
            "Epoch 23/30\n",
            "1613/1613 [==============================] - 2s 1ms/step - loss: 0.2086 - accuracy: 0.9257 - val_loss: 0.2232 - val_accuracy: 0.9169\n",
            "Epoch 24/30\n",
            "1613/1613 [==============================] - 2s 1ms/step - loss: 0.2077 - accuracy: 0.9260 - val_loss: 0.2202 - val_accuracy: 0.9197\n",
            "Epoch 25/30\n",
            "1613/1613 [==============================] - 2s 1ms/step - loss: 0.2061 - accuracy: 0.9273 - val_loss: 0.2222 - val_accuracy: 0.9154\n",
            "Epoch 26/30\n",
            "1613/1613 [==============================] - 2s 1ms/step - loss: 0.2051 - accuracy: 0.9271 - val_loss: 0.2345 - val_accuracy: 0.9164\n",
            "Epoch 27/30\n",
            "1613/1613 [==============================] - 2s 1ms/step - loss: 0.2050 - accuracy: 0.9272 - val_loss: 0.2262 - val_accuracy: 0.9152\n",
            "Epoch 28/30\n",
            "1613/1613 [==============================] - 2s 1ms/step - loss: 0.2042 - accuracy: 0.9279 - val_loss: 0.2168 - val_accuracy: 0.9169\n",
            "Epoch 29/30\n",
            "1613/1613 [==============================] - 2s 1ms/step - loss: 0.2036 - accuracy: 0.9281 - val_loss: 0.2181 - val_accuracy: 0.9197\n",
            "Epoch 30/30\n",
            "1613/1613 [==============================] - 2s 1ms/step - loss: 0.2018 - accuracy: 0.9284 - val_loss: 0.2186 - val_accuracy: 0.9209\n",
            "Epoch 1/30\n",
            "1613/1613 [==============================] - 2s 1ms/step - loss: 0.3716 - accuracy: 0.8548 - val_loss: 0.3511 - val_accuracy: 0.8587\n",
            "Epoch 2/30\n",
            "1613/1613 [==============================] - 2s 1ms/step - loss: 0.3282 - accuracy: 0.8697 - val_loss: 0.3264 - val_accuracy: 0.8686\n",
            "Epoch 3/30\n",
            "1613/1613 [==============================] - 2s 1ms/step - loss: 0.3025 - accuracy: 0.8853 - val_loss: 0.3048 - val_accuracy: 0.8869\n",
            "Epoch 4/30\n",
            "1613/1613 [==============================] - 2s 1ms/step - loss: 0.2865 - accuracy: 0.8960 - val_loss: 0.2969 - val_accuracy: 0.8894\n",
            "Epoch 5/30\n",
            "1613/1613 [==============================] - 2s 1ms/step - loss: 0.2782 - accuracy: 0.8974 - val_loss: 0.2898 - val_accuracy: 0.8899\n",
            "Epoch 6/30\n",
            "1613/1613 [==============================] - 2s 1ms/step - loss: 0.2737 - accuracy: 0.8974 - val_loss: 0.2877 - val_accuracy: 0.8902\n",
            "Epoch 7/30\n",
            "1613/1613 [==============================] - 2s 1ms/step - loss: 0.2700 - accuracy: 0.8976 - val_loss: 0.2821 - val_accuracy: 0.8904\n",
            "Epoch 8/30\n",
            "1613/1613 [==============================] - 2s 1ms/step - loss: 0.2659 - accuracy: 0.8977 - val_loss: 0.2769 - val_accuracy: 0.8904\n",
            "Epoch 9/30\n",
            "1613/1613 [==============================] - 2s 1ms/step - loss: 0.2624 - accuracy: 0.8977 - val_loss: 0.2750 - val_accuracy: 0.8899\n",
            "Epoch 10/30\n",
            "1613/1613 [==============================] - 2s 1ms/step - loss: 0.2597 - accuracy: 0.8978 - val_loss: 0.2706 - val_accuracy: 0.8907\n",
            "Epoch 11/30\n",
            "1613/1613 [==============================] - 2s 1ms/step - loss: 0.2567 - accuracy: 0.8980 - val_loss: 0.2683 - val_accuracy: 0.8907\n",
            "Epoch 12/30\n",
            "1613/1613 [==============================] - 2s 1ms/step - loss: 0.2549 - accuracy: 0.8984 - val_loss: 0.2655 - val_accuracy: 0.8914\n",
            "Epoch 13/30\n",
            "1613/1613 [==============================] - 2s 1ms/step - loss: 0.2525 - accuracy: 0.8990 - val_loss: 0.2639 - val_accuracy: 0.8916\n",
            "Epoch 14/30\n",
            "1613/1613 [==============================] - 2s 1ms/step - loss: 0.2499 - accuracy: 0.8991 - val_loss: 0.2615 - val_accuracy: 0.8931\n",
            "Epoch 15/30\n",
            "1613/1613 [==============================] - 3s 2ms/step - loss: 0.2474 - accuracy: 0.8999 - val_loss: 0.2620 - val_accuracy: 0.8939\n",
            "Epoch 16/30\n",
            "1613/1613 [==============================] - 2s 2ms/step - loss: 0.2433 - accuracy: 0.9005 - val_loss: 0.2557 - val_accuracy: 0.8936\n",
            "Epoch 17/30\n",
            "1613/1613 [==============================] - 2s 1ms/step - loss: 0.2363 - accuracy: 0.9023 - val_loss: 0.2484 - val_accuracy: 0.8959\n",
            "Epoch 18/30\n",
            "1613/1613 [==============================] - 2s 1ms/step - loss: 0.2254 - accuracy: 0.9068 - val_loss: 0.2371 - val_accuracy: 0.9117\n",
            "Epoch 19/30\n",
            "1613/1613 [==============================] - 2s 1ms/step - loss: 0.2133 - accuracy: 0.9185 - val_loss: 0.2255 - val_accuracy: 0.9105\n",
            "Epoch 20/30\n",
            "1613/1613 [==============================] - 2s 1ms/step - loss: 0.2022 - accuracy: 0.9222 - val_loss: 0.2094 - val_accuracy: 0.9150\n",
            "Epoch 21/30\n",
            "1613/1613 [==============================] - 2s 1ms/step - loss: 0.1917 - accuracy: 0.9237 - val_loss: 0.2010 - val_accuracy: 0.9132\n",
            "Epoch 22/30\n",
            "1613/1613 [==============================] - 2s 1ms/step - loss: 0.1802 - accuracy: 0.9255 - val_loss: 0.1900 - val_accuracy: 0.9187\n",
            "Epoch 23/30\n",
            "1613/1613 [==============================] - 2s 1ms/step - loss: 0.1676 - accuracy: 0.9291 - val_loss: 0.1779 - val_accuracy: 0.9197\n",
            "Epoch 24/30\n",
            "1613/1613 [==============================] - 2s 1ms/step - loss: 0.1539 - accuracy: 0.9329 - val_loss: 0.1596 - val_accuracy: 0.9343\n",
            "Epoch 25/30\n",
            "1613/1613 [==============================] - 2s 1ms/step - loss: 0.1349 - accuracy: 0.9395 - val_loss: 0.1364 - val_accuracy: 0.9343\n",
            "Epoch 26/30\n",
            "1613/1613 [==============================] - 2s 1ms/step - loss: 0.1142 - accuracy: 0.9543 - val_loss: 0.1090 - val_accuracy: 0.9821\n",
            "Epoch 27/30\n",
            "1613/1613 [==============================] - 2s 1ms/step - loss: 0.0886 - accuracy: 0.9747 - val_loss: 0.0855 - val_accuracy: 0.9802\n",
            "Epoch 28/30\n",
            "1613/1613 [==============================] - 2s 1ms/step - loss: 0.0684 - accuracy: 0.9863 - val_loss: 0.0666 - val_accuracy: 0.9881\n",
            "Epoch 29/30\n",
            "1613/1613 [==============================] - 2s 1ms/step - loss: 0.0523 - accuracy: 0.9893 - val_loss: 0.0506 - val_accuracy: 0.9891\n",
            "Epoch 30/30\n",
            "1613/1613 [==============================] - 2s 1ms/step - loss: 0.0423 - accuracy: 0.9912 - val_loss: 0.0484 - val_accuracy: 0.9896\n",
            "Epoch 1/30\n",
            "1613/1613 [==============================] - 2s 1ms/step - loss: 0.3664 - accuracy: 0.8496 - val_loss: 0.3366 - val_accuracy: 0.8666\n",
            "Epoch 2/30\n",
            "1613/1613 [==============================] - 2s 1ms/step - loss: 0.3115 - accuracy: 0.8781 - val_loss: 0.3083 - val_accuracy: 0.8830\n",
            "Epoch 3/30\n",
            "1613/1613 [==============================] - 2s 1ms/step - loss: 0.2898 - accuracy: 0.8952 - val_loss: 0.2947 - val_accuracy: 0.8884\n",
            "Epoch 4/30\n",
            "1613/1613 [==============================] - 2s 1ms/step - loss: 0.2801 - accuracy: 0.8968 - val_loss: 0.2883 - val_accuracy: 0.8902\n",
            "Epoch 5/30\n",
            "1613/1613 [==============================] - 2s 1ms/step - loss: 0.2744 - accuracy: 0.8971 - val_loss: 0.2823 - val_accuracy: 0.8902\n",
            "Epoch 6/30\n",
            "1613/1613 [==============================] - 2s 1ms/step - loss: 0.2700 - accuracy: 0.8969 - val_loss: 0.2788 - val_accuracy: 0.8907\n",
            "Epoch 7/30\n",
            "1613/1613 [==============================] - 2s 1ms/step - loss: 0.2661 - accuracy: 0.8971 - val_loss: 0.2798 - val_accuracy: 0.8887\n",
            "Epoch 8/30\n",
            "1613/1613 [==============================] - 2s 1ms/step - loss: 0.2607 - accuracy: 0.8971 - val_loss: 0.2685 - val_accuracy: 0.8907\n",
            "Epoch 9/30\n",
            "1613/1613 [==============================] - 2s 1ms/step - loss: 0.2559 - accuracy: 0.8972 - val_loss: 0.2636 - val_accuracy: 0.8919\n",
            "Epoch 10/30\n",
            "1613/1613 [==============================] - 2s 1ms/step - loss: 0.2494 - accuracy: 0.8978 - val_loss: 0.2560 - val_accuracy: 0.8914\n",
            "Epoch 11/30\n",
            "1613/1613 [==============================] - 2s 1ms/step - loss: 0.2412 - accuracy: 0.8988 - val_loss: 0.2486 - val_accuracy: 0.8926\n",
            "Epoch 12/30\n",
            "1613/1613 [==============================] - 2s 1ms/step - loss: 0.2332 - accuracy: 0.9057 - val_loss: 0.2446 - val_accuracy: 0.9053\n",
            "Epoch 13/30\n",
            "1613/1613 [==============================] - 2s 1ms/step - loss: 0.2278 - accuracy: 0.9156 - val_loss: 0.2400 - val_accuracy: 0.9063\n",
            "Epoch 14/30\n",
            "1613/1613 [==============================] - 2s 1ms/step - loss: 0.2214 - accuracy: 0.9193 - val_loss: 0.2302 - val_accuracy: 0.9117\n",
            "Epoch 15/30\n",
            "1613/1613 [==============================] - 2s 1ms/step - loss: 0.2152 - accuracy: 0.9208 - val_loss: 0.2226 - val_accuracy: 0.9132\n",
            "Epoch 16/30\n",
            "1613/1613 [==============================] - 3s 2ms/step - loss: 0.2072 - accuracy: 0.9222 - val_loss: 0.2142 - val_accuracy: 0.9164\n",
            "Epoch 17/30\n",
            "1613/1613 [==============================] - 3s 2ms/step - loss: 0.1973 - accuracy: 0.9247 - val_loss: 0.2043 - val_accuracy: 0.9172\n",
            "Epoch 18/30\n",
            "1613/1613 [==============================] - 2s 1ms/step - loss: 0.1849 - accuracy: 0.9262 - val_loss: 0.1997 - val_accuracy: 0.9259\n",
            "Epoch 19/30\n",
            "1613/1613 [==============================] - 2s 1ms/step - loss: 0.1696 - accuracy: 0.9284 - val_loss: 0.1733 - val_accuracy: 0.9214\n",
            "Epoch 20/30\n",
            "1613/1613 [==============================] - 2s 1ms/step - loss: 0.1473 - accuracy: 0.9353 - val_loss: 0.1491 - val_accuracy: 0.9301\n",
            "Epoch 21/30\n",
            "1613/1613 [==============================] - 2s 1ms/step - loss: 0.1212 - accuracy: 0.9500 - val_loss: 0.1160 - val_accuracy: 0.9417\n",
            "Epoch 22/30\n",
            "1613/1613 [==============================] - 2s 1ms/step - loss: 0.0936 - accuracy: 0.9756 - val_loss: 0.0913 - val_accuracy: 0.9896\n",
            "Epoch 23/30\n",
            "1613/1613 [==============================] - 2s 1ms/step - loss: 0.0689 - accuracy: 0.9860 - val_loss: 0.0660 - val_accuracy: 0.9923\n",
            "Epoch 24/30\n",
            "1613/1613 [==============================] - 2s 1ms/step - loss: 0.0510 - accuracy: 0.9908 - val_loss: 0.0549 - val_accuracy: 0.9913\n",
            "Epoch 25/30\n",
            "1613/1613 [==============================] - 2s 1ms/step - loss: 0.0386 - accuracy: 0.9922 - val_loss: 0.0477 - val_accuracy: 0.9933\n",
            "Epoch 26/30\n",
            "1613/1613 [==============================] - 2s 1ms/step - loss: 0.0312 - accuracy: 0.9931 - val_loss: 0.0435 - val_accuracy: 0.9921\n",
            "Epoch 27/30\n",
            "1613/1613 [==============================] - 2s 1ms/step - loss: 0.0274 - accuracy: 0.9938 - val_loss: 0.0366 - val_accuracy: 0.9955\n",
            "Epoch 28/30\n",
            "1613/1613 [==============================] - 2s 1ms/step - loss: 0.0238 - accuracy: 0.9944 - val_loss: 0.0375 - val_accuracy: 0.9950\n",
            "Epoch 29/30\n",
            "1613/1613 [==============================] - 2s 1ms/step - loss: 0.0222 - accuracy: 0.9947 - val_loss: 0.0316 - val_accuracy: 0.9955\n",
            "Epoch 30/30\n",
            "1613/1613 [==============================] - 2s 1ms/step - loss: 0.0187 - accuracy: 0.9957 - val_loss: 0.0306 - val_accuracy: 0.9958\n",
            "Epoch 1/30\n",
            "1613/1613 [==============================] - 2s 2ms/step - loss: 0.3719 - accuracy: 0.8537 - val_loss: 0.3492 - val_accuracy: 0.8691\n",
            "Epoch 2/30\n",
            "1613/1613 [==============================] - 2s 1ms/step - loss: 0.3163 - accuracy: 0.8736 - val_loss: 0.3168 - val_accuracy: 0.8693\n",
            "Epoch 3/30\n",
            "1613/1613 [==============================] - 2s 1ms/step - loss: 0.2939 - accuracy: 0.8927 - val_loss: 0.3038 - val_accuracy: 0.8884\n",
            "Epoch 4/30\n",
            "1613/1613 [==============================] - 2s 1ms/step - loss: 0.2844 - accuracy: 0.8971 - val_loss: 0.2988 - val_accuracy: 0.8897\n",
            "Epoch 5/30\n",
            "1613/1613 [==============================] - 2s 1ms/step - loss: 0.2781 - accuracy: 0.8976 - val_loss: 0.2937 - val_accuracy: 0.8897\n",
            "Epoch 6/30\n",
            "1613/1613 [==============================] - 2s 1ms/step - loss: 0.2749 - accuracy: 0.8980 - val_loss: 0.2913 - val_accuracy: 0.8899\n",
            "Epoch 7/30\n",
            "1613/1613 [==============================] - 2s 1ms/step - loss: 0.2713 - accuracy: 0.8980 - val_loss: 0.2879 - val_accuracy: 0.8899\n",
            "Epoch 8/30\n",
            "1613/1613 [==============================] - 2s 1ms/step - loss: 0.2680 - accuracy: 0.8976 - val_loss: 0.2839 - val_accuracy: 0.8899\n",
            "Epoch 9/30\n",
            "1613/1613 [==============================] - 2s 1ms/step - loss: 0.2642 - accuracy: 0.8979 - val_loss: 0.2784 - val_accuracy: 0.8902\n",
            "Epoch 10/30\n",
            "1613/1613 [==============================] - 2s 1ms/step - loss: 0.2588 - accuracy: 0.8979 - val_loss: 0.2726 - val_accuracy: 0.8899\n",
            "Epoch 11/30\n",
            "1613/1613 [==============================] - 2s 1ms/step - loss: 0.2521 - accuracy: 0.8983 - val_loss: 0.2650 - val_accuracy: 0.8914\n",
            "Epoch 12/30\n",
            "1613/1613 [==============================] - 2s 1ms/step - loss: 0.2435 - accuracy: 0.8993 - val_loss: 0.2546 - val_accuracy: 0.8926\n",
            "Epoch 13/30\n",
            "1613/1613 [==============================] - 2s 1ms/step - loss: 0.2328 - accuracy: 0.9072 - val_loss: 0.2551 - val_accuracy: 0.8944\n",
            "Epoch 14/30\n",
            "1613/1613 [==============================] - 2s 1ms/step - loss: 0.2235 - accuracy: 0.9158 - val_loss: 0.2354 - val_accuracy: 0.9070\n",
            "Epoch 15/30\n",
            "1613/1613 [==============================] - 2s 1ms/step - loss: 0.2159 - accuracy: 0.9195 - val_loss: 0.2301 - val_accuracy: 0.9154\n",
            "Epoch 16/30\n",
            "1613/1613 [==============================] - 2s 1ms/step - loss: 0.2079 - accuracy: 0.9222 - val_loss: 0.2275 - val_accuracy: 0.9102\n",
            "Epoch 17/30\n",
            "1613/1613 [==============================] - 2s 1ms/step - loss: 0.2015 - accuracy: 0.9240 - val_loss: 0.2203 - val_accuracy: 0.9125\n",
            "Epoch 18/30\n",
            "1613/1613 [==============================] - 2s 1ms/step - loss: 0.1931 - accuracy: 0.9254 - val_loss: 0.2214 - val_accuracy: 0.9150\n",
            "Epoch 19/30\n",
            "1613/1613 [==============================] - 2s 1ms/step - loss: 0.1863 - accuracy: 0.9260 - val_loss: 0.2014 - val_accuracy: 0.9197\n",
            "Epoch 20/30\n",
            "1613/1613 [==============================] - 2s 1ms/step - loss: 0.1733 - accuracy: 0.9296 - val_loss: 0.1797 - val_accuracy: 0.9224\n",
            "Epoch 21/30\n",
            "1613/1613 [==============================] - 2s 1ms/step - loss: 0.1619 - accuracy: 0.9309 - val_loss: 0.1699 - val_accuracy: 0.9261\n",
            "Epoch 22/30\n",
            "1613/1613 [==============================] - 2s 1ms/step - loss: 0.1481 - accuracy: 0.9357 - val_loss: 0.1561 - val_accuracy: 0.9370\n",
            "Epoch 23/30\n",
            "1613/1613 [==============================] - 2s 1ms/step - loss: 0.1316 - accuracy: 0.9425 - val_loss: 0.1387 - val_accuracy: 0.9328\n",
            "Epoch 24/30\n",
            "1613/1613 [==============================] - 2s 1ms/step - loss: 0.1122 - accuracy: 0.9550 - val_loss: 0.1129 - val_accuracy: 0.9474\n",
            "Epoch 25/30\n",
            "1613/1613 [==============================] - 2s 1ms/step - loss: 0.0917 - accuracy: 0.9719 - val_loss: 0.0927 - val_accuracy: 0.9886\n",
            "Epoch 26/30\n",
            "1613/1613 [==============================] - 2s 1ms/step - loss: 0.0729 - accuracy: 0.9852 - val_loss: 0.0751 - val_accuracy: 0.9888\n",
            "Epoch 27/30\n",
            "1613/1613 [==============================] - 2s 1ms/step - loss: 0.0579 - accuracy: 0.9900 - val_loss: 0.0649 - val_accuracy: 0.9876\n",
            "Epoch 28/30\n",
            "1613/1613 [==============================] - 2s 1ms/step - loss: 0.0421 - accuracy: 0.9932 - val_loss: 0.0489 - val_accuracy: 0.9926\n",
            "Epoch 29/30\n",
            "1613/1613 [==============================] - 2s 1ms/step - loss: 0.0333 - accuracy: 0.9945 - val_loss: 0.0480 - val_accuracy: 0.9901\n",
            "Epoch 30/30\n",
            "1613/1613 [==============================] - 2s 1ms/step - loss: 0.0277 - accuracy: 0.9945 - val_loss: 0.0431 - val_accuracy: 0.9936\n",
            "Epoch 1/30\n",
            "1613/1613 [==============================] - 2s 1ms/step - loss: 0.3729 - accuracy: 0.8513 - val_loss: 0.3450 - val_accuracy: 0.8584\n",
            "Epoch 2/30\n",
            "1613/1613 [==============================] - 2s 1ms/step - loss: 0.3218 - accuracy: 0.8718 - val_loss: 0.3195 - val_accuracy: 0.8708\n",
            "Epoch 3/30\n",
            "1613/1613 [==============================] - 2s 1ms/step - loss: 0.2980 - accuracy: 0.8896 - val_loss: 0.3077 - val_accuracy: 0.8882\n",
            "Epoch 4/30\n",
            "1613/1613 [==============================] - 2s 1ms/step - loss: 0.2852 - accuracy: 0.8965 - val_loss: 0.2988 - val_accuracy: 0.8882\n",
            "Epoch 5/30\n",
            "1613/1613 [==============================] - 2s 1ms/step - loss: 0.2775 - accuracy: 0.8971 - val_loss: 0.2904 - val_accuracy: 0.8892\n",
            "Epoch 6/30\n",
            "1613/1613 [==============================] - 2s 1ms/step - loss: 0.2721 - accuracy: 0.8973 - val_loss: 0.2860 - val_accuracy: 0.8889\n",
            "Epoch 7/30\n",
            "1613/1613 [==============================] - 2s 1ms/step - loss: 0.2665 - accuracy: 0.8973 - val_loss: 0.2797 - val_accuracy: 0.8907\n",
            "Epoch 8/30\n",
            "1613/1613 [==============================] - 2s 1ms/step - loss: 0.2614 - accuracy: 0.8979 - val_loss: 0.2715 - val_accuracy: 0.8907\n",
            "Epoch 9/30\n",
            "1613/1613 [==============================] - 2s 1ms/step - loss: 0.2561 - accuracy: 0.8981 - val_loss: 0.2663 - val_accuracy: 0.8904\n",
            "Epoch 10/30\n",
            "1613/1613 [==============================] - 2s 1ms/step - loss: 0.2510 - accuracy: 0.8988 - val_loss: 0.2666 - val_accuracy: 0.8926\n",
            "Epoch 11/30\n",
            "1613/1613 [==============================] - 2s 1ms/step - loss: 0.2455 - accuracy: 0.8997 - val_loss: 0.2582 - val_accuracy: 0.8944\n",
            "Epoch 12/30\n",
            "1613/1613 [==============================] - 3s 2ms/step - loss: 0.2395 - accuracy: 0.9029 - val_loss: 0.2520 - val_accuracy: 0.8966\n",
            "Epoch 13/30\n",
            "1613/1613 [==============================] - 3s 2ms/step - loss: 0.2328 - accuracy: 0.9129 - val_loss: 0.2516 - val_accuracy: 0.8981\n",
            "Epoch 14/30\n",
            "1613/1613 [==============================] - 3s 2ms/step - loss: 0.2268 - accuracy: 0.9188 - val_loss: 0.2395 - val_accuracy: 0.9122\n",
            "Epoch 15/30\n",
            "1613/1613 [==============================] - 3s 2ms/step - loss: 0.2204 - accuracy: 0.9220 - val_loss: 0.2420 - val_accuracy: 0.9130\n",
            "Epoch 16/30\n",
            "1613/1613 [==============================] - 2s 2ms/step - loss: 0.2158 - accuracy: 0.9240 - val_loss: 0.2270 - val_accuracy: 0.9135\n",
            "Epoch 17/30\n",
            "1613/1613 [==============================] - 3s 2ms/step - loss: 0.2122 - accuracy: 0.9235 - val_loss: 0.2251 - val_accuracy: 0.9164\n",
            "Epoch 18/30\n",
            "1613/1613 [==============================] - 3s 2ms/step - loss: 0.2087 - accuracy: 0.9248 - val_loss: 0.2251 - val_accuracy: 0.9142\n",
            "Epoch 19/30\n",
            "1613/1613 [==============================] - 3s 2ms/step - loss: 0.2046 - accuracy: 0.9249 - val_loss: 0.2251 - val_accuracy: 0.9162\n",
            "Epoch 20/30\n",
            "1613/1613 [==============================] - 2s 2ms/step - loss: 0.2020 - accuracy: 0.9254 - val_loss: 0.2138 - val_accuracy: 0.9169\n",
            "Epoch 21/30\n",
            "1613/1613 [==============================] - 2s 1ms/step - loss: 0.1987 - accuracy: 0.9260 - val_loss: 0.2112 - val_accuracy: 0.9169\n",
            "Epoch 22/30\n",
            "1613/1613 [==============================] - 2s 1ms/step - loss: 0.1952 - accuracy: 0.9258 - val_loss: 0.2126 - val_accuracy: 0.9147\n",
            "Epoch 23/30\n",
            "1613/1613 [==============================] - 2s 1ms/step - loss: 0.1883 - accuracy: 0.9257 - val_loss: 0.2081 - val_accuracy: 0.9167\n",
            "Epoch 24/30\n",
            "1613/1613 [==============================] - 2s 1ms/step - loss: 0.1815 - accuracy: 0.9276 - val_loss: 0.2027 - val_accuracy: 0.9169\n",
            "Epoch 25/30\n",
            "1613/1613 [==============================] - 2s 1ms/step - loss: 0.1752 - accuracy: 0.9274 - val_loss: 0.1859 - val_accuracy: 0.9207\n",
            "Epoch 26/30\n",
            "1613/1613 [==============================] - 2s 1ms/step - loss: 0.1662 - accuracy: 0.9294 - val_loss: 0.1779 - val_accuracy: 0.9189\n",
            "Epoch 27/30\n",
            "1613/1613 [==============================] - 2s 1ms/step - loss: 0.1565 - accuracy: 0.9317 - val_loss: 0.1698 - val_accuracy: 0.9199\n",
            "Epoch 28/30\n",
            "1613/1613 [==============================] - 2s 1ms/step - loss: 0.1439 - accuracy: 0.9364 - val_loss: 0.1499 - val_accuracy: 0.9333\n",
            "Epoch 29/30\n",
            "1613/1613 [==============================] - 2s 1ms/step - loss: 0.1307 - accuracy: 0.9431 - val_loss: 0.1403 - val_accuracy: 0.9328\n",
            "Epoch 30/30\n",
            "1613/1613 [==============================] - 2s 1ms/step - loss: 0.1145 - accuracy: 0.9547 - val_loss: 0.1148 - val_accuracy: 0.9400\n",
            "Epoch 1/30\n",
            "1613/1613 [==============================] - 2s 1ms/step - loss: 0.3714 - accuracy: 0.8548 - val_loss: 0.3299 - val_accuracy: 0.8676\n",
            "Epoch 2/30\n",
            "1613/1613 [==============================] - 2s 1ms/step - loss: 0.3114 - accuracy: 0.8777 - val_loss: 0.3010 - val_accuracy: 0.8872\n",
            "Epoch 3/30\n",
            "1613/1613 [==============================] - 2s 1ms/step - loss: 0.2885 - accuracy: 0.8958 - val_loss: 0.2884 - val_accuracy: 0.8924\n",
            "Epoch 4/30\n",
            "1613/1613 [==============================] - 2s 1ms/step - loss: 0.2788 - accuracy: 0.8977 - val_loss: 0.2833 - val_accuracy: 0.8924\n",
            "Epoch 5/30\n",
            "1613/1613 [==============================] - 2s 1ms/step - loss: 0.2737 - accuracy: 0.8981 - val_loss: 0.2769 - val_accuracy: 0.8934\n",
            "Epoch 6/30\n",
            "1613/1613 [==============================] - 2s 1ms/step - loss: 0.2686 - accuracy: 0.8979 - val_loss: 0.2778 - val_accuracy: 0.8934\n",
            "Epoch 7/30\n",
            "1613/1613 [==============================] - 2s 1ms/step - loss: 0.2639 - accuracy: 0.8982 - val_loss: 0.2722 - val_accuracy: 0.8931\n",
            "Epoch 8/30\n",
            "1613/1613 [==============================] - 2s 1ms/step - loss: 0.2608 - accuracy: 0.8979 - val_loss: 0.2683 - val_accuracy: 0.8934\n",
            "Epoch 9/30\n",
            "1613/1613 [==============================] - 2s 1ms/step - loss: 0.2566 - accuracy: 0.8985 - val_loss: 0.2644 - val_accuracy: 0.8939\n",
            "Epoch 10/30\n",
            "1613/1613 [==============================] - 2s 1ms/step - loss: 0.2536 - accuracy: 0.8992 - val_loss: 0.2663 - val_accuracy: 0.8946\n",
            "Epoch 11/30\n",
            "1613/1613 [==============================] - 2s 1ms/step - loss: 0.2505 - accuracy: 0.8991 - val_loss: 0.2602 - val_accuracy: 0.8954\n",
            "Epoch 12/30\n",
            "1613/1613 [==============================] - 2s 1ms/step - loss: 0.2476 - accuracy: 0.9004 - val_loss: 0.2579 - val_accuracy: 0.8966\n",
            "Epoch 13/30\n",
            "1613/1613 [==============================] - 2s 1ms/step - loss: 0.2439 - accuracy: 0.9016 - val_loss: 0.2537 - val_accuracy: 0.8973\n",
            "Epoch 14/30\n",
            "1613/1613 [==============================] - 2s 1ms/step - loss: 0.2385 - accuracy: 0.9041 - val_loss: 0.2479 - val_accuracy: 0.9001\n",
            "Epoch 15/30\n",
            "1613/1613 [==============================] - 2s 1ms/step - loss: 0.2321 - accuracy: 0.9069 - val_loss: 0.2526 - val_accuracy: 0.8983\n",
            "Epoch 16/30\n",
            "1613/1613 [==============================] - 2s 1ms/step - loss: 0.2268 - accuracy: 0.9121 - val_loss: 0.2385 - val_accuracy: 0.9120\n",
            "Epoch 17/30\n",
            "1613/1613 [==============================] - 2s 1ms/step - loss: 0.2199 - accuracy: 0.9231 - val_loss: 0.2357 - val_accuracy: 0.9147\n",
            "Epoch 18/30\n",
            "1613/1613 [==============================] - 2s 2ms/step - loss: 0.2141 - accuracy: 0.9242 - val_loss: 0.2317 - val_accuracy: 0.9152\n",
            "Epoch 19/30\n",
            "1613/1613 [==============================] - 2s 1ms/step - loss: 0.2095 - accuracy: 0.9251 - val_loss: 0.2258 - val_accuracy: 0.9172\n",
            "Epoch 20/30\n",
            "1613/1613 [==============================] - 2s 1ms/step - loss: 0.2061 - accuracy: 0.9255 - val_loss: 0.2178 - val_accuracy: 0.9202\n",
            "Epoch 21/30\n",
            "1613/1613 [==============================] - 2s 1ms/step - loss: 0.2005 - accuracy: 0.9271 - val_loss: 0.2150 - val_accuracy: 0.9174\n",
            "Epoch 22/30\n",
            "1613/1613 [==============================] - 2s 2ms/step - loss: 0.1982 - accuracy: 0.9263 - val_loss: 0.2149 - val_accuracy: 0.9177\n",
            "Epoch 23/30\n",
            "1613/1613 [==============================] - 2s 1ms/step - loss: 0.1938 - accuracy: 0.9278 - val_loss: 0.2147 - val_accuracy: 0.9182\n",
            "Epoch 24/30\n",
            "1613/1613 [==============================] - 2s 1ms/step - loss: 0.1894 - accuracy: 0.9282 - val_loss: 0.2031 - val_accuracy: 0.9184\n",
            "Epoch 25/30\n",
            "1613/1613 [==============================] - 2s 1ms/step - loss: 0.1833 - accuracy: 0.9293 - val_loss: 0.2027 - val_accuracy: 0.9157\n",
            "Epoch 26/30\n",
            "1613/1613 [==============================] - 2s 1ms/step - loss: 0.1777 - accuracy: 0.9293 - val_loss: 0.1883 - val_accuracy: 0.9264\n",
            "Epoch 27/30\n",
            "1613/1613 [==============================] - 2s 1ms/step - loss: 0.1698 - accuracy: 0.9317 - val_loss: 0.1896 - val_accuracy: 0.9264\n",
            "Epoch 28/30\n",
            "1613/1613 [==============================] - 2s 1ms/step - loss: 0.1620 - accuracy: 0.9331 - val_loss: 0.1768 - val_accuracy: 0.9249\n",
            "Epoch 29/30\n",
            "1613/1613 [==============================] - 2s 1ms/step - loss: 0.1508 - accuracy: 0.9355 - val_loss: 0.1615 - val_accuracy: 0.9244\n",
            "Epoch 30/30\n",
            "1613/1613 [==============================] - 2s 1ms/step - loss: 0.1390 - accuracy: 0.9399 - val_loss: 0.1418 - val_accuracy: 0.9373\n",
            "Epoch 1/30\n",
            "1613/1613 [==============================] - 2s 1ms/step - loss: 0.3653 - accuracy: 0.8564 - val_loss: 0.3395 - val_accuracy: 0.8639\n",
            "Epoch 2/30\n",
            "1613/1613 [==============================] - 2s 1ms/step - loss: 0.3080 - accuracy: 0.8797 - val_loss: 0.3154 - val_accuracy: 0.8835\n",
            "Epoch 3/30\n",
            "1613/1613 [==============================] - 2s 1ms/step - loss: 0.2876 - accuracy: 0.8961 - val_loss: 0.3039 - val_accuracy: 0.8884\n",
            "Epoch 4/30\n",
            "1613/1613 [==============================] - 2s 1ms/step - loss: 0.2791 - accuracy: 0.8980 - val_loss: 0.2996 - val_accuracy: 0.8897\n",
            "Epoch 5/30\n",
            "1613/1613 [==============================] - 2s 1ms/step - loss: 0.2744 - accuracy: 0.8981 - val_loss: 0.2937 - val_accuracy: 0.8899\n",
            "Epoch 6/30\n",
            "1613/1613 [==============================] - 2s 1ms/step - loss: 0.2698 - accuracy: 0.8982 - val_loss: 0.2916 - val_accuracy: 0.8894\n",
            "Epoch 7/30\n",
            "1613/1613 [==============================] - 2s 1ms/step - loss: 0.2659 - accuracy: 0.8988 - val_loss: 0.2894 - val_accuracy: 0.8899\n",
            "Epoch 8/30\n",
            "1613/1613 [==============================] - 2s 1ms/step - loss: 0.2622 - accuracy: 0.8983 - val_loss: 0.2846 - val_accuracy: 0.8904\n",
            "Epoch 9/30\n",
            "1613/1613 [==============================] - 2s 2ms/step - loss: 0.2575 - accuracy: 0.8985 - val_loss: 0.2844 - val_accuracy: 0.8899\n",
            "Epoch 10/30\n",
            "1613/1613 [==============================] - 2s 1ms/step - loss: 0.2535 - accuracy: 0.8994 - val_loss: 0.2832 - val_accuracy: 0.8911\n",
            "Epoch 11/30\n",
            "1613/1613 [==============================] - 2s 1ms/step - loss: 0.2498 - accuracy: 0.9005 - val_loss: 0.2800 - val_accuracy: 0.8902\n",
            "Epoch 12/30\n",
            "1613/1613 [==============================] - 2s 1ms/step - loss: 0.2456 - accuracy: 0.9015 - val_loss: 0.2741 - val_accuracy: 0.8909\n",
            "Epoch 13/30\n",
            "1613/1613 [==============================] - 2s 1ms/step - loss: 0.2411 - accuracy: 0.9023 - val_loss: 0.2734 - val_accuracy: 0.8956\n",
            "Epoch 14/30\n",
            "1613/1613 [==============================] - 2s 1ms/step - loss: 0.2344 - accuracy: 0.9041 - val_loss: 0.2700 - val_accuracy: 0.8929\n",
            "Epoch 15/30\n",
            "1613/1613 [==============================] - 2s 1ms/step - loss: 0.2271 - accuracy: 0.9066 - val_loss: 0.2651 - val_accuracy: 0.8976\n",
            "Epoch 16/30\n",
            "1613/1613 [==============================] - 2s 1ms/step - loss: 0.2178 - accuracy: 0.9187 - val_loss: 0.2631 - val_accuracy: 0.9137\n",
            "Epoch 17/30\n",
            "1613/1613 [==============================] - 2s 1ms/step - loss: 0.2110 - accuracy: 0.9240 - val_loss: 0.2571 - val_accuracy: 0.9147\n",
            "Epoch 18/30\n",
            "1613/1613 [==============================] - 2s 1ms/step - loss: 0.2031 - accuracy: 0.9258 - val_loss: 0.2587 - val_accuracy: 0.9157\n",
            "Epoch 19/30\n",
            "1613/1613 [==============================] - 2s 1ms/step - loss: 0.1970 - accuracy: 0.9273 - val_loss: 0.2520 - val_accuracy: 0.9192\n",
            "Epoch 20/30\n",
            "1613/1613 [==============================] - 2s 1ms/step - loss: 0.1918 - accuracy: 0.9282 - val_loss: 0.2503 - val_accuracy: 0.9184\n",
            "Epoch 21/30\n",
            "1613/1613 [==============================] - 2s 2ms/step - loss: 0.1861 - accuracy: 0.9296 - val_loss: 0.2493 - val_accuracy: 0.9189\n",
            "Epoch 22/30\n",
            "1613/1613 [==============================] - 2s 1ms/step - loss: 0.1761 - accuracy: 0.9311 - val_loss: 0.2448 - val_accuracy: 0.9212\n",
            "Epoch 23/30\n",
            "1613/1613 [==============================] - 2s 1ms/step - loss: 0.1677 - accuracy: 0.9315 - val_loss: 0.2405 - val_accuracy: 0.9207\n",
            "Epoch 24/30\n",
            "1613/1613 [==============================] - 2s 1ms/step - loss: 0.1590 - accuracy: 0.9339 - val_loss: 0.2241 - val_accuracy: 0.9234\n",
            "Epoch 25/30\n",
            "1613/1613 [==============================] - 2s 1ms/step - loss: 0.1469 - accuracy: 0.9366 - val_loss: 0.2176 - val_accuracy: 0.9269\n",
            "Epoch 26/30\n",
            "1613/1613 [==============================] - 2s 1ms/step - loss: 0.1342 - accuracy: 0.9415 - val_loss: 0.2072 - val_accuracy: 0.9368\n",
            "Epoch 27/30\n",
            "1613/1613 [==============================] - 3s 2ms/step - loss: 0.1198 - accuracy: 0.9493 - val_loss: 0.1961 - val_accuracy: 0.9375\n",
            "Epoch 28/30\n",
            "1613/1613 [==============================] - 3s 2ms/step - loss: 0.1046 - accuracy: 0.9640 - val_loss: 0.1876 - val_accuracy: 0.9643\n",
            "Epoch 29/30\n",
            "1613/1613 [==============================] - 2s 1ms/step - loss: 0.0899 - accuracy: 0.9763 - val_loss: 0.1810 - val_accuracy: 0.9772\n",
            "Epoch 30/30\n",
            "1613/1613 [==============================] - 2s 1ms/step - loss: 0.0764 - accuracy: 0.9839 - val_loss: 0.1667 - val_accuracy: 0.9834\n",
            "accuracy:\n",
            "[0.93083445 0.98303571 0.92321429 0.92723214 0.9875     0.99375\n",
            " 0.99553571 0.93839286 0.93125    0.98705357]\n",
            "0.9597798734621025\n",
            "precision:\n",
            "[0.99481865 0.99516441 0.9889001  0.99194361 0.99726277 0.99823633\n",
            " 0.9937667  0.99792961 0.99488753 0.99909666]\n",
            "0.9952006360514831\n",
            "recall:\n",
            "[0.86486486 0.96892655 0.85889571 0.86403509 0.97763864 0.98951049\n",
            " 0.99731903 0.87636364 0.86720143 0.97530864]\n",
            "0.9240064080934227\n",
            "f1:\n",
            "[0.9253012  0.98187023 0.91932458 0.92358181 0.98735321 0.99385426\n",
            " 0.9955397  0.93320426 0.92666667 0.98705935]\n",
            "0.9573755257642095\n",
            "--------\n",
            "matriz de confusion:\n",
            "TN=2638, FP=152 \n",
            "FN=569, TP=2242 \n",
            "--------\n",
            "matriz de confusion %:\n",
            "TN=47.09873236921978, FP=2.7138011069451884 \n",
            "FN=10.158900196393502, TP=40.02856632744153 \n",
            "--------\n",
            "accuracy1=0.8712729869666131\n",
            "--------\n",
            "reca1=0.7975809320526503\n",
            "--------\n",
            "pre1=0.9365079365079365\n",
            "--------\n",
            "f1score=0.8614793467819405\n",
            "CV Training time: 688.391587972641s\n"
          ],
          "name": "stdout"
        }
      ]
    }
  ]
}