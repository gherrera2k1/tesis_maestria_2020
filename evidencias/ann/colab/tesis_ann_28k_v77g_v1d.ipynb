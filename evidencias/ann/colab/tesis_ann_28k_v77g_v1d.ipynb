{
  "nbformat": 4,
  "nbformat_minor": 0,
  "metadata": {
    "colab": {
      "name": "tesis_ann_28k_v77g_v1d.ipynb",
      "provenance": [],
      "collapsed_sections": []
    },
    "kernelspec": {
      "display_name": "Python 3",
      "language": "python",
      "name": "python3"
    },
    "language_info": {
      "codemirror_mode": {
        "name": "ipython",
        "version": 3
      },
      "file_extension": ".py",
      "mimetype": "text/x-python",
      "name": "python",
      "nbconvert_exporter": "python",
      "pygments_lexer": "ipython3",
      "version": "3.7.6"
    }
  },
  "cells": [
    {
      "cell_type": "code",
      "metadata": {
        "id": "MDfYqJINe7se"
      },
      "source": [
        "# Gerardo Herrera... ann: (1 capa oculta con 15 neuronas, activation = 'relu', epoch=325) con 28k instacias de normal y recovering y 24 sensores"
      ],
      "execution_count": null,
      "outputs": []
    },
    {
      "cell_type": "code",
      "metadata": {
        "id": "flAR5WzRgb6Z",
        "colab": {
          "base_uri": "https://localhost:8080/"
        },
        "outputId": "246ba744-9fc3-46c9-aac8-9ffcccc93409"
      },
      "source": [
        "from google.colab import drive\n",
        "drive.mount('/content/drive')"
      ],
      "execution_count": null,
      "outputs": [
        {
          "output_type": "stream",
          "text": [
            "Drive already mounted at /content/drive; to attempt to forcibly remount, call drive.mount(\"/content/drive\", force_remount=True).\n"
          ],
          "name": "stdout"
        }
      ]
    },
    {
      "cell_type": "code",
      "metadata": {
        "id": "QbvEt_vwe2E1"
      },
      "source": [
        "# This Python 3 environment comes with many helpful analytics libraries installed\n",
        "# It is defined by the kaggle/python Docker image: https://github.com/kaggle/docker-python\n",
        "# For example, here's several helpful packages to load\n",
        "\n",
        "import numpy as np # linear algebra\n",
        "import pandas as pd # data processing, CSV file I/O (e.g. pd.read_csv)\n",
        "\n",
        "# Input data files are available in the read-only \"../input/\" directory\n",
        "# For example, running this (by clicking run or pressing Shift+Enter) will list all files under the input directory\n",
        "\n",
        "import os\n",
        "for dirname, _, filenames in os.walk('/kaggle/input'):\n",
        "    for filename in filenames:\n",
        "        print(os.path.join(dirname, filename))\n",
        "\n",
        "# You can write up to 5GB to the current directory (/kaggle/working/) that gets preserved as output when you create a version using \"Save & Run All\" \n",
        "# You can also write temporary files to /kaggle/temp/, but they won't be saved outside of the current session"
      ],
      "execution_count": null,
      "outputs": []
    },
    {
      "cell_type": "code",
      "metadata": {
        "id": "C2ErB_Nve2E9"
      },
      "source": [
        "# https://medium.com/@randerson112358/build-your-own-artificial-neural-network-using-python-f37d16be06bf"
      ],
      "execution_count": null,
      "outputs": []
    },
    {
      "cell_type": "code",
      "metadata": {
        "id": "vICLxS_Ee2FB"
      },
      "source": [
        "#Load libraries\n",
        "from keras.models import Sequential\n",
        "from keras.layers import Dense\n",
        "import pandas as pd\n",
        "from sklearn.model_selection import train_test_split\n",
        "import matplotlib.pyplot as plt\n",
        "plt.style.use('fivethirtyeight')"
      ],
      "execution_count": null,
      "outputs": []
    },
    {
      "cell_type": "code",
      "metadata": {
        "id": "QOZUG-lEe2FF"
      },
      "source": [
        "import time"
      ],
      "execution_count": null,
      "outputs": []
    },
    {
      "cell_type": "code",
      "metadata": {
        "id": "NwhsRBIge2FK"
      },
      "source": [
        "#sensor77 = pd.read_csv('../input/vombas/sensor_procesado.csv')\n",
        "#sensor77 = pd.read_csv('../input/10ks25/s25balanced10k.csv')\n",
        "#sensor77 = pd.read_csv('../input/28k-s24-balan-vombas/sensor2-ordenado_status_sin_broken_balanced_28k.csv')\n",
        "\n",
        "sensor77 = pd.read_csv('/content/drive/My Drive/datasets/sensor2-ordenado_status_sin_broken_balanced_28k.csv')\n",
        "\n"
      ],
      "execution_count": null,
      "outputs": []
    },
    {
      "cell_type": "code",
      "metadata": {
        "id": "xmx7pyVUe2FO",
        "colab": {
          "base_uri": "https://localhost:8080/"
        },
        "outputId": "a8553c8e-c5e7-4732-ba17-dd1fe0e97af2"
      },
      "source": [
        "#Show the shape (number of rows & columns)\n",
        "sensor77.shape"
      ],
      "execution_count": null,
      "outputs": [
        {
          "output_type": "execute_result",
          "data": {
            "text/plain": [
              "(28002, 27)"
            ]
          },
          "metadata": {
            "tags": []
          },
          "execution_count": 8
        }
      ]
    },
    {
      "cell_type": "code",
      "metadata": {
        "id": "OMOmc2Eue2FU",
        "colab": {
          "base_uri": "https://localhost:8080/"
        },
        "outputId": "aad3a62a-1f60-47bd-f476-0b47121d58ee"
      },
      "source": [
        "#Show the number of missing (NAN, NaN, na) data for each column\n",
        "sensor77.isnull().sum()"
      ],
      "execution_count": null,
      "outputs": [
        {
          "output_type": "execute_result",
          "data": {
            "text/plain": [
              "Unnamed: 0            0\n",
              "timestamp             0\n",
              "sensor_00             0\n",
              "sensor_01            30\n",
              "sensor_02             0\n",
              "sensor_03             0\n",
              "sensor_04             0\n",
              "sensor_11             0\n",
              "sensor_14             0\n",
              "sensor_16             0\n",
              "sensor_17             0\n",
              "sensor_18             0\n",
              "sensor_19             0\n",
              "sensor_20             0\n",
              "sensor_21             0\n",
              "sensor_22             0\n",
              "sensor_23             0\n",
              "sensor_25             0\n",
              "sensor_26             0\n",
              "sensor_27             0\n",
              "sensor_28             0\n",
              "sensor_30             0\n",
              "sensor_31             0\n",
              "sensor_44             3\n",
              "sensor_50         14004\n",
              "sensor_51          2996\n",
              "machine_status        0\n",
              "dtype: int64"
            ]
          },
          "metadata": {
            "tags": []
          },
          "execution_count": 9
        }
      ]
    },
    {
      "cell_type": "code",
      "metadata": {
        "id": "IUpls8jne2Fa"
      },
      "source": [
        "cleanup_nums = {\"machine_status\":     {\"NORMAL\": 0, \"RECOVERING\": 1,\"BROKEN\": 2}}"
      ],
      "execution_count": null,
      "outputs": []
    },
    {
      "cell_type": "code",
      "metadata": {
        "id": "ixOpx0Nge2Fd"
      },
      "source": [
        "sensor77.replace(cleanup_nums, inplace=True)"
      ],
      "execution_count": null,
      "outputs": []
    },
    {
      "cell_type": "code",
      "metadata": {
        "id": "ZXgNBUlge2Fh"
      },
      "source": [
        "sensor77.fillna(sensor77.mean(), inplace=True)"
      ],
      "execution_count": null,
      "outputs": []
    },
    {
      "cell_type": "code",
      "metadata": {
        "id": "WNuwjJ24e2Fk",
        "colab": {
          "base_uri": "https://localhost:8080/"
        },
        "outputId": "7594c11d-1e4b-4cd0-adde-f702b8beaaf2"
      },
      "source": [
        "#Show the number of missing (NAN, NaN, na) data for each column\n",
        "sensor77.isnull().sum()"
      ],
      "execution_count": null,
      "outputs": [
        {
          "output_type": "execute_result",
          "data": {
            "text/plain": [
              "Unnamed: 0        0\n",
              "timestamp         0\n",
              "sensor_00         0\n",
              "sensor_01         0\n",
              "sensor_02         0\n",
              "sensor_03         0\n",
              "sensor_04         0\n",
              "sensor_11         0\n",
              "sensor_14         0\n",
              "sensor_16         0\n",
              "sensor_17         0\n",
              "sensor_18         0\n",
              "sensor_19         0\n",
              "sensor_20         0\n",
              "sensor_21         0\n",
              "sensor_22         0\n",
              "sensor_23         0\n",
              "sensor_25         0\n",
              "sensor_26         0\n",
              "sensor_27         0\n",
              "sensor_28         0\n",
              "sensor_30         0\n",
              "sensor_31         0\n",
              "sensor_44         0\n",
              "sensor_50         0\n",
              "sensor_51         0\n",
              "machine_status    0\n",
              "dtype: int64"
            ]
          },
          "metadata": {
            "tags": []
          },
          "execution_count": 13
        }
      ]
    },
    {
      "cell_type": "code",
      "metadata": {
        "id": "PnwBp3MBe2Fp"
      },
      "source": [
        "#sensor77.drop('sensor_15', axis=1, inplace=True)\n",
        "sensor77.drop('timestamp', axis=1, inplace=True)"
      ],
      "execution_count": null,
      "outputs": []
    },
    {
      "cell_type": "code",
      "metadata": {
        "id": "BmQqawwHe2Ft"
      },
      "source": [
        "#sensor77.drop('100000', axis=1, inplace=True)"
      ],
      "execution_count": null,
      "outputs": []
    },
    {
      "cell_type": "code",
      "metadata": {
        "id": "5J9Ac_Yxe2Fw"
      },
      "source": [
        "sensor77.drop('Unnamed: 0', axis=1, inplace=True)"
      ],
      "execution_count": null,
      "outputs": []
    },
    {
      "cell_type": "code",
      "metadata": {
        "id": "dSBy0m8be2F0",
        "colab": {
          "base_uri": "https://localhost:8080/"
        },
        "outputId": "c6f43e5c-e88c-4f60-d18f-911f881450a5"
      },
      "source": [
        "sensor77.isnull().sum()"
      ],
      "execution_count": null,
      "outputs": [
        {
          "output_type": "execute_result",
          "data": {
            "text/plain": [
              "sensor_00         0\n",
              "sensor_01         0\n",
              "sensor_02         0\n",
              "sensor_03         0\n",
              "sensor_04         0\n",
              "sensor_11         0\n",
              "sensor_14         0\n",
              "sensor_16         0\n",
              "sensor_17         0\n",
              "sensor_18         0\n",
              "sensor_19         0\n",
              "sensor_20         0\n",
              "sensor_21         0\n",
              "sensor_22         0\n",
              "sensor_23         0\n",
              "sensor_25         0\n",
              "sensor_26         0\n",
              "sensor_27         0\n",
              "sensor_28         0\n",
              "sensor_30         0\n",
              "sensor_31         0\n",
              "sensor_44         0\n",
              "sensor_50         0\n",
              "sensor_51         0\n",
              "machine_status    0\n",
              "dtype: int64"
            ]
          },
          "metadata": {
            "tags": []
          },
          "execution_count": 17
        }
      ]
    },
    {
      "cell_type": "code",
      "metadata": {
        "id": "JfS7aOSne2F3",
        "colab": {
          "base_uri": "https://localhost:8080/"
        },
        "outputId": "c3ebfe57-1664-4532-9c6b-d904d326e920"
      },
      "source": [
        "#Convert the data into an array\n",
        "dataset = sensor77.values\n",
        "dataset"
      ],
      "execution_count": null,
      "outputs": [
        {
          "output_type": "execute_result",
          "data": {
            "text/plain": [
              "array([[2.46539400e+00, 4.70920100e+01, 5.32118000e+01, ...,\n",
              "        4.81174107e+02, 1.77951400e+02, 0.00000000e+00],\n",
              "       [2.46539400e+00, 4.70920100e+01, 5.32118000e+01, ...,\n",
              "        4.81174107e+02, 1.78530100e+02, 0.00000000e+00],\n",
              "       [2.44473400e+00, 4.73524300e+01, 5.32118000e+01, ...,\n",
              "        4.81174107e+02, 1.77662000e+05, 0.00000000e+00],\n",
              "       ...,\n",
              "       [2.40538200e+00, 4.95659714e+01, 5.38194400e+01, ...,\n",
              "        3.21180573e+01, 3.15393524e+01, 1.00000000e+00],\n",
              "       [2.40046300e+00, 4.95659700e+01, 5.37760400e+01, ...,\n",
              "        3.21180573e+01, 3.15393500e+01, 1.00000000e+00],\n",
              "       [2.40144700e+00, 4.95225700e+01, 5.37760391e+01, ...,\n",
              "        3.21180573e+01, 3.18287000e+01, 1.00000000e+00]])"
            ]
          },
          "metadata": {
            "tags": []
          },
          "execution_count": 18
        }
      ]
    },
    {
      "cell_type": "code",
      "metadata": {
        "id": "CB9AfYzQe2F7",
        "colab": {
          "base_uri": "https://localhost:8080/"
        },
        "outputId": "c07a2844-b5ac-45ac-afa6-5d651e541fc2"
      },
      "source": [
        "sensor77.shape"
      ],
      "execution_count": null,
      "outputs": [
        {
          "output_type": "execute_result",
          "data": {
            "text/plain": [
              "(28002, 25)"
            ]
          },
          "metadata": {
            "tags": []
          },
          "execution_count": 19
        }
      ]
    },
    {
      "cell_type": "code",
      "metadata": {
        "id": "BjEAHzqPe2F-"
      },
      "source": [
        "# Get all of the rows from the first eight columns of the dataset\n",
        "#X = dataset[:,0:51] \n",
        "X = dataset[:,0:24]\n",
        "# Get all of the rows from the last column\n",
        "#y = dataset[:,51] \n",
        "y = dataset[:,24] "
      ],
      "execution_count": null,
      "outputs": []
    },
    {
      "cell_type": "code",
      "metadata": {
        "id": "5lXEAGC_e2GD",
        "colab": {
          "base_uri": "https://localhost:8080/"
        },
        "outputId": "bc0ef016-53cf-4976-99cd-4f80b053c2a8"
      },
      "source": [
        "print(y)"
      ],
      "execution_count": null,
      "outputs": [
        {
          "output_type": "stream",
          "text": [
            "[0. 0. 0. ... 1. 1. 1.]\n"
          ],
          "name": "stdout"
        }
      ]
    },
    {
      "cell_type": "code",
      "metadata": {
        "id": "SnO661cDe2GH",
        "colab": {
          "base_uri": "https://localhost:8080/"
        },
        "outputId": "ebf81d3c-fd12-48f8-fa2a-2e9e841b2d89"
      },
      "source": [
        "print(X)"
      ],
      "execution_count": null,
      "outputs": [
        {
          "output_type": "stream",
          "text": [
            "[[2.46539400e+00 4.70920100e+01 5.32118000e+01 ... 4.36921300e+01\n",
            "  4.81174107e+02 1.77951400e+02]\n",
            " [2.46539400e+00 4.70920100e+01 5.32118000e+01 ... 4.45601800e+01\n",
            "  4.81174107e+02 1.78530100e+02]\n",
            " [2.44473400e+00 4.73524300e+01 5.32118000e+01 ... 4.60069400e+01\n",
            "  4.81174107e+02 1.77662000e+05]\n",
            " ...\n",
            " [2.40538200e+00 4.95659714e+01 5.38194400e+01 ... 3.15393524e+01\n",
            "  3.21180573e+01 3.15393524e+01]\n",
            " [2.40046300e+00 4.95659700e+01 5.37760400e+01 ... 3.15393524e+01\n",
            "  3.21180573e+01 3.15393500e+01]\n",
            " [2.40144700e+00 4.95225700e+01 5.37760391e+01 ... 3.15393524e+01\n",
            "  3.21180573e+01 3.18287000e+01]]\n"
          ],
          "name": "stdout"
        }
      ]
    },
    {
      "cell_type": "code",
      "metadata": {
        "id": "zBWJdraze2GM",
        "colab": {
          "base_uri": "https://localhost:8080/"
        },
        "outputId": "721a4224-97bb-4c5b-a041-f713d000d3fa"
      },
      "source": [
        "from sklearn import preprocessing\n",
        "min_max_scaler = preprocessing.MinMaxScaler()\n",
        "X_scale = min_max_scaler.fit_transform(X)\n",
        "X_scale"
      ],
      "execution_count": null,
      "outputs": [
        {
          "output_type": "execute_result",
          "data": {
            "text/plain": [
              "array([[1.16018541e-03, 1.51254935e-04, 2.97595181e-04, ...,\n",
              "        7.32072243e-05, 1.01425222e-03, 3.84471811e-04],\n",
              "       [1.16018541e-03, 1.51254935e-04, 2.97595181e-04, ...,\n",
              "        7.67494867e-05, 1.01425222e-03, 3.85953388e-04],\n",
              "       [1.15046306e-03, 1.56160565e-04, 2.97595181e-04, ...,\n",
              "        8.26532983e-05, 1.01425222e-03, 4.54775949e-01],\n",
              "       ...,\n",
              "       [1.13194447e-03, 1.97857886e-04, 3.09041171e-04, ...,\n",
              "        2.36152335e-05, 1.03499268e-05, 9.63031373e-06],\n",
              "       [1.12962965e-03, 1.97857860e-04, 3.08223654e-04, ...,\n",
              "        2.36152335e-05, 1.03499268e-05, 9.63030754e-06],\n",
              "       [1.13009271e-03, 1.97040318e-04, 3.08223638e-04, ...,\n",
              "        2.36152335e-05, 1.03499268e-05, 1.03710962e-05]])"
            ]
          },
          "metadata": {
            "tags": []
          },
          "execution_count": 23
        }
      ]
    },
    {
      "cell_type": "code",
      "metadata": {
        "id": "fRRkm9X-e2GP"
      },
      "source": [
        "X_train, X_test, y_train, y_test = train_test_split(X_scale, y, test_size=0.2, random_state = 4)"
      ],
      "execution_count": null,
      "outputs": []
    },
    {
      "cell_type": "code",
      "metadata": {
        "id": "1RRJ9l5Oe2GS"
      },
      "source": [
        "model = Sequential([\n",
        "    Dense(24, activation='relu', input_shape=( 24 ,)),\n",
        "    #Dense(12, activation='relu', input_shape=( 51 ,)),\n",
        "    Dense(15, activation='relu'),\n",
        "    #Dense(15, activation='relu'),\n",
        "    #Dense(15, activation='relu'),\n",
        "    Dense(1, activation='sigmoid')\n",
        "   \n",
        "])"
      ],
      "execution_count": null,
      "outputs": []
    },
    {
      "cell_type": "code",
      "metadata": {
        "id": "rrSN0CI7auZf"
      },
      "source": [
        ""
      ],
      "execution_count": null,
      "outputs": []
    },
    {
      "cell_type": "code",
      "metadata": {
        "id": "3G0Dxv_oe2GV"
      },
      "source": [
        "#model.compile(optimizer='sgd',\n",
        "#              loss='binary_crossentropy',\n",
        "#              metrics=['accuracy'])\n",
        "\n",
        "model.compile(optimizer='sgd',\n",
        "              loss='binary_crossentropy',\n",
        "              metrics=['accuracy'])"
      ],
      "execution_count": null,
      "outputs": []
    },
    {
      "cell_type": "code",
      "metadata": {
        "id": "TXrh1auie2Ga",
        "colab": {
          "base_uri": "https://localhost:8080/"
        },
        "outputId": "7ba305bb-bf69-412b-de83-e21b8d154706"
      },
      "source": [
        "start = time.time()\n",
        "hist = model.fit(X_train, y_train,\n",
        "          batch_size=20, epochs=25, validation_split=0.2)\n",
        "\n",
        "stop = time.time()\n",
        "print(f\"Training time: {stop - start}s\")\n",
        "# prints: Training time: 0.20307230949401855s\n",
        "\n",
        "# https://machinelearningmastery.com/evaluate-performance-deep-learning-models-keras/\n"
      ],
      "execution_count": null,
      "outputs": [
        {
          "output_type": "stream",
          "text": [
            "Epoch 1/25\n",
            "896/896 [==============================] - 1s 1ms/step - loss: 0.5406 - accuracy: 0.8000 - val_loss: 0.4153 - val_accuracy: 0.8400\n",
            "Epoch 2/25\n",
            "896/896 [==============================] - 1s 1ms/step - loss: 0.3734 - accuracy: 0.8522 - val_loss: 0.3723 - val_accuracy: 0.8583\n",
            "Epoch 3/25\n",
            "896/896 [==============================] - 1s 1ms/step - loss: 0.3548 - accuracy: 0.8646 - val_loss: 0.3645 - val_accuracy: 0.8587\n",
            "Epoch 4/25\n",
            "896/896 [==============================] - 1s 1ms/step - loss: 0.3493 - accuracy: 0.8648 - val_loss: 0.3619 - val_accuracy: 0.8578\n",
            "Epoch 5/25\n",
            "896/896 [==============================] - 1s 1ms/step - loss: 0.3464 - accuracy: 0.8628 - val_loss: 0.3590 - val_accuracy: 0.8525\n",
            "Epoch 6/25\n",
            "896/896 [==============================] - 1s 1ms/step - loss: 0.3446 - accuracy: 0.8603 - val_loss: 0.3587 - val_accuracy: 0.8543\n",
            "Epoch 7/25\n",
            "896/896 [==============================] - 1s 1ms/step - loss: 0.3434 - accuracy: 0.8608 - val_loss: 0.3567 - val_accuracy: 0.8518\n",
            "Epoch 8/25\n",
            "896/896 [==============================] - 1s 1ms/step - loss: 0.3425 - accuracy: 0.8608 - val_loss: 0.3559 - val_accuracy: 0.8534\n",
            "Epoch 9/25\n",
            "896/896 [==============================] - 1s 1ms/step - loss: 0.3417 - accuracy: 0.8614 - val_loss: 0.3552 - val_accuracy: 0.8532\n",
            "Epoch 10/25\n",
            "896/896 [==============================] - 1s 1ms/step - loss: 0.3407 - accuracy: 0.8620 - val_loss: 0.3566 - val_accuracy: 0.8558\n",
            "Epoch 11/25\n",
            "896/896 [==============================] - 1s 1ms/step - loss: 0.3396 - accuracy: 0.8626 - val_loss: 0.3549 - val_accuracy: 0.8552\n",
            "Epoch 12/25\n",
            "896/896 [==============================] - 1s 1ms/step - loss: 0.3384 - accuracy: 0.8631 - val_loss: 0.3514 - val_accuracy: 0.8543\n",
            "Epoch 13/25\n",
            "896/896 [==============================] - 1s 1ms/step - loss: 0.3363 - accuracy: 0.8637 - val_loss: 0.3501 - val_accuracy: 0.8561\n",
            "Epoch 14/25\n",
            "896/896 [==============================] - 1s 1ms/step - loss: 0.3344 - accuracy: 0.8637 - val_loss: 0.3483 - val_accuracy: 0.8567\n",
            "Epoch 15/25\n",
            "896/896 [==============================] - 1s 1ms/step - loss: 0.3324 - accuracy: 0.8646 - val_loss: 0.3453 - val_accuracy: 0.8570\n",
            "Epoch 16/25\n",
            "896/896 [==============================] - 1s 1ms/step - loss: 0.3296 - accuracy: 0.8654 - val_loss: 0.3425 - val_accuracy: 0.8578\n",
            "Epoch 17/25\n",
            "896/896 [==============================] - 1s 1ms/step - loss: 0.3268 - accuracy: 0.8664 - val_loss: 0.3403 - val_accuracy: 0.8576\n",
            "Epoch 18/25\n",
            "896/896 [==============================] - 1s 1ms/step - loss: 0.3241 - accuracy: 0.8673 - val_loss: 0.3368 - val_accuracy: 0.8605\n",
            "Epoch 19/25\n",
            "896/896 [==============================] - 1s 1ms/step - loss: 0.3211 - accuracy: 0.8689 - val_loss: 0.3339 - val_accuracy: 0.8596\n",
            "Epoch 20/25\n",
            "896/896 [==============================] - 1s 1ms/step - loss: 0.3185 - accuracy: 0.8703 - val_loss: 0.3316 - val_accuracy: 0.8605\n",
            "Epoch 21/25\n",
            "896/896 [==============================] - 1s 1ms/step - loss: 0.3158 - accuracy: 0.8705 - val_loss: 0.3294 - val_accuracy: 0.8643\n",
            "Epoch 22/25\n",
            "896/896 [==============================] - 1s 1ms/step - loss: 0.3131 - accuracy: 0.8719 - val_loss: 0.3275 - val_accuracy: 0.8661\n",
            "Epoch 23/25\n",
            "896/896 [==============================] - 1s 1ms/step - loss: 0.3105 - accuracy: 0.8733 - val_loss: 0.3238 - val_accuracy: 0.8645\n",
            "Epoch 24/25\n",
            "896/896 [==============================] - 1s 1ms/step - loss: 0.3078 - accuracy: 0.8759 - val_loss: 0.3213 - val_accuracy: 0.8668\n",
            "Epoch 25/25\n",
            "896/896 [==============================] - 1s 1ms/step - loss: 0.3051 - accuracy: 0.8812 - val_loss: 0.3191 - val_accuracy: 0.8764\n",
            "Training time: 25.948000192642212s\n"
          ],
          "name": "stdout"
        }
      ]
    },
    {
      "cell_type": "code",
      "metadata": {
        "id": "roo3asUee2Ge",
        "colab": {
          "base_uri": "https://localhost:8080/",
          "height": 325
        },
        "outputId": "d5c7758c-4e45-4ec7-931f-85497eb7af6b"
      },
      "source": [
        "#visualize the training loss and the validation loss to see if the model is overfitting\n",
        "plt.plot(hist.history['loss'])\n",
        "plt.plot(hist.history['val_loss'])\n",
        "plt.title('Model loss')\n",
        "plt.ylabel('Loss')\n",
        "plt.xlabel('Epoch')\n",
        "plt.legend(['Train', 'Val'], loc='upper right')\n",
        "plt.show()"
      ],
      "execution_count": null,
      "outputs": [
        {
          "output_type": "display_data",
          "data": {
            "image/png": "[encoded data removed]",
            "text/plain": [
              "<Figure size 432x288 with 1 Axes>"
            ]
          },
          "metadata": {
            "tags": []
          }
        }
      ]
    },
    {
      "cell_type": "code",
      "metadata": {
        "id": "afManzN8e2Gi",
        "colab": {
          "base_uri": "https://localhost:8080/",
          "height": 325
        },
        "outputId": "10e3d3bc-880a-4d79-b1ab-9696a025c6a1"
      },
      "source": [
        "#visualize the training accuracy and the validation accuracy to see if the model is overfitting\n",
        "plt.plot(hist.history['accuracy'])\n",
        "plt.plot(hist.history['val_accuracy'])\n",
        "plt.title('Model accuracy')\n",
        "plt.ylabel('Accuracy')\n",
        "plt.xlabel('Epoch')\n",
        "plt.legend(['Train', 'Val'], loc='lower right')\n",
        "plt.show()"
      ],
      "execution_count": null,
      "outputs": [
        {
          "output_type": "display_data",
          "data": {
            "image/png": "[encoded data removed]",
            "text/plain": [
              "<Figure size 432x288 with 1 Axes>"
            ]
          },
          "metadata": {
            "tags": []
          }
        }
      ]
    },
    {
      "cell_type": "code",
      "metadata": {
        "id": "RC-N5lgRe2Gn",
        "colab": {
          "base_uri": "https://localhost:8080/"
        },
        "outputId": "8d1cfc0b-b6a1-4b29-81f0-c01a242d06b1"
      },
      "source": [
        "#Make a prediction & print the actual values\n",
        "prediction = model.predict(X_test)\n",
        "#prediction  = [1 if y>=0.5 else 0 for y in prediction] #Threshold\n",
        "prediction  = [1 if y>=0.75 else 0 for y in prediction] #Threshold\n",
        "print(prediction)\n",
        "print(y_test)"
      ],
      "execution_count": null,
      "outputs": [
        {
          "output_type": "stream",
          "text": [
            "[1, 1, 0, 0, 0, 0, 0, 0, 0, 0, 0, 1, 1, 1, 0, 0, 0, 1, 1, 1, 0, 0, 1, 0, 0, 0, 0, 0, 1, 0, 0, 0, 1, 0, 1, 1, 0, 0, 0, 0, 0, 0, 1, 1, 1, 0, 1, 1, 0, 0, 1, 1, 0, 0, 1, 0, 0, 1, 1, 1, 1, 1, 0, 0, 0, 1, 1, 1, 0, 1, 1, 0, 1, 0, 1, 1, 0, 0, 1, 0, 1, 1, 1, 1, 0, 1, 0, 0, 0, 1, 0, 0, 0, 1, 0, 0, 0, 0, 0, 1, 0, 1, 0, 0, 1, 0, 1, 1, 1, 0, 1, 1, 0, 0, 0, 1, 0, 0, 0, 0, 1, 1, 0, 0, 0, 0, 1, 1, 0, 0, 0, 0, 0, 0, 1, 0, 1, 0, 1, 0, 0, 0, 0, 0, 0, 0, 1, 1, 0, 1, 0, 0, 1, 0, 1, 0, 1, 0, 1, 0, 1, 0, 0, 0, 0, 0, 1, 0, 1, 0, 0, 1, 0, 1, 1, 0, 0, 0, 0, 0, 1, 0, 0, 0, 0, 0, 0, 1, 1, 0, 1, 1, 0, 1, 0, 1, 0, 0, 0, 0, 0, 0, 1, 0, 0, 0, 1, 1, 0, 0, 1, 1, 0, 0, 0, 0, 1, 0, 0, 0, 0, 1, 0, 1, 0, 1, 0, 1, 1, 1, 0, 1, 0, 0, 1, 0, 1, 0, 1, 1, 0, 0, 1, 0, 1, 0, 0, 0, 0, 0, 0, 0, 0, 0, 0, 1, 0, 0, 1, 1, 0, 0, 0, 0, 1, 0, 0, 0, 0, 1, 0, 0, 0, 0, 0, 1, 0, 0, 0, 1, 0, 1, 1, 0, 0, 0, 1, 0, 0, 0, 1, 0, 1, 0, 1, 0, 1, 0, 0, 0, 1, 0, 0, 0, 0, 0, 0, 0, 1, 0, 0, 0, 0, 1, 0, 1, 1, 1, 1, 0, 0, 1, 0, 0, 0, 1, 1, 1, 0, 0, 0, 0, 0, 0, 0, 0, 0, 0, 1, 1, 1, 0, 0, 1, 0, 1, 0, 1, 0, 0, 1, 1, 1, 0, 1, 1, 0, 1, 1, 1, 1, 0, 0, 0, 1, 1, 0, 1, 0, 1, 0, 1, 0, 0, 1, 1, 1, 0, 0, 1, 0, 0, 1, 1, 0, 0, 0, 0, 0, 0, 1, 0, 0, 1, 1, 0, 0, 0, 0, 0, 0, 0, 0, 1, 1, 1, 1, 0, 1, 0, 0, 1, 0, 0, 0, 0, 1, 0, 0, 0, 0, 0, 1, 1, 0, 0, 0, 1, 1, 0, 0, 0, 1, 0, 1, 0, 1, 0, 0, 0, 0, 0, 0, 0, 1, 1, 0, 0, 1, 1, 1, 0, 0, 1, 1, 1, 0, 1, 1, 0, 1, 0, 0, 0, 0, 0, 0, 0, 0, 1, 0, 0, 0, 1, 1, 0, 0, 0, 0, 1, 0, 1, 0, 0, 0, 0, 1, 1, 0, 0, 0, 0, 1, 0, 0, 0, 0, 0, 1, 0, 0, 1, 1, 0, 0, 0, 0, 1, 1, 1, 0, 0, 0, 0, 1, 0, 0, 1, 0, 0, 1, 1, 1, 0, 0, 1, 1, 0, 1, 1, 0, 0, 1, 0, 0, 1, 1, 0, 0, 1, 0, 0, 1, 0, 0, 0, 1, 0, 0, 1, 0, 1, 1, 0, 1, 0, 0, 0, 0, 0, 1, 0, 0, 1, 1, 1, 0, 0, 0, 1, 1, 1, 0, 0, 1, 0, 1, 1, 0, 0, 1, 0, 0, 0, 0, 0, 1, 0, 0, 1, 1, 1, 0, 1, 0, 0, 0, 1, 0, 0, 0, 0, 0, 0, 0, 1, 0, 0, 1, 1, 1, 0, 0, 0, 1, 1, 1, 0, 1, 0, 0, 1, 1, 0, 1, 0, 1, 1, 1, 0, 0, 0, 1, 0, 1, 0, 1, 1, 0, 0, 0, 1, 0, 1, 0, 1, 0, 0, 0, 0, 1, 1, 1, 1, 0, 0, 0, 1, 1, 1, 0, 1, 0, 1, 0, 0, 0, 0, 0, 0, 0, 1, 1, 1, 1, 1, 0, 1, 1, 0, 1, 1, 1, 1, 1, 1, 0, 1, 0, 0, 0, 1, 1, 1, 1, 0, 1, 0, 1, 0, 1, 0, 0, 1, 0, 1, 1, 0, 1, 1, 1, 0, 0, 0, 0, 1, 0, 0, 1, 1, 0, 1, 0, 1, 0, 0, 1, 0, 1, 0, 0, 0, 0, 1, 1, 0, 1, 0, 0, 0, 0, 0, 1, 1, 0, 1, 0, 0, 0, 0, 0, 0, 0, 0, 1, 0, 1, 0, 1, 0, 0, 0, 0, 1, 0, 0, 1, 0, 0, 1, 0, 1, 1, 1, 1, 1, 0, 0, 1, 0, 0, 1, 0, 0, 0, 1, 0, 0, 0, 0, 1, 1, 0, 1, 0, 0, 0, 1, 0, 0, 1, 0, 0, 1, 1, 0, 1, 1, 0, 1, 1, 0, 1, 1, 1, 0, 0, 0, 0, 1, 1, 1, 0, 0, 0, 1, 0, 0, 0, 1, 1, 0, 1, 1, 0, 0, 0, 1, 0, 0, 0, 1, 0, 1, 0, 0, 0, 1, 0, 0, 0, 0, 0, 1, 0, 1, 0, 0, 1, 0, 1, 1, 0, 1, 0, 0, 0, 0, 0, 0, 0, 0, 1, 1, 0, 0, 1, 0, 1, 0, 0, 1, 0, 0, 0, 0, 1, 1, 0, 0, 0, 0, 0, 0, 0, 0, 0, 0, 0, 1, 1, 0, 0, 0, 1, 1, 0, 0, 0, 0, 1, 1, 1, 1, 1, 0, 1, 0, 0, 0, 0, 1, 0, 0, 1, 0, 1, 1, 0, 0, 0, 0, 0, 1, 0, 1, 1, 1, 0, 0, 1, 1, 0, 1, 1, 0, 0, 1, 0, 1, 1, 1, 0, 1, 0, 1, 0, 0, 1, 0, 0, 0, 0, 1, 0, 1, 0, 1, 0, 1, 1, 0, 0, 0, 0, 0, 0, 0, 0, 1, 0, 1, 0, 1, 0, 1, 1, 1, 1, 0, 1, 0, 1, 0, 1, 0, 0, 1, 0, 0, 1, 1, 0, 0, 1, 0, 0, 0, 1, 0, 1, 0, 0, 1, 1, 1, 1, 0, 1, 0, 0, 1, 1, 1, 1, 0, 0, 1, 1, 0, 1, 0, 0, 0, 0, 0, 0, 0, 0, 0, 0, 1, 1, 1, 0, 0, 0, 0, 0, 0, 0, 1, 1, 1, 0, 0, 0, 1, 0, 0, 0, 1, 0, 1, 0, 0, 1, 1, 0, 0, 0, 1, 0, 0, 0, 1, 0, 1, 0, 0, 1, 0, 1, 1, 1, 1, 0, 0, 0, 0, 0, 0, 1, 1, 0, 0, 0, 0, 0, 1, 1, 1, 0, 0, 1, 1, 0, 0, 1, 0, 0, 1, 1, 1, 0, 0, 1, 0, 1, 0, 1, 0, 0, 0, 1, 1, 0, 1, 0, 1, 0, 1, 1, 1, 0, 0, 0, 1, 0, 1, 0, 0, 0, 1, 0, 0, 1, 0, 0, 1, 0, 1, 0, 1, 1, 0, 1, 1, 0, 1, 0, 0, 0, 1, 0, 1, 0, 0, 1, 1, 0, 0, 1, 1, 0, 0, 1, 0, 0, 0, 1, 0, 0, 0, 0, 0, 0, 0, 1, 1, 0, 0, 1, 1, 0, 1, 0, 1, 0, 0, 0, 1, 0, 1, 0, 1, 0, 1, 0, 0, 0, 1, 0, 0, 0, 1, 1, 0, 0, 0, 0, 0, 1, 1, 1, 1, 0, 0, 1, 1, 1, 0, 0, 1, 0, 1, 1, 0, 0, 1, 1, 0, 0, 0, 0, 0, 0, 1, 0, 1, 0, 0, 0, 1, 1, 0, 1, 0, 0, 0, 0, 0, 0, 0, 0, 0, 0, 0, 0, 1, 1, 0, 1, 0, 1, 0, 0, 0, 0, 0, 0, 0, 1, 0, 1, 0, 1, 0, 0, 0, 0, 0, 1, 1, 0, 0, 1, 1, 0, 0, 1, 1, 1, 0, 1, 0, 0, 1, 1, 1, 0, 1, 0, 0, 1, 0, 0, 1, 0, 1, 0, 0, 1, 1, 1, 0, 0, 0, 0, 1, 0, 1, 1, 0, 0, 0, 1, 0, 0, 0, 1, 1, 1, 0, 1, 1, 1, 0, 1, 1, 0, 0, 0, 1, 1, 1, 0, 1, 0, 0, 0, 0, 1, 0, 1, 0, 0, 1, 1, 0, 0, 0, 1, 1, 0, 1, 1, 0, 0, 0, 0, 0, 0, 0, 0, 0, 1, 0, 1, 1, 1, 1, 0, 1, 1, 0, 0, 1, 1, 0, 0, 0, 0, 1, 0, 0, 1, 1, 0, 0, 0, 0, 0, 0, 1, 1, 1, 0, 1, 0, 0, 0, 0, 0, 0, 1, 0, 1, 0, 1, 1, 0, 1, 1, 1, 0, 0, 0, 1, 0, 0, 0, 1, 0, 0, 0, 0, 0, 0, 0, 1, 0, 0, 0, 0, 0, 0, 0, 1, 0, 0, 1, 1, 1, 0, 1, 0, 0, 0, 0, 0, 0, 0, 0, 1, 1, 0, 1, 0, 0, 0, 1, 0, 0, 0, 1, 1, 0, 1, 1, 1, 0, 0, 0, 0, 0, 0, 0, 0, 0, 1, 1, 0, 0, 0, 0, 1, 1, 0, 1, 0, 0, 0, 0, 1, 0, 0, 0, 0, 1, 1, 0, 0, 1, 0, 0, 0, 1, 0, 0, 0, 1, 0, 1, 0, 1, 0, 1, 0, 1, 1, 0, 1, 1, 1, 0, 0, 0, 1, 1, 1, 0, 1, 0, 1, 0, 1, 1, 0, 1, 1, 0, 0, 0, 0, 0, 1, 0, 1, 0, 0, 1, 0, 1, 0, 0, 0, 0, 0, 0, 1, 1, 0, 0, 0, 0, 0, 0, 0, 1, 1, 0, 0, 1, 1, 0, 1, 0, 0, 0, 1, 0, 0, 1, 0, 1, 1, 0, 0, 1, 0, 0, 0, 1, 1, 0, 0, 1, 0, 0, 1, 1, 1, 0, 1, 1, 0, 1, 0, 0, 0, 0, 1, 0, 0, 1, 0, 1, 1, 1, 0, 1, 0, 1, 0, 0, 1, 0, 0, 0, 0, 1, 1, 0, 0, 1, 0, 1, 0, 1, 1, 1, 0, 1, 0, 0, 1, 0, 1, 0, 1, 0, 0, 0, 0, 1, 1, 1, 0, 0, 1, 0, 0, 0, 0, 1, 0, 1, 1, 1, 0, 0, 1, 1, 1, 1, 0, 0, 0, 0, 0, 0, 1, 0, 0, 1, 0, 0, 0, 0, 0, 0, 0, 1, 1, 0, 0, 1, 0, 0, 0, 0, 0, 1, 0, 0, 0, 1, 0, 0, 0, 0, 0, 0, 1, 0, 0, 0, 1, 0, 0, 1, 0, 0, 0, 0, 1, 1, 0, 1, 1, 1, 0, 1, 1, 1, 0, 0, 0, 0, 0, 0, 1, 0, 1, 1, 1, 1, 0, 1, 1, 1, 0, 0, 1, 1, 1, 0, 0, 0, 1, 0, 1, 0, 0, 0, 0, 1, 0, 1, 1, 0, 1, 0, 0, 0, 0, 0, 0, 0, 1, 0, 0, 0, 0, 0, 0, 1, 1, 0, 0, 1, 0, 0, 0, 0, 1, 1, 1, 0, 1, 0, 1, 0, 1, 0, 1, 1, 1, 1, 0, 0, 1, 0, 0, 1, 1, 1, 0, 1, 0, 1, 0, 0, 0, 0, 0, 1, 1, 1, 0, 1, 1, 0, 0, 0, 1, 0, 1, 0, 0, 1, 0, 1, 1, 1, 1, 0, 0, 1, 1, 0, 0, 1, 0, 0, 0, 0, 1, 1, 0, 0, 0, 1, 0, 0, 1, 1, 0, 0, 1, 0, 1, 0, 0, 1, 1, 0, 0, 0, 0, 1, 0, 1, 0, 0, 1, 0, 0, 1, 0, 0, 1, 1, 0, 0, 1, 0, 0, 1, 0, 1, 0, 1, 1, 0, 0, 1, 1, 1, 0, 0, 1, 1, 0, 0, 0, 1, 1, 0, 1, 1, 1, 0, 0, 0, 1, 0, 1, 0, 0, 1, 1, 1, 0, 1, 0, 1, 0, 0, 0, 0, 0, 1, 1, 0, 1, 1, 0, 0, 1, 0, 0, 1, 0, 1, 0, 0, 0, 0, 0, 0, 1, 0, 0, 0, 0, 0, 0, 0, 0, 1, 0, 1, 0, 0, 0, 0, 1, 0, 1, 1, 0, 1, 0, 1, 0, 1, 0, 0, 0, 0, 0, 0, 0, 0, 0, 0, 1, 0, 0, 1, 0, 0, 1, 0, 1, 0, 1, 0, 0, 1, 0, 0, 1, 0, 0, 0, 0, 1, 1, 1, 0, 1, 0, 1, 1, 0, 1, 0, 0, 0, 0, 0, 0, 0, 0, 0, 0, 0, 0, 1, 1, 1, 1, 1, 1, 0, 0, 0, 0, 1, 1, 0, 0, 1, 1, 1, 0, 0, 1, 0, 1, 0, 1, 0, 1, 0, 0, 0, 1, 1, 0, 0, 0, 0, 0, 0, 0, 0, 0, 0, 0, 1, 0, 1, 0, 1, 1, 0, 1, 0, 0, 0, 1, 0, 0, 1, 1, 1, 1, 1, 0, 0, 1, 0, 1, 0, 0, 0, 0, 0, 0, 1, 1, 0, 0, 1, 0, 0, 0, 0, 0, 1, 1, 1, 0, 1, 1, 1, 1, 0, 1, 0, 1, 0, 1, 0, 0, 1, 1, 0, 1, 0, 0, 0, 1, 0, 0, 0, 0, 0, 1, 1, 0, 0, 1, 1, 0, 0, 1, 1, 1, 1, 1, 0, 0, 0, 1, 0, 0, 1, 1, 1, 0, 1, 0, 0, 0, 0, 0, 1, 0, 0, 1, 0, 0, 0, 1, 1, 0, 0, 1, 0, 0, 1, 0, 1, 1, 1, 0, 1, 1, 0, 1, 0, 0, 1, 0, 1, 1, 0, 1, 1, 0, 0, 0, 0, 0, 1, 0, 0, 0, 0, 0, 0, 1, 0, 1, 1, 0, 0, 0, 1, 0, 0, 0, 1, 0, 0, 1, 0, 1, 0, 1, 0, 0, 0, 0, 1, 1, 0, 0, 1, 0, 1, 0, 1, 0, 0, 1, 1, 0, 1, 1, 0, 1, 0, 0, 1, 1, 1, 1, 0, 1, 1, 1, 0, 0, 0, 0, 0, 0, 0, 0, 1, 0, 0, 0, 1, 0, 0, 1, 1, 1, 0, 1, 1, 0, 0, 1, 0, 0, 1, 1, 1, 1, 0, 1, 0, 0, 0, 0, 0, 0, 1, 0, 1, 0, 1, 1, 0, 0, 0, 0, 0, 1, 1, 0, 1, 0, 0, 0, 1, 0, 1, 0, 1, 0, 0, 1, 1, 0, 1, 0, 1, 0, 1, 1, 0, 0, 0, 0, 1, 0, 1, 0, 1, 0, 1, 0, 1, 0, 0, 0, 1, 1, 1, 1, 0, 0, 0, 0, 1, 1, 0, 1, 0, 1, 1, 1, 0, 1, 1, 1, 1, 0, 0, 1, 0, 1, 1, 1, 1, 1, 1, 0, 0, 1, 0, 0, 1, 0, 1, 1, 1, 0, 0, 0, 1, 1, 1, 1, 0, 0, 0, 0, 0, 1, 0, 0, 0, 0, 1, 0, 0, 1, 0, 0, 1, 1, 0, 1, 0, 0, 1, 1, 0, 0, 1, 0, 0, 0, 1, 1, 0, 1, 0, 1, 0, 1, 1, 0, 1, 1, 1, 0, 0, 1, 0, 0, 0, 0, 0, 0, 1, 1, 1, 1, 0, 1, 1, 0, 0, 1, 0, 1, 1, 0, 0, 0, 0, 0, 0, 0, 1, 0, 1, 1, 0, 0, 0, 0, 0, 0, 0, 0, 0, 1, 0, 0, 0, 0, 0, 0, 0, 0, 1, 0, 0, 0, 0, 0, 0, 0, 0, 0, 0, 1, 1, 0, 1, 1, 1, 1, 1, 1, 1, 1, 0, 1, 0, 1, 1, 0, 0, 1, 0, 0, 0, 0, 0, 1, 1, 1, 1, 0, 1, 0, 1, 0, 0, 0, 0, 0, 0, 1, 1, 0, 0, 0, 1, 0, 0, 0, 1, 0, 1, 0, 0, 1, 0, 1, 1, 1, 0, 0, 0, 1, 1, 0, 0, 0, 1, 1, 0, 0, 0, 0, 1, 0, 1, 1, 0, 0, 1, 0, 0, 0, 0, 1, 0, 1, 0, 1, 0, 0, 1, 0, 0, 0, 0, 1, 0, 0, 0, 0, 0, 1, 0, 1, 0, 1, 1, 0, 0, 1, 0, 0, 0, 1, 0, 0, 1, 0, 0, 1, 1, 1, 1, 1, 0, 0, 0, 0, 0, 0, 0, 0, 1, 0, 1, 0, 0, 1, 0, 1, 1, 1, 0, 1, 0, 1, 1, 0, 0, 1, 0, 1, 1, 0, 0, 1, 1, 0, 0, 1, 0, 0, 1, 0, 0, 1, 0, 0, 1, 1, 0, 0, 0, 0, 0, 0, 1, 0, 0, 0, 1, 1, 0, 0, 1, 0, 1, 0, 1, 1, 1, 0, 0, 0, 1, 0, 1, 0, 1, 1, 0, 0, 0, 0, 0, 0, 0, 1, 1, 1, 1, 1, 0, 0, 0, 1, 0, 1, 0, 0, 0, 0, 1, 1, 0, 0, 0, 0, 0, 0, 0, 0, 0, 0, 0, 0, 1, 0, 0, 0, 1, 0, 0, 0, 0, 1, 1, 1, 1, 0, 1, 0, 0, 0, 0, 1, 1, 0, 1, 0, 0, 0, 0, 0, 0, 0, 1, 1, 0, 1, 0, 1, 0, 1, 0, 1, 0, 0, 0, 1, 0, 1, 0, 0, 1, 0, 1, 0, 1, 0, 0, 1, 0, 1, 1, 0, 1, 1, 0, 0, 1, 0, 0, 0, 0, 0, 0, 1, 1, 0, 0, 0, 1, 1, 1, 1, 1, 0, 0, 0, 1, 1, 0, 1, 0, 0, 0, 1, 1, 0, 1, 1, 0, 0, 1, 0, 0, 1, 1, 0, 1, 0, 1, 0, 0, 1, 0, 0, 0, 0, 0, 0, 1, 0, 1, 0, 0, 1, 0, 0, 0, 0, 1, 1, 0, 0, 0, 0, 0, 0, 0, 1, 0, 1, 0, 0, 0, 0, 0, 1, 0, 0, 1, 0, 0, 0, 1, 1, 0, 1, 1, 0, 0, 1, 0, 1, 0, 0, 1, 0, 1, 0, 1, 0, 1, 1, 0, 1, 0, 0, 1, 0, 0, 0, 0, 1, 1, 1, 0, 1, 1, 0, 0, 1, 0, 1, 0, 1, 1, 0, 0, 0, 0, 0, 0, 0, 1, 0, 0, 0, 0, 0, 1, 1, 0, 0, 1, 0, 0, 0, 0, 0, 0, 0, 1, 1, 1, 0, 0, 0, 0, 0, 0, 0, 1, 0, 0, 0, 1, 1, 0, 1, 0, 0, 0, 0, 1, 1, 0, 1, 1, 1, 1, 0, 0, 1, 0, 1, 1, 0, 1, 0, 0, 1, 1, 0, 0, 0, 1, 0, 0, 0, 0, 1, 1, 1, 1, 0, 0, 1, 1, 1, 0, 1, 0, 1, 1, 1, 0, 1, 0, 1, 0, 1, 0, 1, 1, 0, 0, 0, 1, 0, 1, 1, 1, 1, 1, 1, 0, 1, 1, 0, 0, 1, 1, 0, 0, 0, 0, 1, 0, 1, 1, 0, 1, 0, 0, 0, 0, 0, 1, 1, 0, 0, 0, 0, 0, 0, 0, 0, 1, 1, 1, 0, 1, 1, 0, 0, 0, 0, 0, 1, 0, 0, 1, 0, 1, 1, 0, 1, 1, 0, 1, 0, 1, 0, 1, 0, 1, 1, 0, 1, 0, 0, 1, 0, 0, 0, 1, 1, 1, 0, 0, 0, 1, 0, 0, 0, 1, 0, 0, 0, 0, 1, 1, 0, 0, 0, 0, 0, 0, 1, 1, 0, 0, 0, 0, 0, 1, 1, 1, 0, 0, 0, 1, 0, 1, 1, 0, 0, 1, 1, 0, 0, 0, 1, 1, 0, 1, 0, 0, 0, 1, 0, 0, 1, 1, 1, 0, 1, 0, 0, 0, 1, 0, 0, 1, 1, 1, 0, 0, 0, 0, 1, 1, 0, 1, 1, 0, 1, 1, 1, 0, 0, 0, 0, 1, 0, 0, 1, 1, 1, 0, 1, 0, 0, 0, 0, 0, 0, 1, 0, 1, 0, 1, 1, 0, 1, 1, 0, 0, 1, 1, 0, 1, 0, 1, 1, 1, 1, 0, 1, 1, 1, 0, 0, 0, 1, 1, 0, 1, 0, 1, 1, 1, 0, 0, 1, 1, 0, 1, 0, 0, 0, 0, 0, 0, 1, 0, 0, 0, 1, 0, 1, 0, 1, 0, 1, 0, 1, 0, 1, 0, 1, 0, 0, 0, 0, 0, 0, 0, 0, 1, 0, 1, 0, 0, 0, 0, 1, 0, 0, 0, 0, 0, 1, 0, 0, 0, 0, 1, 0, 1, 1, 1, 1, 1, 0, 0, 0, 1, 0, 0, 0, 0, 0, 0, 0, 0, 0, 0, 1, 0, 1, 1, 0, 0, 1, 0, 0, 0, 0, 0, 0, 0, 0, 0, 1, 0, 0, 1, 1, 0, 0, 0, 0, 0, 1, 0, 1, 1, 1, 1, 1, 0, 1, 1, 1, 1, 1, 0, 0, 0, 1, 0, 0, 1, 0, 1, 0, 0, 1, 0, 1, 0, 0, 0, 0, 0, 1, 0, 0, 1, 1, 0, 1, 1, 1, 1, 0, 1, 1, 1, 0, 0, 0, 1, 1, 0, 1, 0, 0, 0, 1, 1, 1, 1, 1, 0, 1, 1, 0, 1, 0, 1, 0, 0, 0, 1, 0, 0, 0, 1, 0, 0, 1, 0, 1, 1, 0, 0, 1, 1, 0, 0, 0, 1, 0, 0, 1, 1, 1, 1, 0, 0, 1, 1, 0, 1, 0, 0, 1, 0, 0, 1, 0, 1, 1, 0, 0, 0, 0, 0, 1, 1, 0, 1, 1, 0, 1, 1, 0, 0, 1, 0, 0, 0, 1, 1, 0, 0, 0, 0, 1, 1, 1, 0, 1, 1, 0, 1, 0, 0, 1, 1, 1, 1, 1, 1, 0, 0, 0, 0, 0, 0, 0, 0, 1, 1, 1, 1, 1, 0, 0, 0, 0, 1, 0, 0, 0, 1, 0, 1, 0, 1, 1, 0, 0, 0, 1, 0, 0, 1, 0, 1, 0, 1, 1, 0, 0, 0, 1, 0, 0, 0, 0, 0, 0, 0, 1, 1, 0, 0, 0, 1, 1, 1, 1, 0, 1, 1, 1, 1, 1, 0, 0, 1, 1, 0, 0, 0, 0, 0, 0, 0, 1, 1, 0, 0, 0, 0, 1, 1, 0, 1, 0, 1, 0, 0, 1, 0, 0, 0, 0, 0, 0, 0, 0, 0, 1, 1, 1, 0, 0, 0, 0, 0, 1, 0, 0, 0, 0, 0, 1, 0, 0, 1, 0, 0, 0, 0, 0, 0, 0, 1, 0, 1, 1, 0, 0, 0, 0, 1, 0, 0, 0, 0, 0, 0, 0, 0, 0, 1, 1, 0, 0, 1, 1, 1, 0, 0, 0, 1, 1, 0, 1, 0, 0, 0, 1, 1, 1, 0, 1, 0, 0, 1, 1, 0, 1, 1, 0, 1, 0, 0, 0, 0, 1, 1, 1, 0, 0, 0, 1, 0, 0, 0, 0, 1, 1, 1, 1, 1, 1, 1, 0, 0, 0, 0, 0, 1, 0, 0, 1, 1, 1, 1, 0, 1, 0, 1, 0, 0, 1, 0, 0, 0, 0, 1, 0, 0, 1, 0, 1, 0, 1, 1, 1, 1, 1, 1, 0, 0, 0, 1, 1, 0, 0, 1, 1, 0, 1, 1, 1, 0, 1, 0, 0, 1, 1, 1, 0, 0, 0, 0, 0, 1, 1, 1, 1, 0, 1, 1, 0, 0, 1, 0, 0, 0, 0, 0, 1, 0, 0, 0, 0, 0, 0, 1, 0, 1, 0, 1, 0, 1, 0, 0, 1, 0, 1, 1, 1, 1, 0, 1, 0, 0, 0, 0, 0, 0, 0, 0, 1, 0, 0, 0, 0, 0, 1, 0, 0, 0, 1, 1, 1, 1, 1, 1, 0, 0, 1, 0, 0, 0, 1, 0, 1, 0, 0, 0, 1, 0, 0, 0, 0, 1, 1, 0, 0, 1, 0, 1, 1, 0, 1, 0, 0, 0, 1, 0, 0, 1, 0, 0, 1, 0, 0, 1, 0, 1, 0, 0, 0, 0, 1, 0, 1, 0, 1, 0, 1, 0, 1, 0, 1, 0, 0, 0, 1, 1, 0, 0, 0, 0, 1, 0, 0, 1, 1, 1, 1, 0, 1, 0, 0, 1, 1, 0, 1, 0, 0, 0, 0, 0, 0, 0, 1, 1, 1, 1, 1, 0, 1, 1, 0, 1, 0, 1, 0, 1, 0, 1, 1, 1, 1, 0, 1, 1, 1, 0, 1, 1, 1, 0, 0, 1, 1, 1, 1, 1, 1, 1, 1, 1, 0, 0, 1, 1, 0, 0, 0, 0, 1, 0, 0, 1, 1, 0, 0, 0, 0, 0, 0, 0, 0, 0, 0, 0, 1, 1, 1, 1, 1, 1, 1, 0, 0, 0, 1, 1, 0, 1, 0, 0, 0, 0, 1, 1, 0, 0, 0, 0, 0, 1, 0, 0, 0, 1, 1, 0, 1, 0, 1, 0, 0, 1, 0, 0, 0, 0, 0, 0, 0, 1, 0, 0, 0, 0, 0, 1, 0, 0, 1, 0, 1, 0, 1, 0, 0, 0, 1, 1, 0, 0, 1, 1, 1, 0, 0, 0, 0, 1, 0, 1, 0, 0, 1, 0, 1, 0, 0, 0, 0, 0, 1, 1, 1, 0, 1, 0, 1, 1, 1, 1, 0, 1, 0, 1, 0, 0, 0, 1, 1, 1, 0, 1, 1, 0, 0, 0, 1, 0, 0, 0, 0, 0, 1, 1, 1, 0, 1, 1, 0, 1, 0, 0, 0, 1, 1, 0, 1, 1, 0, 0, 1, 0, 0, 0, 1, 1, 0, 0, 1, 0, 1, 0, 0, 1, 1, 1, 1, 1, 1, 1, 0, 0, 0, 1, 0, 1, 1, 0, 0, 0, 0, 1, 0, 1, 0, 0, 1, 0, 1, 1, 1, 0, 0, 1, 0, 1, 1, 1, 1, 0, 1, 0, 0, 0, 1, 1, 1, 0, 1, 0, 1, 0, 1, 0, 1, 1, 1, 0, 1, 0, 0, 0, 0, 1, 0, 0, 1, 1, 0, 1, 0, 1, 1, 0, 0, 1, 0, 0, 1, 0, 1, 1, 0, 1, 1, 0, 0, 0, 0, 1, 1, 0, 0, 1, 0, 1, 1, 1, 0, 1, 1, 0, 0, 0, 0, 1, 0, 0, 0, 1, 1, 0, 1, 1, 0, 1, 0, 1, 0, 0, 1, 1, 1, 1, 0, 0, 0, 0, 0, 0, 0, 1, 0, 1, 0, 0, 0, 0, 0, 1, 0, 1, 1, 0, 0, 0, 1, 0, 1, 1, 0, 0, 0, 0, 0, 0, 0, 1, 0, 1, 0, 0, 0, 0, 1, 0, 1, 0, 0, 1, 1, 1, 1, 0, 0, 0, 0, 0, 1, 0, 0, 0, 0, 1, 1, 0, 0, 1, 0, 0, 0, 1, 0, 0, 1, 1, 1, 0, 0, 0, 0, 0, 0, 0, 1, 1, 1, 1, 0, 0, 1, 0, 0, 0, 0, 0, 0, 0, 0, 1, 0, 1, 0, 0, 0, 0, 1, 1, 0, 0, 0, 0, 1, 1, 1, 0, 0, 0, 0, 0, 1, 1, 0, 1, 0, 0, 0, 0, 0, 1, 0, 0, 0, 0, 0, 1, 0, 0, 1, 0, 0, 0, 0, 1, 1, 1, 0, 0, 0, 1, 1, 1, 0, 0, 0, 1, 1, 0, 0, 0, 0, 0, 1, 1, 0, 1, 1, 0, 0, 1, 1, 0, 1, 1, 0, 1, 1, 0, 1, 0, 0, 0, 0, 1, 0, 0, 0, 0, 1, 0, 0, 1, 0, 0, 1, 0, 0, 0, 0, 1, 1, 1, 0, 0, 0, 1, 1, 1, 1, 1, 0, 1, 0, 0, 0, 0, 0, 0, 0, 0, 0, 1, 0, 0, 0, 1, 0, 1, 0, 0, 1, 0, 1, 0, 1, 0, 0, 0, 0, 1, 1, 0, 0, 0, 1, 0, 0, 0, 0, 0, 0, 0, 0, 0, 1, 0, 1, 1, 1, 1, 1, 0, 0, 0, 1, 1, 0, 1, 1, 0, 0, 1, 0, 0, 1, 1, 0, 1, 0, 0, 0, 0, 0, 0, 0, 0, 0, 0, 0, 1, 0, 0, 0, 0, 0, 0, 1, 1, 0, 1, 1, 0, 0, 1, 0, 0, 0, 0, 0, 1, 0, 0, 0, 0, 0, 0, 0, 0, 0, 0, 0, 1, 1, 0, 0, 0, 1, 0, 0, 1, 0, 1, 0, 1, 1, 0, 0, 1, 1, 0, 1, 1, 0, 0, 0, 0, 0, 1, 0, 0, 0, 1, 1, 1, 1, 0, 0, 0, 1, 0, 1, 1, 1, 1, 0, 0, 0, 1, 0, 0, 1, 1, 0, 1, 1, 0, 0, 1, 1, 1, 0, 1, 0, 0, 0, 1, 0, 0, 1, 1, 1, 0, 0, 0, 0, 1, 1, 1, 0, 1, 1, 0, 0, 0, 1, 0, 0, 0, 0, 1, 0, 1, 1, 0, 0, 0, 1, 0, 1, 0, 1, 1, 0, 0, 0, 0, 0, 0, 0, 1, 0, 0, 0, 1, 0, 0, 0, 1, 0, 0, 0, 0, 1, 0, 1, 0, 0, 0, 0, 1, 0, 0, 0, 0, 0, 0, 0, 0, 1, 0, 1, 0, 0, 0, 0, 0, 0, 0, 0, 0, 1, 0, 1, 0, 0, 0, 1, 1, 1, 0, 0, 1, 0, 0, 0, 0, 0, 1, 0, 1, 0, 0, 0, 1, 0, 0, 0, 1, 0, 0, 1, 1, 1, 0, 0, 0, 0, 0, 0, 0, 1, 0, 1, 1, 0, 1, 0, 1, 0, 0, 1, 0, 0, 1, 0, 0, 1, 0, 0, 0, 0, 0, 0, 0, 1, 1, 1, 1, 0, 1, 0, 0, 0, 1, 0, 1, 0, 1, 0, 0, 1, 1, 0, 1, 1, 0, 1, 0, 1, 0, 0, 0, 1, 1, 1, 0, 0, 0, 1, 0, 1, 0, 0, 0, 0, 0, 0, 0, 1, 0, 0, 0, 0, 0, 0, 0, 1, 1, 1, 0, 0, 1, 0, 1, 0, 0, 0, 1, 1, 0, 0, 0, 0, 1, 1, 0, 0, 1, 1, 0, 1, 0, 1, 0, 1, 0, 0, 0, 1, 0, 1, 1, 0, 0, 0, 1, 0, 1, 0, 1, 1, 1, 0, 0, 0, 0, 0, 0, 1, 0, 0, 0, 0, 0, 0, 0, 0, 0, 0, 0, 0, 0, 1, 1, 1, 0, 0, 0, 0, 1, 1, 0, 1, 0, 0, 1, 1, 1, 1, 1, 0, 1, 0, 1, 0, 1, 0, 0, 1, 0, 0, 0, 1, 1, 0, 0, 1, 1, 1, 0, 0, 0, 1, 0, 1, 0, 1, 1, 1, 1, 0, 0, 1, 0, 1, 0, 0, 0, 1, 0, 0, 1, 0, 0, 0, 1, 0, 0, 0, 1, 0, 0, 1, 1, 1, 1, 0, 0, 1, 1, 0, 0, 0, 0, 0, 1, 0, 0, 1, 1, 0, 1, 1, 0, 0, 0, 0, 0, 0, 0, 1, 0, 0, 0, 1, 0, 0, 1, 0, 1, 1, 0, 1, 1, 0, 1, 1, 0, 0, 0, 0, 0, 1, 0, 0, 1, 0, 1, 1, 0, 0, 0, 0, 1, 0, 0, 1, 0, 1, 0, 0, 0, 0, 0, 0, 0, 0, 1, 1, 0, 0, 0, 0, 1, 0, 0, 1, 0, 1, 0, 0, 0, 1, 1, 0, 0, 0, 0, 1, 0, 1, 1, 0, 0, 0, 0, 0, 0, 1, 1, 1, 1, 0, 1, 0, 1, 0, 1, 1, 0, 0, 0, 1, 1, 1, 1, 1, 0, 0, 1, 0, 0, 1, 1, 1, 1, 1, 1, 1, 1, 1, 0, 0, 1, 0, 0, 1, 0, 1, 0, 0, 0, 0, 0, 1, 1, 1, 0, 0, 0, 0, 0, 0, 0, 1, 1, 1, 0, 0, 0, 0, 0, 0, 0, 0, 1, 0, 0, 1, 0, 0, 1, 0, 1, 1, 0, 1, 1, 0, 1, 0, 1, 0, 0, 0, 0, 0, 1, 1, 1, 1, 0, 0, 0, 0, 0, 0, 0, 0, 1, 1, 0, 0, 1, 0, 1, 1, 0, 0, 1, 1, 1, 0, 0, 0, 1, 1, 0, 0, 0, 1, 1, 0, 0, 1, 0, 0, 0, 0, 1, 1, 1, 1, 0, 0, 0, 0, 0, 0, 0, 0, 0, 0, 0, 0, 1, 0, 1, 0, 0, 0, 1, 0, 0, 1, 0, 0, 0, 0, 0, 0, 0, 0, 0, 0, 0, 0, 0, 1, 1, 1, 1, 0, 0, 1, 1, 0, 0, 1, 1, 1, 1, 0, 0, 0, 1, 1, 0, 0, 1, 0, 1, 0, 1, 0, 0, 0, 0, 1, 1, 0, 0, 0, 1, 0, 1, 0, 1, 0, 0, 0, 0, 0, 0, 1, 0, 1, 0, 0, 0, 0, 1, 0, 0, 1, 0, 1, 1, 1, 0, 0, 0, 1, 0, 1, 1, 0, 1, 0, 0, 0, 0, 0, 1, 1, 0, 0, 0, 0, 0, 0, 0, 1, 1, 0, 0, 0, 1, 0, 0, 1, 0, 1, 0, 0, 1, 1, 0, 0, 0, 0, 1, 0, 0, 0, 1, 1, 0, 1, 0, 1, 0, 1, 1, 0, 1, 1, 0, 0, 0, 0, 0, 0, 1, 0, 0, 0, 1, 0, 1, 0, 0, 1, 1, 1, 0, 0, 1, 0, 0, 1, 0, 0, 0, 0, 0, 0, 0, 0, 0, 0, 1, 0, 0, 0, 1, 1, 0, 1, 1, 0, 0, 1, 0, 1, 0, 1, 0, 0, 1, 0, 1, 1, 0, 0, 0, 1, 0, 0, 1, 1, 1, 1, 0, 1, 1, 0, 1, 0, 1, 1, 0, 1, 1, 1, 1, 0, 1, 1, 1, 0, 1, 1, 1, 0, 0, 0, 1, 1, 0, 1, 1, 0, 1, 0, 0, 0, 1, 0, 1, 1, 0, 0, 0, 0, 0, 0, 0, 1, 0, 0, 0, 0, 1, 0, 0, 0, 1, 0, 0, 0, 0, 0, 1, 0, 1, 0, 0, 1, 0, 0, 1, 0, 1, 1, 0, 0, 0, 0, 0, 0, 1, 1, 0, 0, 1, 1, 0, 0, 0, 0, 1, 1, 1, 0, 1, 0, 0, 0, 0, 0, 0, 0, 1, 0, 0, 1, 0, 1, 1, 0, 1, 0, 0, 1, 0, 1, 0, 0, 1, 0, 0, 0, 1, 0, 1, 1, 1, 1, 0, 0, 1, 0, 1, 0, 0, 0, 0, 1, 1, 0, 0, 0, 1, 1, 0, 0, 0, 1]\n",
            "[1. 1. 0. ... 0. 0. 1.]\n"
          ],
          "name": "stdout"
        }
      ]
    },
    {
      "cell_type": "code",
      "metadata": {
        "id": "yhYj5y-Ue2Gr",
        "colab": {
          "base_uri": "https://localhost:8080/"
        },
        "outputId": "e42531aa-4e7f-4e00-b72b-48bb78cd08f9"
      },
      "source": [
        "from sklearn.metrics import classification_report,confusion_matrix, accuracy_score\n",
        "pred = model.predict(X_train)\n",
        "#pred  = [1 if y>=0.5 else 0 for y in pred] #Threshold\n",
        "pred  = [1 if y>=0.5 else 0 for y in pred] #Threshold\n",
        "print(classification_report(y_train ,pred ))\n",
        "print('Confusion Matrix: \\n',confusion_matrix(y_train,pred))\n",
        "print()\n",
        "print('Accuracy: ', accuracy_score(y_train,pred))\n",
        "print()"
      ],
      "execution_count": null,
      "outputs": [
        {
          "output_type": "stream",
          "text": [
            "              precision    recall  f1-score   support\n",
            "\n",
            "         0.0       0.83      0.97      0.89     11211\n",
            "         1.0       0.97      0.80      0.87     11190\n",
            "\n",
            "    accuracy                           0.88     22401\n",
            "   macro avg       0.90      0.88      0.88     22401\n",
            "weighted avg       0.90      0.88      0.88     22401\n",
            "\n",
            "Confusion Matrix: \n",
            " [[10891   320]\n",
            " [ 2273  8917]]\n",
            "\n",
            "Accuracy:  0.8842462390071871\n",
            "\n"
          ],
          "name": "stdout"
        }
      ]
    },
    {
      "cell_type": "code",
      "metadata": {
        "id": "r38ubOnze2Gu",
        "colab": {
          "base_uri": "https://localhost:8080/"
        },
        "outputId": "4e79a85b-e711-4199-8586-d75c79e7200b"
      },
      "source": [
        "from sklearn.metrics import classification_report,confusion_matrix, accuracy_score\n",
        "pred = model.predict(X_test)\n",
        "#pred  = [1 if y>=0.5 else 0 for y in pred] #Threshold\n",
        "pred  = [1 if y>=0.5 else 0 for y in pred] #Threshold\n",
        "print(classification_report(y_test ,pred ))\n",
        "print('Confusion Matrix: \\n',confusion_matrix(y_test,pred))\n",
        "print()\n",
        "print('Accuracy: ', accuracy_score(y_test,pred))\n",
        "print()"
      ],
      "execution_count": null,
      "outputs": [
        {
          "output_type": "stream",
          "text": [
            "              precision    recall  f1-score   support\n",
            "\n",
            "         0.0       0.83      0.96      0.89      2790\n",
            "         1.0       0.96      0.80      0.87      2811\n",
            "\n",
            "    accuracy                           0.88      5601\n",
            "   macro avg       0.89      0.88      0.88      5601\n",
            "weighted avg       0.89      0.88      0.88      5601\n",
            "\n",
            "Confusion Matrix: \n",
            " [[2689  101]\n",
            " [ 568 2243]]\n",
            "\n",
            "Accuracy:  0.8805570433851098\n",
            "\n"
          ],
          "name": "stdout"
        }
      ]
    },
    {
      "cell_type": "code",
      "metadata": {
        "id": "-6jQ-tMje2Gy",
        "colab": {
          "base_uri": "https://localhost:8080/"
        },
        "outputId": "c2cb834d-b1bf-48b0-f972-f59455012003"
      },
      "source": [
        "model.evaluate(X_test, y_test)[1]"
      ],
      "execution_count": null,
      "outputs": [
        {
          "output_type": "stream",
          "text": [
            "176/176 [==============================] - 0s 907us/step - loss: 0.3107 - accuracy: 0.8806\n"
          ],
          "name": "stdout"
        },
        {
          "output_type": "execute_result",
          "data": {
            "text/plain": [
              "0.8805570602416992"
            ]
          },
          "metadata": {
            "tags": []
          },
          "execution_count": 33
        }
      ]
    },
    {
      "cell_type": "code",
      "metadata": {
        "id": "jv-BmnGfe2G2"
      },
      "source": [
        "# ann cros vaidacion\n",
        "# https://medium.com/datadriveninvestor/k-fold-and-dropout-in-artificial-neural-network-ea054a89fb4e"
      ],
      "execution_count": null,
      "outputs": []
    },
    {
      "cell_type": "code",
      "metadata": {
        "id": "t7O_7d1ke2G4"
      },
      "source": [
        "#builing the neural net\n",
        "from keras import Sequential\n",
        "from keras.layers import Dense\n",
        "from keras.layers import Dropout\n",
        "from keras.wrappers.scikit_learn import KerasClassifier\n",
        "from sklearn.model_selection import cross_val_score"
      ],
      "execution_count": null,
      "outputs": []
    },
    {
      "cell_type": "code",
      "metadata": {
        "id": "iw7R6pW1e2G7"
      },
      "source": [
        "#accuracies =  cross_val_score(estimator=classifier, X= X, y=output_category,cv=10, n_jobs=-1)\n",
        "#accuracies\n",
        "\n",
        "#accuracies =  cross_val_score(estimator=model, X= X_test, y=pred,cv=5, n_jobs=-1)\n",
        "#accuracies"
      ],
      "execution_count": null,
      "outputs": []
    },
    {
      "cell_type": "code",
      "metadata": {
        "id": "2-cU-Tdue2G-"
      },
      "source": [
        "# https://medium.com/analytics-vidhya/artificial-neural-network-ann-with-keras-simplified-use-case-if-student-pass-the-exam-code-949ddb2a9c91"
      ],
      "execution_count": null,
      "outputs": []
    },
    {
      "cell_type": "code",
      "metadata": {
        "id": "Z53Rg8zRe2HB"
      },
      "source": [
        "from sklearn.model_selection import cross_validate\n",
        "from sklearn.model_selection import cross_val_score\n",
        "def kera_classifier():\n",
        "    cf = Sequential()\n",
        "    cf.add(Dense(units = 12,  activation = 'relu', input_dim = 24))\n",
        "    #cf.add(Dense(units = 12,  activation = 'relu', input_dim = 51))\n",
        "    cf.add(Dense(units = 15,  activation = 'relu'))\n",
        "    cf.add(Dense(units = 1, activation = 'sigmoid'))\n",
        "    cf.compile(optimizer = 'adam', loss = 'binary_crossentropy', metrics = ['accuracy'])\n",
        "    return cf\n",
        "start7 = time.time()\n",
        "cf = KerasClassifier(build_fn = kera_classifier, batch_size = 1, epochs = 1)\n",
        "#cf = KerasClassifier(build_fn = kera_classifier, batch_size = 57, epochs = 100)\n",
        "#acuracies = cross_val_score(estimator = cf, X = X_train, y = y_train, cv = 10, n_jobs = -1)\n",
        "#accuracies = cross_validate(cf, X = X_train, y = y_train, cv = 10, n_jobs = -1,scoring ='accuracy')\n",
        "accuracies = cross_val_score(cf, X = X_train, y = y_train, cv = 10, n_jobs = -1,scoring ='accuracy')\n",
        "#ean = accuracies.mean()\n",
        "#iance = accuracies.std()\n",
        "#\n",
        "prec = cross_val_score(cf, X = X_train, y = y_train, cv = 10, n_jobs = -1 ,scoring ='precision_macro')\n",
        "f1 = cross_val_score(cf, X = X_train, y = y_train, cv = 10, n_jobs = -1 ,scoring ='f1')\n",
        "recal = cross_val_score(cf, X = X_train, y = y_train, cv = 10, n_jobs = -1 ,scoring ='recall')\n",
        "#ean1= recal.mean()\n",
        "#ariance1= recal.std()"
      ],
      "execution_count": null,
      "outputs": []
    },
    {
      "cell_type": "code",
      "metadata": {
        "id": "p2UTKd_Ue2HE",
        "colab": {
          "base_uri": "https://localhost:8080/"
        },
        "outputId": "a21db547-8765-4de6-fee0-f7fd7a263571"
      },
      "source": [
        "#print(f\"accuracy:\")\n",
        "#print (accuracies)\n",
        "#print (mean)\n",
        "#print( variance)\n",
        "#print(f\"recall:\")\n",
        "#print (recal)\n",
        "#print (mean1)\n",
        "#print( variance1)\n",
        "\n",
        "#\n",
        "print(f\"preci:\")\n",
        "print(prec)\n",
        "print(prec.mean())\n",
        "print(prec.std())\n",
        "#print(variance['test_score'])\n",
        "#\n",
        "print(f\"recall:\")\n",
        "print(recal)\n",
        "print(recal.mean())\n",
        "print(recal.std())\n",
        "#print(variance['test_score'])\n",
        "#\n",
        "#\n",
        "print(f\"f1-score:\")\n",
        "print(f1)\n",
        "print(f1.mean())\n",
        "print(f1.std())\n",
        "#print(variance['test_score'])\n",
        "#\n",
        "#\n",
        "print(f\"accuracy:\")\n",
        "print(accuracies)\n",
        "print(\"\\n\")\n",
        "print(accuracies.mean())\n",
        "print(\"\\n\")\n",
        "print(accuracies.std())\n",
        "print(\"\\n\")\n",
        "#print(variance['test_score'])\n",
        "#\n",
        "stop7 = time.time()\n",
        "print(f\"CV Training time: {stop7 - start7}s\")\n",
        "\n",
        "# 200 epochs\n",
        "# 0.9936249911785126\n",
        "# 0.003466360910457571"
      ],
      "execution_count": null,
      "outputs": [
        {
          "output_type": "stream",
          "text": [
            "preci:\n",
            "[0.88281216 0.91045902 0.9068215  0.89759051 0.89851648 0.9103238\n",
            " 0.90897298 0.90790434 0.89977969 0.90286294]\n",
            "0.9026043416063464\n",
            "0.008058196402300932\n",
            "recall:\n",
            "[0.8018018  0.79378531 0.80105171 0.79736842 0.79695886 0.80332168\n",
            " 0.79177837 0.79181818 0.7798574  0.79100529]\n",
            "0.7948747019911875\n",
            "0.006547228267754053\n",
            "f1-score:\n",
            "[0.89032901 0.85237614 0.88394584 0.87403846 0.87766221 0.88781431\n",
            " 0.87984111 0.87519103 0.87238285 0.88027478]\n",
            "0.8773855752752342\n",
            "0.010001501585788207\n",
            "accuracy:\n",
            "[0.90004462 0.89732143 0.89508929 0.88526786 0.88839286 0.890625\n",
            " 0.89196429 0.88973214 0.884375   0.88839286]\n",
            "\n",
            "\n",
            "0.8911205337221905\n",
            "\n",
            "\n",
            "0.004810021260618194\n",
            "\n",
            "\n",
            "CV Training time: 669.8710045814514s\n"
          ],
          "name": "stdout"
        }
      ]
    },
    {
      "cell_type": "code",
      "metadata": {
        "id": "mjqKL_qNe2HH"
      },
      "source": [
        "#  Dense(12, activation='relu', input_shape=( 51 ,)),\n",
        "#    Dense(15, activation='relu'),\n",
        "#    Dense(1, activation='sigmoid')"
      ],
      "execution_count": null,
      "outputs": []
    },
    {
      "cell_type": "code",
      "metadata": {
        "id": "nyCCN3rMaDJW",
        "colab": {
          "base_uri": "https://localhost:8080/"
        },
        "outputId": "423e9f75-d146-4b4e-d1b7-951cfe617d52"
      },
      "source": [
        "from sklearn.model_selection import cross_validate\n",
        "from sklearn.model_selection import cross_val_score\n",
        "\n",
        "from sklearn.metrics import plot_confusion_matrix\n",
        "\n",
        "#hist = model.fit(X_train, y_train,\n",
        "#          batch_size=20, epochs=25, validation_split=0.2)\n",
        "\n",
        "\n",
        "def kera_classifier():\n",
        "    clf = Sequential()\n",
        "    clf.add(Dense(units = 24,  activation = 'relu', input_dim = 24))\n",
        "    #cf.add(Dense(units = 12,  activation = 'relu', input_dim = 51))\n",
        "    clf.add(Dense(units = 15,  activation = 'relu'))\n",
        "    clf.add(Dense(units = 1, activation = 'sigmoid'))\n",
        "    clf.compile(optimizer = 'adam', loss = 'binary_crossentropy', metrics = ['accuracy'])\n",
        "    return clf\n",
        "start7 = time.time()\n",
        "#cf = KerasClassifier(build_fn = kera_classifier, batch_size = 20, epochs = 25)\n",
        "clf = KerasClassifier(build_fn = kera_classifier, batch_size = 25, epochs = 325, validation_split=0.2, verbose=0)\n",
        "\n",
        "#accuracies = cross_val_score(cf, X = X_train, y = y_train, cv = 10, n_jobs = -1,scoring ='accuracy')\n",
        "\n",
        "#\n",
        "#prec = cross_val_score(cf, X = X_train, y = y_train, cv = 10, n_jobs = -1 ,scoring ='precision_macro')\n",
        "#f1 = cross_val_score(cf, X = X_train, y = y_train, cv = 10, n_jobs = -1 ,scoring ='f1')\n",
        "#recal = cross_val_score(cf, X = X_train, y = y_train, cv = 10, n_jobs = -1 ,scoring ='recall')\n",
        "\n",
        "#scores = cross_validate(clf, X, y, cv=10,scoring =['accuracy','f1','recall','precision'],return_train_score=False)\n",
        "scores = cross_validate(clf, X = X_train,  y = y_train, cv=10,scoring =['accuracy','f1','recall','precision'],return_train_score=False)\n",
        " \n",
        "\n",
        "#mejora gh\n",
        "# solo es soportado por clasificadores\n",
        "#plot_confusion_matrix(clf, X_test, y_test, cmap=plt.cm.Blues)  \n",
        "\n",
        "#plt.show()\n",
        "\n",
        "gh4 = scores.get(\"test_accuracy\")\n",
        "\n",
        "print(f\"accuracy:\")\n",
        "print(gh4)\n",
        "print(gh4.mean())\n",
        "\n",
        "gh3 = scores.get(\"test_precision\")\n",
        "\n",
        "print(f\"precision:\")\n",
        "print(gh3)\n",
        "print(gh3.mean())\n",
        "\n",
        "gh = scores.get(\"test_recall\")\n",
        "\n",
        "print(f\"recall:\")\n",
        "print(gh)\n",
        "print(gh.mean())\n",
        "\n",
        "gh2 = scores.get(\"test_f1\")\n",
        "\n",
        "print(f\"f1:\")\n",
        "print(gh2)\n",
        "print(gh2.mean())\n",
        "\n",
        "#CM = confusion_matrix(y_test, y_pred)\n",
        "\n",
        "CM = confusion_matrix(y_test, pred)\n",
        "\n",
        "print(f\"--------\")\n",
        "print(f\"matriz de confusion:\")\n",
        "TN = CM[0][0]\n",
        "FN = CM[1][0]\n",
        "TP = CM[1][1]\n",
        "FP = CM[0][1]\n",
        "print(f\"TN={TN}, FP={FP} \")\n",
        "print(f\"FN={FN}, TP={TP} \")\n",
        "\n",
        "print(f\"--------\")\n",
        "print(f\"matriz de confusion %:\")\n",
        "total1=(TN+TP+FN+FP)\n",
        "\n",
        "print(f\"TN={100*TN/total1}, FP={100*FP/total1} \")\n",
        "print(f\"FN={100*FN/total1}, TP={100*TP/total1} \")\n",
        "\n",
        "print(f\"--------\")\n",
        "acc1=(TN+TP)/(TN+TP+FN+FP)\n",
        "print(f\"accuracy1={acc1}\")\n",
        "\n",
        "print(f\"--------\")\n",
        "re1=(TP)/(TP+FN)\n",
        "print(f\"reca1={re1}\")\n",
        "\n",
        "print(f\"--------\")\n",
        "pre1=(TP)/(TP+FP)\n",
        "print(f\"pre1={pre1}\")\n",
        "\n",
        "print(f\"--------\")\n",
        "f1s1=(2*pre1*re1)/(pre1+re1)\n",
        "print(f\"f1score={f1s1}\")\n",
        "\n",
        "#mejora gh\n",
        "\n",
        "stop7 = time.time()\n",
        "print(f\"CV Training time: {stop7 - start7}s\")\n",
        "\n",
        "# 200 epochs\n",
        "# 0.9936249911785126\n",
        "# 0.003466360910457571"
      ],
      "execution_count": null,
      "outputs": [
        {
          "output_type": "stream",
          "text": [
            "WARNING:tensorflow:From /usr/local/lib/python3.6/dist-packages/tensorflow/python/keras/wrappers/scikit_learn.py:241: Sequential.predict_classes (from tensorflow.python.keras.engine.sequential) is deprecated and will be removed after 2021-01-01.\n",
            "Instructions for updating:\n",
            "Please use instead:* `np.argmax(model.predict(x), axis=-1)`,   if your model does multi-class classification   (e.g. if it uses a `softmax` last-layer activation).* `(model.predict(x) > 0.5).astype(\"int32\")`,   if your model does binary classification   (e.g. if it uses a `sigmoid` last-layer activation).\n",
            "accuracy:\n",
            "[1.         0.996875   0.99821429 0.99821429 0.99866071 0.99642857\n",
            " 1.         0.98928571 0.99732143 0.99910714]\n",
            "0.9974107142857143\n",
            "precision:\n",
            "[1.         0.99811143 0.99912204 1.         0.99910474 0.99824561\n",
            " 1.         0.99539595 0.99821429 1.        ]\n",
            "0.9988194055784195\n",
            "recall:\n",
            "[1.         0.9952919  0.99737073 0.99649123 0.99821109 0.99475524\n",
            " 1.         0.98272727 0.99643494 0.99823633]\n",
            "0.9959518735471752\n",
            "f1:\n",
            "[1.         0.99669967 0.99824561 0.99824253 0.99865772 0.99649737\n",
            " 1.         0.98902104 0.99732382 0.99911739]\n",
            "0.9973805154395816\n",
            "--------\n",
            "matriz de confusion:\n",
            "TN=2689, FP=101 \n",
            "FN=568, TP=2243 \n",
            "--------\n",
            "matriz de confusion %:\n",
            "TN=48.009284056418494, FP=1.803249419746474 \n",
            "FN=10.141046241742545, TP=40.046420282092484 \n",
            "--------\n",
            "accuracy1=0.8805570433851098\n",
            "--------\n",
            "reca1=0.7979366773390253\n",
            "--------\n",
            "pre1=0.9569112627986348\n",
            "--------\n",
            "f1score=0.8702230843840932\n",
            "CV Training time: 2181.6532554626465s\n"
          ],
          "name": "stdout"
        }
      ]
    }
  ]
}