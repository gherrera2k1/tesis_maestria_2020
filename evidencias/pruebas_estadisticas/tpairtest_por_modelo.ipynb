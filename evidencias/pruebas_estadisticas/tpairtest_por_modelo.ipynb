{
  "nbformat": 4,
  "nbformat_minor": 0,
  "metadata": {
    "colab": {
      "name": "tpairtest por modelo.ipynb",
      "provenance": [],
      "collapsed_sections": []
    },
    "kernelspec": {
      "name": "python3",
      "display_name": "Python 3"
    }
  },
  "cells": [
    {
      "cell_type": "code",
      "metadata": {
        "id": "yz_7hoKjLbKD"
      },
      "source": [
        "# comparacion mediante pruebas en pareja para medir significancia estadistica"
      ],
      "execution_count": 95,
      "outputs": []
    },
    {
      "cell_type": "code",
      "metadata": {
        "id": "8ckcziIEXPQV"
      },
      "source": [
        "# arboles = 100, v1d PROM= 0.986607\n",
        "# archivo=fork_of_rf_teziz_28k_v1d.ipynb\n",
        "# acc de  n=10 de la validacion cruzada\n",
        "rf = [0.99821492, 0.99964298, 1,         1,        1,        1,   1,        1,        1,    0.86821429]"
      ],
      "execution_count": 96,
      "outputs": []
    },
    {
      "cell_type": "code",
      "metadata": {
        "id": "XuWWzHFX2DNy"
      },
      "source": [
        "# arboles= 500 , v3  PROM= 0.98232\n",
        "rf2 = [0.99393074, 0.99964298, 1  ,       1   ,      1  ,      1,   1  ,       1 ,        1  ,       0.82964286]\n",
        "# archivo= fork-of-rf-teziz-28k-v3.ipynb\n",
        "# arboles = 25,   v2 prom= 0.978500318763707\n",
        "\n",
        "# fork-of-rf-teziz-28k-v2.ipynb\n",
        "rf3 = [0.99143163, 0.99964298, 1    ,     0.99928571, 1,         1 , 1 ,       1   ,      1 ,        0.79464286]"
      ],
      "execution_count": 97,
      "outputs": []
    },
    {
      "cell_type": "code",
      "metadata": {
        "id": "Tu9AeUzOaKNz"
      },
      "source": [
        "# de la prueba pareada entres los tres rf, ninguno es estadisticamete mas sigificativo, entonces nos quedamos con la accuracy"
      ],
      "execution_count": 98,
      "outputs": []
    },
    {
      "cell_type": "code",
      "metadata": {
        "id": "nOWf2S-J2t51",
        "colab": {
          "base_uri": "https://localhost:8080/",
          "height": 0
        },
        "outputId": "079e7bf9-227c-4a4e-b101-25e781a87467"
      },
      "source": [
        "from scipy import stats\n",
        "\n",
        "stats.ttest_rel(rf2, rf)\n",
        "\n",
        "# Ttest_relResult(statistic=-1.0625793669394634, pvalue=0.31565170839933626)\n",
        "# 31.56\n",
        "# c2 vs c3,  multiplicar por 100 para estar %"
      ],
      "execution_count": 99,
      "outputs": [
        {
          "output_type": "execute_result",
          "data": {
            "text/plain": [
              "Ttest_relResult(statistic=-1.1179939580979863, pvalue=0.2925225367973931)"
            ]
          },
          "metadata": {
            "tags": []
          },
          "execution_count": 99
        }
      ]
    },
    {
      "cell_type": "code",
      "metadata": {
        "id": "0In5ZYxC-pFo"
      },
      "source": [
        "#stats.ttest_rel(rf2, rf2)"
      ],
      "execution_count": 100,
      "outputs": []
    },
    {
      "cell_type": "code",
      "metadata": {
        "id": "ZJOi4nPX9t72"
      },
      "source": [
        "#stats.ttest_rel(rf3, rf2)"
      ],
      "execution_count": 101,
      "outputs": []
    },
    {
      "cell_type": "code",
      "metadata": {
        "id": "-rkG8BTf9MZD",
        "colab": {
          "base_uri": "https://localhost:8080/",
          "height": 0
        },
        "outputId": "88d72dfe-1fa4-4ab2-9698-8139303030fb"
      },
      "source": [
        "stats.ttest_rel(rf3, rf)\r\n",
        "\r\n",
        "# Ttest_relResult(statistic=-1.078184934383557, pvalue=0.30899927516686543)\r\n",
        "# 30.89\r\n",
        "# c1 vs c2,  multiplicar por 100 para estar %"
      ],
      "execution_count": 102,
      "outputs": [
        {
          "output_type": "execute_result",
          "data": {
            "text/plain": [
              "Ttest_relResult(statistic=-1.109844996180234, pvalue=0.2958379924149413)"
            ]
          },
          "metadata": {
            "tags": []
          },
          "execution_count": 102
        }
      ]
    },
    {
      "cell_type": "code",
      "metadata": {
        "id": "2Uhvd0sGdTtZ"
      },
      "source": [
        "# svm RADIAL O RBF accPROM 0.904903771\n",
        "# archivo = svm_28k_v2_teziz_rbf_v1d.ipynb\n",
        "svm = [0.87325955, 0.82113531, 0.88964286, 0.90821429, 0.92892857, 0.94285714,  0.94428571, 0.9375,     0.91178571 ,0.89142857]\n",
        "\n",
        "# svm 2 lineal accPROM 0.85854763604835\n",
        "# archivo = svm-28k-v5-teziz-linea.ipynb\n",
        "svm2 = [0.86719029, 0.79900036, 0.84392857, 0.865 ,     0.8425  ,   0.85142857, 0.88107143, 0.88535714 ,0.87071429, 0.87928571]\n",
        "\n",
        "# svm 3 poly alfa 8,  accPROM 0.7308073392155863\n",
        "# archivo = svm-28k-v3-teziz-poly.ipynb\n",
        "svm3 = [0.70581935, 0.68868261, 0.73892857, 0.73464286, 0.71392857, 0.72392857, 0.73642857, 0.73392857, 0.71964286, 0.81214286]\n"
      ],
      "execution_count": 103,
      "outputs": []
    },
    {
      "cell_type": "code",
      "metadata": {
        "id": "FkpqTSaU1t3F",
        "colab": {
          "base_uri": "https://localhost:8080/",
          "height": 0
        },
        "outputId": "e330b719-6ed5-4253-b8ed-4e864141ba43"
      },
      "source": [
        "from scipy import stats\n",
        "\n",
        "#stats.ttest_rel(df['bp_before'], df['bp_after'])\n",
        "stats.ttest_rel(svm2, svm) # svm radial  es mas significativo\n",
        "# Ttest_relResult(statistic=-5.121446640281181, pvalue=0.0006267555728178404)\n",
        "# 0.062\n",
        "# c1 vs c2 de tabla,  multiplicar por 100 para estar %"
      ],
      "execution_count": 104,
      "outputs": [
        {
          "output_type": "execute_result",
          "data": {
            "text/plain": [
              "Ttest_relResult(statistic=-5.121446640281181, pvalue=0.0006267555728178404)"
            ]
          },
          "metadata": {
            "tags": []
          },
          "execution_count": 104
        }
      ]
    },
    {
      "cell_type": "code",
      "metadata": {
        "id": "OXa9IfH7XDi_",
        "colab": {
          "base_uri": "https://localhost:8080/",
          "height": 0
        },
        "outputId": "8b4aabe2-acd9-48bb-b9a6-c1fd7eb99605"
      },
      "source": [
        "from scipy import stats\n",
        "\n",
        "#stats.ttest_rel(df['bp_before'], df['bp_after'])\n",
        "stats.ttest_rel(svm3, svm) # svm radial es mas significativo\n",
        "#Ttest_relResult(statistic=-12.545525125959326, pvalue=5.26789191645834e-07)\n",
        "# 5.26 e-5\n",
        "# c2 vs c3 de tabla,  multiplicar por 100 para estar %"
      ],
      "execution_count": 105,
      "outputs": [
        {
          "output_type": "execute_result",
          "data": {
            "text/plain": [
              "Ttest_relResult(statistic=-12.545525125959326, pvalue=5.26789191645834e-07)"
            ]
          },
          "metadata": {
            "tags": []
          },
          "execution_count": 105
        }
      ]
    },
    {
      "cell_type": "code",
      "metadata": {
        "id": "uyx-jVwdapxD",
        "colab": {
          "base_uri": "https://localhost:8080/",
          "height": 0
        },
        "outputId": "5f86060f-f3a7-4355-9c89-41c93729e3b0"
      },
      "source": [
        "from scipy import stats\n",
        "\n",
        "#stats.ttest_rel(df['bp_before'], df['bp_after'])\n",
        "stats.ttest_rel(rf, svm)\n",
        "#stats.ttest_rel(gh2, gh)\n",
        "#Ttest_relResult(statistic=5.2117566811001295, pvalue=0.0005552702643440211)\n",
        "# pvalue % = 0.05\n",
        "\n",
        "# Ttest_relResult(statistic=5.2117566811001295, pvalue=0.0005552702643440211)\n",
        "# 0.05\n",
        "# RF VS .....SVM\n",
        "# TABLA FINAL"
      ],
      "execution_count": 106,
      "outputs": [
        {
          "output_type": "execute_result",
          "data": {
            "text/plain": [
              "Ttest_relResult(statistic=4.904653541370277, pvalue=0.0008422251732582458)"
            ]
          },
          "metadata": {
            "tags": []
          },
          "execution_count": 106
        }
      ]
    },
    {
      "cell_type": "code",
      "metadata": {
        "id": "nkO1-yLL-Lfi",
        "colab": {
          "base_uri": "https://localhost:8080/",
          "height": 0
        },
        "outputId": "c82bcffa-56a9-4a57-90d7-56ab616c3bc7"
      },
      "source": [
        "#print(stats.__version__)\n",
        "\n",
        "import scipy\n",
        "\n",
        "print(scipy.__version__)\n",
        "\n",
        "#print('scipy'.__version__)"
      ],
      "execution_count": 107,
      "outputs": [
        {
          "output_type": "stream",
          "text": [
            "1.4.1\n"
          ],
          "name": "stdout"
        }
      ]
    },
    {
      "cell_type": "code",
      "metadata": {
        "id": "knmVQm7IvAgF",
        "colab": {
          "base_uri": "https://localhost:8080/",
          "height": 0
        },
        "outputId": "b6a2572a-047e-49e6-cc75-2922303e9da0"
      },
      "source": [
        "stats.ttest_rel(svm, rf)"
      ],
      "execution_count": 108,
      "outputs": [
        {
          "output_type": "execute_result",
          "data": {
            "text/plain": [
              "Ttest_relResult(statistic=-4.904653541370277, pvalue=0.0008422251732582458)"
            ]
          },
          "metadata": {
            "tags": []
          },
          "execution_count": 108
        }
      ]
    },
    {
      "cell_type": "code",
      "metadata": {
        "id": "gBQ5pdFqvKdx"
      },
      "source": [
        "# El valor p devuelto (0.0005552) es menor que el umbral 'a' (0.05). Por lo tanto, se rechaza la hipótesis nula y argumentamos \n",
        "# que el rendimiento de 'rf' es significativamente diferente y mejorado en comparación con el rendimiento de 'svm' de los estudiantes."
      ],
      "execution_count": 109,
      "outputs": []
    },
    {
      "cell_type": "code",
      "metadata": {
        "id": "HNVNVLrirusF"
      },
      "source": [
        "# https://www.coursehero.com/file/p4hol16a/Aqu%C3%AD-prepresenta-la-proporci%C3%B3n-poblacional-que-se-desea-estimar-y-es-la/\n"
      ],
      "execution_count": 110,
      "outputs": []
    },
    {
      "cell_type": "code",
      "metadata": {
        "id": "XSW1y2jdsSRV"
      },
      "source": [
        "ann = [0.92771084, 0.99776786, 0.92767857, 0.98883929, 0.99776786, 0.98660714,  0.925,      0.99642857, 0.98348214, 0.92008929]"
      ],
      "execution_count": 111,
      "outputs": []
    },
    {
      "cell_type": "code",
      "metadata": {
        "id": "Epc3MU5RjHWV"
      },
      "source": [
        "#99.74\n",
        "ann77 = [1,  0.996875,   0.99821429, 0.99821429, 0.99866071 ,0.99642857, 1,  0.98928571, 0.99732143,0.99910714]"
      ],
      "execution_count": 112,
      "outputs": []
    },
    {
      "cell_type": "code",
      "metadata": {
        "id": "p8wcR134alSv"
      },
      "source": [
        "#ann78 = [1, 1, 1 ,1, 1 ,1,  1, 1, 1, 1]"
      ],
      "execution_count": 113,
      "outputs": []
    },
    {
      "cell_type": "code",
      "metadata": {
        "id": "A0XmA6Nf9xtM"
      },
      "source": [
        "# ann78 = [1, 1, 1 ,1, 1 ,1,  1, 1, 1, 1,1,1,1,1,1,1,1]"
      ],
      "execution_count": 114,
      "outputs": []
    },
    {
      "cell_type": "code",
      "metadata": {
        "id": "0mmLyCpQw9ou"
      },
      "source": [
        "# prom= 89.61651\n",
        "#c1 v2\n",
        "# archivo = tesis-ann-28k-v2.ipynb\n",
        "annv2=[0.90138331 ,0.903125 ,  0.89553571, 0.89464286, 0.89642857, 0.89955357, 0.89375 ,   0.896875  , 0.88616071 ,0.89419643]"
      ],
      "execution_count": 115,
      "outputs": []
    },
    {
      "cell_type": "code",
      "metadata": {
        "id": "cvoqIRr6g3eD"
      },
      "source": [
        "# prom = 95.9779873\n",
        "# c2 v3 \n",
        "# archivo = tesis-ann-28k-v3.ipynb\n",
        "\n",
        "annv3=[0.93083445, 0.98303571, 0.92321429, 0.92723214 ,0.9875 ,    0.99375, 0.99553571, 0.93839286, 0.93125  ,  0.98705357]"
      ],
      "execution_count": 116,
      "outputs": []
    },
    {
      "cell_type": "code",
      "metadata": {
        "id": "0FFoOmIwxPsJ"
      },
      "source": [
        "#stats.ttest_rel(annv2, ann)"
      ],
      "execution_count": 117,
      "outputs": []
    },
    {
      "cell_type": "code",
      "metadata": {
        "id": "jh8r7-fnyKoz"
      },
      "source": [
        "#stats.ttest_rel(ann, ann77)"
      ],
      "execution_count": 118,
      "outputs": []
    },
    {
      "cell_type": "code",
      "metadata": {
        "id": "uUvDjtLyhoQp",
        "colab": {
          "base_uri": "https://localhost:8080/",
          "height": 0
        },
        "outputId": "ba45b6cc-b307-418a-a6ce-f61ca1ec160e"
      },
      "source": [
        "stats.ttest_rel(annv2, annv3)\n",
        "# resulta mas significativo annv3\n",
        "# Ttest_relResult(statistic=-6.538442668121652, pvalue=0.0001065875379783153)\n",
        "# 0.010\n",
        "# c1 vs c2 de tabla,  multiplicar por 100 para estar %"
      ],
      "execution_count": 119,
      "outputs": [
        {
          "output_type": "execute_result",
          "data": {
            "text/plain": [
              "Ttest_relResult(statistic=-6.538442668121652, pvalue=0.0001065875379783153)"
            ]
          },
          "metadata": {
            "tags": []
          },
          "execution_count": 119
        }
      ]
    },
    {
      "cell_type": "code",
      "metadata": {
        "id": "GA2Dt0PohT8z",
        "colab": {
          "base_uri": "https://localhost:8080/",
          "height": 0
        },
        "outputId": "1b6dea8c-9934-498a-9ab6-b6d7c1d002a8"
      },
      "source": [
        "stats.ttest_rel(annv3, ann77) \n",
        "# la mas significante es la ann77\n",
        "# Ttest_relResult(statistic=-2.4026432030499154, pvalue=0.03972535093203618)\n",
        "# 3.97\n",
        "# c2 vs c3 de tabla,  multiplicar por 100 para estar %"
      ],
      "execution_count": 120,
      "outputs": [
        {
          "output_type": "execute_result",
          "data": {
            "text/plain": [
              "Ttest_relResult(statistic=-3.8207162473968976, pvalue=0.0040854280856479856)"
            ]
          },
          "metadata": {
            "tags": []
          },
          "execution_count": 120
        }
      ]
    },
    {
      "cell_type": "code",
      "metadata": {
        "id": "8pKNYCnJWqc2",
        "colab": {
          "base_uri": "https://localhost:8080/",
          "height": 0
        },
        "outputId": "036d4769-1431-470c-a938-e069b9fee907"
      },
      "source": [
        "stats.ttest_rel(svm, ann)\n",
        "\n"
      ],
      "execution_count": 121,
      "outputs": [
        {
          "output_type": "execute_result",
          "data": {
            "text/plain": [
              "Ttest_relResult(statistic=-3.8274191226309147, pvalue=0.004043678125891304)"
            ]
          },
          "metadata": {
            "tags": []
          },
          "execution_count": 121
        }
      ]
    },
    {
      "cell_type": "code",
      "metadata": {
        "id": "wXiTMs72XDi6"
      },
      "source": [
        "# El valor p devuelto (0.0040436) es menor que el umbral 'a' (0.05). Por lo tanto, se rechaza la hipótesis nula y argumentamos \n",
        "# que el rendimiento de 'ann' es significativamente diferente y mejorado en comparación con el rendimiento de 'svm' de los estudiantes."
      ],
      "execution_count": 122,
      "outputs": []
    },
    {
      "cell_type": "code",
      "metadata": {
        "id": "xpTE7cz4scXl",
        "colab": {
          "base_uri": "https://localhost:8080/",
          "height": 0
        },
        "outputId": "6be97a28-050d-4cd8-99d6-3222c294b154"
      },
      "source": [
        "stats.ttest_rel(rf, ann)"
      ],
      "execution_count": 123,
      "outputs": [
        {
          "output_type": "execute_result",
          "data": {
            "text/plain": [
              "Ttest_relResult(statistic=1.6911668673557134, pvalue=0.12506186291082466)"
            ]
          },
          "metadata": {
            "tags": []
          },
          "execution_count": 123
        }
      ]
    },
    {
      "cell_type": "code",
      "metadata": {
        "id": "zqoex5NptgmD",
        "colab": {
          "base_uri": "https://localhost:8080/",
          "height": 0
        },
        "outputId": "02fb57f5-4a53-4604-839c-082acc0dee53"
      },
      "source": [
        "stats.ttest_rel(ann,rf)"
      ],
      "execution_count": 124,
      "outputs": [
        {
          "output_type": "execute_result",
          "data": {
            "text/plain": [
              "Ttest_relResult(statistic=-1.6911668673557134, pvalue=0.12506186291082466)"
            ]
          },
          "metadata": {
            "tags": []
          },
          "execution_count": 124
        }
      ]
    },
    {
      "cell_type": "code",
      "metadata": {
        "id": "QluJMIJ8Xc6_"
      },
      "source": [
        "# El valor p devuelto (0.093248655) es mayor que el umbral 'a' (0.05). Por lo tanto, se acepta la hipótesis nula y argumentamos \n",
        "# que el rendimiento de 'rf' es  NO ES significativamente diferente y mejorado en comparación con el rendimiento de 'svm' de los estudiantes."
      ],
      "execution_count": 125,
      "outputs": []
    },
    {
      "cell_type": "code",
      "metadata": {
        "id": "7Zkborlyxm1_"
      },
      "source": [
        "# a H0 es las medias de las dos muestras son iguales\n",
        "\n",
        "# Si el valor p es menor que un cierto nivel de significancia α fijado por el usuario a priori se dice que el resultado es\n",
        "#estadısticamente significativo y H0 se debe rechazar.\n",
        "\n",
        "#Que un resultado sea estadısticamente significativo quiere\n",
        "#decir que es improbable que suceda por azar.\n",
        "\n",
        "#Un valor p menor a 0,05 indica una fuerte evidencia en\n",
        "#contra de H0 porque habr´ıa una probabilidad menor al\n",
        "# 5 % que H0 sea correcta y nos lleva a aceptar H1.\n",
        "\n",
        "#Un valor p superior a 0,05 indica una fuerte evidencia a\n",
        "#favor de H0 y al rechazo de H1.\n",
        "\n"
      ],
      "execution_count": 126,
      "outputs": []
    },
    {
      "cell_type": "code",
      "metadata": {
        "id": "tMsq16c_suZl",
        "colab": {
          "base_uri": "https://localhost:8080/",
          "height": 0
        },
        "outputId": "9e2f4bea-848c-4751-b757-557525f802f7"
      },
      "source": [
        "stats.ttest_rel(ann, rf)"
      ],
      "execution_count": 127,
      "outputs": [
        {
          "output_type": "execute_result",
          "data": {
            "text/plain": [
              "Ttest_relResult(statistic=-1.6911668673557134, pvalue=0.12506186291082466)"
            ]
          },
          "metadata": {
            "tags": []
          },
          "execution_count": 127
        }
      ]
    },
    {
      "cell_type": "code",
      "metadata": {
        "id": "2N2ZGq21twNs"
      },
      "source": [
        "# Resultado: el estadístico de la prueba t de muestras emparejadas es -1.8770201400069235 y el valor p es 0.09324865532455924. \n",
        "# El valor p es mayor que el nivel de significancia = 0.05. \n",
        "# La prueba t de muestras pareadas no rechaza la hipótesis nula: la media de \"ann\" y la media de \"rf\" son muy similares."
      ],
      "execution_count": 128,
      "outputs": []
    },
    {
      "cell_type": "code",
      "metadata": {
        "id": "aUPcKl4MtG9c"
      },
      "source": [
        "import numpy as np\n",
        "#np.mean(rf)"
      ],
      "execution_count": 129,
      "outputs": []
    },
    {
      "cell_type": "code",
      "metadata": {
        "id": "OSRPLe04xE_b",
        "colab": {
          "base_uri": "https://localhost:8080/",
          "height": 0
        },
        "outputId": "849d0817-77c4-4318-ecaf-35b761ce3abd"
      },
      "source": [
        "stats.ttest_rel(ann, svm)"
      ],
      "execution_count": 130,
      "outputs": [
        {
          "output_type": "execute_result",
          "data": {
            "text/plain": [
              "Ttest_relResult(statistic=3.8274191226309147, pvalue=0.004043678125891304)"
            ]
          },
          "metadata": {
            "tags": []
          },
          "execution_count": 130
        }
      ]
    },
    {
      "cell_type": "code",
      "metadata": {
        "id": "y9CKncwQFM1X",
        "colab": {
          "base_uri": "https://localhost:8080/",
          "height": 0
        },
        "outputId": "8f3e63dc-1abb-4823-cfc6-f8018428a927"
      },
      "source": [
        "stats.ttest_rel(svm, ann77)\r\n",
        "#Ttest_relResult(statistic=-5.714908029509426, pvalue=0.00028880820708700487)\r\n",
        "# 0.02\r\n",
        "# ANN VS ....SVM\r\n",
        "# TABLA FINAL"
      ],
      "execution_count": 131,
      "outputs": [
        {
          "output_type": "execute_result",
          "data": {
            "text/plain": [
              "Ttest_relResult(statistic=-7.50074489121567, pvalue=3.689856448366902e-05)"
            ]
          },
          "metadata": {
            "tags": []
          },
          "execution_count": 131
        }
      ]
    },
    {
      "cell_type": "code",
      "metadata": {
        "id": "Raf18codjrni",
        "colab": {
          "base_uri": "https://localhost:8080/",
          "height": 0
        },
        "outputId": "f27c575c-44d0-4dcf-f95d-341b06dc09d6"
      },
      "source": [
        "stats.ttest_rel(rf, ann77)\r\n",
        "#Ttest_relResult(statistic=0.23564252830958335, pvalue=0.8189847522277838)\r\n",
        "# 81.89\r\n",
        "# ANN VS ....RF\r\n",
        "# TABLA FINAL"
      ],
      "execution_count": 132,
      "outputs": [
        {
          "output_type": "execute_result",
          "data": {
            "text/plain": [
              "Ttest_relResult(statistic=-0.8072524347610931, pvalue=0.4403328220987782)"
            ]
          },
          "metadata": {
            "tags": []
          },
          "execution_count": 132
        }
      ]
    },
    {
      "cell_type": "code",
      "metadata": {
        "id": "z-Pz8wkuwCwA",
        "colab": {
          "base_uri": "https://localhost:8080/",
          "height": 0
        },
        "outputId": "5525a69b-7adc-4607-c40a-1a53ce8b0f88"
      },
      "source": [
        "# no hay significancia pero el rendimiento es mejor en Ann\n",
        "stats.ttest_rel(ann77, rf)"
      ],
      "execution_count": 133,
      "outputs": [
        {
          "output_type": "execute_result",
          "data": {
            "text/plain": [
              "Ttest_relResult(statistic=0.8072524347610931, pvalue=0.4403328220987782)"
            ]
          },
          "metadata": {
            "tags": []
          },
          "execution_count": 133
        }
      ]
    },
    {
      "cell_type": "code",
      "metadata": {
        "id": "Ia_k57dUawrB"
      },
      "source": [
        "# stats.ttest_rel(ann78, rf)"
      ],
      "execution_count": 134,
      "outputs": []
    },
    {
      "cell_type": "code",
      "metadata": {
        "id": "S68v54SdMSb5",
        "colab": {
          "base_uri": "https://localhost:8080/",
          "height": 0
        },
        "outputId": "09b94723-d47c-404a-d531-5a1d30a96a84"
      },
      "source": [
        "# https://machinelearningmastery.com/how-to-code-the-students-t-test-from-scratch-in-python/\n",
        "# t-test for dependent samples\n",
        "from math import sqrt\n",
        "from numpy.random import seed\n",
        "from numpy.random import randn\n",
        "from numpy import mean\n",
        "from scipy.stats import t\n",
        "\n",
        "# function for calculating the t-test for two dependent samples\n",
        "def dependent_ttest(data1, data2, alpha):\n",
        "\t# calculate means\n",
        "\tmean1, mean2 = mean(data1), mean(data2)\n",
        "\t# number of paired samples\n",
        "\tn = len(data1)\n",
        "\t# sum squared difference between observations\n",
        "\td1 = sum([(data1[i]-data2[i])**2 for i in range(n)])\n",
        "\t# sum difference between observations\n",
        "\td2 = sum([data1[i]-data2[i] for i in range(n)])\n",
        "\t# standard deviation of the difference between means\n",
        "\tsd = sqrt((d1 - (d2**2 / n)) / (n - 1))\n",
        "\t# standard error of the difference between the means\n",
        "\tsed = sd / sqrt(n)\n",
        "\t# calculate the t statistic\n",
        "\tt_stat = (mean1 - mean2) / sed\n",
        "\t# degrees of freedom\n",
        "\tdf = n - 1\n",
        "\t# calculate the critical value\n",
        "\tcv = t.ppf(1.0 - alpha, df)\n",
        "\t# calculate the p-value\n",
        "\tp = (1.0 - t.cdf(abs(t_stat), df)) * 2.0\n",
        "\t# return everything\n",
        "\treturn t_stat, df, cv, p\n",
        "\n",
        "# seed the random number generator\n",
        "seed(1)\n",
        "# generate two independent samples (pretend they are dependent)\n",
        "data1 = 5 * randn(100) + 50\n",
        "data2 = 5 * randn(100) + 51\n",
        "# calculate the t test\n",
        "alpha = 0.05\n",
        "#t_stat, df, cv, p = dependent_ttest(data1, data2, alpha)\n",
        "t_stat, df, cv, p = dependent_ttest(ann77, rf, alpha)\n",
        "print('t=%.3f, df=%d, cv=%.3f, p=%.3f' % (t_stat, df, cv, p))\n",
        "# interpret via critical value\n",
        "if abs(t_stat) <= cv:\n",
        "\tprint('Accept null hypothesis that the means are equal.')\n",
        "else:\n",
        "\tprint('Reject the null hypothesis that the means are equal.')\n",
        "# interpret via p-value\n",
        "if p > alpha:\n",
        "\tprint('Accept null hypothesis that the means are equal.')\n",
        "else:\n",
        "\tprint('Reject the null hypothesis that the means are equal.')"
      ],
      "execution_count": 135,
      "outputs": [
        {
          "output_type": "stream",
          "text": [
            "t=0.807, df=9, cv=1.833, p=0.440\n",
            "Accept null hypothesis that the means are equal.\n",
            "Accept null hypothesis that the means are equal.\n"
          ],
          "name": "stdout"
        }
      ]
    },
    {
      "cell_type": "code",
      "metadata": {
        "id": "xnNUhE52MZhS",
        "colab": {
          "base_uri": "https://localhost:8080/",
          "height": 0
        },
        "outputId": "387da8d4-7aa7-4db5-83ff-7518a351b595"
      },
      "source": [
        "# t-test for dependent samples\n",
        "from math import sqrt\n",
        "from numpy.random import seed\n",
        "from numpy.random import randn\n",
        "from numpy import mean\n",
        "from scipy.stats import t\n",
        "\n",
        "# function for calculating the t-test for two dependent samples\n",
        "def dependent_ttest(data1, data2, alpha):\n",
        "\t# calculate means\n",
        "\tmean1, mean2 = mean(data1), mean(data2)\n",
        "\t# number of paired samples\n",
        "\tn = len(data1)\n",
        "\t# sum squared difference between observations\n",
        "\td1 = sum([(data1[i]-data2[i])**2 for i in range(n)])\n",
        "\t# sum difference between observations\n",
        "\td2 = sum([data1[i]-data2[i] for i in range(n)])\n",
        "\t# standard deviation of the difference between means\n",
        "\tsd = sqrt((d1 - (d2**2 / n)) / (n - 1))\n",
        "\t# standard error of the difference between the means\n",
        "\tsed = sd / sqrt(n)\n",
        "\t# calculate the t statistic\n",
        "\tt_stat = (mean1 - mean2) / sed\n",
        "\t# degrees of freedom\n",
        "\tdf = n - 1\n",
        "\t# calculate the critical value\n",
        "\tcv = t.ppf(1.0 - alpha, df)\n",
        "\t# calculate the p-value\n",
        "\tp = (1.0 - t.cdf(abs(t_stat), df)) * 2.0\n",
        "\t# return everything\n",
        "\treturn t_stat, df, cv, p\n",
        "\n",
        "# seed the random number generator\n",
        "seed(1)\n",
        "# generate two independent samples (pretend they are dependent)\n",
        "data1 = 5 * randn(100) + 50\n",
        "data2 = 5 * randn(100) + 51\n",
        "# calculate the t test\n",
        "alpha = 0.05\n",
        "alpha = 0.01\n",
        "#t_stat, df, cv, p = dependent_ttest(data1, data2, alpha)\n",
        "#t_stat, df, cv, p = dependent_ttest(ann, rf, alpha)\n",
        "t_stat, df, cv, p = dependent_ttest(rf, rf2, alpha)\n",
        "print('t=%.3f, df=%d, cv=%.3f, p=%.3f' % (t_stat, df, cv, p))\n",
        "# interpret via critical value\n",
        "if abs(t_stat) <= cv:\n",
        "\tprint('Accept null hypothesis that the means are equal.')\n",
        "else:\n",
        "\tprint('Reject the null hypothesis that the means are equal.')\n",
        "# interpret via p-value\n",
        "if p > alpha:\n",
        "\tprint('Accept null hypothesis that the means are equal.')\n",
        "else:\n",
        "\tprint('Reject the null hypothesis that the means are equal.')"
      ],
      "execution_count": 136,
      "outputs": [
        {
          "output_type": "stream",
          "text": [
            "t=1.118, df=9, cv=2.821, p=0.293\n",
            "Accept null hypothesis that the means are equal.\n",
            "Accept null hypothesis that the means are equal.\n"
          ],
          "name": "stdout"
        }
      ]
    }
  ]
}