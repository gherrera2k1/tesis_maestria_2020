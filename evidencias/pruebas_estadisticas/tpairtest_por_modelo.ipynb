{
  "nbformat": 4,
  "nbformat_minor": 0,
  "metadata": {
    "colab": {
      "name": "tpairtest por modelo.ipynb",
      "provenance": [],
      "collapsed_sections": []
    },
    "kernelspec": {
      "name": "python3",
      "display_name": "Python 3"
    }
  },
  "cells": [
    {
      "cell_type": "code",
      "metadata": {
        "id": "yz_7hoKjLbKD"
      },
      "source": [
        "# comparacion mediante pruebas en pareja para medir significancia estadistica"
      ],
      "execution_count": null,
      "outputs": []
    },
    {
      "cell_type": "code",
      "metadata": {
        "id": "8ckcziIEXPQV"
      },
      "source": [
        "# arboles = 100, v1d PROM= 0.986607\n",
        "rf = [0.99678686, 0.99964298,  1 ,        1  ,       1 ,        1 ,  1 ,        1 ,        1  ,       0.87928571]"
      ],
      "execution_count": null,
      "outputs": []
    },
    {
      "cell_type": "code",
      "metadata": {
        "id": "XuWWzHFX2DNy"
      },
      "source": [
        "# arboles= 500 , v3  PROM= 0.98232\n",
        "rf2 = [0.99393074, 0.99964298, 1.  ,       1.   ,      1.  ,      1.,   1.  ,       1. ,        1.  ,       0.82964286]\n",
        "\n",
        "# arboles = 25,   v2 prom= 0.978500318763707\n",
        "\n",
        "rf3 = [0.99143163, 0.99964298, 1.    ,     0.99928571, 1.,         1. , 1.  ,       1.   ,      1. ,        0.79464286]\n"
      ],
      "execution_count": null,
      "outputs": []
    },
    {
      "cell_type": "code",
      "metadata": {
        "id": "Tu9AeUzOaKNz"
      },
      "source": [
        "# de la prueba pareada entres los tres rf, ninguno es estadisticamete mas sigificativo, entonces nos quedamos con la accuracy"
      ],
      "execution_count": null,
      "outputs": []
    },
    {
      "cell_type": "code",
      "metadata": {
        "id": "nOWf2S-J2t51",
        "colab": {
          "base_uri": "https://localhost:8080/"
        },
        "outputId": "29d1deb1-20e1-4d58-9f0a-e30ed0eb094a"
      },
      "source": [
        "from scipy import stats\n",
        "\n",
        "stats.ttest_rel(rf2, rf)"
      ],
      "execution_count": null,
      "outputs": [
        {
          "output_type": "execute_result",
          "data": {
            "text/plain": [
              "Ttest_relResult(statistic=-1.0625793669394634, pvalue=0.31565170839933626)"
            ]
          },
          "metadata": {
            "tags": []
          },
          "execution_count": 6
        }
      ]
    },
    {
      "cell_type": "code",
      "metadata": {
        "id": "0In5ZYxC-pFo"
      },
      "source": [
        "#stats.ttest_rel(rf2, rf2)"
      ],
      "execution_count": null,
      "outputs": []
    },
    {
      "cell_type": "code",
      "metadata": {
        "id": "ZJOi4nPX9t72"
      },
      "source": [
        "#stats.ttest_rel(rf3, rf2)"
      ],
      "execution_count": null,
      "outputs": []
    },
    {
      "cell_type": "code",
      "metadata": {
        "id": "-rkG8BTf9MZD",
        "colab": {
          "base_uri": "https://localhost:8080/"
        },
        "outputId": "4e87426e-d24d-45de-9a2b-2b622278949b"
      },
      "source": [
        "stats.ttest_rel(rf3, rf)"
      ],
      "execution_count": null,
      "outputs": [
        {
          "output_type": "execute_result",
          "data": {
            "text/plain": [
              "Ttest_relResult(statistic=-1.078184934383557, pvalue=0.30899927516686543)"
            ]
          },
          "metadata": {
            "tags": []
          },
          "execution_count": 9
        }
      ]
    },
    {
      "cell_type": "code",
      "metadata": {
        "id": "2Uhvd0sGdTtZ"
      },
      "source": [
        "# svm RADIAL O RBF accPROM 0.904903771\n",
        "svm = [0.87325955, 0.82113531, 0.88964286, 0.90821429, 0.92892857, 0.94285714,  0.94428571, 0.9375,     0.91178571 ,0.89142857]\n",
        "# svm 2 lineal accPROM 0.85854763604835\n",
        "svm2 = [0.86719029, 0.79900036, 0.84392857, 0.865 ,     0.8425  ,   0.85142857, 0.88107143, 0.88535714 ,0.87071429, 0.87928571]\n",
        "# svm 3 poly alfa 8,  accPROM 0.7308073392155863\n",
        "svm3 = [0.70581935, 0.68868261, 0.73892857, 0.73464286, 0.71392857, 0.72392857, 0.73642857, 0.73392857, 0.71964286, 0.81214286]\n"
      ],
      "execution_count": null,
      "outputs": []
    },
    {
      "cell_type": "code",
      "metadata": {
        "id": "FkpqTSaU1t3F",
        "colab": {
          "base_uri": "https://localhost:8080/"
        },
        "outputId": "86ccc7ec-84f5-45c9-bee2-5a95026aeecf"
      },
      "source": [
        "from scipy import stats\n",
        "\n",
        "#stats.ttest_rel(df['bp_before'], df['bp_after'])\n",
        "stats.ttest_rel(svm2, svm) # svm radial  es mas significativo"
      ],
      "execution_count": null,
      "outputs": [
        {
          "output_type": "execute_result",
          "data": {
            "text/plain": [
              "Ttest_relResult(statistic=-5.121446640281181, pvalue=0.0006267555728178404)"
            ]
          },
          "metadata": {
            "tags": []
          },
          "execution_count": 11
        }
      ]
    },
    {
      "cell_type": "code",
      "metadata": {
        "id": "OXa9IfH7XDi_",
        "colab": {
          "base_uri": "https://localhost:8080/"
        },
        "outputId": "15d0dd44-7be2-4e70-aa00-9cee6ac34a12"
      },
      "source": [
        "from scipy import stats\n",
        "\n",
        "#stats.ttest_rel(df['bp_before'], df['bp_after'])\n",
        "stats.ttest_rel(svm3, svm) # svm radial es mas significativo"
      ],
      "execution_count": null,
      "outputs": [
        {
          "output_type": "execute_result",
          "data": {
            "text/plain": [
              "Ttest_relResult(statistic=-12.545525125959326, pvalue=5.26789191645834e-07)"
            ]
          },
          "metadata": {
            "tags": []
          },
          "execution_count": 12
        }
      ]
    },
    {
      "cell_type": "code",
      "metadata": {
        "id": "uyx-jVwdapxD",
        "colab": {
          "base_uri": "https://localhost:8080/"
        },
        "outputId": "9758ef10-7b53-4bf9-bd15-107751db8c5a"
      },
      "source": [
        "from scipy import stats\n",
        "\n",
        "#stats.ttest_rel(df['bp_before'], df['bp_after'])\n",
        "stats.ttest_rel(rf, svm)\n",
        "#stats.ttest_rel(gh2, gh)"
      ],
      "execution_count": null,
      "outputs": [
        {
          "output_type": "execute_result",
          "data": {
            "text/plain": [
              "Ttest_relResult(statistic=5.2117566811001295, pvalue=0.0005552702643440211)"
            ]
          },
          "metadata": {
            "tags": []
          },
          "execution_count": 13
        }
      ]
    },
    {
      "cell_type": "code",
      "metadata": {
        "id": "nkO1-yLL-Lfi",
        "colab": {
          "base_uri": "https://localhost:8080/"
        },
        "outputId": "f978555f-72cc-4d57-d4c9-82eddad0ce59"
      },
      "source": [
        "#print(stats.__version__)\n",
        "\n",
        "import scipy\n",
        "\n",
        "print(scipy.__version__)\n",
        "\n",
        "#print('scipy'.__version__)"
      ],
      "execution_count": null,
      "outputs": [
        {
          "output_type": "stream",
          "text": [
            "1.4.1\n"
          ],
          "name": "stdout"
        }
      ]
    },
    {
      "cell_type": "code",
      "metadata": {
        "id": "knmVQm7IvAgF",
        "colab": {
          "base_uri": "https://localhost:8080/"
        },
        "outputId": "b527d3e3-85b3-4b1b-8cc4-debe85073052"
      },
      "source": [
        "stats.ttest_rel(svm, rf)"
      ],
      "execution_count": null,
      "outputs": [
        {
          "output_type": "execute_result",
          "data": {
            "text/plain": [
              "Ttest_relResult(statistic=-5.2117566811001295, pvalue=0.0005552702643440211)"
            ]
          },
          "metadata": {
            "tags": []
          },
          "execution_count": 15
        }
      ]
    },
    {
      "cell_type": "code",
      "metadata": {
        "id": "gBQ5pdFqvKdx"
      },
      "source": [
        "# El valor p devuelto (0.0005552) es menor que el umbral 'a' (0.05). Por lo tanto, se rechaza la hipótesis nula y argumentamos \n",
        "# que el rendimiento de 'rf' es significativamente diferente y mejorado en comparación con el rendimiento de 'svm' de los estudiantes."
      ],
      "execution_count": null,
      "outputs": []
    },
    {
      "cell_type": "code",
      "metadata": {
        "id": "HNVNVLrirusF"
      },
      "source": [
        "# https://www.coursehero.com/file/p4hol16a/Aqu%C3%AD-prepresenta-la-proporci%C3%B3n-poblacional-que-se-desea-estimar-y-es-la/\n"
      ],
      "execution_count": null,
      "outputs": []
    },
    {
      "cell_type": "code",
      "metadata": {
        "id": "XSW1y2jdsSRV"
      },
      "source": [
        "ann = [0.92771084, 0.99776786, 0.92767857, 0.98883929, 0.99776786, 0.98660714,  0.925,      0.99642857, 0.98348214, 0.92008929]"
      ],
      "execution_count": null,
      "outputs": []
    },
    {
      "cell_type": "code",
      "metadata": {
        "id": "Epc3MU5RjHWV"
      },
      "source": [
        "# 98.3753008\n",
        "ann77 = [0.93261937, 0.99464286, 0.99910714 ,0.99776786, 0.99910714 ,0.99107143,  0.99955357, 0.99776786, 0.92723214, 0.99866071]"
      ],
      "execution_count": null,
      "outputs": []
    },
    {
      "cell_type": "code",
      "metadata": {
        "id": "p8wcR134alSv"
      },
      "source": [
        "#ann78 = [1, 1, 1 ,1, 1 ,1,  1, 1, 1, 1]"
      ],
      "execution_count": null,
      "outputs": []
    },
    {
      "cell_type": "code",
      "metadata": {
        "id": "A0XmA6Nf9xtM"
      },
      "source": [
        "# ann78 = [1, 1, 1 ,1, 1 ,1,  1, 1, 1, 1,1,1,1,1,1,1,1]"
      ],
      "execution_count": null,
      "outputs": []
    },
    {
      "cell_type": "code",
      "metadata": {
        "id": "0mmLyCpQw9ou"
      },
      "source": [
        "# prom= 89.61651\n",
        "annv2=[0.90138331 ,0.903125 ,  0.89553571, 0.89464286, 0.89642857, 0.89955357, 0.89375 ,   0.896875  , 0.88616071 ,0.89419643]"
      ],
      "execution_count": null,
      "outputs": []
    },
    {
      "cell_type": "code",
      "metadata": {
        "id": "cvoqIRr6g3eD"
      },
      "source": [
        "# prom = 95.9779873\n",
        "# annv3=[0.99393074, 0.99964298, 1.  ,       1.  ,       1.  ,       1., 1.   ,      1.   ,      1.     ,    0.82964286]\n",
        "\n",
        "annv3=[0.93083445, 0.98303571, 0.92321429, 0.92723214 ,0.9875 ,    0.99375, 0.99553571, 0.93839286, 0.93125  ,  0.98705357]"
      ],
      "execution_count": null,
      "outputs": []
    },
    {
      "cell_type": "code",
      "metadata": {
        "id": "0FFoOmIwxPsJ"
      },
      "source": [
        "#stats.ttest_rel(annv2, ann)"
      ],
      "execution_count": null,
      "outputs": []
    },
    {
      "cell_type": "code",
      "metadata": {
        "id": "jh8r7-fnyKoz"
      },
      "source": [
        "#stats.ttest_rel(ann, ann77)"
      ],
      "execution_count": null,
      "outputs": []
    },
    {
      "cell_type": "code",
      "metadata": {
        "id": "uUvDjtLyhoQp",
        "colab": {
          "base_uri": "https://localhost:8080/"
        },
        "outputId": "51a442b3-0034-4927-c220-f3ea1e448f34"
      },
      "source": [
        "stats.ttest_rel(annv2, annv3)\n",
        "# resulta mas significativo annv3"
      ],
      "execution_count": null,
      "outputs": [
        {
          "output_type": "execute_result",
          "data": {
            "text/plain": [
              "Ttest_relResult(statistic=-6.538442668121652, pvalue=0.0001065875379783153)"
            ]
          },
          "metadata": {
            "tags": []
          },
          "execution_count": 26
        }
      ]
    },
    {
      "cell_type": "code",
      "metadata": {
        "id": "GA2Dt0PohT8z",
        "colab": {
          "base_uri": "https://localhost:8080/"
        },
        "outputId": "0f1f9e71-df39-4b7b-e5f0-022c9276dc14"
      },
      "source": [
        "stats.ttest_rel(annv3, ann77) \n",
        "# la mas significante es la ann77"
      ],
      "execution_count": null,
      "outputs": [
        {
          "output_type": "execute_result",
          "data": {
            "text/plain": [
              "Ttest_relResult(statistic=-2.4026432030499154, pvalue=0.03972535093203618)"
            ]
          },
          "metadata": {
            "tags": []
          },
          "execution_count": 27
        }
      ]
    },
    {
      "cell_type": "code",
      "metadata": {
        "id": "8pKNYCnJWqc2",
        "colab": {
          "base_uri": "https://localhost:8080/"
        },
        "outputId": "e31fce18-7531-4ff7-d759-64923d13bd01"
      },
      "source": [
        "stats.ttest_rel(svm, ann)\n",
        "\n"
      ],
      "execution_count": null,
      "outputs": [
        {
          "output_type": "execute_result",
          "data": {
            "text/plain": [
              "Ttest_relResult(statistic=-3.8274191226309147, pvalue=0.004043678125891304)"
            ]
          },
          "metadata": {
            "tags": []
          },
          "execution_count": 28
        }
      ]
    },
    {
      "cell_type": "code",
      "metadata": {
        "id": "wXiTMs72XDi6"
      },
      "source": [
        "# El valor p devuelto (0.0040436) es menor que el umbral 'a' (0.05). Por lo tanto, se rechaza la hipótesis nula y argumentamos \n",
        "# que el rendimiento de 'ann' es significativamente diferente y mejorado en comparación con el rendimiento de 'svm' de los estudiantes."
      ],
      "execution_count": null,
      "outputs": []
    },
    {
      "cell_type": "code",
      "metadata": {
        "id": "xpTE7cz4scXl",
        "colab": {
          "base_uri": "https://localhost:8080/"
        },
        "outputId": "f9656481-37b0-4c0b-9b19-d580aea31805"
      },
      "source": [
        "stats.ttest_rel(rf, ann)"
      ],
      "execution_count": null,
      "outputs": [
        {
          "output_type": "execute_result",
          "data": {
            "text/plain": [
              "Ttest_relResult(statistic=1.8770201400069235, pvalue=0.09324865532455924)"
            ]
          },
          "metadata": {
            "tags": []
          },
          "execution_count": 30
        }
      ]
    },
    {
      "cell_type": "code",
      "metadata": {
        "id": "zqoex5NptgmD",
        "colab": {
          "base_uri": "https://localhost:8080/"
        },
        "outputId": "65bc3256-1fc8-4ab5-9499-b5b7f76efc30"
      },
      "source": [
        "stats.ttest_rel(ann,rf)"
      ],
      "execution_count": null,
      "outputs": [
        {
          "output_type": "execute_result",
          "data": {
            "text/plain": [
              "Ttest_relResult(statistic=-1.8770201400069235, pvalue=0.09324865532455924)"
            ]
          },
          "metadata": {
            "tags": []
          },
          "execution_count": 31
        }
      ]
    },
    {
      "cell_type": "code",
      "metadata": {
        "id": "QluJMIJ8Xc6_"
      },
      "source": [
        "# El valor p devuelto (0.093248655) es mayor que el umbral 'a' (0.05). Por lo tanto, se acepta la hipótesis nula y argumentamos \n",
        "# que el rendimiento de 'rf' es  NO ES significativamente diferente y mejorado en comparación con el rendimiento de 'svm' de los estudiantes."
      ],
      "execution_count": null,
      "outputs": []
    },
    {
      "cell_type": "code",
      "metadata": {
        "id": "7Zkborlyxm1_"
      },
      "source": [
        "# a H0 es las medias de las dos muestras son iguales\n",
        "\n",
        "# Si el valor p es menor que un cierto nivel de significancia α fijado por el usuario a priori se dice que el resultado es\n",
        "#estadısticamente significativo y H0 se debe rechazar.\n",
        "\n",
        "#Que un resultado sea estadısticamente significativo quiere\n",
        "#decir que es improbable que suceda por azar.\n",
        "\n",
        "#Un valor p menor a 0,05 indica una fuerte evidencia en\n",
        "#contra de H0 porque habr´ıa una probabilidad menor al\n",
        "# 5 % que H0 sea correcta y nos lleva a aceptar H1.\n",
        "\n",
        "#Un valor p superior a 0,05 indica una fuerte evidencia a\n",
        "#favor de H0 y al rechazo de H1.\n",
        "\n"
      ],
      "execution_count": null,
      "outputs": []
    },
    {
      "cell_type": "code",
      "metadata": {
        "id": "tMsq16c_suZl",
        "colab": {
          "base_uri": "https://localhost:8080/"
        },
        "outputId": "10e70c3f-059b-46a0-92cd-3237ab32d286"
      },
      "source": [
        "stats.ttest_rel(ann, rf)"
      ],
      "execution_count": null,
      "outputs": [
        {
          "output_type": "execute_result",
          "data": {
            "text/plain": [
              "Ttest_relResult(statistic=-1.8770201400069235, pvalue=0.09324865532455924)"
            ]
          },
          "metadata": {
            "tags": []
          },
          "execution_count": 34
        }
      ]
    },
    {
      "cell_type": "code",
      "metadata": {
        "id": "2N2ZGq21twNs"
      },
      "source": [
        "# Resultado: el estadístico de la prueba t de muestras emparejadas es -1.8770201400069235 y el valor p es 0.09324865532455924. \n",
        "# El valor p es mayor que el nivel de significancia = 0.05. \n",
        "# La prueba t de muestras pareadas no rechaza la hipótesis nula: la media de \"ann\" y la media de \"rf\" son muy similares."
      ],
      "execution_count": null,
      "outputs": []
    },
    {
      "cell_type": "code",
      "metadata": {
        "id": "aUPcKl4MtG9c",
        "colab": {
          "base_uri": "https://localhost:8080/"
        },
        "outputId": "6469b90a-6d2b-48e7-99f3-e8d6fd74f0fb"
      },
      "source": [
        "import numpy as np\n",
        "np.mean(rf)"
      ],
      "execution_count": null,
      "outputs": [
        {
          "output_type": "execute_result",
          "data": {
            "text/plain": [
              "0.987571555"
            ]
          },
          "metadata": {
            "tags": []
          },
          "execution_count": 36
        }
      ]
    },
    {
      "cell_type": "code",
      "metadata": {
        "id": "BAY7mxehw08S",
        "colab": {
          "base_uri": "https://localhost:8080/"
        },
        "outputId": "3f42f95d-23f7-408b-a137-408dc5211a64"
      },
      "source": [
        "np.std(rf)"
      ],
      "execution_count": null,
      "outputs": [
        {
          "output_type": "execute_result",
          "data": {
            "text/plain": [
              "0.036107795683153865"
            ]
          },
          "metadata": {
            "tags": []
          },
          "execution_count": 37
        }
      ]
    },
    {
      "cell_type": "code",
      "metadata": {
        "id": "0h9kp_zUtwiP",
        "colab": {
          "base_uri": "https://localhost:8080/"
        },
        "outputId": "8bf697f1-6154-4770-a16e-cc5abe142cf5"
      },
      "source": [
        "np.mean(svm)"
      ],
      "execution_count": null,
      "outputs": [
        {
          "output_type": "execute_result",
          "data": {
            "text/plain": [
              "0.9049037710000001"
            ]
          },
          "metadata": {
            "tags": []
          },
          "execution_count": 38
        }
      ]
    },
    {
      "cell_type": "code",
      "metadata": {
        "id": "DEeLNPg_xDWP",
        "colab": {
          "base_uri": "https://localhost:8080/"
        },
        "outputId": "80886778-5cbb-4b1e-dfeb-3f75fbb6a2bf"
      },
      "source": [
        "np.std(svm)"
      ],
      "execution_count": null,
      "outputs": [
        {
          "output_type": "execute_result",
          "data": {
            "text/plain": [
              "0.03622486618036772"
            ]
          },
          "metadata": {
            "tags": []
          },
          "execution_count": 39
        }
      ]
    },
    {
      "cell_type": "code",
      "metadata": {
        "id": "anlAT30ut12b",
        "colab": {
          "base_uri": "https://localhost:8080/"
        },
        "outputId": "739d2ed3-998c-4164-94e5-8fb9ff225e00"
      },
      "source": [
        "np.mean(ann)"
      ],
      "execution_count": null,
      "outputs": [
        {
          "output_type": "execute_result",
          "data": {
            "text/plain": [
              "0.9651371559999999"
            ]
          },
          "metadata": {
            "tags": []
          },
          "execution_count": 40
        }
      ]
    },
    {
      "cell_type": "code",
      "metadata": {
        "id": "46ZJMu4gxL2N",
        "colab": {
          "base_uri": "https://localhost:8080/"
        },
        "outputId": "93cbef98-228a-4597-c395-9a5a69b50f90"
      },
      "source": [
        "np.std(ann)"
      ],
      "execution_count": null,
      "outputs": [
        {
          "output_type": "execute_result",
          "data": {
            "text/plain": [
              "0.03303353508427252"
            ]
          },
          "metadata": {
            "tags": []
          },
          "execution_count": 41
        }
      ]
    },
    {
      "cell_type": "code",
      "metadata": {
        "id": "OSRPLe04xE_b",
        "colab": {
          "base_uri": "https://localhost:8080/"
        },
        "outputId": "86a54f3a-0761-4778-d459-3b7b7925ebfa"
      },
      "source": [
        "stats.ttest_rel(ann, svm)"
      ],
      "execution_count": null,
      "outputs": [
        {
          "output_type": "execute_result",
          "data": {
            "text/plain": [
              "Ttest_relResult(statistic=3.8274191226309147, pvalue=0.004043678125891304)"
            ]
          },
          "metadata": {
            "tags": []
          },
          "execution_count": 42
        }
      ]
    },
    {
      "cell_type": "code",
      "metadata": {
        "id": "y9CKncwQFM1X",
        "colab": {
          "base_uri": "https://localhost:8080/"
        },
        "outputId": "c9a57fb9-37cb-4229-bd8b-b11fbb72d1ea"
      },
      "source": [
        "stats.ttest_rel(svm, ann77)"
      ],
      "execution_count": null,
      "outputs": [
        {
          "output_type": "execute_result",
          "data": {
            "text/plain": [
              "Ttest_relResult(statistic=-5.714908029509426, pvalue=0.00028880820708700487)"
            ]
          },
          "metadata": {
            "tags": []
          },
          "execution_count": 43
        }
      ]
    },
    {
      "cell_type": "code",
      "metadata": {
        "id": "Raf18codjrni",
        "colab": {
          "base_uri": "https://localhost:8080/"
        },
        "outputId": "5bfd5613-8ad6-4c31-9457-59597150d279"
      },
      "source": [
        "stats.ttest_rel(rf, ann77)"
      ],
      "execution_count": null,
      "outputs": [
        {
          "output_type": "execute_result",
          "data": {
            "text/plain": [
              "Ttest_relResult(statistic=0.23564252830958335, pvalue=0.8189847522277838)"
            ]
          },
          "metadata": {
            "tags": []
          },
          "execution_count": 44
        }
      ]
    },
    {
      "cell_type": "code",
      "metadata": {
        "id": "z-Pz8wkuwCwA",
        "colab": {
          "base_uri": "https://localhost:8080/"
        },
        "outputId": "3aeacf89-f89b-4eaa-d9b3-5f303b92a2f3"
      },
      "source": [
        "# no hay significancia pero el rendimiento es mejor en Ann\n",
        "stats.ttest_rel(ann77, rf)"
      ],
      "execution_count": null,
      "outputs": [
        {
          "output_type": "execute_result",
          "data": {
            "text/plain": [
              "Ttest_relResult(statistic=-0.23564252830958335, pvalue=0.8189847522277838)"
            ]
          },
          "metadata": {
            "tags": []
          },
          "execution_count": 45
        }
      ]
    },
    {
      "cell_type": "code",
      "metadata": {
        "id": "Ia_k57dUawrB"
      },
      "source": [
        "# stats.ttest_rel(ann78, rf)"
      ],
      "execution_count": null,
      "outputs": []
    },
    {
      "cell_type": "code",
      "metadata": {
        "id": "ODasnUO8j_LA",
        "colab": {
          "base_uri": "https://localhost:8080/"
        },
        "outputId": "1c5db0c7-32cd-44f4-c732-81a67d99e7aa"
      },
      "source": [
        "np.mean(ann77)"
      ],
      "execution_count": null,
      "outputs": [
        {
          "output_type": "execute_result",
          "data": {
            "text/plain": [
              "0.9837530079999999"
            ]
          },
          "metadata": {
            "tags": []
          },
          "execution_count": 47
        }
      ]
    },
    {
      "cell_type": "code",
      "metadata": {
        "id": "WXoDpXE9xabN",
        "colab": {
          "base_uri": "https://localhost:8080/"
        },
        "outputId": "60dc7566-764e-4553-f84b-391a115a3ec7"
      },
      "source": [
        "np.std(ann77)"
      ],
      "execution_count": null,
      "outputs": [
        {
          "output_type": "execute_result",
          "data": {
            "text/plain": [
              "0.027051125415198097"
            ]
          },
          "metadata": {
            "tags": []
          },
          "execution_count": 48
        }
      ]
    },
    {
      "cell_type": "code",
      "metadata": {
        "id": "S68v54SdMSb5",
        "colab": {
          "base_uri": "https://localhost:8080/"
        },
        "outputId": "e236e22a-3da1-4313-f81b-0f87528b32a4"
      },
      "source": [
        "# https://machinelearningmastery.com/how-to-code-the-students-t-test-from-scratch-in-python/\n",
        "# t-test for dependent samples\n",
        "from math import sqrt\n",
        "from numpy.random import seed\n",
        "from numpy.random import randn\n",
        "from numpy import mean\n",
        "from scipy.stats import t\n",
        "\n",
        "# function for calculating the t-test for two dependent samples\n",
        "def dependent_ttest(data1, data2, alpha):\n",
        "\t# calculate means\n",
        "\tmean1, mean2 = mean(data1), mean(data2)\n",
        "\t# number of paired samples\n",
        "\tn = len(data1)\n",
        "\t# sum squared difference between observations\n",
        "\td1 = sum([(data1[i]-data2[i])**2 for i in range(n)])\n",
        "\t# sum difference between observations\n",
        "\td2 = sum([data1[i]-data2[i] for i in range(n)])\n",
        "\t# standard deviation of the difference between means\n",
        "\tsd = sqrt((d1 - (d2**2 / n)) / (n - 1))\n",
        "\t# standard error of the difference between the means\n",
        "\tsed = sd / sqrt(n)\n",
        "\t# calculate the t statistic\n",
        "\tt_stat = (mean1 - mean2) / sed\n",
        "\t# degrees of freedom\n",
        "\tdf = n - 1\n",
        "\t# calculate the critical value\n",
        "\tcv = t.ppf(1.0 - alpha, df)\n",
        "\t# calculate the p-value\n",
        "\tp = (1.0 - t.cdf(abs(t_stat), df)) * 2.0\n",
        "\t# return everything\n",
        "\treturn t_stat, df, cv, p\n",
        "\n",
        "# seed the random number generator\n",
        "seed(1)\n",
        "# generate two independent samples (pretend they are dependent)\n",
        "data1 = 5 * randn(100) + 50\n",
        "data2 = 5 * randn(100) + 51\n",
        "# calculate the t test\n",
        "alpha = 0.05\n",
        "#t_stat, df, cv, p = dependent_ttest(data1, data2, alpha)\n",
        "t_stat, df, cv, p = dependent_ttest(ann77, rf, alpha)\n",
        "print('t=%.3f, df=%d, cv=%.3f, p=%.3f' % (t_stat, df, cv, p))\n",
        "# interpret via critical value\n",
        "if abs(t_stat) <= cv:\n",
        "\tprint('Accept null hypothesis that the means are equal.')\n",
        "else:\n",
        "\tprint('Reject the null hypothesis that the means are equal.')\n",
        "# interpret via p-value\n",
        "if p > alpha:\n",
        "\tprint('Accept null hypothesis that the means are equal.')\n",
        "else:\n",
        "\tprint('Reject the null hypothesis that the means are equal.')"
      ],
      "execution_count": null,
      "outputs": [
        {
          "output_type": "stream",
          "text": [
            "t=-0.236, df=9, cv=1.833, p=0.819\n",
            "Accept null hypothesis that the means are equal.\n",
            "Accept null hypothesis that the means are equal.\n"
          ],
          "name": "stdout"
        }
      ]
    },
    {
      "cell_type": "code",
      "metadata": {
        "id": "xnNUhE52MZhS",
        "colab": {
          "base_uri": "https://localhost:8080/"
        },
        "outputId": "fbd3bb88-10b9-4770-f18e-f84d099ae8bb"
      },
      "source": [
        "# t-test for dependent samples\n",
        "from math import sqrt\n",
        "from numpy.random import seed\n",
        "from numpy.random import randn\n",
        "from numpy import mean\n",
        "from scipy.stats import t\n",
        "\n",
        "# function for calculating the t-test for two dependent samples\n",
        "def dependent_ttest(data1, data2, alpha):\n",
        "\t# calculate means\n",
        "\tmean1, mean2 = mean(data1), mean(data2)\n",
        "\t# number of paired samples\n",
        "\tn = len(data1)\n",
        "\t# sum squared difference between observations\n",
        "\td1 = sum([(data1[i]-data2[i])**2 for i in range(n)])\n",
        "\t# sum difference between observations\n",
        "\td2 = sum([data1[i]-data2[i] for i in range(n)])\n",
        "\t# standard deviation of the difference between means\n",
        "\tsd = sqrt((d1 - (d2**2 / n)) / (n - 1))\n",
        "\t# standard error of the difference between the means\n",
        "\tsed = sd / sqrt(n)\n",
        "\t# calculate the t statistic\n",
        "\tt_stat = (mean1 - mean2) / sed\n",
        "\t# degrees of freedom\n",
        "\tdf = n - 1\n",
        "\t# calculate the critical value\n",
        "\tcv = t.ppf(1.0 - alpha, df)\n",
        "\t# calculate the p-value\n",
        "\tp = (1.0 - t.cdf(abs(t_stat), df)) * 2.0\n",
        "\t# return everything\n",
        "\treturn t_stat, df, cv, p\n",
        "\n",
        "# seed the random number generator\n",
        "seed(1)\n",
        "# generate two independent samples (pretend they are dependent)\n",
        "data1 = 5 * randn(100) + 50\n",
        "data2 = 5 * randn(100) + 51\n",
        "# calculate the t test\n",
        "alpha = 0.05\n",
        "alpha = 0.01\n",
        "#t_stat, df, cv, p = dependent_ttest(data1, data2, alpha)\n",
        "#t_stat, df, cv, p = dependent_ttest(ann, rf, alpha)\n",
        "t_stat, df, cv, p = dependent_ttest(rf, rf2, alpha)\n",
        "print('t=%.3f, df=%d, cv=%.3f, p=%.3f' % (t_stat, df, cv, p))\n",
        "# interpret via critical value\n",
        "if abs(t_stat) <= cv:\n",
        "\tprint('Accept null hypothesis that the means are equal.')\n",
        "else:\n",
        "\tprint('Reject the null hypothesis that the means are equal.')\n",
        "# interpret via p-value\n",
        "if p > alpha:\n",
        "\tprint('Accept null hypothesis that the means are equal.')\n",
        "else:\n",
        "\tprint('Reject the null hypothesis that the means are equal.')"
      ],
      "execution_count": null,
      "outputs": [
        {
          "output_type": "stream",
          "text": [
            "t=1.063, df=9, cv=2.821, p=0.316\n",
            "Accept null hypothesis that the means are equal.\n",
            "Accept null hypothesis that the means are equal.\n"
          ],
          "name": "stdout"
        }
      ]
    },
    {
      "cell_type": "code",
      "metadata": {
        "colab": {
          "base_uri": "https://localhost:8080/"
        },
        "id": "k0G0l7JMWbai",
        "outputId": "6b55d914-06db-48d2-8969-6004bfccaaae"
      },
      "source": [
        "#pr\r\n",
        "\r\n",
        "#c1=[97.07]\r\n",
        "\r\n",
        "c1= [0.9978678 , 0.99964311,1.     ,    1.      ,   1.      ,   1.  , 1.   ,      1.   ,      1.  ,       0.85199066]\r\n",
        "\r\n",
        "# c2=[97.92]\r\n",
        "\r\n",
        "c2= [1.  ,       1.   ,      1.   ,      0.99857347, 1.   ,      1., 1.   ,      1.     ,    1.      ,   0.70907248]\r\n",
        "\r\n",
        "stats.ttest_rel(c1, c2)"
      ],
      "execution_count": null,
      "outputs": [
        {
          "output_type": "execute_result",
          "data": {
            "text/plain": [
              "Ttest_relResult(statistic=0.9915687549955755, pvalue=0.34731640777152717)"
            ]
          },
          "metadata": {
            "tags": []
          },
          "execution_count": 56
        }
      ]
    }
  ]
}