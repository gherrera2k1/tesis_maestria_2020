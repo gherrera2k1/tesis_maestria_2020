{
  "nbformat": 4,
  "nbformat_minor": 0,
  "metadata": {
    "colab": {
      "name": "tpairtest.ipynb",
      "provenance": [],
      "collapsed_sections": []
    },
    "kernelspec": {
      "name": "python3",
      "display_name": "Python 3"
    }
  },
  "cells": [
    {
      "cell_type": "code",
      "metadata": {
        "id": "yz_7hoKjLbKD"
      },
      "source": [
        "# comparacion mediante pruebas en pareja para medir significancia estadistica"
      ],
      "execution_count": null,
      "outputs": []
    },
    {
      "cell_type": "code",
      "metadata": {
        "id": "8ckcziIEXPQV"
      },
      "source": [
        "# arboles = 100, v1d\n",
        "rf = [0.99678686, 0.99964298,  1 ,        1  ,       1 ,        1 ,  1 ,        1 ,        1  ,       0.87928571]"
      ],
      "execution_count": null,
      "outputs": []
    },
    {
      "cell_type": "code",
      "metadata": {
        "id": "XuWWzHFX2DNy"
      },
      "source": [
        "# arboles= 500 , v3\n",
        "rf2 = [0.99393074, 0.99964298, 1.  ,       1.   ,      1.  ,      1.,   1.  ,       1. ,        1.  ,       0.82964286]\n",
        "\n",
        "# arboles = 25,   v2 prom= 0.978500318763707\n",
        "\n",
        "rf3 = [0.99143163, 0.99964298, 1.    ,     0.99928571, 1.,         1. , 1.  ,       1.   ,      1. ,        0.79464286]\n"
      ],
      "execution_count": null,
      "outputs": []
    },
    {
      "cell_type": "code",
      "metadata": {
        "id": "Tu9AeUzOaKNz"
      },
      "source": [
        "# de la prueba pareada entres los tres rf, ninguno es estadisticamete mas sigificativo, entonces nos quedamos con la accuracy"
      ],
      "execution_count": null,
      "outputs": []
    },
    {
      "cell_type": "code",
      "metadata": {
        "id": "nOWf2S-J2t51",
        "outputId": "e10307da-ef8b-4c18-b71d-2a3ab4d06863",
        "colab": {
          "base_uri": "https://localhost:8080/",
          "height": 34
        }
      },
      "source": [
        "from scipy import stats\n",
        "\n",
        "stats.ttest_rel(rf2, rf)"
      ],
      "execution_count": null,
      "outputs": [
        {
          "output_type": "execute_result",
          "data": {
            "text/plain": [
              "Ttest_relResult(statistic=-1.0625793669394634, pvalue=0.31565170839933626)"
            ]
          },
          "metadata": {
            "tags": []
          },
          "execution_count": 190
        }
      ]
    },
    {
      "cell_type": "code",
      "metadata": {
        "id": "0In5ZYxC-pFo",
        "outputId": "98c96106-5112-449a-fd76-eae54098a9b4",
        "colab": {
          "base_uri": "https://localhost:8080/",
          "height": 34
        }
      },
      "source": [
        "stats.ttest_rel(rf2, rf2)"
      ],
      "execution_count": null,
      "outputs": [
        {
          "output_type": "execute_result",
          "data": {
            "text/plain": [
              "Ttest_relResult(statistic=nan, pvalue=nan)"
            ]
          },
          "metadata": {
            "tags": []
          },
          "execution_count": 191
        }
      ]
    },
    {
      "cell_type": "code",
      "metadata": {
        "id": "ZJOi4nPX9t72",
        "outputId": "6a5cf0e8-f34e-4a53-b0f5-3d0065d76c96",
        "colab": {
          "base_uri": "https://localhost:8080/",
          "height": 34
        }
      },
      "source": [
        "stats.ttest_rel(rf3, rf2)"
      ],
      "execution_count": null,
      "outputs": [
        {
          "output_type": "execute_result",
          "data": {
            "text/plain": [
              "Ttest_relResult(statistic=-1.1002114050020164, pvalue=0.2997954545825522)"
            ]
          },
          "metadata": {
            "tags": []
          },
          "execution_count": 192
        }
      ]
    },
    {
      "cell_type": "code",
      "metadata": {
        "id": "-rkG8BTf9MZD",
        "outputId": "73719f58-2f98-4634-eb2e-bcd7da23cd55",
        "colab": {
          "base_uri": "https://localhost:8080/",
          "height": 34
        }
      },
      "source": [
        "stats.ttest_rel(rf3, rf)"
      ],
      "execution_count": null,
      "outputs": [
        {
          "output_type": "execute_result",
          "data": {
            "text/plain": [
              "Ttest_relResult(statistic=-1.078184934383557, pvalue=0.30899927516686543)"
            ]
          },
          "metadata": {
            "tags": []
          },
          "execution_count": 193
        }
      ]
    },
    {
      "cell_type": "code",
      "metadata": {
        "id": "2Uhvd0sGdTtZ"
      },
      "source": [
        "svm = [0.87325955, 0.82113531, 0.88964286, 0.90821429, 0.92892857, 0.94285714,  0.94428571, 0.9375,     0.91178571 ,0.89142857]\n",
        "# svm 2 lineal acc 0.85854763604835\n",
        "svm2 = [0.86719029, 0.79900036, 0.84392857, 0.865 ,     0.8425  ,   0.85142857, 0.88107143, 0.88535714 ,0.87071429, 0.87928571]\n",
        "# svm 3 poly alfa 8,  acc 0.7308073392155863\n",
        "svm3 = [0.70581935, 0.68868261, 0.73892857, 0.73464286, 0.71392857, 0.72392857, 0.73642857, 0.73392857, 0.71964286, 0.81214286]\n"
      ],
      "execution_count": null,
      "outputs": []
    },
    {
      "cell_type": "code",
      "metadata": {
        "id": "FkpqTSaU1t3F",
        "outputId": "ebe536a8-552c-4f9e-9d72-4ea42d6bebbc",
        "colab": {
          "base_uri": "https://localhost:8080/",
          "height": 34
        }
      },
      "source": [
        "from scipy import stats\n",
        "\n",
        "#stats.ttest_rel(df['bp_before'], df['bp_after'])\n",
        "stats.ttest_rel(svm2, svm) # svm es mas significativo"
      ],
      "execution_count": null,
      "outputs": [
        {
          "output_type": "execute_result",
          "data": {
            "text/plain": [
              "Ttest_relResult(statistic=-5.121446640281181, pvalue=0.0006267555728178404)"
            ]
          },
          "metadata": {
            "tags": []
          },
          "execution_count": 195
        }
      ]
    },
    {
      "cell_type": "code",
      "metadata": {
        "id": "OXa9IfH7XDi_",
        "outputId": "dd88a941-dda7-4adf-fd0e-963608abcb63",
        "colab": {
          "base_uri": "https://localhost:8080/",
          "height": 34
        }
      },
      "source": [
        "from scipy import stats\n",
        "\n",
        "#stats.ttest_rel(df['bp_before'], df['bp_after'])\n",
        "stats.ttest_rel(svm3, svm) # svm es mas significativo"
      ],
      "execution_count": null,
      "outputs": [
        {
          "output_type": "execute_result",
          "data": {
            "text/plain": [
              "Ttest_relResult(statistic=-12.545525125959326, pvalue=5.26789191645834e-07)"
            ]
          },
          "metadata": {
            "tags": []
          },
          "execution_count": 196
        }
      ]
    },
    {
      "cell_type": "code",
      "metadata": {
        "id": "uyx-jVwdapxD",
        "outputId": "dad2dc5b-8a89-44dd-9db3-5cec1a8b9805",
        "colab": {
          "base_uri": "https://localhost:8080/",
          "height": 34
        }
      },
      "source": [
        "from scipy import stats\n",
        "\n",
        "#stats.ttest_rel(df['bp_before'], df['bp_after'])\n",
        "stats.ttest_rel(rf, svm)\n",
        "#stats.ttest_rel(gh2, gh)"
      ],
      "execution_count": null,
      "outputs": [
        {
          "output_type": "execute_result",
          "data": {
            "text/plain": [
              "Ttest_relResult(statistic=5.2117566811001295, pvalue=0.0005552702643440211)"
            ]
          },
          "metadata": {
            "tags": []
          },
          "execution_count": 197
        }
      ]
    },
    {
      "cell_type": "code",
      "metadata": {
        "id": "nkO1-yLL-Lfi",
        "outputId": "38eb008c-af36-4b6f-b300-c261bb517c18",
        "colab": {
          "base_uri": "https://localhost:8080/",
          "height": 34
        }
      },
      "source": [
        "#print(stats.__version__)\n",
        "\n",
        "import scipy\n",
        "\n",
        "print(scipy.__version__)\n",
        "\n",
        "#print('scipy'.__version__)"
      ],
      "execution_count": null,
      "outputs": [
        {
          "output_type": "stream",
          "text": [
            "1.4.1\n"
          ],
          "name": "stdout"
        }
      ]
    },
    {
      "cell_type": "code",
      "metadata": {
        "id": "knmVQm7IvAgF",
        "outputId": "33b9baa5-1f04-46f4-f0ac-0b4d248164a8",
        "colab": {
          "base_uri": "https://localhost:8080/",
          "height": 34
        }
      },
      "source": [
        "stats.ttest_rel(svm, rf)"
      ],
      "execution_count": null,
      "outputs": [
        {
          "output_type": "execute_result",
          "data": {
            "text/plain": [
              "Ttest_relResult(statistic=-5.2117566811001295, pvalue=0.0005552702643440211)"
            ]
          },
          "metadata": {
            "tags": []
          },
          "execution_count": 199
        }
      ]
    },
    {
      "cell_type": "code",
      "metadata": {
        "id": "gBQ5pdFqvKdx"
      },
      "source": [
        "# El valor p devuelto (0.0005552) es menor que el umbral 'a' (0.05). Por lo tanto, se rechaza la hipótesis nula y argumentamos \n",
        "# que el rendimiento de 'rf' es significativamente diferente y mejorado en comparación con el rendimiento de 'svm' de los estudiantes."
      ],
      "execution_count": null,
      "outputs": []
    },
    {
      "cell_type": "code",
      "metadata": {
        "id": "HNVNVLrirusF"
      },
      "source": [
        "# https://www.coursehero.com/file/p4hol16a/Aqu%C3%AD-prepresenta-la-proporci%C3%B3n-poblacional-que-se-desea-estimar-y-es-la/\n"
      ],
      "execution_count": null,
      "outputs": []
    },
    {
      "cell_type": "code",
      "metadata": {
        "id": "XSW1y2jdsSRV"
      },
      "source": [
        "ann = [0.92771084, 0.99776786, 0.92767857, 0.98883929, 0.99776786, 0.98660714,  0.925,      0.99642857, 0.98348214, 0.92008929]"
      ],
      "execution_count": null,
      "outputs": []
    },
    {
      "cell_type": "code",
      "metadata": {
        "id": "Epc3MU5RjHWV"
      },
      "source": [
        "ann77 = [0.93261937, 0.99464286, 0.99910714 ,0.99776786, 0.99910714 ,0.99107143,  0.99955357, 0.99776786, 0.92723214, 0.99866071]"
      ],
      "execution_count": null,
      "outputs": []
    },
    {
      "cell_type": "code",
      "metadata": {
        "id": "p8wcR134alSv"
      },
      "source": [
        "#ann78 = [1, 1, 1 ,1, 1 ,1,  1, 1, 1, 1]"
      ],
      "execution_count": null,
      "outputs": []
    },
    {
      "cell_type": "code",
      "metadata": {
        "id": "A0XmA6Nf9xtM"
      },
      "source": [
        "# ann78 = [1, 1, 1 ,1, 1 ,1,  1, 1, 1, 1,1,1,1,1,1,1,1]"
      ],
      "execution_count": null,
      "outputs": []
    },
    {
      "cell_type": "code",
      "metadata": {
        "id": "0mmLyCpQw9ou"
      },
      "source": [
        "annv2=[0.90138331 ,0.903125 ,  0.89553571, 0.89464286, 0.89642857, 0.89955357, 0.89375 ,   0.896875  , 0.88616071 ,0.89419643]"
      ],
      "execution_count": null,
      "outputs": []
    },
    {
      "cell_type": "code",
      "metadata": {
        "id": "cvoqIRr6g3eD"
      },
      "source": [
        "annv3=[0.99393074, 0.99964298, 1.  ,       1.  ,       1.  ,       1., 1.   ,      1.   ,      1.     ,    0.82964286]"
      ],
      "execution_count": null,
      "outputs": []
    },
    {
      "cell_type": "code",
      "metadata": {
        "id": "0FFoOmIwxPsJ",
        "outputId": "29d1d21e-3c0e-4c99-921b-8159f5f2b26e",
        "colab": {
          "base_uri": "https://localhost:8080/",
          "height": 34
        }
      },
      "source": [
        "stats.ttest_rel(annv2, ann)"
      ],
      "execution_count": null,
      "outputs": [
        {
          "output_type": "execute_result",
          "data": {
            "text/plain": [
              "Ttest_relResult(statistic=-6.278126014628957, pvalue=0.000144699453673114)"
            ]
          },
          "metadata": {
            "tags": []
          },
          "execution_count": 208
        }
      ]
    },
    {
      "cell_type": "code",
      "metadata": {
        "id": "jh8r7-fnyKoz",
        "outputId": "e93e6909-2243-4454-9ded-a631212ad59b",
        "colab": {
          "base_uri": "https://localhost:8080/",
          "height": 34
        }
      },
      "source": [
        "stats.ttest_rel(ann, ann77)"
      ],
      "execution_count": null,
      "outputs": [
        {
          "output_type": "execute_result",
          "data": {
            "text/plain": [
              "Ttest_relResult(statistic=-1.367867896612467, pvalue=0.2045324281556676)"
            ]
          },
          "metadata": {
            "tags": []
          },
          "execution_count": 209
        }
      ]
    },
    {
      "cell_type": "code",
      "metadata": {
        "id": "uUvDjtLyhoQp",
        "outputId": "74b82521-fd27-4798-b2b1-abde78d243b8",
        "colab": {
          "base_uri": "https://localhost:8080/",
          "height": 34
        }
      },
      "source": [
        "stats.ttest_rel(annv2, annv3)"
      ],
      "execution_count": null,
      "outputs": [
        {
          "output_type": "execute_result",
          "data": {
            "text/plain": [
              "Ttest_relResult(statistic=-5.115346233921612, pvalue=0.0006319302682522589)"
            ]
          },
          "metadata": {
            "tags": []
          },
          "execution_count": 210
        }
      ]
    },
    {
      "cell_type": "code",
      "metadata": {
        "id": "GA2Dt0PohT8z",
        "outputId": "539d43d3-ef36-4a2b-a152-425c70a35a4c",
        "colab": {
          "base_uri": "https://localhost:8080/",
          "height": 34
        }
      },
      "source": [
        "stats.ttest_rel(annv3, ann77)"
      ],
      "execution_count": null,
      "outputs": [
        {
          "output_type": "execute_result",
          "data": {
            "text/plain": [
              "Ttest_relResult(statistic=-0.06991928326647319, pvalue=0.9457868310677533)"
            ]
          },
          "metadata": {
            "tags": []
          },
          "execution_count": 211
        }
      ]
    },
    {
      "cell_type": "code",
      "metadata": {
        "id": "8pKNYCnJWqc2",
        "outputId": "402ca06b-c8e2-4498-98cb-39d4517d28d5",
        "colab": {
          "base_uri": "https://localhost:8080/",
          "height": 34
        }
      },
      "source": [
        "stats.ttest_rel(svm, ann)\n",
        "\n"
      ],
      "execution_count": null,
      "outputs": [
        {
          "output_type": "execute_result",
          "data": {
            "text/plain": [
              "Ttest_relResult(statistic=-3.8274191226309147, pvalue=0.004043678125891304)"
            ]
          },
          "metadata": {
            "tags": []
          },
          "execution_count": 212
        }
      ]
    },
    {
      "cell_type": "code",
      "metadata": {
        "id": "wXiTMs72XDi6"
      },
      "source": [
        "# El valor p devuelto (0.0040436) es menor que el umbral 'a' (0.05). Por lo tanto, se rechaza la hipótesis nula y argumentamos \n",
        "# que el rendimiento de 'ann' es significativamente diferente y mejorado en comparación con el rendimiento de 'svm' de los estudiantes."
      ],
      "execution_count": null,
      "outputs": []
    },
    {
      "cell_type": "code",
      "metadata": {
        "id": "xpTE7cz4scXl",
        "outputId": "097d2830-2abe-40e4-ac36-288d8dda10ae",
        "colab": {
          "base_uri": "https://localhost:8080/",
          "height": 34
        }
      },
      "source": [
        "stats.ttest_rel(rf, ann)"
      ],
      "execution_count": null,
      "outputs": [
        {
          "output_type": "execute_result",
          "data": {
            "text/plain": [
              "Ttest_relResult(statistic=1.8770201400069235, pvalue=0.09324865532455924)"
            ]
          },
          "metadata": {
            "tags": []
          },
          "execution_count": 214
        }
      ]
    },
    {
      "cell_type": "code",
      "metadata": {
        "id": "zqoex5NptgmD",
        "outputId": "89cab997-a048-46fa-b3fd-a0b462f77f1d",
        "colab": {
          "base_uri": "https://localhost:8080/",
          "height": 34
        }
      },
      "source": [
        "stats.ttest_rel(ann,rf)"
      ],
      "execution_count": null,
      "outputs": [
        {
          "output_type": "execute_result",
          "data": {
            "text/plain": [
              "Ttest_relResult(statistic=-1.8770201400069235, pvalue=0.09324865532455924)"
            ]
          },
          "metadata": {
            "tags": []
          },
          "execution_count": 215
        }
      ]
    },
    {
      "cell_type": "code",
      "metadata": {
        "id": "QluJMIJ8Xc6_"
      },
      "source": [
        "# El valor p devuelto (0.093248655) es mayor que el umbral 'a' (0.05). Por lo tanto, se acepta la hipótesis nula y argumentamos \n",
        "# que el rendimiento de 'rf' es  NO ES significativamente diferente y mejorado en comparación con el rendimiento de 'svm' de los estudiantes."
      ],
      "execution_count": null,
      "outputs": []
    },
    {
      "cell_type": "code",
      "metadata": {
        "id": "7Zkborlyxm1_"
      },
      "source": [
        "# a H0 es las medias de las dos muestras son iguales\n",
        "\n",
        "# Si el valor p es menor que un cierto nivel de significancia α fijado por el usuario a priori se dice que el resultado es\n",
        "#estadısticamente significativo y H0 se debe rechazar.\n",
        "\n",
        "#Que un resultado sea estadısticamente significativo quiere\n",
        "#decir que es improbable que suceda por azar.\n",
        "\n",
        "#Un valor p menor a 0,05 indica una fuerte evidencia en\n",
        "#contra de H0 porque habr´ıa una probabilidad menor al\n",
        "# 5 % que H0 sea correcta y nos lleva a aceptar H1.\n",
        "\n",
        "#Un valor p superior a 0,05 indica una fuerte evidencia a\n",
        "#favor de H0 y al rechazo de H1.\n",
        "\n"
      ],
      "execution_count": null,
      "outputs": []
    },
    {
      "cell_type": "code",
      "metadata": {
        "id": "tMsq16c_suZl",
        "outputId": "f1d7df81-4480-4d21-f892-ff4a2108781f",
        "colab": {
          "base_uri": "https://localhost:8080/",
          "height": 34
        }
      },
      "source": [
        "stats.ttest_rel(ann, rf)"
      ],
      "execution_count": null,
      "outputs": [
        {
          "output_type": "execute_result",
          "data": {
            "text/plain": [
              "Ttest_relResult(statistic=-1.8770201400069235, pvalue=0.09324865532455924)"
            ]
          },
          "metadata": {
            "tags": []
          },
          "execution_count": 218
        }
      ]
    },
    {
      "cell_type": "code",
      "metadata": {
        "id": "2N2ZGq21twNs"
      },
      "source": [
        "# Resultado: el estadístico de la prueba t de muestras emparejadas es -1.8770201400069235 y el valor p es 0.09324865532455924. \n",
        "# El valor p es mayor que el nivel de significancia = 0.05. \n",
        "# La prueba t de muestras pareadas no rechaza la hipótesis nula: la media de \"ann\" y la media de \"rf\" son muy similares."
      ],
      "execution_count": null,
      "outputs": []
    },
    {
      "cell_type": "code",
      "metadata": {
        "id": "aUPcKl4MtG9c",
        "outputId": "83ded28d-1b1b-4b81-b1bb-c90ab90b83ad",
        "colab": {
          "base_uri": "https://localhost:8080/",
          "height": 34
        }
      },
      "source": [
        "import numpy as np\n",
        "np.mean(rf)"
      ],
      "execution_count": null,
      "outputs": [
        {
          "output_type": "execute_result",
          "data": {
            "text/plain": [
              "0.987571555"
            ]
          },
          "metadata": {
            "tags": []
          },
          "execution_count": 220
        }
      ]
    },
    {
      "cell_type": "code",
      "metadata": {
        "id": "BAY7mxehw08S",
        "outputId": "3bdea726-973f-4334-f38d-a47642a96db1",
        "colab": {
          "base_uri": "https://localhost:8080/",
          "height": 34
        }
      },
      "source": [
        "np.std(rf)"
      ],
      "execution_count": null,
      "outputs": [
        {
          "output_type": "execute_result",
          "data": {
            "text/plain": [
              "0.036107795683153865"
            ]
          },
          "metadata": {
            "tags": []
          },
          "execution_count": 221
        }
      ]
    },
    {
      "cell_type": "code",
      "metadata": {
        "id": "0h9kp_zUtwiP",
        "outputId": "55fa643f-b2ae-49dc-bfe0-5fb722a8d2be",
        "colab": {
          "base_uri": "https://localhost:8080/",
          "height": 34
        }
      },
      "source": [
        "np.mean(svm)"
      ],
      "execution_count": null,
      "outputs": [
        {
          "output_type": "execute_result",
          "data": {
            "text/plain": [
              "0.9049037710000001"
            ]
          },
          "metadata": {
            "tags": []
          },
          "execution_count": 222
        }
      ]
    },
    {
      "cell_type": "code",
      "metadata": {
        "id": "DEeLNPg_xDWP",
        "outputId": "101b07d8-e0c1-4daa-8ad9-1c5f6d992c65",
        "colab": {
          "base_uri": "https://localhost:8080/",
          "height": 34
        }
      },
      "source": [
        "np.std(svm)"
      ],
      "execution_count": null,
      "outputs": [
        {
          "output_type": "execute_result",
          "data": {
            "text/plain": [
              "0.03622486618036772"
            ]
          },
          "metadata": {
            "tags": []
          },
          "execution_count": 223
        }
      ]
    },
    {
      "cell_type": "code",
      "metadata": {
        "id": "anlAT30ut12b",
        "outputId": "02be26f6-78c1-4640-ade8-9e569f54ae14",
        "colab": {
          "base_uri": "https://localhost:8080/",
          "height": 34
        }
      },
      "source": [
        "np.mean(ann)"
      ],
      "execution_count": null,
      "outputs": [
        {
          "output_type": "execute_result",
          "data": {
            "text/plain": [
              "0.9651371559999999"
            ]
          },
          "metadata": {
            "tags": []
          },
          "execution_count": 224
        }
      ]
    },
    {
      "cell_type": "code",
      "metadata": {
        "id": "46ZJMu4gxL2N",
        "outputId": "ac2e7319-1782-4f2e-f5f0-11bafc23ac5b",
        "colab": {
          "base_uri": "https://localhost:8080/",
          "height": 34
        }
      },
      "source": [
        "np.std(ann)"
      ],
      "execution_count": null,
      "outputs": [
        {
          "output_type": "execute_result",
          "data": {
            "text/plain": [
              "0.03303353508427252"
            ]
          },
          "metadata": {
            "tags": []
          },
          "execution_count": 225
        }
      ]
    },
    {
      "cell_type": "code",
      "metadata": {
        "id": "OSRPLe04xE_b",
        "outputId": "60a3cde7-861c-422d-c9f0-4c352c3b44bd",
        "colab": {
          "base_uri": "https://localhost:8080/",
          "height": 34
        }
      },
      "source": [
        "stats.ttest_rel(ann, svm)"
      ],
      "execution_count": null,
      "outputs": [
        {
          "output_type": "execute_result",
          "data": {
            "text/plain": [
              "Ttest_relResult(statistic=3.8274191226309147, pvalue=0.004043678125891304)"
            ]
          },
          "metadata": {
            "tags": []
          },
          "execution_count": 226
        }
      ]
    },
    {
      "cell_type": "code",
      "metadata": {
        "id": "Raf18codjrni",
        "outputId": "c8d3a25e-fc56-445a-8d38-01653f6ee899",
        "colab": {
          "base_uri": "https://localhost:8080/",
          "height": 34
        }
      },
      "source": [
        "stats.ttest_rel(rf, ann77)"
      ],
      "execution_count": null,
      "outputs": [
        {
          "output_type": "execute_result",
          "data": {
            "text/plain": [
              "Ttest_relResult(statistic=0.23564252830958335, pvalue=0.8189847522277838)"
            ]
          },
          "metadata": {
            "tags": []
          },
          "execution_count": 227
        }
      ]
    },
    {
      "cell_type": "code",
      "metadata": {
        "id": "z-Pz8wkuwCwA",
        "outputId": "6f179d76-3066-498b-fd04-2f6d553dcc41",
        "colab": {
          "base_uri": "https://localhost:8080/",
          "height": 34
        }
      },
      "source": [
        "stats.ttest_rel(ann77, rf)"
      ],
      "execution_count": null,
      "outputs": [
        {
          "output_type": "execute_result",
          "data": {
            "text/plain": [
              "Ttest_relResult(statistic=-0.23564252830958335, pvalue=0.8189847522277838)"
            ]
          },
          "metadata": {
            "tags": []
          },
          "execution_count": 228
        }
      ]
    },
    {
      "cell_type": "code",
      "metadata": {
        "id": "Ia_k57dUawrB"
      },
      "source": [
        "# stats.ttest_rel(ann78, rf)"
      ],
      "execution_count": null,
      "outputs": []
    },
    {
      "cell_type": "code",
      "metadata": {
        "id": "ODasnUO8j_LA",
        "outputId": "1edd50cb-a686-4766-aef1-06d4eff3c741",
        "colab": {
          "base_uri": "https://localhost:8080/",
          "height": 34
        }
      },
      "source": [
        "np.mean(ann77)"
      ],
      "execution_count": null,
      "outputs": [
        {
          "output_type": "execute_result",
          "data": {
            "text/plain": [
              "0.9837530079999999"
            ]
          },
          "metadata": {
            "tags": []
          },
          "execution_count": 230
        }
      ]
    },
    {
      "cell_type": "code",
      "metadata": {
        "id": "WXoDpXE9xabN",
        "outputId": "e1c44610-ca89-4870-8893-df2046155640",
        "colab": {
          "base_uri": "https://localhost:8080/",
          "height": 34
        }
      },
      "source": [
        "np.std(ann77)"
      ],
      "execution_count": null,
      "outputs": [
        {
          "output_type": "execute_result",
          "data": {
            "text/plain": [
              "0.027051125415198097"
            ]
          },
          "metadata": {
            "tags": []
          },
          "execution_count": 231
        }
      ]
    },
    {
      "cell_type": "code",
      "metadata": {
        "id": "S68v54SdMSb5",
        "outputId": "92182c4f-e759-4987-b063-628838a8b054",
        "colab": {
          "base_uri": "https://localhost:8080/",
          "height": 68
        }
      },
      "source": [
        "# https://machinelearningmastery.com/how-to-code-the-students-t-test-from-scratch-in-python/\n",
        "# t-test for dependent samples\n",
        "from math import sqrt\n",
        "from numpy.random import seed\n",
        "from numpy.random import randn\n",
        "from numpy import mean\n",
        "from scipy.stats import t\n",
        "\n",
        "# function for calculating the t-test for two dependent samples\n",
        "def dependent_ttest(data1, data2, alpha):\n",
        "\t# calculate means\n",
        "\tmean1, mean2 = mean(data1), mean(data2)\n",
        "\t# number of paired samples\n",
        "\tn = len(data1)\n",
        "\t# sum squared difference between observations\n",
        "\td1 = sum([(data1[i]-data2[i])**2 for i in range(n)])\n",
        "\t# sum difference between observations\n",
        "\td2 = sum([data1[i]-data2[i] for i in range(n)])\n",
        "\t# standard deviation of the difference between means\n",
        "\tsd = sqrt((d1 - (d2**2 / n)) / (n - 1))\n",
        "\t# standard error of the difference between the means\n",
        "\tsed = sd / sqrt(n)\n",
        "\t# calculate the t statistic\n",
        "\tt_stat = (mean1 - mean2) / sed\n",
        "\t# degrees of freedom\n",
        "\tdf = n - 1\n",
        "\t# calculate the critical value\n",
        "\tcv = t.ppf(1.0 - alpha, df)\n",
        "\t# calculate the p-value\n",
        "\tp = (1.0 - t.cdf(abs(t_stat), df)) * 2.0\n",
        "\t# return everything\n",
        "\treturn t_stat, df, cv, p\n",
        "\n",
        "# seed the random number generator\n",
        "seed(1)\n",
        "# generate two independent samples (pretend they are dependent)\n",
        "data1 = 5 * randn(100) + 50\n",
        "data2 = 5 * randn(100) + 51\n",
        "# calculate the t test\n",
        "alpha = 0.05\n",
        "#t_stat, df, cv, p = dependent_ttest(data1, data2, alpha)\n",
        "t_stat, df, cv, p = dependent_ttest(ann77, rf, alpha)\n",
        "print('t=%.3f, df=%d, cv=%.3f, p=%.3f' % (t_stat, df, cv, p))\n",
        "# interpret via critical value\n",
        "if abs(t_stat) <= cv:\n",
        "\tprint('Accept null hypothesis that the means are equal.')\n",
        "else:\n",
        "\tprint('Reject the null hypothesis that the means are equal.')\n",
        "# interpret via p-value\n",
        "if p > alpha:\n",
        "\tprint('Accept null hypothesis that the means are equal.')\n",
        "else:\n",
        "\tprint('Reject the null hypothesis that the means are equal.')"
      ],
      "execution_count": null,
      "outputs": [
        {
          "output_type": "stream",
          "text": [
            "t=-0.236, df=9, cv=1.833, p=0.819\n",
            "Accept null hypothesis that the means are equal.\n",
            "Accept null hypothesis that the means are equal.\n"
          ],
          "name": "stdout"
        }
      ]
    },
    {
      "cell_type": "code",
      "metadata": {
        "id": "xnNUhE52MZhS",
        "outputId": "359200a5-0c21-4439-b044-aed84344731a",
        "colab": {
          "base_uri": "https://localhost:8080/",
          "height": 68
        }
      },
      "source": [
        "# t-test for dependent samples\n",
        "from math import sqrt\n",
        "from numpy.random import seed\n",
        "from numpy.random import randn\n",
        "from numpy import mean\n",
        "from scipy.stats import t\n",
        "\n",
        "# function for calculating the t-test for two dependent samples\n",
        "def dependent_ttest(data1, data2, alpha):\n",
        "\t# calculate means\n",
        "\tmean1, mean2 = mean(data1), mean(data2)\n",
        "\t# number of paired samples\n",
        "\tn = len(data1)\n",
        "\t# sum squared difference between observations\n",
        "\td1 = sum([(data1[i]-data2[i])**2 for i in range(n)])\n",
        "\t# sum difference between observations\n",
        "\td2 = sum([data1[i]-data2[i] for i in range(n)])\n",
        "\t# standard deviation of the difference between means\n",
        "\tsd = sqrt((d1 - (d2**2 / n)) / (n - 1))\n",
        "\t# standard error of the difference between the means\n",
        "\tsed = sd / sqrt(n)\n",
        "\t# calculate the t statistic\n",
        "\tt_stat = (mean1 - mean2) / sed\n",
        "\t# degrees of freedom\n",
        "\tdf = n - 1\n",
        "\t# calculate the critical value\n",
        "\tcv = t.ppf(1.0 - alpha, df)\n",
        "\t# calculate the p-value\n",
        "\tp = (1.0 - t.cdf(abs(t_stat), df)) * 2.0\n",
        "\t# return everything\n",
        "\treturn t_stat, df, cv, p\n",
        "\n",
        "# seed the random number generator\n",
        "seed(1)\n",
        "# generate two independent samples (pretend they are dependent)\n",
        "data1 = 5 * randn(100) + 50\n",
        "data2 = 5 * randn(100) + 51\n",
        "# calculate the t test\n",
        "alpha = 0.05\n",
        "alpha = 0.01\n",
        "#t_stat, df, cv, p = dependent_ttest(data1, data2, alpha)\n",
        "#t_stat, df, cv, p = dependent_ttest(ann, rf, alpha)\n",
        "t_stat, df, cv, p = dependent_ttest(rf, rf2, alpha)\n",
        "print('t=%.3f, df=%d, cv=%.3f, p=%.3f' % (t_stat, df, cv, p))\n",
        "# interpret via critical value\n",
        "if abs(t_stat) <= cv:\n",
        "\tprint('Accept null hypothesis that the means are equal.')\n",
        "else:\n",
        "\tprint('Reject the null hypothesis that the means are equal.')\n",
        "# interpret via p-value\n",
        "if p > alpha:\n",
        "\tprint('Accept null hypothesis that the means are equal.')\n",
        "else:\n",
        "\tprint('Reject the null hypothesis that the means are equal.')"
      ],
      "execution_count": null,
      "outputs": [
        {
          "output_type": "stream",
          "text": [
            "t=1.063, df=9, cv=2.821, p=0.316\n",
            "Accept null hypothesis that the means are equal.\n",
            "Accept null hypothesis that the means are equal.\n"
          ],
          "name": "stdout"
        }
      ]
    }
  ]
}